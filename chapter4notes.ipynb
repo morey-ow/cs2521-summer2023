{
 "cells": [
  {
   "cell_type": "markdown",
   "metadata": {},
   "source": [
    "# Chapter 4:\n",
    "- ### File input/output\n",
    "  -- reviewed dictionaries\n",
    "- ### Exceptions, Assertions\n",
    "- ### Numpy library\n",
    "- ### Graphs using ```matplotlib``` and ```seaborn```"
   ]
  },
  {
   "cell_type": "markdown",
   "metadata": {},
   "source": [
    "To work with files, e.g. reading, writing them, it is best to work with 'context managers' i.e. use ```with``` statements as these will automatically close file once the indented code is run. This clears memory, etc.\n",
    "\n"
   ]
  },
  {
   "cell_type": "markdown",
   "metadata": {},
   "source": [
    "# Creating/Writing files:\n",
    "\n",
    "Let's create some random string an **write** it to a file.\n",
    "\n",
    "```\n",
    "s='''10, 20, 30, 40, 10, 20, 34. \n",
    "The above is some random data.\n",
    "This is the third line of the string.\n",
    "'''\n",
    "with open(my_filename, 'w') as my_file:  #my_file can be replaced with any 'alias'\n",
    "    my_file.write(s)\n",
    "    \n",
    "```\n",
    "\n"
   ]
  },
  {
   "cell_type": "code",
   "execution_count": 97,
   "metadata": {},
   "outputs": [],
   "source": [
    "s='''10, 20, 30, 40, 10, 20, 34. \n",
    "The above is some random data.\n",
    "This is the third line of the string.\n",
    "'''\n",
    "with open('my_filename', 'w') as my_file:  #my_file can be replaced with any 'alias'\n",
    "    my_file.write(s)"
   ]
  },
  {
   "cell_type": "code",
   "execution_count": 99,
   "metadata": {},
   "outputs": [
    {
     "name": "stdout",
     "output_type": "stream",
     "text": [
      "2521_Syllabus.md                chapter3notes.ipynb\n",
      "PythonNotesForProfessionals.pdf chapter3notes_day2.ipynb\n",
      "README.md                       chapter4notes.ipynb\n",
      "chapter1notes.ipynb             my_filename\n",
      "chapter2notes.ipynb\n"
     ]
    },
    {
     "name": "stdout",
     "output_type": "stream",
     "text": [
      "/Users/yogeshmore/Dropbox/suny teaching/2521 summer 2023/public\n"
     ]
    }
   ],
   "source": [
    "#we see we have created a file named my_filename is local directory\n",
    "!ls  #unix command for listing the files/folders in a directory\n",
    "!pwd\n",
    "#The exclamation runs an terminal command in the python notebook "
   ]
  },
  {
   "cell_type": "code",
   "execution_count": 100,
   "metadata": {},
   "outputs": [
    {
     "name": "stdout",
     "output_type": "stream",
     "text": [
      "10, 20, 30, 40, 10, 20, 34. \n",
      "The above is some random data.\n",
      "This is the third line of the string.\n"
     ]
    }
   ],
   "source": [
    "!cat my_filename  #cat stands for cathode because printing to the monitors were cathode rays"
   ]
  },
  {
   "cell_type": "code",
   "execution_count": 8,
   "metadata": {},
   "outputs": [
    {
     "name": "stdout",
     "output_type": "stream",
     "text": [
      "10, 20, 30, 40, 10, 20, 34. \n",
      "The above is some random data.\n",
      "This is the third line of the string.\n",
      "\n"
     ]
    }
   ],
   "source": [
    "# now let's open the file to read it\n",
    "with open('my_filename', 'r') as f:  #'r' for read\n",
    "    print(f.read())"
   ]
  },
  {
   "cell_type": "markdown",
   "metadata": {},
   "source": [
    "### Reading files"
   ]
  },
  {
   "cell_type": "code",
   "execution_count": 14,
   "metadata": {},
   "outputs": [
    {
     "name": "stdout",
     "output_type": "stream",
     "text": [
      "10, 20, 30, 40, 10, 20, 34. \n",
      "\n"
     ]
    }
   ],
   "source": [
    "# now let's open the file to read it\n",
    "with open('my_filename', 'r') as f:  #'r' for read\n",
    "    print(f.readline())"
   ]
  },
  {
   "cell_type": "code",
   "execution_count": 10,
   "metadata": {},
   "outputs": [
    {
     "name": "stdout",
     "output_type": "stream",
     "text": [
      "\u001b[0;31mSignature:\u001b[0m \u001b[0mf\u001b[0m\u001b[0;34m.\u001b[0m\u001b[0mread\u001b[0m\u001b[0;34m(\u001b[0m\u001b[0msize\u001b[0m\u001b[0;34m=\u001b[0m\u001b[0;34m-\u001b[0m\u001b[0;36m1\u001b[0m\u001b[0;34m,\u001b[0m \u001b[0;34m/\u001b[0m\u001b[0;34m)\u001b[0m\u001b[0;34m\u001b[0m\u001b[0;34m\u001b[0m\u001b[0m\n",
      "\u001b[0;31mDocstring:\u001b[0m\n",
      "Read at most n characters from stream.\n",
      "\n",
      "Read from underlying buffer until we have n characters or we hit EOF.\n",
      "If n is negative or omitted, read until EOF.\n",
      "\u001b[0;31mType:\u001b[0m      builtin_function_or_method"
     ]
    }
   ],
   "source": [
    "f.read?"
   ]
  },
  {
   "cell_type": "code",
   "execution_count": 15,
   "metadata": {},
   "outputs": [
    {
     "name": "stdout",
     "output_type": "stream",
     "text": [
      "10, 20, 30\n"
     ]
    }
   ],
   "source": [
    "# now let's open the file to read it\n",
    "with open('my_filename', 'r') as f:  #'r' for read\n",
    "    print(f.read(10))"
   ]
  },
  {
   "cell_type": "code",
   "execution_count": 18,
   "metadata": {},
   "outputs": [
    {
     "name": "stdout",
     "output_type": "stream",
     "text": [
      "10,\n"
     ]
    }
   ],
   "source": [
    "# now let's open the file to read it\n",
    "with open('my_filename', 'r') as f:  #'r' for read\n",
    "    print(f.readline(3))"
   ]
  },
  {
   "cell_type": "code",
   "execution_count": 22,
   "metadata": {},
   "outputs": [
    {
     "name": "stdout",
     "output_type": "stream",
     "text": [
      "\u001b[0;31mSignature:\u001b[0m \u001b[0mf\u001b[0m\u001b[0;34m.\u001b[0m\u001b[0mreadline\u001b[0m\u001b[0;34m(\u001b[0m\u001b[0msize\u001b[0m\u001b[0;34m=\u001b[0m\u001b[0;34m-\u001b[0m\u001b[0;36m1\u001b[0m\u001b[0;34m,\u001b[0m \u001b[0;34m/\u001b[0m\u001b[0;34m)\u001b[0m\u001b[0;34m\u001b[0m\u001b[0;34m\u001b[0m\u001b[0m\n",
      "\u001b[0;31mDocstring:\u001b[0m\n",
      "Read until newline or EOF.\n",
      "\n",
      "Returns an empty string if EOF is hit immediately.\n",
      "\u001b[0;31mType:\u001b[0m      builtin_function_or_method"
     ]
    }
   ],
   "source": [
    "f.readline?"
   ]
  },
  {
   "cell_type": "code",
   "execution_count": 24,
   "metadata": {},
   "outputs": [
    {
     "name": "stdout",
     "output_type": "stream",
     "text": [
      "['10, 20, 30, 40, 10, 20, 34. \\n']\n"
     ]
    }
   ],
   "source": [
    "# now let's open the file to read it\n",
    "with open('my_filename', 'r') as f:  #'r' for read\n",
    "    print(f.readlines(2))"
   ]
  },
  {
   "cell_type": "markdown",
   "metadata": {},
   "source": [
    "**Example** Read in a file and make a dictionary that shows how often each letter in the document is used"
   ]
  },
  {
   "cell_type": "code",
   "execution_count": 1,
   "metadata": {},
   "outputs": [
    {
     "name": "stdout",
     "output_type": "stream",
     "text": [
      "This is a blank document.\n",
      "This is an essay for class on Python and file reading and writing.\n",
      "\n",
      "\n"
     ]
    }
   ],
   "source": [
    "with open('test1.txt', 'r') as f:\n",
    "    contents=f.read()\n",
    "\n",
    "print(contents)"
   ]
  },
  {
   "cell_type": "code",
   "execution_count": 104,
   "metadata": {},
   "outputs": [
    {
     "data": {
      "text/plain": [
       "str"
      ]
     },
     "execution_count": 104,
     "metadata": {},
     "output_type": "execute_result"
    }
   ],
   "source": [
    "type(contents)"
   ]
  },
  {
   "cell_type": "code",
   "execution_count": 105,
   "metadata": {},
   "outputs": [
    {
     "name": "stdout",
     "output_type": "stream",
     "text": [
      "94\n"
     ]
    }
   ],
   "source": [
    "print(len(contents))"
   ]
  },
  {
   "cell_type": "code",
   "execution_count": 106,
   "metadata": {},
   "outputs": [
    {
     "name": "stdout",
     "output_type": "stream",
     "text": [
      "T\n",
      "h\n",
      "i\n",
      "s\n",
      " \n",
      "i\n",
      "s\n",
      " \n",
      "a\n",
      " \n",
      "b\n",
      "l\n",
      "a\n",
      "n\n",
      "k\n",
      " \n",
      "d\n",
      "o\n",
      "c\n",
      "u\n",
      "m\n",
      "e\n",
      "n\n",
      "t\n",
      ".\n",
      "\n",
      "\n",
      "T\n",
      "h\n",
      "i\n",
      "s\n",
      " \n",
      "i\n",
      "s\n",
      " \n",
      "a\n",
      "n\n",
      " \n",
      "e\n",
      "s\n",
      "s\n",
      "a\n",
      "y\n",
      " \n",
      "f\n",
      "o\n",
      "r\n",
      " \n",
      "c\n",
      "l\n",
      "a\n",
      "s\n",
      "s\n",
      " \n",
      "o\n",
      "n\n",
      " \n",
      "P\n",
      "y\n",
      "t\n",
      "h\n",
      "o\n",
      "n\n",
      " \n",
      "a\n",
      "n\n",
      "d\n",
      " \n",
      "f\n",
      "i\n",
      "l\n",
      "e\n",
      " \n",
      "r\n",
      "e\n",
      "a\n",
      "d\n",
      "i\n",
      "n\n",
      "g\n",
      " \n",
      "a\n",
      "n\n",
      "d\n",
      " \n",
      "w\n",
      "r\n",
      "i\n",
      "t\n",
      "i\n",
      "n\n",
      "g\n",
      ".\n",
      "\n",
      "\n",
      "\n",
      "\n"
     ]
    }
   ],
   "source": [
    "\n",
    "for ch in contents:\n",
    "    print(ch)"
   ]
  },
  {
   "cell_type": "code",
   "execution_count": 109,
   "metadata": {},
   "outputs": [
    {
     "name": "stdout",
     "output_type": "stream",
     "text": [
      "{}\n"
     ]
    },
    {
     "data": {
      "text/plain": [
       "dict"
      ]
     },
     "execution_count": 109,
     "metadata": {},
     "output_type": "execute_result"
    }
   ],
   "source": [
    "D={}\n",
    "print(D)\n",
    "type(D)"
   ]
  },
  {
   "cell_type": "code",
   "execution_count": 112,
   "metadata": {},
   "outputs": [
    {
     "name": "stdout",
     "output_type": "stream",
     "text": [
      "0\n",
      "0\n",
      "0\n",
      "0\n",
      "0\n",
      "0\n",
      "0\n",
      "0\n",
      "0\n",
      "0\n",
      "0\n",
      "0\n",
      "0\n",
      "0\n",
      "0\n",
      "0\n",
      "0\n",
      "0\n",
      "0\n",
      "0\n",
      "0\n",
      "0\n",
      "0\n",
      "0\n",
      "0\n",
      "0\n",
      "0\n",
      "0\n",
      "0\n",
      "0\n",
      "0\n",
      "0\n",
      "0\n",
      "0\n",
      "0\n",
      "0\n",
      "0\n",
      "0\n",
      "0\n",
      "0\n",
      "0\n",
      "0\n",
      "0\n",
      "0\n",
      "0\n",
      "0\n",
      "0\n",
      "0\n",
      "0\n",
      "0\n",
      "0\n",
      "0\n",
      "0\n",
      "0\n",
      "0\n",
      "0\n",
      "0\n",
      "0\n",
      "0\n",
      "0\n",
      "0\n",
      "0\n",
      "0\n",
      "0\n",
      "0\n",
      "0\n",
      "0\n",
      "0\n",
      "0\n",
      "0\n",
      "0\n",
      "0\n",
      "0\n",
      "0\n",
      "0\n",
      "0\n",
      "0\n",
      "0\n",
      "0\n",
      "0\n",
      "0\n",
      "0\n",
      "0\n",
      "0\n",
      "0\n",
      "0\n",
      "0\n",
      "0\n",
      "0\n",
      "0\n",
      "0\n",
      "0\n",
      "0\n",
      "0\n"
     ]
    }
   ],
   "source": [
    "D=dict()  #creates an empty dictionary named D \n",
    "for ch in contents:\n",
    "    print(D.get(ch, 0))"
   ]
  },
  {
   "cell_type": "code",
   "execution_count": 113,
   "metadata": {},
   "outputs": [
    {
     "data": {
      "text/plain": [
       "{'a': 2, 'text': [1, 2], 3: 'astring'}"
      ]
     },
     "execution_count": 113,
     "metadata": {},
     "output_type": "execute_result"
    }
   ],
   "source": [
    "D2={\n",
    "    'a': 2, \n",
    "    'text': [1,2],\n",
    "    3: 'astring'\n",
    "    }\n",
    "D2"
   ]
  },
  {
   "cell_type": "code",
   "execution_count": 115,
   "metadata": {},
   "outputs": [
    {
     "data": {
      "text/plain": [
       "2"
      ]
     },
     "execution_count": 115,
     "metadata": {},
     "output_type": "execute_result"
    }
   ],
   "source": [
    "D2['a']"
   ]
  },
  {
   "cell_type": "code",
   "execution_count": 119,
   "metadata": {},
   "outputs": [
    {
     "data": {
      "text/plain": [
       "'astring'"
      ]
     },
     "execution_count": 119,
     "metadata": {},
     "output_type": "execute_result"
    }
   ],
   "source": [
    "D2[3]"
   ]
  },
  {
   "cell_type": "code",
   "execution_count": 122,
   "metadata": {},
   "outputs": [],
   "source": [
    "D2['b']=5"
   ]
  },
  {
   "cell_type": "code",
   "execution_count": 123,
   "metadata": {},
   "outputs": [
    {
     "data": {
      "text/plain": [
       "{'a': 2, 'text': [1, 2], 3: 'astring', 'b': 5}"
      ]
     },
     "execution_count": 123,
     "metadata": {},
     "output_type": "execute_result"
    }
   ],
   "source": [
    "D2"
   ]
  },
  {
   "cell_type": "code",
   "execution_count": 2,
   "metadata": {},
   "outputs": [
    {
     "name": "stdout",
     "output_type": "stream",
     "text": [
      "dictionary D={}\n",
      "Character is T and value is 0\n",
      "dictionary D={'T': 1}\n",
      "Character is h and value is 0\n",
      "dictionary D={'T': 1, 'h': 1}\n",
      "Character is i and value is 0\n",
      "dictionary D={'T': 1, 'h': 1, 'i': 1}\n",
      "Character is s and value is 0\n",
      "dictionary D={'T': 1, 'h': 1, 'i': 1, 's': 1}\n",
      "Character is   and value is 0\n",
      "dictionary D={'T': 1, 'h': 1, 'i': 1, 's': 1, ' ': 1}\n",
      "Character is i and value is 1\n",
      "dictionary D={'T': 1, 'h': 1, 'i': 2, 's': 1, ' ': 1}\n",
      "Character is s and value is 1\n",
      "dictionary D={'T': 1, 'h': 1, 'i': 2, 's': 2, ' ': 1}\n",
      "Character is   and value is 1\n",
      "dictionary D={'T': 1, 'h': 1, 'i': 2, 's': 2, ' ': 2}\n",
      "Character is a and value is 0\n",
      "dictionary D={'T': 1, 'h': 1, 'i': 2, 's': 2, ' ': 2, 'a': 1}\n",
      "Character is   and value is 2\n",
      "dictionary D={'T': 1, 'h': 1, 'i': 2, 's': 2, ' ': 3, 'a': 1}\n",
      "Character is b and value is 0\n",
      "dictionary D={'T': 1, 'h': 1, 'i': 2, 's': 2, ' ': 3, 'a': 1, 'b': 1}\n",
      "Character is l and value is 0\n",
      "dictionary D={'T': 1, 'h': 1, 'i': 2, 's': 2, ' ': 3, 'a': 1, 'b': 1, 'l': 1}\n",
      "Character is a and value is 1\n",
      "dictionary D={'T': 1, 'h': 1, 'i': 2, 's': 2, ' ': 3, 'a': 2, 'b': 1, 'l': 1}\n",
      "Character is n and value is 0\n",
      "dictionary D={'T': 1, 'h': 1, 'i': 2, 's': 2, ' ': 3, 'a': 2, 'b': 1, 'l': 1, 'n': 1}\n",
      "Character is k and value is 0\n",
      "dictionary D={'T': 1, 'h': 1, 'i': 2, 's': 2, ' ': 3, 'a': 2, 'b': 1, 'l': 1, 'n': 1, 'k': 1}\n",
      "Character is   and value is 3\n",
      "dictionary D={'T': 1, 'h': 1, 'i': 2, 's': 2, ' ': 4, 'a': 2, 'b': 1, 'l': 1, 'n': 1, 'k': 1}\n",
      "Character is d and value is 0\n",
      "dictionary D={'T': 1, 'h': 1, 'i': 2, 's': 2, ' ': 4, 'a': 2, 'b': 1, 'l': 1, 'n': 1, 'k': 1, 'd': 1}\n",
      "Character is o and value is 0\n",
      "dictionary D={'T': 1, 'h': 1, 'i': 2, 's': 2, ' ': 4, 'a': 2, 'b': 1, 'l': 1, 'n': 1, 'k': 1, 'd': 1, 'o': 1}\n",
      "Character is c and value is 0\n",
      "dictionary D={'T': 1, 'h': 1, 'i': 2, 's': 2, ' ': 4, 'a': 2, 'b': 1, 'l': 1, 'n': 1, 'k': 1, 'd': 1, 'o': 1, 'c': 1}\n",
      "Character is u and value is 0\n",
      "dictionary D={'T': 1, 'h': 1, 'i': 2, 's': 2, ' ': 4, 'a': 2, 'b': 1, 'l': 1, 'n': 1, 'k': 1, 'd': 1, 'o': 1, 'c': 1, 'u': 1}\n",
      "Character is m and value is 0\n",
      "dictionary D={'T': 1, 'h': 1, 'i': 2, 's': 2, ' ': 4, 'a': 2, 'b': 1, 'l': 1, 'n': 1, 'k': 1, 'd': 1, 'o': 1, 'c': 1, 'u': 1, 'm': 1}\n",
      "Character is e and value is 0\n",
      "dictionary D={'T': 1, 'h': 1, 'i': 2, 's': 2, ' ': 4, 'a': 2, 'b': 1, 'l': 1, 'n': 1, 'k': 1, 'd': 1, 'o': 1, 'c': 1, 'u': 1, 'm': 1, 'e': 1}\n",
      "Character is n and value is 1\n",
      "dictionary D={'T': 1, 'h': 1, 'i': 2, 's': 2, ' ': 4, 'a': 2, 'b': 1, 'l': 1, 'n': 2, 'k': 1, 'd': 1, 'o': 1, 'c': 1, 'u': 1, 'm': 1, 'e': 1}\n",
      "Character is t and value is 0\n",
      "dictionary D={'T': 1, 'h': 1, 'i': 2, 's': 2, ' ': 4, 'a': 2, 'b': 1, 'l': 1, 'n': 2, 'k': 1, 'd': 1, 'o': 1, 'c': 1, 'u': 1, 'm': 1, 'e': 1, 't': 1}\n",
      "Character is . and value is 0\n",
      "dictionary D={'T': 1, 'h': 1, 'i': 2, 's': 2, ' ': 4, 'a': 2, 'b': 1, 'l': 1, 'n': 2, 'k': 1, 'd': 1, 'o': 1, 'c': 1, 'u': 1, 'm': 1, 'e': 1, 't': 1, '.': 1}\n",
      "Character is \n",
      " and value is 0\n",
      "dictionary D={'T': 1, 'h': 1, 'i': 2, 's': 2, ' ': 4, 'a': 2, 'b': 1, 'l': 1, 'n': 2, 'k': 1, 'd': 1, 'o': 1, 'c': 1, 'u': 1, 'm': 1, 'e': 1, 't': 1, '.': 1, '\\n': 1}\n",
      "Character is T and value is 1\n",
      "dictionary D={'T': 2, 'h': 1, 'i': 2, 's': 2, ' ': 4, 'a': 2, 'b': 1, 'l': 1, 'n': 2, 'k': 1, 'd': 1, 'o': 1, 'c': 1, 'u': 1, 'm': 1, 'e': 1, 't': 1, '.': 1, '\\n': 1}\n",
      "Character is h and value is 1\n",
      "dictionary D={'T': 2, 'h': 2, 'i': 2, 's': 2, ' ': 4, 'a': 2, 'b': 1, 'l': 1, 'n': 2, 'k': 1, 'd': 1, 'o': 1, 'c': 1, 'u': 1, 'm': 1, 'e': 1, 't': 1, '.': 1, '\\n': 1}\n",
      "Character is i and value is 2\n",
      "dictionary D={'T': 2, 'h': 2, 'i': 3, 's': 2, ' ': 4, 'a': 2, 'b': 1, 'l': 1, 'n': 2, 'k': 1, 'd': 1, 'o': 1, 'c': 1, 'u': 1, 'm': 1, 'e': 1, 't': 1, '.': 1, '\\n': 1}\n",
      "Character is s and value is 2\n",
      "dictionary D={'T': 2, 'h': 2, 'i': 3, 's': 3, ' ': 4, 'a': 2, 'b': 1, 'l': 1, 'n': 2, 'k': 1, 'd': 1, 'o': 1, 'c': 1, 'u': 1, 'm': 1, 'e': 1, 't': 1, '.': 1, '\\n': 1}\n",
      "Character is   and value is 4\n",
      "dictionary D={'T': 2, 'h': 2, 'i': 3, 's': 3, ' ': 5, 'a': 2, 'b': 1, 'l': 1, 'n': 2, 'k': 1, 'd': 1, 'o': 1, 'c': 1, 'u': 1, 'm': 1, 'e': 1, 't': 1, '.': 1, '\\n': 1}\n",
      "Character is i and value is 3\n",
      "dictionary D={'T': 2, 'h': 2, 'i': 4, 's': 3, ' ': 5, 'a': 2, 'b': 1, 'l': 1, 'n': 2, 'k': 1, 'd': 1, 'o': 1, 'c': 1, 'u': 1, 'm': 1, 'e': 1, 't': 1, '.': 1, '\\n': 1}\n",
      "Character is s and value is 3\n",
      "dictionary D={'T': 2, 'h': 2, 'i': 4, 's': 4, ' ': 5, 'a': 2, 'b': 1, 'l': 1, 'n': 2, 'k': 1, 'd': 1, 'o': 1, 'c': 1, 'u': 1, 'm': 1, 'e': 1, 't': 1, '.': 1, '\\n': 1}\n",
      "Character is   and value is 5\n",
      "dictionary D={'T': 2, 'h': 2, 'i': 4, 's': 4, ' ': 6, 'a': 2, 'b': 1, 'l': 1, 'n': 2, 'k': 1, 'd': 1, 'o': 1, 'c': 1, 'u': 1, 'm': 1, 'e': 1, 't': 1, '.': 1, '\\n': 1}\n",
      "Character is a and value is 2\n",
      "dictionary D={'T': 2, 'h': 2, 'i': 4, 's': 4, ' ': 6, 'a': 3, 'b': 1, 'l': 1, 'n': 2, 'k': 1, 'd': 1, 'o': 1, 'c': 1, 'u': 1, 'm': 1, 'e': 1, 't': 1, '.': 1, '\\n': 1}\n",
      "Character is n and value is 2\n",
      "dictionary D={'T': 2, 'h': 2, 'i': 4, 's': 4, ' ': 6, 'a': 3, 'b': 1, 'l': 1, 'n': 3, 'k': 1, 'd': 1, 'o': 1, 'c': 1, 'u': 1, 'm': 1, 'e': 1, 't': 1, '.': 1, '\\n': 1}\n",
      "Character is   and value is 6\n",
      "dictionary D={'T': 2, 'h': 2, 'i': 4, 's': 4, ' ': 7, 'a': 3, 'b': 1, 'l': 1, 'n': 3, 'k': 1, 'd': 1, 'o': 1, 'c': 1, 'u': 1, 'm': 1, 'e': 1, 't': 1, '.': 1, '\\n': 1}\n",
      "Character is e and value is 1\n",
      "dictionary D={'T': 2, 'h': 2, 'i': 4, 's': 4, ' ': 7, 'a': 3, 'b': 1, 'l': 1, 'n': 3, 'k': 1, 'd': 1, 'o': 1, 'c': 1, 'u': 1, 'm': 1, 'e': 2, 't': 1, '.': 1, '\\n': 1}\n",
      "Character is s and value is 4\n",
      "dictionary D={'T': 2, 'h': 2, 'i': 4, 's': 5, ' ': 7, 'a': 3, 'b': 1, 'l': 1, 'n': 3, 'k': 1, 'd': 1, 'o': 1, 'c': 1, 'u': 1, 'm': 1, 'e': 2, 't': 1, '.': 1, '\\n': 1}\n",
      "Character is s and value is 5\n",
      "dictionary D={'T': 2, 'h': 2, 'i': 4, 's': 6, ' ': 7, 'a': 3, 'b': 1, 'l': 1, 'n': 3, 'k': 1, 'd': 1, 'o': 1, 'c': 1, 'u': 1, 'm': 1, 'e': 2, 't': 1, '.': 1, '\\n': 1}\n",
      "Character is a and value is 3\n",
      "dictionary D={'T': 2, 'h': 2, 'i': 4, 's': 6, ' ': 7, 'a': 4, 'b': 1, 'l': 1, 'n': 3, 'k': 1, 'd': 1, 'o': 1, 'c': 1, 'u': 1, 'm': 1, 'e': 2, 't': 1, '.': 1, '\\n': 1}\n",
      "Character is y and value is 0\n",
      "dictionary D={'T': 2, 'h': 2, 'i': 4, 's': 6, ' ': 7, 'a': 4, 'b': 1, 'l': 1, 'n': 3, 'k': 1, 'd': 1, 'o': 1, 'c': 1, 'u': 1, 'm': 1, 'e': 2, 't': 1, '.': 1, '\\n': 1, 'y': 1}\n",
      "Character is   and value is 7\n",
      "dictionary D={'T': 2, 'h': 2, 'i': 4, 's': 6, ' ': 8, 'a': 4, 'b': 1, 'l': 1, 'n': 3, 'k': 1, 'd': 1, 'o': 1, 'c': 1, 'u': 1, 'm': 1, 'e': 2, 't': 1, '.': 1, '\\n': 1, 'y': 1}\n",
      "Character is f and value is 0\n",
      "dictionary D={'T': 2, 'h': 2, 'i': 4, 's': 6, ' ': 8, 'a': 4, 'b': 1, 'l': 1, 'n': 3, 'k': 1, 'd': 1, 'o': 1, 'c': 1, 'u': 1, 'm': 1, 'e': 2, 't': 1, '.': 1, '\\n': 1, 'y': 1, 'f': 1}\n",
      "Character is o and value is 1\n",
      "dictionary D={'T': 2, 'h': 2, 'i': 4, 's': 6, ' ': 8, 'a': 4, 'b': 1, 'l': 1, 'n': 3, 'k': 1, 'd': 1, 'o': 2, 'c': 1, 'u': 1, 'm': 1, 'e': 2, 't': 1, '.': 1, '\\n': 1, 'y': 1, 'f': 1}\n",
      "Character is r and value is 0\n",
      "dictionary D={'T': 2, 'h': 2, 'i': 4, 's': 6, ' ': 8, 'a': 4, 'b': 1, 'l': 1, 'n': 3, 'k': 1, 'd': 1, 'o': 2, 'c': 1, 'u': 1, 'm': 1, 'e': 2, 't': 1, '.': 1, '\\n': 1, 'y': 1, 'f': 1, 'r': 1}\n",
      "Character is   and value is 8\n",
      "dictionary D={'T': 2, 'h': 2, 'i': 4, 's': 6, ' ': 9, 'a': 4, 'b': 1, 'l': 1, 'n': 3, 'k': 1, 'd': 1, 'o': 2, 'c': 1, 'u': 1, 'm': 1, 'e': 2, 't': 1, '.': 1, '\\n': 1, 'y': 1, 'f': 1, 'r': 1}\n",
      "Character is c and value is 1\n",
      "dictionary D={'T': 2, 'h': 2, 'i': 4, 's': 6, ' ': 9, 'a': 4, 'b': 1, 'l': 1, 'n': 3, 'k': 1, 'd': 1, 'o': 2, 'c': 2, 'u': 1, 'm': 1, 'e': 2, 't': 1, '.': 1, '\\n': 1, 'y': 1, 'f': 1, 'r': 1}\n",
      "Character is l and value is 1\n",
      "dictionary D={'T': 2, 'h': 2, 'i': 4, 's': 6, ' ': 9, 'a': 4, 'b': 1, 'l': 2, 'n': 3, 'k': 1, 'd': 1, 'o': 2, 'c': 2, 'u': 1, 'm': 1, 'e': 2, 't': 1, '.': 1, '\\n': 1, 'y': 1, 'f': 1, 'r': 1}\n",
      "Character is a and value is 4\n",
      "dictionary D={'T': 2, 'h': 2, 'i': 4, 's': 6, ' ': 9, 'a': 5, 'b': 1, 'l': 2, 'n': 3, 'k': 1, 'd': 1, 'o': 2, 'c': 2, 'u': 1, 'm': 1, 'e': 2, 't': 1, '.': 1, '\\n': 1, 'y': 1, 'f': 1, 'r': 1}\n",
      "Character is s and value is 6\n",
      "dictionary D={'T': 2, 'h': 2, 'i': 4, 's': 7, ' ': 9, 'a': 5, 'b': 1, 'l': 2, 'n': 3, 'k': 1, 'd': 1, 'o': 2, 'c': 2, 'u': 1, 'm': 1, 'e': 2, 't': 1, '.': 1, '\\n': 1, 'y': 1, 'f': 1, 'r': 1}\n",
      "Character is s and value is 7\n",
      "dictionary D={'T': 2, 'h': 2, 'i': 4, 's': 8, ' ': 9, 'a': 5, 'b': 1, 'l': 2, 'n': 3, 'k': 1, 'd': 1, 'o': 2, 'c': 2, 'u': 1, 'm': 1, 'e': 2, 't': 1, '.': 1, '\\n': 1, 'y': 1, 'f': 1, 'r': 1}\n",
      "Character is   and value is 9\n",
      "dictionary D={'T': 2, 'h': 2, 'i': 4, 's': 8, ' ': 10, 'a': 5, 'b': 1, 'l': 2, 'n': 3, 'k': 1, 'd': 1, 'o': 2, 'c': 2, 'u': 1, 'm': 1, 'e': 2, 't': 1, '.': 1, '\\n': 1, 'y': 1, 'f': 1, 'r': 1}\n",
      "Character is o and value is 2\n",
      "dictionary D={'T': 2, 'h': 2, 'i': 4, 's': 8, ' ': 10, 'a': 5, 'b': 1, 'l': 2, 'n': 3, 'k': 1, 'd': 1, 'o': 3, 'c': 2, 'u': 1, 'm': 1, 'e': 2, 't': 1, '.': 1, '\\n': 1, 'y': 1, 'f': 1, 'r': 1}\n",
      "Character is n and value is 3\n",
      "dictionary D={'T': 2, 'h': 2, 'i': 4, 's': 8, ' ': 10, 'a': 5, 'b': 1, 'l': 2, 'n': 4, 'k': 1, 'd': 1, 'o': 3, 'c': 2, 'u': 1, 'm': 1, 'e': 2, 't': 1, '.': 1, '\\n': 1, 'y': 1, 'f': 1, 'r': 1}\n",
      "Character is   and value is 10\n",
      "dictionary D={'T': 2, 'h': 2, 'i': 4, 's': 8, ' ': 11, 'a': 5, 'b': 1, 'l': 2, 'n': 4, 'k': 1, 'd': 1, 'o': 3, 'c': 2, 'u': 1, 'm': 1, 'e': 2, 't': 1, '.': 1, '\\n': 1, 'y': 1, 'f': 1, 'r': 1}\n",
      "Character is P and value is 0\n",
      "dictionary D={'T': 2, 'h': 2, 'i': 4, 's': 8, ' ': 11, 'a': 5, 'b': 1, 'l': 2, 'n': 4, 'k': 1, 'd': 1, 'o': 3, 'c': 2, 'u': 1, 'm': 1, 'e': 2, 't': 1, '.': 1, '\\n': 1, 'y': 1, 'f': 1, 'r': 1, 'P': 1}\n",
      "Character is y and value is 1\n",
      "dictionary D={'T': 2, 'h': 2, 'i': 4, 's': 8, ' ': 11, 'a': 5, 'b': 1, 'l': 2, 'n': 4, 'k': 1, 'd': 1, 'o': 3, 'c': 2, 'u': 1, 'm': 1, 'e': 2, 't': 1, '.': 1, '\\n': 1, 'y': 2, 'f': 1, 'r': 1, 'P': 1}\n",
      "Character is t and value is 1\n",
      "dictionary D={'T': 2, 'h': 2, 'i': 4, 's': 8, ' ': 11, 'a': 5, 'b': 1, 'l': 2, 'n': 4, 'k': 1, 'd': 1, 'o': 3, 'c': 2, 'u': 1, 'm': 1, 'e': 2, 't': 2, '.': 1, '\\n': 1, 'y': 2, 'f': 1, 'r': 1, 'P': 1}\n",
      "Character is h and value is 2\n",
      "dictionary D={'T': 2, 'h': 3, 'i': 4, 's': 8, ' ': 11, 'a': 5, 'b': 1, 'l': 2, 'n': 4, 'k': 1, 'd': 1, 'o': 3, 'c': 2, 'u': 1, 'm': 1, 'e': 2, 't': 2, '.': 1, '\\n': 1, 'y': 2, 'f': 1, 'r': 1, 'P': 1}\n",
      "Character is o and value is 3\n",
      "dictionary D={'T': 2, 'h': 3, 'i': 4, 's': 8, ' ': 11, 'a': 5, 'b': 1, 'l': 2, 'n': 4, 'k': 1, 'd': 1, 'o': 4, 'c': 2, 'u': 1, 'm': 1, 'e': 2, 't': 2, '.': 1, '\\n': 1, 'y': 2, 'f': 1, 'r': 1, 'P': 1}\n",
      "Character is n and value is 4\n",
      "dictionary D={'T': 2, 'h': 3, 'i': 4, 's': 8, ' ': 11, 'a': 5, 'b': 1, 'l': 2, 'n': 5, 'k': 1, 'd': 1, 'o': 4, 'c': 2, 'u': 1, 'm': 1, 'e': 2, 't': 2, '.': 1, '\\n': 1, 'y': 2, 'f': 1, 'r': 1, 'P': 1}\n",
      "Character is   and value is 11\n",
      "dictionary D={'T': 2, 'h': 3, 'i': 4, 's': 8, ' ': 12, 'a': 5, 'b': 1, 'l': 2, 'n': 5, 'k': 1, 'd': 1, 'o': 4, 'c': 2, 'u': 1, 'm': 1, 'e': 2, 't': 2, '.': 1, '\\n': 1, 'y': 2, 'f': 1, 'r': 1, 'P': 1}\n",
      "Character is a and value is 5\n",
      "dictionary D={'T': 2, 'h': 3, 'i': 4, 's': 8, ' ': 12, 'a': 6, 'b': 1, 'l': 2, 'n': 5, 'k': 1, 'd': 1, 'o': 4, 'c': 2, 'u': 1, 'm': 1, 'e': 2, 't': 2, '.': 1, '\\n': 1, 'y': 2, 'f': 1, 'r': 1, 'P': 1}\n",
      "Character is n and value is 5\n",
      "dictionary D={'T': 2, 'h': 3, 'i': 4, 's': 8, ' ': 12, 'a': 6, 'b': 1, 'l': 2, 'n': 6, 'k': 1, 'd': 1, 'o': 4, 'c': 2, 'u': 1, 'm': 1, 'e': 2, 't': 2, '.': 1, '\\n': 1, 'y': 2, 'f': 1, 'r': 1, 'P': 1}\n",
      "Character is d and value is 1\n",
      "dictionary D={'T': 2, 'h': 3, 'i': 4, 's': 8, ' ': 12, 'a': 6, 'b': 1, 'l': 2, 'n': 6, 'k': 1, 'd': 2, 'o': 4, 'c': 2, 'u': 1, 'm': 1, 'e': 2, 't': 2, '.': 1, '\\n': 1, 'y': 2, 'f': 1, 'r': 1, 'P': 1}\n",
      "Character is   and value is 12\n",
      "dictionary D={'T': 2, 'h': 3, 'i': 4, 's': 8, ' ': 13, 'a': 6, 'b': 1, 'l': 2, 'n': 6, 'k': 1, 'd': 2, 'o': 4, 'c': 2, 'u': 1, 'm': 1, 'e': 2, 't': 2, '.': 1, '\\n': 1, 'y': 2, 'f': 1, 'r': 1, 'P': 1}\n",
      "Character is f and value is 1\n",
      "dictionary D={'T': 2, 'h': 3, 'i': 4, 's': 8, ' ': 13, 'a': 6, 'b': 1, 'l': 2, 'n': 6, 'k': 1, 'd': 2, 'o': 4, 'c': 2, 'u': 1, 'm': 1, 'e': 2, 't': 2, '.': 1, '\\n': 1, 'y': 2, 'f': 2, 'r': 1, 'P': 1}\n",
      "Character is i and value is 4\n",
      "dictionary D={'T': 2, 'h': 3, 'i': 5, 's': 8, ' ': 13, 'a': 6, 'b': 1, 'l': 2, 'n': 6, 'k': 1, 'd': 2, 'o': 4, 'c': 2, 'u': 1, 'm': 1, 'e': 2, 't': 2, '.': 1, '\\n': 1, 'y': 2, 'f': 2, 'r': 1, 'P': 1}\n",
      "Character is l and value is 2\n",
      "dictionary D={'T': 2, 'h': 3, 'i': 5, 's': 8, ' ': 13, 'a': 6, 'b': 1, 'l': 3, 'n': 6, 'k': 1, 'd': 2, 'o': 4, 'c': 2, 'u': 1, 'm': 1, 'e': 2, 't': 2, '.': 1, '\\n': 1, 'y': 2, 'f': 2, 'r': 1, 'P': 1}\n",
      "Character is e and value is 2\n",
      "dictionary D={'T': 2, 'h': 3, 'i': 5, 's': 8, ' ': 13, 'a': 6, 'b': 1, 'l': 3, 'n': 6, 'k': 1, 'd': 2, 'o': 4, 'c': 2, 'u': 1, 'm': 1, 'e': 3, 't': 2, '.': 1, '\\n': 1, 'y': 2, 'f': 2, 'r': 1, 'P': 1}\n",
      "Character is   and value is 13\n",
      "dictionary D={'T': 2, 'h': 3, 'i': 5, 's': 8, ' ': 14, 'a': 6, 'b': 1, 'l': 3, 'n': 6, 'k': 1, 'd': 2, 'o': 4, 'c': 2, 'u': 1, 'm': 1, 'e': 3, 't': 2, '.': 1, '\\n': 1, 'y': 2, 'f': 2, 'r': 1, 'P': 1}\n",
      "Character is r and value is 1\n",
      "dictionary D={'T': 2, 'h': 3, 'i': 5, 's': 8, ' ': 14, 'a': 6, 'b': 1, 'l': 3, 'n': 6, 'k': 1, 'd': 2, 'o': 4, 'c': 2, 'u': 1, 'm': 1, 'e': 3, 't': 2, '.': 1, '\\n': 1, 'y': 2, 'f': 2, 'r': 2, 'P': 1}\n",
      "Character is e and value is 3\n",
      "dictionary D={'T': 2, 'h': 3, 'i': 5, 's': 8, ' ': 14, 'a': 6, 'b': 1, 'l': 3, 'n': 6, 'k': 1, 'd': 2, 'o': 4, 'c': 2, 'u': 1, 'm': 1, 'e': 4, 't': 2, '.': 1, '\\n': 1, 'y': 2, 'f': 2, 'r': 2, 'P': 1}\n",
      "Character is a and value is 6\n",
      "dictionary D={'T': 2, 'h': 3, 'i': 5, 's': 8, ' ': 14, 'a': 7, 'b': 1, 'l': 3, 'n': 6, 'k': 1, 'd': 2, 'o': 4, 'c': 2, 'u': 1, 'm': 1, 'e': 4, 't': 2, '.': 1, '\\n': 1, 'y': 2, 'f': 2, 'r': 2, 'P': 1}\n",
      "Character is d and value is 2\n",
      "dictionary D={'T': 2, 'h': 3, 'i': 5, 's': 8, ' ': 14, 'a': 7, 'b': 1, 'l': 3, 'n': 6, 'k': 1, 'd': 3, 'o': 4, 'c': 2, 'u': 1, 'm': 1, 'e': 4, 't': 2, '.': 1, '\\n': 1, 'y': 2, 'f': 2, 'r': 2, 'P': 1}\n",
      "Character is i and value is 5\n",
      "dictionary D={'T': 2, 'h': 3, 'i': 6, 's': 8, ' ': 14, 'a': 7, 'b': 1, 'l': 3, 'n': 6, 'k': 1, 'd': 3, 'o': 4, 'c': 2, 'u': 1, 'm': 1, 'e': 4, 't': 2, '.': 1, '\\n': 1, 'y': 2, 'f': 2, 'r': 2, 'P': 1}\n",
      "Character is n and value is 6\n",
      "dictionary D={'T': 2, 'h': 3, 'i': 6, 's': 8, ' ': 14, 'a': 7, 'b': 1, 'l': 3, 'n': 7, 'k': 1, 'd': 3, 'o': 4, 'c': 2, 'u': 1, 'm': 1, 'e': 4, 't': 2, '.': 1, '\\n': 1, 'y': 2, 'f': 2, 'r': 2, 'P': 1}\n",
      "Character is g and value is 0\n",
      "dictionary D={'T': 2, 'h': 3, 'i': 6, 's': 8, ' ': 14, 'a': 7, 'b': 1, 'l': 3, 'n': 7, 'k': 1, 'd': 3, 'o': 4, 'c': 2, 'u': 1, 'm': 1, 'e': 4, 't': 2, '.': 1, '\\n': 1, 'y': 2, 'f': 2, 'r': 2, 'P': 1, 'g': 1}\n",
      "Character is   and value is 14\n",
      "dictionary D={'T': 2, 'h': 3, 'i': 6, 's': 8, ' ': 15, 'a': 7, 'b': 1, 'l': 3, 'n': 7, 'k': 1, 'd': 3, 'o': 4, 'c': 2, 'u': 1, 'm': 1, 'e': 4, 't': 2, '.': 1, '\\n': 1, 'y': 2, 'f': 2, 'r': 2, 'P': 1, 'g': 1}\n",
      "Character is a and value is 7\n",
      "dictionary D={'T': 2, 'h': 3, 'i': 6, 's': 8, ' ': 15, 'a': 8, 'b': 1, 'l': 3, 'n': 7, 'k': 1, 'd': 3, 'o': 4, 'c': 2, 'u': 1, 'm': 1, 'e': 4, 't': 2, '.': 1, '\\n': 1, 'y': 2, 'f': 2, 'r': 2, 'P': 1, 'g': 1}\n",
      "Character is n and value is 7\n",
      "dictionary D={'T': 2, 'h': 3, 'i': 6, 's': 8, ' ': 15, 'a': 8, 'b': 1, 'l': 3, 'n': 8, 'k': 1, 'd': 3, 'o': 4, 'c': 2, 'u': 1, 'm': 1, 'e': 4, 't': 2, '.': 1, '\\n': 1, 'y': 2, 'f': 2, 'r': 2, 'P': 1, 'g': 1}\n",
      "Character is d and value is 3\n",
      "dictionary D={'T': 2, 'h': 3, 'i': 6, 's': 8, ' ': 15, 'a': 8, 'b': 1, 'l': 3, 'n': 8, 'k': 1, 'd': 4, 'o': 4, 'c': 2, 'u': 1, 'm': 1, 'e': 4, 't': 2, '.': 1, '\\n': 1, 'y': 2, 'f': 2, 'r': 2, 'P': 1, 'g': 1}\n",
      "Character is   and value is 15\n",
      "dictionary D={'T': 2, 'h': 3, 'i': 6, 's': 8, ' ': 16, 'a': 8, 'b': 1, 'l': 3, 'n': 8, 'k': 1, 'd': 4, 'o': 4, 'c': 2, 'u': 1, 'm': 1, 'e': 4, 't': 2, '.': 1, '\\n': 1, 'y': 2, 'f': 2, 'r': 2, 'P': 1, 'g': 1}\n",
      "Character is w and value is 0\n",
      "dictionary D={'T': 2, 'h': 3, 'i': 6, 's': 8, ' ': 16, 'a': 8, 'b': 1, 'l': 3, 'n': 8, 'k': 1, 'd': 4, 'o': 4, 'c': 2, 'u': 1, 'm': 1, 'e': 4, 't': 2, '.': 1, '\\n': 1, 'y': 2, 'f': 2, 'r': 2, 'P': 1, 'g': 1, 'w': 1}\n",
      "Character is r and value is 2\n",
      "dictionary D={'T': 2, 'h': 3, 'i': 6, 's': 8, ' ': 16, 'a': 8, 'b': 1, 'l': 3, 'n': 8, 'k': 1, 'd': 4, 'o': 4, 'c': 2, 'u': 1, 'm': 1, 'e': 4, 't': 2, '.': 1, '\\n': 1, 'y': 2, 'f': 2, 'r': 3, 'P': 1, 'g': 1, 'w': 1}\n",
      "Character is i and value is 6\n",
      "dictionary D={'T': 2, 'h': 3, 'i': 7, 's': 8, ' ': 16, 'a': 8, 'b': 1, 'l': 3, 'n': 8, 'k': 1, 'd': 4, 'o': 4, 'c': 2, 'u': 1, 'm': 1, 'e': 4, 't': 2, '.': 1, '\\n': 1, 'y': 2, 'f': 2, 'r': 3, 'P': 1, 'g': 1, 'w': 1}\n",
      "Character is t and value is 2\n",
      "dictionary D={'T': 2, 'h': 3, 'i': 7, 's': 8, ' ': 16, 'a': 8, 'b': 1, 'l': 3, 'n': 8, 'k': 1, 'd': 4, 'o': 4, 'c': 2, 'u': 1, 'm': 1, 'e': 4, 't': 3, '.': 1, '\\n': 1, 'y': 2, 'f': 2, 'r': 3, 'P': 1, 'g': 1, 'w': 1}\n",
      "Character is i and value is 7\n",
      "dictionary D={'T': 2, 'h': 3, 'i': 8, 's': 8, ' ': 16, 'a': 8, 'b': 1, 'l': 3, 'n': 8, 'k': 1, 'd': 4, 'o': 4, 'c': 2, 'u': 1, 'm': 1, 'e': 4, 't': 3, '.': 1, '\\n': 1, 'y': 2, 'f': 2, 'r': 3, 'P': 1, 'g': 1, 'w': 1}\n",
      "Character is n and value is 8\n",
      "dictionary D={'T': 2, 'h': 3, 'i': 8, 's': 8, ' ': 16, 'a': 8, 'b': 1, 'l': 3, 'n': 9, 'k': 1, 'd': 4, 'o': 4, 'c': 2, 'u': 1, 'm': 1, 'e': 4, 't': 3, '.': 1, '\\n': 1, 'y': 2, 'f': 2, 'r': 3, 'P': 1, 'g': 1, 'w': 1}\n",
      "Character is g and value is 1\n",
      "dictionary D={'T': 2, 'h': 3, 'i': 8, 's': 8, ' ': 16, 'a': 8, 'b': 1, 'l': 3, 'n': 9, 'k': 1, 'd': 4, 'o': 4, 'c': 2, 'u': 1, 'm': 1, 'e': 4, 't': 3, '.': 1, '\\n': 1, 'y': 2, 'f': 2, 'r': 3, 'P': 1, 'g': 2, 'w': 1}\n",
      "Character is . and value is 1\n",
      "dictionary D={'T': 2, 'h': 3, 'i': 8, 's': 8, ' ': 16, 'a': 8, 'b': 1, 'l': 3, 'n': 9, 'k': 1, 'd': 4, 'o': 4, 'c': 2, 'u': 1, 'm': 1, 'e': 4, 't': 3, '.': 2, '\\n': 1, 'y': 2, 'f': 2, 'r': 3, 'P': 1, 'g': 2, 'w': 1}\n",
      "Character is \n",
      " and value is 1\n",
      "dictionary D={'T': 2, 'h': 3, 'i': 8, 's': 8, ' ': 16, 'a': 8, 'b': 1, 'l': 3, 'n': 9, 'k': 1, 'd': 4, 'o': 4, 'c': 2, 'u': 1, 'm': 1, 'e': 4, 't': 3, '.': 2, '\\n': 2, 'y': 2, 'f': 2, 'r': 3, 'P': 1, 'g': 2, 'w': 1}\n",
      "Character is \n",
      " and value is 2\n"
     ]
    }
   ],
   "source": [
    "D=dict()  #creates an empty dictionary named D \n",
    "for ch in contents:\n",
    "    print(f'dictionary D={D}')\n",
    "    print(f'Character is {ch} and value is {D.get(ch,0)}')\n",
    "    D[ch]=D.get(ch, 0) + 1"
   ]
  },
  {
   "cell_type": "code",
   "execution_count": 127,
   "metadata": {},
   "outputs": [
    {
     "name": "stdout",
     "output_type": "stream",
     "text": [
      "{'T': 2, 'h': 3, 'i': 8, 's': 8, ' ': 16, 'a': 8, 'b': 1, 'l': 3, 'n': 9, 'k': 1, 'd': 4, 'o': 4, 'c': 2, 'u': 1, 'm': 1, 'e': 4, 't': 3, '.': 2, '\\n': 3, 'y': 2, 'f': 2, 'r': 3, 'P': 1, 'g': 2, 'w': 1}\n"
     ]
    }
   ],
   "source": [
    "print(D)"
   ]
  },
  {
   "cell_type": "markdown",
   "metadata": {},
   "source": [
    "What is the most occuring character in the string ```contents```?"
   ]
  },
  {
   "cell_type": "code",
   "execution_count": 129,
   "metadata": {},
   "outputs": [
    {
     "data": {
      "text/plain": [
       "['__class__',\n",
       " '__class_getitem__',\n",
       " '__contains__',\n",
       " '__delattr__',\n",
       " '__delitem__',\n",
       " '__dir__',\n",
       " '__doc__',\n",
       " '__eq__',\n",
       " '__format__',\n",
       " '__ge__',\n",
       " '__getattribute__',\n",
       " '__getitem__',\n",
       " '__getstate__',\n",
       " '__gt__',\n",
       " '__hash__',\n",
       " '__init__',\n",
       " '__init_subclass__',\n",
       " '__ior__',\n",
       " '__iter__',\n",
       " '__le__',\n",
       " '__len__',\n",
       " '__lt__',\n",
       " '__ne__',\n",
       " '__new__',\n",
       " '__or__',\n",
       " '__reduce__',\n",
       " '__reduce_ex__',\n",
       " '__repr__',\n",
       " '__reversed__',\n",
       " '__ror__',\n",
       " '__setattr__',\n",
       " '__setitem__',\n",
       " '__sizeof__',\n",
       " '__str__',\n",
       " '__subclasshook__',\n",
       " 'clear',\n",
       " 'copy',\n",
       " 'fromkeys',\n",
       " 'get',\n",
       " 'items',\n",
       " 'keys',\n",
       " 'pop',\n",
       " 'popitem',\n",
       " 'setdefault',\n",
       " 'update',\n",
       " 'values']"
      ]
     },
     "execution_count": 129,
     "metadata": {},
     "output_type": "execute_result"
    }
   ],
   "source": [
    "dir(D)"
   ]
  },
  {
   "cell_type": "code",
   "execution_count": 132,
   "metadata": {},
   "outputs": [
    {
     "data": {
      "text/plain": [
       "dict_items([('T', 2), ('h', 3), ('i', 8), ('s', 8), (' ', 16), ('a', 8), ('b', 1), ('l', 3), ('n', 9), ('k', 1), ('d', 4), ('o', 4), ('c', 2), ('u', 1), ('m', 1), ('e', 4), ('t', 3), ('.', 2), ('\\n', 3), ('y', 2), ('f', 2), ('r', 3), ('P', 1), ('g', 2), ('w', 1)])"
      ]
     },
     "execution_count": 132,
     "metadata": {},
     "output_type": "execute_result"
    }
   ],
   "source": [
    "D.items()"
   ]
  },
  {
   "cell_type": "code",
   "execution_count": 137,
   "metadata": {},
   "outputs": [
    {
     "name": "stdout",
     "output_type": "stream",
     "text": [
      "T 2\n",
      "h 3\n",
      "i 8\n",
      "s 8\n",
      "  16\n",
      "a 8\n",
      "b 1\n",
      "l 3\n",
      "n 9\n",
      "k 1\n",
      "d 4\n",
      "o 4\n",
      "c 2\n",
      "u 1\n",
      "m 1\n",
      "e 4\n",
      "t 3\n",
      ". 2\n",
      "\n",
      " 3\n",
      "y 2\n",
      "f 2\n",
      "r 3\n",
      "P 1\n",
      "g 2\n",
      "w 1\n",
      "Most frequent character is n\n",
      "Its frequency is 9\n"
     ]
    }
   ],
   "source": [
    "max=0\n",
    "most_freq_ch=''\n",
    "\n",
    "for k, v in D.items():\n",
    "    print(k, v)\n",
    "    if v>=max and k!=' ':\n",
    "        most_freq_ch=k\n",
    "        max=v\n",
    "\n",
    "print('Most frequent character is', most_freq_ch)\n",
    "print('Its frequency is', max )\n"
   ]
  },
  {
   "cell_type": "markdown",
   "metadata": {},
   "source": [
    "### Appending (i.e. adding) to already written files"
   ]
  },
  {
   "cell_type": "code",
   "execution_count": 25,
   "metadata": {},
   "outputs": [
    {
     "name": "stdout",
     "output_type": "stream",
     "text": [
      "23\n"
     ]
    }
   ],
   "source": [
    "# now let's open the file and APPEND it\n",
    "with open('my_filename', 'a') as f:  #'a' for append\n",
    "    print(f.write('This is additional line'))"
   ]
  },
  {
   "cell_type": "code",
   "execution_count": 26,
   "metadata": {},
   "outputs": [
    {
     "name": "stdout",
     "output_type": "stream",
     "text": [
      "10, 20, 30, 40, 10, 20, 34. \n",
      "The above is some random data.\n",
      "This is the third line of the string.\n",
      "This is additional line"
     ]
    }
   ],
   "source": [
    "!cat my_filename"
   ]
  },
  {
   "cell_type": "markdown",
   "metadata": {},
   "source": [
    "### Defensive programming\n",
    "\n",
    "```Assert ``` statement\n",
    "\n",
    "Often used to handle unexpected input to a function.\n",
    "\n",
    "\n",
    "```\n",
    "assert (condition), (error message if any)\n",
    "```"
   ]
  },
  {
   "cell_type": "code",
   "execution_count": 138,
   "metadata": {},
   "outputs": [],
   "source": [
    "import math\n",
    "\n",
    "def square_root(x):\n",
    "    assert x >=0\n",
    "    return math.sqrt(x)"
   ]
  },
  {
   "cell_type": "code",
   "execution_count": 139,
   "metadata": {},
   "outputs": [
    {
     "data": {
      "text/plain": [
       "3.0"
      ]
     },
     "execution_count": 139,
     "metadata": {},
     "output_type": "execute_result"
    }
   ],
   "source": [
    "square_root(9)"
   ]
  },
  {
   "cell_type": "code",
   "execution_count": 140,
   "metadata": {},
   "outputs": [
    {
     "ename": "AssertionError",
     "evalue": "",
     "output_type": "error",
     "traceback": [
      "\u001b[0;31m---------------------------------------------------------------------------\u001b[0m",
      "\u001b[0;31mAssertionError\u001b[0m                            Traceback (most recent call last)",
      "Cell \u001b[0;32mIn[140], line 1\u001b[0m\n\u001b[0;32m----> 1\u001b[0m square_root(\u001b[39m-\u001b[39;49m\u001b[39m9\u001b[39;49m)\n",
      "Cell \u001b[0;32mIn[138], line 4\u001b[0m, in \u001b[0;36msquare_root\u001b[0;34m(x)\u001b[0m\n\u001b[1;32m      3\u001b[0m \u001b[39mdef\u001b[39;00m \u001b[39msquare_root\u001b[39m(x):\n\u001b[0;32m----> 4\u001b[0m     \u001b[39massert\u001b[39;00m x \u001b[39m>\u001b[39m\u001b[39m=\u001b[39m\u001b[39m0\u001b[39m\n\u001b[1;32m      5\u001b[0m     \u001b[39mreturn\u001b[39;00m math\u001b[39m.\u001b[39msqrt(x)\n",
      "\u001b[0;31mAssertionError\u001b[0m: "
     ]
    }
   ],
   "source": [
    "square_root(-9)"
   ]
  },
  {
   "cell_type": "code",
   "execution_count": 141,
   "metadata": {},
   "outputs": [],
   "source": [
    "def square_root2(x):\n",
    "    assert x >=0, 'Can\\'t take square root of negative number'\n",
    "    return math.sqrt(x)"
   ]
  },
  {
   "cell_type": "code",
   "execution_count": 142,
   "metadata": {},
   "outputs": [
    {
     "ename": "AssertionError",
     "evalue": "Can't take square root of negative number",
     "output_type": "error",
     "traceback": [
      "\u001b[0;31m---------------------------------------------------------------------------\u001b[0m",
      "\u001b[0;31mAssertionError\u001b[0m                            Traceback (most recent call last)",
      "Cell \u001b[0;32mIn[142], line 1\u001b[0m\n\u001b[0;32m----> 1\u001b[0m square_root2(\u001b[39m-\u001b[39;49m\u001b[39m9\u001b[39;49m)\n",
      "Cell \u001b[0;32mIn[141], line 2\u001b[0m, in \u001b[0;36msquare_root2\u001b[0;34m(x)\u001b[0m\n\u001b[1;32m      1\u001b[0m \u001b[39mdef\u001b[39;00m \u001b[39msquare_root2\u001b[39m(x):\n\u001b[0;32m----> 2\u001b[0m     \u001b[39massert\u001b[39;00m x \u001b[39m>\u001b[39m\u001b[39m=\u001b[39m\u001b[39m0\u001b[39m, \u001b[39m'\u001b[39m\u001b[39mCan\u001b[39m\u001b[39m\\'\u001b[39;00m\u001b[39mt take square root of negative number\u001b[39m\u001b[39m'\u001b[39m\n\u001b[1;32m      3\u001b[0m     \u001b[39mreturn\u001b[39;00m math\u001b[39m.\u001b[39msqrt(x)\n",
      "\u001b[0;31mAssertionError\u001b[0m: Can't take square root of negative number"
     ]
    }
   ],
   "source": [
    "square_root2(-9)"
   ]
  },
  {
   "cell_type": "markdown",
   "metadata": {},
   "source": [
    "# Python Libraries \n",
    "\n",
    " - numpy for numerical python, mostly matrices, random numbers, math functions\n",
    " - pandas for working with tabular data like spreadsheets\n",
    " - matplotlib and seaborn for  graphing\n",
    "\n",
    "These are the almost universal abbreviations used to access methods/functions in these libraries\n",
    "```\n",
    "import numpy as np\n",
    "import matplotlib.pyplot as plt\n",
    "import seaborn as sns\n",
    " ```"
   ]
  },
  {
   "cell_type": "code",
   "execution_count": 143,
   "metadata": {},
   "outputs": [],
   "source": [
    "import numpy as np\n",
    "import matplotlib.pyplot as plt\n",
    "import seaborn as sns"
   ]
  },
  {
   "cell_type": "code",
   "execution_count": 144,
   "metadata": {},
   "outputs": [
    {
     "name": "stdout",
     "output_type": "stream",
     "text": [
      "Requirement already satisfied: numpy in /Users/yogeshmore/.pyenv/versions/2521_env/lib/python3.11/site-packages (1.25.1)\n",
      "\n",
      "\u001b[1m[\u001b[0m\u001b[34;49mnotice\u001b[0m\u001b[1;39;49m]\u001b[0m\u001b[39;49m A new release of pip is available: \u001b[0m\u001b[31;49m23.2\u001b[0m\u001b[39;49m -> \u001b[0m\u001b[32;49m23.2.1\u001b[0m\n",
      "\u001b[1m[\u001b[0m\u001b[34;49mnotice\u001b[0m\u001b[1;39;49m]\u001b[0m\u001b[39;49m To update, run: \u001b[0m\u001b[32;49mpython3.11 -m pip install --upgrade pip\u001b[0m\n"
     ]
    }
   ],
   "source": [
    "!pip install numpy"
   ]
  },
  {
   "cell_type": "code",
   "execution_count": 37,
   "metadata": {},
   "outputs": [
    {
     "name": "stdout",
     "output_type": "stream",
     "text": [
      "Collecting matplotlib\n",
      "  Obtaining dependency information for matplotlib from https://files.pythonhosted.org/packages/7e/2c/1e25437f4419f2828bbd213be42c8fd23a3b795c5c4bb776987d177fc615/matplotlib-3.7.2-cp311-cp311-macosx_10_12_x86_64.whl.metadata\n",
      "  Downloading matplotlib-3.7.2-cp311-cp311-macosx_10_12_x86_64.whl.metadata (5.6 kB)\n",
      "Collecting contourpy>=1.0.1 (from matplotlib)\n",
      "  Obtaining dependency information for contourpy>=1.0.1 from https://files.pythonhosted.org/packages/92/4d/fe7a7098d98a8889252105193f5e869532f9dc37e39d917a82d2b0b874a1/contourpy-1.1.0-cp311-cp311-macosx_10_9_x86_64.whl.metadata\n",
      "  Downloading contourpy-1.1.0-cp311-cp311-macosx_10_9_x86_64.whl.metadata (5.7 kB)\n",
      "Collecting cycler>=0.10 (from matplotlib)\n",
      "  Using cached cycler-0.11.0-py3-none-any.whl (6.4 kB)\n",
      "Collecting fonttools>=4.22.0 (from matplotlib)\n",
      "  Obtaining dependency information for fonttools>=4.22.0 from https://files.pythonhosted.org/packages/17/f6/cca053ae27f9ff307b2c5f6f4d4c40a2e69bee4603fa566060c81a4ba7ee/fonttools-4.41.1-cp311-cp311-macosx_10_9_x86_64.whl.metadata\n",
      "  Downloading fonttools-4.41.1-cp311-cp311-macosx_10_9_x86_64.whl.metadata (150 kB)\n",
      "\u001b[2K     \u001b[90m━━━━━━━━━━━━━━━━━━━━━━━━━━━━━━━━━━━━━━━\u001b[0m \u001b[32m150.0/150.0 kB\u001b[0m \u001b[31m2.3 MB/s\u001b[0m eta \u001b[36m0:00:00\u001b[0ma \u001b[36m0:00:01\u001b[0m\n",
      "\u001b[?25hCollecting kiwisolver>=1.0.1 (from matplotlib)\n",
      "  Downloading kiwisolver-1.4.4-cp311-cp311-macosx_10_9_x86_64.whl (65 kB)\n",
      "\u001b[2K     \u001b[90m━━━━━━━━━━━━━━━━━━━━━━━━━━━━━━━━━━━━━━━━\u001b[0m \u001b[32m65.5/65.5 kB\u001b[0m \u001b[31m2.5 MB/s\u001b[0m eta \u001b[36m0:00:00\u001b[0m\n",
      "\u001b[?25hRequirement already satisfied: numpy>=1.20 in /Users/yogeshmore/.pyenv/versions/2521_env/lib/python3.11/site-packages (from matplotlib) (1.25.1)\n",
      "Requirement already satisfied: packaging>=20.0 in /Users/yogeshmore/.pyenv/versions/2521_env/lib/python3.11/site-packages (from matplotlib) (23.1)\n",
      "Collecting pillow>=6.2.0 (from matplotlib)\n",
      "  Obtaining dependency information for pillow>=6.2.0 from https://files.pythonhosted.org/packages/7a/54/f6a14d95cba8ff082c550d836c9e5c23f1641d2ac291c23efe0494219b8c/Pillow-10.0.0-cp311-cp311-macosx_10_10_x86_64.whl.metadata\n",
      "  Downloading Pillow-10.0.0-cp311-cp311-macosx_10_10_x86_64.whl.metadata (9.5 kB)\n",
      "Collecting pyparsing<3.1,>=2.3.1 (from matplotlib)\n",
      "  Using cached pyparsing-3.0.9-py3-none-any.whl (98 kB)\n",
      "Requirement already satisfied: python-dateutil>=2.7 in /Users/yogeshmore/.pyenv/versions/2521_env/lib/python3.11/site-packages (from matplotlib) (2.8.2)\n",
      "Requirement already satisfied: six>=1.5 in /Users/yogeshmore/.pyenv/versions/2521_env/lib/python3.11/site-packages (from python-dateutil>=2.7->matplotlib) (1.16.0)\n",
      "Downloading matplotlib-3.7.2-cp311-cp311-macosx_10_12_x86_64.whl (7.4 MB)\n",
      "\u001b[2K   \u001b[90m━━━━━━━━━━━━━━━━━━━━━━━━━━━━━━━━━━━━━━━━\u001b[0m \u001b[32m7.4/7.4 MB\u001b[0m \u001b[31m25.2 MB/s\u001b[0m eta \u001b[36m0:00:00\u001b[0m00:01\u001b[0m00:01\u001b[0m\n",
      "\u001b[?25hDownloading contourpy-1.1.0-cp311-cp311-macosx_10_9_x86_64.whl (243 kB)\n",
      "\u001b[2K   \u001b[90m━━━━━━━━━━━━━━━━━━━━━━━━━━━━━━━━━━━━━━━━\u001b[0m \u001b[32m243.5/243.5 kB\u001b[0m \u001b[31m9.6 MB/s\u001b[0m eta \u001b[36m0:00:00\u001b[0m\n",
      "\u001b[?25hDownloading fonttools-4.41.1-cp311-cp311-macosx_10_9_x86_64.whl (2.2 MB)\n",
      "\u001b[2K   \u001b[90m━━━━━━━━━━━━━━━━━━━━━━━━━━━━━━━━━━━━━━━━\u001b[0m \u001b[32m2.2/2.2 MB\u001b[0m \u001b[31m30.3 MB/s\u001b[0m eta \u001b[36m0:00:00\u001b[0ma \u001b[36m0:00:01\u001b[0m\n",
      "\u001b[?25hDownloading Pillow-10.0.0-cp311-cp311-macosx_10_10_x86_64.whl (3.4 MB)\n",
      "\u001b[2K   \u001b[90m━━━━━━━━━━━━━━━━━━━━━━━━━━━━━━━━━━━━━━━━\u001b[0m \u001b[32m3.4/3.4 MB\u001b[0m \u001b[31m32.2 MB/s\u001b[0m eta \u001b[36m0:00:00\u001b[0m00:01\u001b[0m00:01\u001b[0m\n",
      "\u001b[?25hInstalling collected packages: pyparsing, pillow, kiwisolver, fonttools, cycler, contourpy, matplotlib\n",
      "Successfully installed contourpy-1.1.0 cycler-0.11.0 fonttools-4.41.1 kiwisolver-1.4.4 matplotlib-3.7.2 pillow-10.0.0 pyparsing-3.0.9\n",
      "\n",
      "\u001b[1m[\u001b[0m\u001b[34;49mnotice\u001b[0m\u001b[1;39;49m]\u001b[0m\u001b[39;49m A new release of pip is available: \u001b[0m\u001b[31;49m23.2\u001b[0m\u001b[39;49m -> \u001b[0m\u001b[32;49m23.2.1\u001b[0m\n",
      "\u001b[1m[\u001b[0m\u001b[34;49mnotice\u001b[0m\u001b[1;39;49m]\u001b[0m\u001b[39;49m To update, run: \u001b[0m\u001b[32;49mpython3.11 -m pip install --upgrade pip\u001b[0m\n"
     ]
    }
   ],
   "source": [
    "! pip install matplotlib"
   ]
  },
  {
   "cell_type": "code",
   "execution_count": 38,
   "metadata": {},
   "outputs": [
    {
     "name": "stdout",
     "output_type": "stream",
     "text": [
      "Collecting seaborn\n",
      "  Using cached seaborn-0.12.2-py3-none-any.whl (293 kB)\n",
      "Requirement already satisfied: numpy!=1.24.0,>=1.17 in /Users/yogeshmore/.pyenv/versions/2521_env/lib/python3.11/site-packages (from seaborn) (1.25.1)\n",
      "Collecting pandas>=0.25 (from seaborn)\n",
      "  Obtaining dependency information for pandas>=0.25 from https://files.pythonhosted.org/packages/b3/92/a5e5133421b49e901a12e02a6a7ef3a0130e10d13db8cb657fdd0cba3b90/pandas-2.0.3-cp311-cp311-macosx_10_9_x86_64.whl.metadata\n",
      "  Downloading pandas-2.0.3-cp311-cp311-macosx_10_9_x86_64.whl.metadata (18 kB)\n",
      "Requirement already satisfied: matplotlib!=3.6.1,>=3.1 in /Users/yogeshmore/.pyenv/versions/2521_env/lib/python3.11/site-packages (from seaborn) (3.7.2)\n",
      "Requirement already satisfied: contourpy>=1.0.1 in /Users/yogeshmore/.pyenv/versions/2521_env/lib/python3.11/site-packages (from matplotlib!=3.6.1,>=3.1->seaborn) (1.1.0)\n",
      "Requirement already satisfied: cycler>=0.10 in /Users/yogeshmore/.pyenv/versions/2521_env/lib/python3.11/site-packages (from matplotlib!=3.6.1,>=3.1->seaborn) (0.11.0)\n",
      "Requirement already satisfied: fonttools>=4.22.0 in /Users/yogeshmore/.pyenv/versions/2521_env/lib/python3.11/site-packages (from matplotlib!=3.6.1,>=3.1->seaborn) (4.41.1)\n",
      "Requirement already satisfied: kiwisolver>=1.0.1 in /Users/yogeshmore/.pyenv/versions/2521_env/lib/python3.11/site-packages (from matplotlib!=3.6.1,>=3.1->seaborn) (1.4.4)\n",
      "Requirement already satisfied: packaging>=20.0 in /Users/yogeshmore/.pyenv/versions/2521_env/lib/python3.11/site-packages (from matplotlib!=3.6.1,>=3.1->seaborn) (23.1)\n",
      "Requirement already satisfied: pillow>=6.2.0 in /Users/yogeshmore/.pyenv/versions/2521_env/lib/python3.11/site-packages (from matplotlib!=3.6.1,>=3.1->seaborn) (10.0.0)\n",
      "Requirement already satisfied: pyparsing<3.1,>=2.3.1 in /Users/yogeshmore/.pyenv/versions/2521_env/lib/python3.11/site-packages (from matplotlib!=3.6.1,>=3.1->seaborn) (3.0.9)\n",
      "Requirement already satisfied: python-dateutil>=2.7 in /Users/yogeshmore/.pyenv/versions/2521_env/lib/python3.11/site-packages (from matplotlib!=3.6.1,>=3.1->seaborn) (2.8.2)\n",
      "Collecting pytz>=2020.1 (from pandas>=0.25->seaborn)\n",
      "  Using cached pytz-2023.3-py2.py3-none-any.whl (502 kB)\n",
      "Collecting tzdata>=2022.1 (from pandas>=0.25->seaborn)\n",
      "  Using cached tzdata-2023.3-py2.py3-none-any.whl (341 kB)\n",
      "Requirement already satisfied: six>=1.5 in /Users/yogeshmore/.pyenv/versions/2521_env/lib/python3.11/site-packages (from python-dateutil>=2.7->matplotlib!=3.6.1,>=3.1->seaborn) (1.16.0)\n",
      "Using cached pandas-2.0.3-cp311-cp311-macosx_10_9_x86_64.whl (11.6 MB)\n",
      "Installing collected packages: pytz, tzdata, pandas, seaborn\n",
      "Successfully installed pandas-2.0.3 pytz-2023.3 seaborn-0.12.2 tzdata-2023.3\n",
      "\n",
      "\u001b[1m[\u001b[0m\u001b[34;49mnotice\u001b[0m\u001b[1;39;49m]\u001b[0m\u001b[39;49m A new release of pip is available: \u001b[0m\u001b[31;49m23.2\u001b[0m\u001b[39;49m -> \u001b[0m\u001b[32;49m23.2.1\u001b[0m\n",
      "\u001b[1m[\u001b[0m\u001b[34;49mnotice\u001b[0m\u001b[1;39;49m]\u001b[0m\u001b[39;49m To update, run: \u001b[0m\u001b[32;49mpython3.11 -m pip install --upgrade pip\u001b[0m\n"
     ]
    }
   ],
   "source": [
    "!pip install seaborn"
   ]
  },
  {
   "cell_type": "code",
   "execution_count": 4,
   "metadata": {},
   "outputs": [],
   "source": [
    "import numpy as np\n",
    "import matplotlib.pyplot as plt\n",
    "import seaborn as sns"
   ]
  },
  {
   "cell_type": "code",
   "execution_count": 146,
   "metadata": {},
   "outputs": [
    {
     "data": {
      "text/plain": [
       "['ALLOW_THREADS',\n",
       " 'BUFSIZE',\n",
       " 'CLIP',\n",
       " 'DataSource',\n",
       " 'ERR_CALL',\n",
       " 'ERR_DEFAULT',\n",
       " 'ERR_IGNORE',\n",
       " 'ERR_LOG',\n",
       " 'ERR_PRINT',\n",
       " 'ERR_RAISE',\n",
       " 'ERR_WARN',\n",
       " 'FLOATING_POINT_SUPPORT',\n",
       " 'FPE_DIVIDEBYZERO',\n",
       " 'FPE_INVALID',\n",
       " 'FPE_OVERFLOW',\n",
       " 'FPE_UNDERFLOW',\n",
       " 'False_',\n",
       " 'Inf',\n",
       " 'Infinity',\n",
       " 'MAXDIMS',\n",
       " 'MAY_SHARE_BOUNDS',\n",
       " 'MAY_SHARE_EXACT',\n",
       " 'NAN',\n",
       " 'NINF',\n",
       " 'NZERO',\n",
       " 'NaN',\n",
       " 'PINF',\n",
       " 'PZERO',\n",
       " 'RAISE',\n",
       " 'RankWarning',\n",
       " 'SHIFT_DIVIDEBYZERO',\n",
       " 'SHIFT_INVALID',\n",
       " 'SHIFT_OVERFLOW',\n",
       " 'SHIFT_UNDERFLOW',\n",
       " 'ScalarType',\n",
       " 'True_',\n",
       " 'UFUNC_BUFSIZE_DEFAULT',\n",
       " 'UFUNC_PYVALS_NAME',\n",
       " 'WRAP',\n",
       " '_CopyMode',\n",
       " '_NoValue',\n",
       " '_UFUNC_API',\n",
       " '__NUMPY_SETUP__',\n",
       " '__all__',\n",
       " '__builtins__',\n",
       " '__cached__',\n",
       " '__config__',\n",
       " '__deprecated_attrs__',\n",
       " '__dir__',\n",
       " '__doc__',\n",
       " '__expired_functions__',\n",
       " '__file__',\n",
       " '__former_attrs__',\n",
       " '__future_scalars__',\n",
       " '__getattr__',\n",
       " '__git_version__',\n",
       " '__loader__',\n",
       " '__name__',\n",
       " '__package__',\n",
       " '__path__',\n",
       " '__spec__',\n",
       " '__version__',\n",
       " '_add_newdoc_ufunc',\n",
       " '_builtins',\n",
       " '_distributor_init',\n",
       " '_financial_names',\n",
       " '_get_promotion_state',\n",
       " '_globals',\n",
       " '_int_extended_msg',\n",
       " '_mat',\n",
       " '_no_nep50_warning',\n",
       " '_pyinstaller_hooks_dir',\n",
       " '_pytesttester',\n",
       " '_set_promotion_state',\n",
       " '_specific_msg',\n",
       " '_typing',\n",
       " '_using_numpy2_behavior',\n",
       " '_utils',\n",
       " '_version',\n",
       " 'abs',\n",
       " 'absolute',\n",
       " 'add',\n",
       " 'add_docstring',\n",
       " 'add_newdoc',\n",
       " 'add_newdoc_ufunc',\n",
       " 'all',\n",
       " 'allclose',\n",
       " 'alltrue',\n",
       " 'amax',\n",
       " 'amin',\n",
       " 'angle',\n",
       " 'any',\n",
       " 'append',\n",
       " 'apply_along_axis',\n",
       " 'apply_over_axes',\n",
       " 'arange',\n",
       " 'arccos',\n",
       " 'arccosh',\n",
       " 'arcsin',\n",
       " 'arcsinh',\n",
       " 'arctan',\n",
       " 'arctan2',\n",
       " 'arctanh',\n",
       " 'argmax',\n",
       " 'argmin',\n",
       " 'argpartition',\n",
       " 'argsort',\n",
       " 'argwhere',\n",
       " 'around',\n",
       " 'array',\n",
       " 'array2string',\n",
       " 'array_equal',\n",
       " 'array_equiv',\n",
       " 'array_repr',\n",
       " 'array_split',\n",
       " 'array_str',\n",
       " 'asanyarray',\n",
       " 'asarray',\n",
       " 'asarray_chkfinite',\n",
       " 'ascontiguousarray',\n",
       " 'asfarray',\n",
       " 'asfortranarray',\n",
       " 'asmatrix',\n",
       " 'atleast_1d',\n",
       " 'atleast_2d',\n",
       " 'atleast_3d',\n",
       " 'average',\n",
       " 'bartlett',\n",
       " 'base_repr',\n",
       " 'binary_repr',\n",
       " 'bincount',\n",
       " 'bitwise_and',\n",
       " 'bitwise_not',\n",
       " 'bitwise_or',\n",
       " 'bitwise_xor',\n",
       " 'blackman',\n",
       " 'block',\n",
       " 'bmat',\n",
       " 'bool_',\n",
       " 'broadcast',\n",
       " 'broadcast_arrays',\n",
       " 'broadcast_shapes',\n",
       " 'broadcast_to',\n",
       " 'busday_count',\n",
       " 'busday_offset',\n",
       " 'busdaycalendar',\n",
       " 'byte',\n",
       " 'byte_bounds',\n",
       " 'bytes_',\n",
       " 'c_',\n",
       " 'can_cast',\n",
       " 'cast',\n",
       " 'cbrt',\n",
       " 'cdouble',\n",
       " 'ceil',\n",
       " 'cfloat',\n",
       " 'char',\n",
       " 'character',\n",
       " 'chararray',\n",
       " 'choose',\n",
       " 'clip',\n",
       " 'clongdouble',\n",
       " 'clongfloat',\n",
       " 'column_stack',\n",
       " 'common_type',\n",
       " 'compare_chararrays',\n",
       " 'compat',\n",
       " 'complex128',\n",
       " 'complex256',\n",
       " 'complex64',\n",
       " 'complex_',\n",
       " 'complexfloating',\n",
       " 'compress',\n",
       " 'concatenate',\n",
       " 'conj',\n",
       " 'conjugate',\n",
       " 'convolve',\n",
       " 'copy',\n",
       " 'copysign',\n",
       " 'copyto',\n",
       " 'corrcoef',\n",
       " 'correlate',\n",
       " 'cos',\n",
       " 'cosh',\n",
       " 'count_nonzero',\n",
       " 'cov',\n",
       " 'cross',\n",
       " 'csingle',\n",
       " 'ctypeslib',\n",
       " 'cumprod',\n",
       " 'cumproduct',\n",
       " 'cumsum',\n",
       " 'datetime64',\n",
       " 'datetime_as_string',\n",
       " 'datetime_data',\n",
       " 'deg2rad',\n",
       " 'degrees',\n",
       " 'delete',\n",
       " 'deprecate',\n",
       " 'deprecate_with_doc',\n",
       " 'diag',\n",
       " 'diag_indices',\n",
       " 'diag_indices_from',\n",
       " 'diagflat',\n",
       " 'diagonal',\n",
       " 'diff',\n",
       " 'digitize',\n",
       " 'disp',\n",
       " 'divide',\n",
       " 'divmod',\n",
       " 'dot',\n",
       " 'double',\n",
       " 'dsplit',\n",
       " 'dstack',\n",
       " 'dtype',\n",
       " 'dtypes',\n",
       " 'e',\n",
       " 'ediff1d',\n",
       " 'einsum',\n",
       " 'einsum_path',\n",
       " 'emath',\n",
       " 'empty',\n",
       " 'empty_like',\n",
       " 'equal',\n",
       " 'error_message',\n",
       " 'errstate',\n",
       " 'euler_gamma',\n",
       " 'exceptions',\n",
       " 'exp',\n",
       " 'exp2',\n",
       " 'expand_dims',\n",
       " 'expm1',\n",
       " 'extract',\n",
       " 'eye',\n",
       " 'fabs',\n",
       " 'fastCopyAndTranspose',\n",
       " 'fft',\n",
       " 'fill_diagonal',\n",
       " 'find_common_type',\n",
       " 'finfo',\n",
       " 'fix',\n",
       " 'flatiter',\n",
       " 'flatnonzero',\n",
       " 'flexible',\n",
       " 'flip',\n",
       " 'fliplr',\n",
       " 'flipud',\n",
       " 'float128',\n",
       " 'float16',\n",
       " 'float32',\n",
       " 'float64',\n",
       " 'float_',\n",
       " 'float_power',\n",
       " 'floating',\n",
       " 'floor',\n",
       " 'floor_divide',\n",
       " 'fmax',\n",
       " 'fmin',\n",
       " 'fmod',\n",
       " 'format_float_positional',\n",
       " 'format_float_scientific',\n",
       " 'format_parser',\n",
       " 'frexp',\n",
       " 'from_dlpack',\n",
       " 'frombuffer',\n",
       " 'fromfile',\n",
       " 'fromfunction',\n",
       " 'fromiter',\n",
       " 'frompyfunc',\n",
       " 'fromregex',\n",
       " 'fromstring',\n",
       " 'full',\n",
       " 'full_like',\n",
       " 'gcd',\n",
       " 'generic',\n",
       " 'genfromtxt',\n",
       " 'geomspace',\n",
       " 'get_array_wrap',\n",
       " 'get_include',\n",
       " 'get_printoptions',\n",
       " 'getbufsize',\n",
       " 'geterr',\n",
       " 'geterrcall',\n",
       " 'geterrobj',\n",
       " 'gradient',\n",
       " 'greater',\n",
       " 'greater_equal',\n",
       " 'half',\n",
       " 'hamming',\n",
       " 'hanning',\n",
       " 'heaviside',\n",
       " 'histogram',\n",
       " 'histogram2d',\n",
       " 'histogram_bin_edges',\n",
       " 'histogramdd',\n",
       " 'hsplit',\n",
       " 'hstack',\n",
       " 'hypot',\n",
       " 'i0',\n",
       " 'identity',\n",
       " 'iinfo',\n",
       " 'imag',\n",
       " 'in1d',\n",
       " 'index_exp',\n",
       " 'indices',\n",
       " 'inexact',\n",
       " 'inf',\n",
       " 'info',\n",
       " 'infty',\n",
       " 'inner',\n",
       " 'insert',\n",
       " 'int16',\n",
       " 'int32',\n",
       " 'int64',\n",
       " 'int8',\n",
       " 'int_',\n",
       " 'intc',\n",
       " 'integer',\n",
       " 'interp',\n",
       " 'intersect1d',\n",
       " 'intp',\n",
       " 'invert',\n",
       " 'is_busday',\n",
       " 'isclose',\n",
       " 'iscomplex',\n",
       " 'iscomplexobj',\n",
       " 'isfinite',\n",
       " 'isfortran',\n",
       " 'isin',\n",
       " 'isinf',\n",
       " 'isnan',\n",
       " 'isnat',\n",
       " 'isneginf',\n",
       " 'isposinf',\n",
       " 'isreal',\n",
       " 'isrealobj',\n",
       " 'isscalar',\n",
       " 'issctype',\n",
       " 'issubclass_',\n",
       " 'issubdtype',\n",
       " 'issubsctype',\n",
       " 'iterable',\n",
       " 'ix_',\n",
       " 'kaiser',\n",
       " 'kron',\n",
       " 'lcm',\n",
       " 'ldexp',\n",
       " 'left_shift',\n",
       " 'less',\n",
       " 'less_equal',\n",
       " 'lexsort',\n",
       " 'lib',\n",
       " 'linalg',\n",
       " 'linspace',\n",
       " 'little_endian',\n",
       " 'load',\n",
       " 'loadtxt',\n",
       " 'log',\n",
       " 'log10',\n",
       " 'log1p',\n",
       " 'log2',\n",
       " 'logaddexp',\n",
       " 'logaddexp2',\n",
       " 'logical_and',\n",
       " 'logical_not',\n",
       " 'logical_or',\n",
       " 'logical_xor',\n",
       " 'logspace',\n",
       " 'longcomplex',\n",
       " 'longdouble',\n",
       " 'longfloat',\n",
       " 'longlong',\n",
       " 'lookfor',\n",
       " 'ma',\n",
       " 'mask_indices',\n",
       " 'mat',\n",
       " 'matmul',\n",
       " 'matrix',\n",
       " 'max',\n",
       " 'maximum',\n",
       " 'maximum_sctype',\n",
       " 'may_share_memory',\n",
       " 'mean',\n",
       " 'median',\n",
       " 'memmap',\n",
       " 'meshgrid',\n",
       " 'mgrid',\n",
       " 'min',\n",
       " 'min_scalar_type',\n",
       " 'minimum',\n",
       " 'mintypecode',\n",
       " 'mod',\n",
       " 'modf',\n",
       " 'moveaxis',\n",
       " 'msort',\n",
       " 'multiply',\n",
       " 'nan',\n",
       " 'nan_to_num',\n",
       " 'nanargmax',\n",
       " 'nanargmin',\n",
       " 'nancumprod',\n",
       " 'nancumsum',\n",
       " 'nanmax',\n",
       " 'nanmean',\n",
       " 'nanmedian',\n",
       " 'nanmin',\n",
       " 'nanpercentile',\n",
       " 'nanprod',\n",
       " 'nanquantile',\n",
       " 'nanstd',\n",
       " 'nansum',\n",
       " 'nanvar',\n",
       " 'nbytes',\n",
       " 'ndarray',\n",
       " 'ndenumerate',\n",
       " 'ndim',\n",
       " 'ndindex',\n",
       " 'nditer',\n",
       " 'negative',\n",
       " 'nested_iters',\n",
       " 'newaxis',\n",
       " 'nextafter',\n",
       " 'nonzero',\n",
       " 'not_equal',\n",
       " 'numarray',\n",
       " 'number',\n",
       " 'obj2sctype',\n",
       " 'object_',\n",
       " 'ogrid',\n",
       " 'oldnumeric',\n",
       " 'ones',\n",
       " 'ones_like',\n",
       " 'outer',\n",
       " 'packbits',\n",
       " 'pad',\n",
       " 'partition',\n",
       " 'percentile',\n",
       " 'pi',\n",
       " 'piecewise',\n",
       " 'place',\n",
       " 'poly',\n",
       " 'poly1d',\n",
       " 'polyadd',\n",
       " 'polyder',\n",
       " 'polydiv',\n",
       " 'polyfit',\n",
       " 'polyint',\n",
       " 'polymul',\n",
       " 'polynomial',\n",
       " 'polysub',\n",
       " 'polyval',\n",
       " 'positive',\n",
       " 'power',\n",
       " 'printoptions',\n",
       " 'prod',\n",
       " 'product',\n",
       " 'promote_types',\n",
       " 'ptp',\n",
       " 'put',\n",
       " 'put_along_axis',\n",
       " 'putmask',\n",
       " 'quantile',\n",
       " 'r_',\n",
       " 'rad2deg',\n",
       " 'radians',\n",
       " 'random',\n",
       " 'ravel',\n",
       " 'ravel_multi_index',\n",
       " 'real',\n",
       " 'real_if_close',\n",
       " 'rec',\n",
       " 'recarray',\n",
       " 'recfromcsv',\n",
       " 'recfromtxt',\n",
       " 'reciprocal',\n",
       " 'record',\n",
       " 'remainder',\n",
       " 'repeat',\n",
       " 'require',\n",
       " 'reshape',\n",
       " 'resize',\n",
       " 'result_type',\n",
       " 'right_shift',\n",
       " 'rint',\n",
       " 'roll',\n",
       " 'rollaxis',\n",
       " 'roots',\n",
       " 'rot90',\n",
       " 'round',\n",
       " 'round_',\n",
       " 'row_stack',\n",
       " 's_',\n",
       " 'safe_eval',\n",
       " 'save',\n",
       " 'savetxt',\n",
       " 'savez',\n",
       " 'savez_compressed',\n",
       " 'sctype2char',\n",
       " 'sctypeDict',\n",
       " 'sctypes',\n",
       " 'searchsorted',\n",
       " 'select',\n",
       " 'set_numeric_ops',\n",
       " 'set_printoptions',\n",
       " 'set_string_function',\n",
       " 'setbufsize',\n",
       " 'setdiff1d',\n",
       " 'seterr',\n",
       " 'seterrcall',\n",
       " 'seterrobj',\n",
       " 'setxor1d',\n",
       " 'shape',\n",
       " 'shares_memory',\n",
       " 'short',\n",
       " 'show_config',\n",
       " 'show_runtime',\n",
       " 'sign',\n",
       " 'signbit',\n",
       " 'signedinteger',\n",
       " 'sin',\n",
       " 'sinc',\n",
       " 'single',\n",
       " 'singlecomplex',\n",
       " 'sinh',\n",
       " 'size',\n",
       " 'sometrue',\n",
       " 'sort',\n",
       " 'sort_complex',\n",
       " 'source',\n",
       " 'spacing',\n",
       " 'split',\n",
       " 'sqrt',\n",
       " 'square',\n",
       " 'squeeze',\n",
       " 'stack',\n",
       " 'std',\n",
       " 'str_',\n",
       " 'string_',\n",
       " 'subtract',\n",
       " 'sum',\n",
       " 'swapaxes',\n",
       " 'take',\n",
       " 'take_along_axis',\n",
       " 'tan',\n",
       " 'tanh',\n",
       " 'tensordot',\n",
       " 'test',\n",
       " 'testing',\n",
       " 'tile',\n",
       " 'timedelta64',\n",
       " 'trace',\n",
       " 'tracemalloc_domain',\n",
       " 'transpose',\n",
       " 'trapz',\n",
       " 'tri',\n",
       " 'tril',\n",
       " 'tril_indices',\n",
       " 'tril_indices_from',\n",
       " 'trim_zeros',\n",
       " 'triu',\n",
       " 'triu_indices',\n",
       " 'triu_indices_from',\n",
       " 'true_divide',\n",
       " 'trunc',\n",
       " 'typecodes',\n",
       " 'typename',\n",
       " 'ubyte',\n",
       " 'ufunc',\n",
       " 'uint',\n",
       " 'uint16',\n",
       " 'uint32',\n",
       " 'uint64',\n",
       " 'uint8',\n",
       " 'uintc',\n",
       " 'uintp',\n",
       " 'ulonglong',\n",
       " 'unicode_',\n",
       " 'union1d',\n",
       " 'unique',\n",
       " 'unpackbits',\n",
       " 'unravel_index',\n",
       " 'unsignedinteger',\n",
       " 'unwrap',\n",
       " 'ushort',\n",
       " 'vander',\n",
       " 'var',\n",
       " 'vdot',\n",
       " 'vectorize',\n",
       " 'version',\n",
       " 'void',\n",
       " 'vsplit',\n",
       " 'vstack',\n",
       " 'w',\n",
       " 'where',\n",
       " 'who',\n",
       " 'zeros',\n",
       " 'zeros_like']"
      ]
     },
     "execution_count": 146,
     "metadata": {},
     "output_type": "execute_result"
    }
   ],
   "source": [
    "dir(np)"
   ]
  },
  {
   "cell_type": "code",
   "execution_count": 147,
   "metadata": {},
   "outputs": [
    {
     "data": {
      "text/plain": [
       "3.0"
      ]
     },
     "execution_count": 147,
     "metadata": {},
     "output_type": "execute_result"
    }
   ],
   "source": [
    "np.sqrt(9)"
   ]
  },
  {
   "cell_type": "markdown",
   "metadata": {},
   "source": [
    "### Most common used data structure in data science:\n",
    "\n",
    "```np.array```\n",
    "\n",
    "Basically, a matrix, i.e. list of numbers. Can be 1D, 2D, 3D, ..."
   ]
  },
  {
   "cell_type": "code",
   "execution_count": 43,
   "metadata": {},
   "outputs": [
    {
     "name": "stdout",
     "output_type": "stream",
     "text": [
      "\u001b[0;31mDocstring:\u001b[0m\n",
      "array(object, dtype=None, *, copy=True, order='K', subok=False, ndmin=0,\n",
      "      like=None)\n",
      "\n",
      "Create an array.\n",
      "\n",
      "Parameters\n",
      "----------\n",
      "object : array_like\n",
      "    An array, any object exposing the array interface, an object whose\n",
      "    ``__array__`` method returns an array, or any (nested) sequence.\n",
      "    If object is a scalar, a 0-dimensional array containing object is\n",
      "    returned.\n",
      "dtype : data-type, optional\n",
      "    The desired data-type for the array. If not given, NumPy will try to use\n",
      "    a default ``dtype`` that can represent the values (by applying promotion\n",
      "    rules when necessary.)\n",
      "copy : bool, optional\n",
      "    If true (default), then the object is copied.  Otherwise, a copy will\n",
      "    only be made if ``__array__`` returns a copy, if obj is a nested\n",
      "    sequence, or if a copy is needed to satisfy any of the other\n",
      "    requirements (``dtype``, ``order``, etc.).\n",
      "order : {'K', 'A', 'C', 'F'}, optional\n",
      "    Specify the memory layout of the array. If object is not an array, the\n",
      "    newly created array will be in C order (row major) unless 'F' is\n",
      "    specified, in which case it will be in Fortran order (column major).\n",
      "    If object is an array the following holds.\n",
      "\n",
      "    ===== ========= ===================================================\n",
      "    order  no copy                     copy=True\n",
      "    ===== ========= ===================================================\n",
      "    'K'   unchanged F & C order preserved, otherwise most similar order\n",
      "    'A'   unchanged F order if input is F and not C, otherwise C order\n",
      "    'C'   C order   C order\n",
      "    'F'   F order   F order\n",
      "    ===== ========= ===================================================\n",
      "\n",
      "    When ``copy=False`` and a copy is made for other reasons, the result is\n",
      "    the same as if ``copy=True``, with some exceptions for 'A', see the\n",
      "    Notes section. The default order is 'K'.\n",
      "subok : bool, optional\n",
      "    If True, then sub-classes will be passed-through, otherwise\n",
      "    the returned array will be forced to be a base-class array (default).\n",
      "ndmin : int, optional\n",
      "    Specifies the minimum number of dimensions that the resulting\n",
      "    array should have.  Ones will be prepended to the shape as\n",
      "    needed to meet this requirement.\n",
      "like : array_like, optional\n",
      "    Reference object to allow the creation of arrays which are not\n",
      "    NumPy arrays. If an array-like passed in as ``like`` supports\n",
      "    the ``__array_function__`` protocol, the result will be defined\n",
      "    by it. In this case, it ensures the creation of an array object\n",
      "    compatible with that passed in via this argument.\n",
      "\n",
      "    .. versionadded:: 1.20.0\n",
      "\n",
      "Returns\n",
      "-------\n",
      "out : ndarray\n",
      "    An array object satisfying the specified requirements.\n",
      "\n",
      "See Also\n",
      "--------\n",
      "empty_like : Return an empty array with shape and type of input.\n",
      "ones_like : Return an array of ones with shape and type of input.\n",
      "zeros_like : Return an array of zeros with shape and type of input.\n",
      "full_like : Return a new array with shape of input filled with value.\n",
      "empty : Return a new uninitialized array.\n",
      "ones : Return a new array setting values to one.\n",
      "zeros : Return a new array setting values to zero.\n",
      "full : Return a new array of given shape filled with value.\n",
      "\n",
      "\n",
      "Notes\n",
      "-----\n",
      "When order is 'A' and ``object`` is an array in neither 'C' nor 'F' order,\n",
      "and a copy is forced by a change in dtype, then the order of the result is\n",
      "not necessarily 'C' as expected. This is likely a bug.\n",
      "\n",
      "Examples\n",
      "--------\n",
      ">>> np.array([1, 2, 3])\n",
      "array([1, 2, 3])\n",
      "\n",
      "Upcasting:\n",
      "\n",
      ">>> np.array([1, 2, 3.0])\n",
      "array([ 1.,  2.,  3.])\n",
      "\n",
      "More than one dimension:\n",
      "\n",
      ">>> np.array([[1, 2], [3, 4]])\n",
      "array([[1, 2],\n",
      "       [3, 4]])\n",
      "\n",
      "Minimum dimensions 2:\n",
      "\n",
      ">>> np.array([1, 2, 3], ndmin=2)\n",
      "array([[1, 2, 3]])\n",
      "\n",
      "Type provided:\n",
      "\n",
      ">>> np.array([1, 2, 3], dtype=complex)\n",
      "array([ 1.+0.j,  2.+0.j,  3.+0.j])\n",
      "\n",
      "Data-type consisting of more than one element:\n",
      "\n",
      ">>> x = np.array([(1,2),(3,4)],dtype=[('a','<i4'),('b','<i4')])\n",
      ">>> x['a']\n",
      "array([1, 3])\n",
      "\n",
      "Creating an array from sub-classes:\n",
      "\n",
      ">>> np.array(np.mat('1 2; 3 4'))\n",
      "array([[1, 2],\n",
      "       [3, 4]])\n",
      "\n",
      ">>> np.array(np.mat('1 2; 3 4'), subok=True)\n",
      "matrix([[1, 2],\n",
      "        [3, 4]])\n",
      "\u001b[0;31mType:\u001b[0m      builtin_function_or_method"
     ]
    }
   ],
   "source": [
    "np.array?"
   ]
  },
  {
   "cell_type": "code",
   "execution_count": 148,
   "metadata": {},
   "outputs": [
    {
     "name": "stdout",
     "output_type": "stream",
     "text": [
      "[1.  2.  2.1 2.2]\n"
     ]
    }
   ],
   "source": [
    "my_array=np.array([1, 2, 2.1, 2.2])\n",
    "print(my_array)"
   ]
  },
  {
   "cell_type": "code",
   "execution_count": null,
   "metadata": {},
   "outputs": [],
   "source": []
  },
  {
   "cell_type": "code",
   "execution_count": 47,
   "metadata": {},
   "outputs": [
    {
     "name": "stdout",
     "output_type": "stream",
     "text": [
      "\u001b[0;31mType:\u001b[0m        ndarray\n",
      "\u001b[0;31mString form:\u001b[0m [1.  2.  2.1 2.2]\n",
      "\u001b[0;31mLength:\u001b[0m      4\n",
      "\u001b[0;31mFile:\u001b[0m        ~/.pyenv/versions/3.11.4/envs/2521_env/lib/python3.11/site-packages/numpy/__init__.py\n",
      "\u001b[0;31mDocstring:\u001b[0m  \n",
      "ndarray(shape, dtype=float, buffer=None, offset=0,\n",
      "        strides=None, order=None)\n",
      "\n",
      "An array object represents a multidimensional, homogeneous array\n",
      "of fixed-size items.  An associated data-type object describes the\n",
      "format of each element in the array (its byte-order, how many bytes it\n",
      "occupies in memory, whether it is an integer, a floating point number,\n",
      "or something else, etc.)\n",
      "\n",
      "Arrays should be constructed using `array`, `zeros` or `empty` (refer\n",
      "to the See Also section below).  The parameters given here refer to\n",
      "a low-level method (`ndarray(...)`) for instantiating an array.\n",
      "\n",
      "For more information, refer to the `numpy` module and examine the\n",
      "methods and attributes of an array.\n",
      "\n",
      "Parameters\n",
      "----------\n",
      "(for the __new__ method; see Notes below)\n",
      "\n",
      "shape : tuple of ints\n",
      "    Shape of created array.\n",
      "dtype : data-type, optional\n",
      "    Any object that can be interpreted as a numpy data type.\n",
      "buffer : object exposing buffer interface, optional\n",
      "    Used to fill the array with data.\n",
      "offset : int, optional\n",
      "    Offset of array data in buffer.\n",
      "strides : tuple of ints, optional\n",
      "    Strides of data in memory.\n",
      "order : {'C', 'F'}, optional\n",
      "    Row-major (C-style) or column-major (Fortran-style) order.\n",
      "\n",
      "Attributes\n",
      "----------\n",
      "T : ndarray\n",
      "    Transpose of the array.\n",
      "data : buffer\n",
      "    The array's elements, in memory.\n",
      "dtype : dtype object\n",
      "    Describes the format of the elements in the array.\n",
      "flags : dict\n",
      "    Dictionary containing information related to memory use, e.g.,\n",
      "    'C_CONTIGUOUS', 'OWNDATA', 'WRITEABLE', etc.\n",
      "flat : numpy.flatiter object\n",
      "    Flattened version of the array as an iterator.  The iterator\n",
      "    allows assignments, e.g., ``x.flat = 3`` (See `ndarray.flat` for\n",
      "    assignment examples; TODO).\n",
      "imag : ndarray\n",
      "    Imaginary part of the array.\n",
      "real : ndarray\n",
      "    Real part of the array.\n",
      "size : int\n",
      "    Number of elements in the array.\n",
      "itemsize : int\n",
      "    The memory use of each array element in bytes.\n",
      "nbytes : int\n",
      "    The total number of bytes required to store the array data,\n",
      "    i.e., ``itemsize * size``.\n",
      "ndim : int\n",
      "    The array's number of dimensions.\n",
      "shape : tuple of ints\n",
      "    Shape of the array.\n",
      "strides : tuple of ints\n",
      "    The step-size required to move from one element to the next in\n",
      "    memory. For example, a contiguous ``(3, 4)`` array of type\n",
      "    ``int16`` in C-order has strides ``(8, 2)``.  This implies that\n",
      "    to move from element to element in memory requires jumps of 2 bytes.\n",
      "    To move from row-to-row, one needs to jump 8 bytes at a time\n",
      "    (``2 * 4``).\n",
      "ctypes : ctypes object\n",
      "    Class containing properties of the array needed for interaction\n",
      "    with ctypes.\n",
      "base : ndarray\n",
      "    If the array is a view into another array, that array is its `base`\n",
      "    (unless that array is also a view).  The `base` array is where the\n",
      "    array data is actually stored.\n",
      "\n",
      "See Also\n",
      "--------\n",
      "array : Construct an array.\n",
      "zeros : Create an array, each element of which is zero.\n",
      "empty : Create an array, but leave its allocated memory unchanged (i.e.,\n",
      "        it contains \"garbage\").\n",
      "dtype : Create a data-type.\n",
      "numpy.typing.NDArray : An ndarray alias :term:`generic <generic type>`\n",
      "                       w.r.t. its `dtype.type <numpy.dtype.type>`.\n",
      "\n",
      "Notes\n",
      "-----\n",
      "There are two modes of creating an array using ``__new__``:\n",
      "\n",
      "1. If `buffer` is None, then only `shape`, `dtype`, and `order`\n",
      "   are used.\n",
      "2. If `buffer` is an object exposing the buffer interface, then\n",
      "   all keywords are interpreted.\n",
      "\n",
      "No ``__init__`` method is needed because the array is fully initialized\n",
      "after the ``__new__`` method.\n",
      "\n",
      "Examples\n",
      "--------\n",
      "These examples illustrate the low-level `ndarray` constructor.  Refer\n",
      "to the `See Also` section above for easier ways of constructing an\n",
      "ndarray.\n",
      "\n",
      "First mode, `buffer` is None:\n",
      "\n",
      ">>> np.ndarray(shape=(2,2), dtype=float, order='F')\n",
      "array([[0.0e+000, 0.0e+000], # random\n",
      "       [     nan, 2.5e-323]])\n",
      "\n",
      "Second mode:\n",
      "\n",
      ">>> np.ndarray((2,), buffer=np.array([1,2,3]),\n",
      "...            offset=np.int_().itemsize,\n",
      "...            dtype=int) # offset = 1*itemsize, i.e. skip first element\n",
      "array([2, 3])"
     ]
    }
   ],
   "source": [
    "my_array?"
   ]
  },
  {
   "cell_type": "code",
   "execution_count": 48,
   "metadata": {},
   "outputs": [
    {
     "data": {
      "text/plain": [
       "['T',\n",
       " '__abs__',\n",
       " '__add__',\n",
       " '__and__',\n",
       " '__array__',\n",
       " '__array_finalize__',\n",
       " '__array_function__',\n",
       " '__array_interface__',\n",
       " '__array_prepare__',\n",
       " '__array_priority__',\n",
       " '__array_struct__',\n",
       " '__array_ufunc__',\n",
       " '__array_wrap__',\n",
       " '__bool__',\n",
       " '__class__',\n",
       " '__class_getitem__',\n",
       " '__complex__',\n",
       " '__contains__',\n",
       " '__copy__',\n",
       " '__deepcopy__',\n",
       " '__delattr__',\n",
       " '__delitem__',\n",
       " '__dir__',\n",
       " '__divmod__',\n",
       " '__dlpack__',\n",
       " '__dlpack_device__',\n",
       " '__doc__',\n",
       " '__eq__',\n",
       " '__float__',\n",
       " '__floordiv__',\n",
       " '__format__',\n",
       " '__ge__',\n",
       " '__getattribute__',\n",
       " '__getitem__',\n",
       " '__getstate__',\n",
       " '__gt__',\n",
       " '__hash__',\n",
       " '__iadd__',\n",
       " '__iand__',\n",
       " '__ifloordiv__',\n",
       " '__ilshift__',\n",
       " '__imatmul__',\n",
       " '__imod__',\n",
       " '__imul__',\n",
       " '__index__',\n",
       " '__init__',\n",
       " '__init_subclass__',\n",
       " '__int__',\n",
       " '__invert__',\n",
       " '__ior__',\n",
       " '__ipow__',\n",
       " '__irshift__',\n",
       " '__isub__',\n",
       " '__iter__',\n",
       " '__itruediv__',\n",
       " '__ixor__',\n",
       " '__le__',\n",
       " '__len__',\n",
       " '__lshift__',\n",
       " '__lt__',\n",
       " '__matmul__',\n",
       " '__mod__',\n",
       " '__mul__',\n",
       " '__ne__',\n",
       " '__neg__',\n",
       " '__new__',\n",
       " '__or__',\n",
       " '__pos__',\n",
       " '__pow__',\n",
       " '__radd__',\n",
       " '__rand__',\n",
       " '__rdivmod__',\n",
       " '__reduce__',\n",
       " '__reduce_ex__',\n",
       " '__repr__',\n",
       " '__rfloordiv__',\n",
       " '__rlshift__',\n",
       " '__rmatmul__',\n",
       " '__rmod__',\n",
       " '__rmul__',\n",
       " '__ror__',\n",
       " '__rpow__',\n",
       " '__rrshift__',\n",
       " '__rshift__',\n",
       " '__rsub__',\n",
       " '__rtruediv__',\n",
       " '__rxor__',\n",
       " '__setattr__',\n",
       " '__setitem__',\n",
       " '__setstate__',\n",
       " '__sizeof__',\n",
       " '__str__',\n",
       " '__sub__',\n",
       " '__subclasshook__',\n",
       " '__truediv__',\n",
       " '__xor__',\n",
       " 'all',\n",
       " 'any',\n",
       " 'argmax',\n",
       " 'argmin',\n",
       " 'argpartition',\n",
       " 'argsort',\n",
       " 'astype',\n",
       " 'base',\n",
       " 'byteswap',\n",
       " 'choose',\n",
       " 'clip',\n",
       " 'compress',\n",
       " 'conj',\n",
       " 'conjugate',\n",
       " 'copy',\n",
       " 'ctypes',\n",
       " 'cumprod',\n",
       " 'cumsum',\n",
       " 'data',\n",
       " 'diagonal',\n",
       " 'dot',\n",
       " 'dtype',\n",
       " 'dump',\n",
       " 'dumps',\n",
       " 'fill',\n",
       " 'flags',\n",
       " 'flat',\n",
       " 'flatten',\n",
       " 'getfield',\n",
       " 'imag',\n",
       " 'item',\n",
       " 'itemset',\n",
       " 'itemsize',\n",
       " 'max',\n",
       " 'mean',\n",
       " 'min',\n",
       " 'nbytes',\n",
       " 'ndim',\n",
       " 'newbyteorder',\n",
       " 'nonzero',\n",
       " 'partition',\n",
       " 'prod',\n",
       " 'ptp',\n",
       " 'put',\n",
       " 'ravel',\n",
       " 'real',\n",
       " 'repeat',\n",
       " 'reshape',\n",
       " 'resize',\n",
       " 'round',\n",
       " 'searchsorted',\n",
       " 'setfield',\n",
       " 'setflags',\n",
       " 'shape',\n",
       " 'size',\n",
       " 'sort',\n",
       " 'squeeze',\n",
       " 'std',\n",
       " 'strides',\n",
       " 'sum',\n",
       " 'swapaxes',\n",
       " 'take',\n",
       " 'tobytes',\n",
       " 'tofile',\n",
       " 'tolist',\n",
       " 'tostring',\n",
       " 'trace',\n",
       " 'transpose',\n",
       " 'var',\n",
       " 'view']"
      ]
     },
     "execution_count": 48,
     "metadata": {},
     "output_type": "execute_result"
    }
   ],
   "source": [
    "dir(my_array)"
   ]
  },
  {
   "cell_type": "code",
   "execution_count": 151,
   "metadata": {},
   "outputs": [
    {
     "data": {
      "text/plain": [
       "(4,)"
      ]
     },
     "execution_count": 151,
     "metadata": {},
     "output_type": "execute_result"
    }
   ],
   "source": [
    "my_array.shape"
   ]
  },
  {
   "cell_type": "code",
   "execution_count": 50,
   "metadata": {},
   "outputs": [
    {
     "data": {
      "text/plain": [
       "1.825"
      ]
     },
     "execution_count": 50,
     "metadata": {},
     "output_type": "execute_result"
    }
   ],
   "source": [
    "np.average(my_array)"
   ]
  },
  {
   "cell_type": "code",
   "execution_count": 149,
   "metadata": {},
   "outputs": [
    {
     "data": {
      "text/plain": [
       "<function ndarray.mean>"
      ]
     },
     "execution_count": 149,
     "metadata": {},
     "output_type": "execute_result"
    }
   ],
   "source": [
    "my_array.mean"
   ]
  },
  {
   "cell_type": "code",
   "execution_count": 150,
   "metadata": {},
   "outputs": [
    {
     "data": {
      "text/plain": [
       "1.825"
      ]
     },
     "execution_count": 150,
     "metadata": {},
     "output_type": "execute_result"
    }
   ],
   "source": [
    "my_array.mean()"
   ]
  },
  {
   "cell_type": "code",
   "execution_count": 55,
   "metadata": {},
   "outputs": [
    {
     "name": "stdout",
     "output_type": "stream",
     "text": [
      "[[1 2 3]\n",
      " [4 5 6]]\n"
     ]
    }
   ],
   "source": [
    "my_matrix=np.array([[1, 2, 3],[4, 5, 6]]) #a matrix is a list of lists, each item is a row\n",
    "print(my_matrix)"
   ]
  },
  {
   "cell_type": "code",
   "execution_count": 153,
   "metadata": {},
   "outputs": [
    {
     "name": "stdout",
     "output_type": "stream",
     "text": [
      "[[0 1 2]\n",
      " [3 2 5]]\n"
     ]
    }
   ],
   "source": [
    "my_matrix2=np.array([0, 1, 2, 3, 2, 5]).reshape(2,3) #first number 2 is number of rows\n",
    "print(my_matrix2)"
   ]
  },
  {
   "cell_type": "code",
   "execution_count": 56,
   "metadata": {},
   "outputs": [
    {
     "data": {
      "text/plain": [
       "array([[ 1,  3,  5],\n",
       "       [ 7,  7, 11]])"
      ]
     },
     "execution_count": 56,
     "metadata": {},
     "output_type": "execute_result"
    }
   ],
   "source": [
    "my_matrix+my_matrix2"
   ]
  },
  {
   "cell_type": "code",
   "execution_count": 58,
   "metadata": {},
   "outputs": [
    {
     "data": {
      "text/plain": [
       "array([[ 0,  2,  6],\n",
       "       [12, 10, 30]])"
      ]
     },
     "execution_count": 58,
     "metadata": {},
     "output_type": "execute_result"
    }
   ],
   "source": [
    "my_matrix * my_matrix2  #this is hadamard product, not matrix multiplication of linear algebra"
   ]
  },
  {
   "cell_type": "code",
   "execution_count": 59,
   "metadata": {},
   "outputs": [
    {
     "data": {
      "text/plain": [
       "(2, 3)"
      ]
     },
     "execution_count": 59,
     "metadata": {},
     "output_type": "execute_result"
    }
   ],
   "source": [
    "my_matrix.shape"
   ]
  },
  {
   "cell_type": "code",
   "execution_count": 63,
   "metadata": {},
   "outputs": [
    {
     "name": "stdout",
     "output_type": "stream",
     "text": [
      "[[0 3]\n",
      " [1 2]\n",
      " [2 5]]\n",
      "shape is (3, 2)\n"
     ]
    }
   ],
   "source": [
    "print(my_matrix2.T)  # T is for transpose - rows become columns and columns become rows\n",
    "\n",
    "print('shape is', my_matrix2.T.shape)   #"
   ]
  },
  {
   "cell_type": "markdown",
   "metadata": {},
   "source": [
    "### Random numbers"
   ]
  },
  {
   "cell_type": "code",
   "execution_count": 64,
   "metadata": {},
   "outputs": [
    {
     "name": "stdout",
     "output_type": "stream",
     "text": [
      "\u001b[0;31mType:\u001b[0m        module\n",
      "\u001b[0;31mString form:\u001b[0m <module 'numpy.random' from '/Users/yogeshmore/.pyenv/versions/3.11.4/envs/2521_env/lib/python3.11/site-packages/numpy/random/__init__.py'>\n",
      "\u001b[0;31mFile:\u001b[0m        ~/.pyenv/versions/3.11.4/envs/2521_env/lib/python3.11/site-packages/numpy/random/__init__.py\n",
      "\u001b[0;31mDocstring:\u001b[0m  \n",
      "========================\n",
      "Random Number Generation\n",
      "========================\n",
      "\n",
      "Use ``default_rng()`` to create a `Generator` and call its methods.\n",
      "\n",
      "=============== =========================================================\n",
      "Generator\n",
      "--------------- ---------------------------------------------------------\n",
      "Generator       Class implementing all of the random number distributions\n",
      "default_rng     Default constructor for ``Generator``\n",
      "=============== =========================================================\n",
      "\n",
      "============================================= ===\n",
      "BitGenerator Streams that work with Generator\n",
      "--------------------------------------------- ---\n",
      "MT19937\n",
      "PCG64\n",
      "PCG64DXSM\n",
      "Philox\n",
      "SFC64\n",
      "============================================= ===\n",
      "\n",
      "============================================= ===\n",
      "Getting entropy to initialize a BitGenerator\n",
      "--------------------------------------------- ---\n",
      "SeedSequence\n",
      "============================================= ===\n",
      "\n",
      "\n",
      "Legacy\n",
      "------\n",
      "\n",
      "For backwards compatibility with previous versions of numpy before 1.17, the\n",
      "various aliases to the global `RandomState` methods are left alone and do not\n",
      "use the new `Generator` API.\n",
      "\n",
      "==================== =========================================================\n",
      "Utility functions\n",
      "-------------------- ---------------------------------------------------------\n",
      "random               Uniformly distributed floats over ``[0, 1)``\n",
      "bytes                Uniformly distributed random bytes.\n",
      "permutation          Randomly permute a sequence / generate a random sequence.\n",
      "shuffle              Randomly permute a sequence in place.\n",
      "choice               Random sample from 1-D array.\n",
      "==================== =========================================================\n",
      "\n",
      "==================== =========================================================\n",
      "Compatibility\n",
      "functions - removed\n",
      "in the new API\n",
      "-------------------- ---------------------------------------------------------\n",
      "rand                 Uniformly distributed values.\n",
      "randn                Normally distributed values.\n",
      "ranf                 Uniformly distributed floating point numbers.\n",
      "random_integers      Uniformly distributed integers in a given range.\n",
      "                     (deprecated, use ``integers(..., closed=True)`` instead)\n",
      "random_sample        Alias for `random_sample`\n",
      "randint              Uniformly distributed integers in a given range\n",
      "seed                 Seed the legacy random number generator.\n",
      "==================== =========================================================\n",
      "\n",
      "==================== =========================================================\n",
      "Univariate\n",
      "distributions\n",
      "-------------------- ---------------------------------------------------------\n",
      "beta                 Beta distribution over ``[0, 1]``.\n",
      "binomial             Binomial distribution.\n",
      "chisquare            :math:`\\chi^2` distribution.\n",
      "exponential          Exponential distribution.\n",
      "f                    F (Fisher-Snedecor) distribution.\n",
      "gamma                Gamma distribution.\n",
      "geometric            Geometric distribution.\n",
      "gumbel               Gumbel distribution.\n",
      "hypergeometric       Hypergeometric distribution.\n",
      "laplace              Laplace distribution.\n",
      "logistic             Logistic distribution.\n",
      "lognormal            Log-normal distribution.\n",
      "logseries            Logarithmic series distribution.\n",
      "negative_binomial    Negative binomial distribution.\n",
      "noncentral_chisquare Non-central chi-square distribution.\n",
      "noncentral_f         Non-central F distribution.\n",
      "normal               Normal / Gaussian distribution.\n",
      "pareto               Pareto distribution.\n",
      "poisson              Poisson distribution.\n",
      "power                Power distribution.\n",
      "rayleigh             Rayleigh distribution.\n",
      "triangular           Triangular distribution.\n",
      "uniform              Uniform distribution.\n",
      "vonmises             Von Mises circular distribution.\n",
      "wald                 Wald (inverse Gaussian) distribution.\n",
      "weibull              Weibull distribution.\n",
      "zipf                 Zipf's distribution over ranked data.\n",
      "==================== =========================================================\n",
      "\n",
      "==================== ==========================================================\n",
      "Multivariate\n",
      "distributions\n",
      "-------------------- ----------------------------------------------------------\n",
      "dirichlet            Multivariate generalization of Beta distribution.\n",
      "multinomial          Multivariate generalization of the binomial distribution.\n",
      "multivariate_normal  Multivariate generalization of the normal distribution.\n",
      "==================== ==========================================================\n",
      "\n",
      "==================== =========================================================\n",
      "Standard\n",
      "distributions\n",
      "-------------------- ---------------------------------------------------------\n",
      "standard_cauchy      Standard Cauchy-Lorentz distribution.\n",
      "standard_exponential Standard exponential distribution.\n",
      "standard_gamma       Standard Gamma distribution.\n",
      "standard_normal      Standard normal distribution.\n",
      "standard_t           Standard Student's t-distribution.\n",
      "==================== =========================================================\n",
      "\n",
      "==================== =========================================================\n",
      "Internal functions\n",
      "-------------------- ---------------------------------------------------------\n",
      "get_state            Get tuple representing internal state of generator.\n",
      "set_state            Set state of generator.\n",
      "==================== ========================================================="
     ]
    }
   ],
   "source": [
    "np.random?  #this is a module, which is a file containing methods/functions"
   ]
  },
  {
   "cell_type": "code",
   "execution_count": 65,
   "metadata": {},
   "outputs": [
    {
     "data": {
      "text/plain": [
       "['BitGenerator',\n",
       " 'Generator',\n",
       " 'MT19937',\n",
       " 'PCG64',\n",
       " 'PCG64DXSM',\n",
       " 'Philox',\n",
       " 'RandomState',\n",
       " 'SFC64',\n",
       " 'SeedSequence',\n",
       " '__RandomState_ctor',\n",
       " '__all__',\n",
       " '__builtins__',\n",
       " '__cached__',\n",
       " '__doc__',\n",
       " '__file__',\n",
       " '__loader__',\n",
       " '__name__',\n",
       " '__package__',\n",
       " '__path__',\n",
       " '__spec__',\n",
       " '_bounded_integers',\n",
       " '_common',\n",
       " '_generator',\n",
       " '_mt19937',\n",
       " '_pcg64',\n",
       " '_philox',\n",
       " '_pickle',\n",
       " '_sfc64',\n",
       " 'beta',\n",
       " 'binomial',\n",
       " 'bit_generator',\n",
       " 'bytes',\n",
       " 'chisquare',\n",
       " 'choice',\n",
       " 'default_rng',\n",
       " 'dirichlet',\n",
       " 'exponential',\n",
       " 'f',\n",
       " 'gamma',\n",
       " 'geometric',\n",
       " 'get_bit_generator',\n",
       " 'get_state',\n",
       " 'gumbel',\n",
       " 'hypergeometric',\n",
       " 'laplace',\n",
       " 'logistic',\n",
       " 'lognormal',\n",
       " 'logseries',\n",
       " 'mtrand',\n",
       " 'multinomial',\n",
       " 'multivariate_normal',\n",
       " 'negative_binomial',\n",
       " 'noncentral_chisquare',\n",
       " 'noncentral_f',\n",
       " 'normal',\n",
       " 'pareto',\n",
       " 'permutation',\n",
       " 'poisson',\n",
       " 'power',\n",
       " 'rand',\n",
       " 'randint',\n",
       " 'randn',\n",
       " 'random',\n",
       " 'random_integers',\n",
       " 'random_sample',\n",
       " 'ranf',\n",
       " 'rayleigh',\n",
       " 'sample',\n",
       " 'seed',\n",
       " 'set_bit_generator',\n",
       " 'set_state',\n",
       " 'shuffle',\n",
       " 'standard_cauchy',\n",
       " 'standard_exponential',\n",
       " 'standard_gamma',\n",
       " 'standard_normal',\n",
       " 'standard_t',\n",
       " 'test',\n",
       " 'triangular',\n",
       " 'uniform',\n",
       " 'vonmises',\n",
       " 'wald',\n",
       " 'weibull',\n",
       " 'zipf']"
      ]
     },
     "execution_count": 65,
     "metadata": {},
     "output_type": "execute_result"
    }
   ],
   "source": [
    "dir(np.random)"
   ]
  },
  {
   "cell_type": "markdown",
   "metadata": {},
   "source": [
    "Main methods in np.random used to generate random numbers are:\n",
    "```\n",
    "rand #uniform distribution\n",
    "randint\n",
    "randn #normal (bell curve) distribution\n",
    "random\n",
    " ```"
   ]
  },
  {
   "cell_type": "code",
   "execution_count": 66,
   "metadata": {},
   "outputs": [
    {
     "name": "stdout",
     "output_type": "stream",
     "text": [
      "\u001b[0;31mDocstring:\u001b[0m\n",
      "rand(d0, d1, ..., dn)\n",
      "\n",
      "Random values in a given shape.\n",
      "\n",
      ".. note::\n",
      "    This is a convenience function for users porting code from Matlab,\n",
      "    and wraps `random_sample`. That function takes a\n",
      "    tuple to specify the size of the output, which is consistent with\n",
      "    other NumPy functions like `numpy.zeros` and `numpy.ones`.\n",
      "\n",
      "Create an array of the given shape and populate it with\n",
      "random samples from a uniform distribution\n",
      "over ``[0, 1)``.\n",
      "\n",
      "Parameters\n",
      "----------\n",
      "d0, d1, ..., dn : int, optional\n",
      "    The dimensions of the returned array, must be non-negative.\n",
      "    If no argument is given a single Python float is returned.\n",
      "\n",
      "Returns\n",
      "-------\n",
      "out : ndarray, shape ``(d0, d1, ..., dn)``\n",
      "    Random values.\n",
      "\n",
      "See Also\n",
      "--------\n",
      "random\n",
      "\n",
      "Examples\n",
      "--------\n",
      ">>> np.random.rand(3,2)\n",
      "array([[ 0.14022471,  0.96360618],  #random\n",
      "       [ 0.37601032,  0.25528411],  #random\n",
      "       [ 0.49313049,  0.94909878]]) #random\n",
      "\u001b[0;31mType:\u001b[0m      builtin_function_or_method"
     ]
    }
   ],
   "source": [
    "np.random.rand?"
   ]
  },
  {
   "cell_type": "code",
   "execution_count": 67,
   "metadata": {},
   "outputs": [
    {
     "data": {
      "text/plain": [
       "array([[0.8232211 , 0.75570762, 0.81965661],\n",
       "       [0.40547578, 0.92177042, 0.07503891]])"
      ]
     },
     "execution_count": 67,
     "metadata": {},
     "output_type": "execute_result"
    }
   ],
   "source": [
    "np.random.rand(2,3)"
   ]
  },
  {
   "cell_type": "code",
   "execution_count": 68,
   "metadata": {},
   "outputs": [
    {
     "name": "stdout",
     "output_type": "stream",
     "text": [
      "\u001b[0;31mDocstring:\u001b[0m\n",
      "randint(low, high=None, size=None, dtype=int)\n",
      "\n",
      "Return random integers from `low` (inclusive) to `high` (exclusive).\n",
      "\n",
      "Return random integers from the \"discrete uniform\" distribution of\n",
      "the specified dtype in the \"half-open\" interval [`low`, `high`). If\n",
      "`high` is None (the default), then results are from [0, `low`).\n",
      "\n",
      ".. note::\n",
      "    New code should use the `~numpy.random.Generator.integers`\n",
      "    method of a `~numpy.random.Generator` instance instead;\n",
      "    please see the :ref:`random-quick-start`.\n",
      "\n",
      "Parameters\n",
      "----------\n",
      "low : int or array-like of ints\n",
      "    Lowest (signed) integers to be drawn from the distribution (unless\n",
      "    ``high=None``, in which case this parameter is one above the\n",
      "    *highest* such integer).\n",
      "high : int or array-like of ints, optional\n",
      "    If provided, one above the largest (signed) integer to be drawn\n",
      "    from the distribution (see above for behavior if ``high=None``).\n",
      "    If array-like, must contain integer values\n",
      "size : int or tuple of ints, optional\n",
      "    Output shape.  If the given shape is, e.g., ``(m, n, k)``, then\n",
      "    ``m * n * k`` samples are drawn.  Default is None, in which case a\n",
      "    single value is returned.\n",
      "dtype : dtype, optional\n",
      "    Desired dtype of the result. Byteorder must be native.\n",
      "    The default value is int.\n",
      "\n",
      "    .. versionadded:: 1.11.0\n",
      "\n",
      "Returns\n",
      "-------\n",
      "out : int or ndarray of ints\n",
      "    `size`-shaped array of random integers from the appropriate\n",
      "    distribution, or a single such random int if `size` not provided.\n",
      "\n",
      "See Also\n",
      "--------\n",
      "random_integers : similar to `randint`, only for the closed\n",
      "    interval [`low`, `high`], and 1 is the lowest value if `high` is\n",
      "    omitted.\n",
      "random.Generator.integers: which should be used for new code.\n",
      "\n",
      "Examples\n",
      "--------\n",
      ">>> np.random.randint(2, size=10)\n",
      "array([1, 0, 0, 0, 1, 1, 0, 0, 1, 0]) # random\n",
      ">>> np.random.randint(1, size=10)\n",
      "array([0, 0, 0, 0, 0, 0, 0, 0, 0, 0])\n",
      "\n",
      "Generate a 2 x 4 array of ints between 0 and 4, inclusive:\n",
      "\n",
      ">>> np.random.randint(5, size=(2, 4))\n",
      "array([[4, 0, 2, 1], # random\n",
      "       [3, 2, 2, 0]])\n",
      "\n",
      "Generate a 1 x 3 array with 3 different upper bounds\n",
      "\n",
      ">>> np.random.randint(1, [3, 5, 10])\n",
      "array([2, 2, 9]) # random\n",
      "\n",
      "Generate a 1 by 3 array with 3 different lower bounds\n",
      "\n",
      ">>> np.random.randint([1, 5, 7], 10)\n",
      "array([9, 8, 7]) # random\n",
      "\n",
      "Generate a 2 by 4 array using broadcasting with dtype of uint8\n",
      "\n",
      ">>> np.random.randint([1, 3, 5, 7], [[10], [20]], dtype=np.uint8)\n",
      "array([[ 8,  6,  9,  7], # random\n",
      "       [ 1, 16,  9, 12]], dtype=uint8)\n",
      "\u001b[0;31mType:\u001b[0m      builtin_function_or_method"
     ]
    }
   ],
   "source": [
    "np.random.randint?"
   ]
  },
  {
   "cell_type": "code",
   "execution_count": 75,
   "metadata": {},
   "outputs": [
    {
     "name": "stdout",
     "output_type": "stream",
     "text": [
      "[[6 2 5]\n",
      " [5 5 5]\n",
      " [1 6 6]\n",
      " [1 3 0]\n",
      " [4 0 4]]\n"
     ]
    }
   ],
   "source": [
    "I=np.random.randint(0,10, (5,3)) # a 5 x 3 random array of integers from 0 to 10\n",
    "print(I)"
   ]
  },
  {
   "cell_type": "code",
   "execution_count": 76,
   "metadata": {},
   "outputs": [
    {
     "data": {
      "text/plain": [
       "array([[6, 2, 5],\n",
       "       [5, 5, 5]])"
      ]
     },
     "execution_count": 76,
     "metadata": {},
     "output_type": "execute_result"
    }
   ],
   "source": [
    "I[:2]  # rows 0, 1"
   ]
  },
  {
   "cell_type": "code",
   "execution_count": 78,
   "metadata": {},
   "outputs": [
    {
     "data": {
      "text/plain": [
       "array([[6, 2],\n",
       "       [5, 5],\n",
       "       [1, 6],\n",
       "       [1, 3],\n",
       "       [4, 0]])"
      ]
     },
     "execution_count": 78,
     "metadata": {},
     "output_type": "execute_result"
    }
   ],
   "source": [
    "I[:,:2]  #all rows, but only columns 0 and 1"
   ]
  },
  {
   "cell_type": "code",
   "execution_count": 82,
   "metadata": {},
   "outputs": [
    {
     "data": {
      "text/plain": [
       "array([[6, 2, 5],\n",
       "       [5, 5, 5]])"
      ]
     },
     "execution_count": 82,
     "metadata": {},
     "output_type": "execute_result"
    }
   ],
   "source": [
    "I[:2]"
   ]
  },
  {
   "cell_type": "code",
   "execution_count": 84,
   "metadata": {},
   "outputs": [
    {
     "name": "stdout",
     "output_type": "stream",
     "text": [
      "[[6 2 5]\n",
      " [5 5 5]]\n",
      "\n",
      "\n",
      "[[6 2 5]\n",
      " [5 5 5]]\n"
     ]
    }
   ],
   "source": [
    "print(I[:2][:3])\n",
    "print('\\n')\n",
    "print(I[:2, :3])"
   ]
  },
  {
   "cell_type": "markdown",
   "metadata": {},
   "source": [
    "# Plots\n",
    "\n",
    "\n",
    "Here are the main plotting commands:\n",
    "\n",
    "```\n",
    "import matplotlib.pyplot as plt\n",
    "\n",
    "plt.scatter  #scatter plot\n",
    "plt.plot #line plot\n",
    "plt.hist #histogram\n",
    "plt.pie #pie chart\n",
    "plt.bar #bar chart\n",
    "plt.barh #horizontal bar chart\n",
    "```\n",
    "\n",
    "```plt.show()``` is like ```print``` but for graphs"
   ]
  },
  {
   "cell_type": "code",
   "execution_count": 71,
   "metadata": {},
   "outputs": [
    {
     "data": {
      "text/plain": [
       "['Annotation',\n",
       " 'Arrow',\n",
       " 'Artist',\n",
       " 'AutoLocator',\n",
       " 'Axes',\n",
       " 'Button',\n",
       " 'Circle',\n",
       " 'Enum',\n",
       " 'ExitStack',\n",
       " 'Figure',\n",
       " 'FigureBase',\n",
       " 'FigureCanvasBase',\n",
       " 'FigureManagerBase',\n",
       " 'FixedFormatter',\n",
       " 'FixedLocator',\n",
       " 'FormatStrFormatter',\n",
       " 'Formatter',\n",
       " 'FuncFormatter',\n",
       " 'GridSpec',\n",
       " 'IndexLocator',\n",
       " 'Line2D',\n",
       " 'LinearLocator',\n",
       " 'Locator',\n",
       " 'LogFormatter',\n",
       " 'LogFormatterExponent',\n",
       " 'LogFormatterMathtext',\n",
       " 'LogLocator',\n",
       " 'MaxNLocator',\n",
       " 'MouseButton',\n",
       " 'MultipleLocator',\n",
       " 'Normalize',\n",
       " 'NullFormatter',\n",
       " 'NullLocator',\n",
       " 'Number',\n",
       " 'PolarAxes',\n",
       " 'Polygon',\n",
       " 'Rectangle',\n",
       " 'ScalarFormatter',\n",
       " 'Slider',\n",
       " 'Subplot',\n",
       " 'SubplotSpec',\n",
       " 'Text',\n",
       " 'TickHelper',\n",
       " 'Widget',\n",
       " '_REPL_DISPLAYHOOK',\n",
       " '_ReplDisplayHook',\n",
       " '__builtins__',\n",
       " '__cached__',\n",
       " '__doc__',\n",
       " '__file__',\n",
       " '__loader__',\n",
       " '__name__',\n",
       " '__package__',\n",
       " '__spec__',\n",
       " '_api',\n",
       " '_auto_draw_if_interactive',\n",
       " '_backend_mod',\n",
       " '_copy_docstring_and_deprecators',\n",
       " '_docstring',\n",
       " '_draw_all_if_interactive',\n",
       " '_get_backend_mod',\n",
       " '_get_pyplot_commands',\n",
       " '_get_required_interactive_framework',\n",
       " '_interactive_bk',\n",
       " '_log',\n",
       " '_pylab_helpers',\n",
       " '_warn_if_gui_out_of_main_thread',\n",
       " 'acorr',\n",
       " 'angle_spectrum',\n",
       " 'annotate',\n",
       " 'arrow',\n",
       " 'autoscale',\n",
       " 'autumn',\n",
       " 'axes',\n",
       " 'axhline',\n",
       " 'axhspan',\n",
       " 'axis',\n",
       " 'axline',\n",
       " 'axvline',\n",
       " 'axvspan',\n",
       " 'bar',\n",
       " 'bar_label',\n",
       " 'barbs',\n",
       " 'barh',\n",
       " 'bone',\n",
       " 'box',\n",
       " 'boxplot',\n",
       " 'broken_barh',\n",
       " 'cbook',\n",
       " 'cla',\n",
       " 'clabel',\n",
       " 'clf',\n",
       " 'clim',\n",
       " 'close',\n",
       " 'cm',\n",
       " 'cohere',\n",
       " 'color_sequences',\n",
       " 'colorbar',\n",
       " 'colormaps',\n",
       " 'connect',\n",
       " 'contour',\n",
       " 'contourf',\n",
       " 'cool',\n",
       " 'copper',\n",
       " 'csd',\n",
       " 'cycler',\n",
       " 'delaxes',\n",
       " 'disconnect',\n",
       " 'draw',\n",
       " 'draw_all',\n",
       " 'draw_if_interactive',\n",
       " 'errorbar',\n",
       " 'eventplot',\n",
       " 'figaspect',\n",
       " 'figimage',\n",
       " 'figlegend',\n",
       " 'fignum_exists',\n",
       " 'figtext',\n",
       " 'figure',\n",
       " 'fill',\n",
       " 'fill_between',\n",
       " 'fill_betweenx',\n",
       " 'findobj',\n",
       " 'flag',\n",
       " 'functools',\n",
       " 'gca',\n",
       " 'gcf',\n",
       " 'gci',\n",
       " 'get',\n",
       " 'get_backend',\n",
       " 'get_cmap',\n",
       " 'get_current_fig_manager',\n",
       " 'get_figlabels',\n",
       " 'get_fignums',\n",
       " 'get_plot_commands',\n",
       " 'get_scale_names',\n",
       " 'getp',\n",
       " 'ginput',\n",
       " 'gray',\n",
       " 'grid',\n",
       " 'hexbin',\n",
       " 'hist',\n",
       " 'hist2d',\n",
       " 'hlines',\n",
       " 'hot',\n",
       " 'hsv',\n",
       " 'importlib',\n",
       " 'imread',\n",
       " 'imsave',\n",
       " 'imshow',\n",
       " 'inferno',\n",
       " 'inspect',\n",
       " 'install_repl_displayhook',\n",
       " 'interactive',\n",
       " 'ioff',\n",
       " 'ion',\n",
       " 'isinteractive',\n",
       " 'jet',\n",
       " 'legend',\n",
       " 'locator_params',\n",
       " 'logging',\n",
       " 'loglog',\n",
       " 'magma',\n",
       " 'magnitude_spectrum',\n",
       " 'margins',\n",
       " 'matplotlib',\n",
       " 'matshow',\n",
       " 'minorticks_off',\n",
       " 'minorticks_on',\n",
       " 'mlab',\n",
       " 'new_figure_manager',\n",
       " 'nipy_spectral',\n",
       " 'np',\n",
       " 'pause',\n",
       " 'pcolor',\n",
       " 'pcolormesh',\n",
       " 'phase_spectrum',\n",
       " 'pie',\n",
       " 'pink',\n",
       " 'plasma',\n",
       " 'plot',\n",
       " 'plot_date',\n",
       " 'polar',\n",
       " 'prism',\n",
       " 'psd',\n",
       " 'quiver',\n",
       " 'quiverkey',\n",
       " 'rc',\n",
       " 'rcParams',\n",
       " 'rcParamsDefault',\n",
       " 'rcParamsOrig',\n",
       " 'rc_context',\n",
       " 'rcdefaults',\n",
       " 'rcsetup',\n",
       " 're',\n",
       " 'register_cmap',\n",
       " 'rgrids',\n",
       " 'savefig',\n",
       " 'sca',\n",
       " 'scatter',\n",
       " 'sci',\n",
       " 'semilogx',\n",
       " 'semilogy',\n",
       " 'set_cmap',\n",
       " 'set_loglevel',\n",
       " 'setp',\n",
       " 'show',\n",
       " 'specgram',\n",
       " 'spring',\n",
       " 'spy',\n",
       " 'stackplot',\n",
       " 'stairs',\n",
       " 'stem',\n",
       " 'step',\n",
       " 'streamplot',\n",
       " 'style',\n",
       " 'subplot',\n",
       " 'subplot2grid',\n",
       " 'subplot_mosaic',\n",
       " 'subplot_tool',\n",
       " 'subplots',\n",
       " 'subplots_adjust',\n",
       " 'summer',\n",
       " 'suptitle',\n",
       " 'switch_backend',\n",
       " 'sys',\n",
       " 'table',\n",
       " 'text',\n",
       " 'thetagrids',\n",
       " 'threading',\n",
       " 'tick_params',\n",
       " 'ticklabel_format',\n",
       " 'tight_layout',\n",
       " 'time',\n",
       " 'title',\n",
       " 'tricontour',\n",
       " 'tricontourf',\n",
       " 'tripcolor',\n",
       " 'triplot',\n",
       " 'twinx',\n",
       " 'twiny',\n",
       " 'uninstall_repl_displayhook',\n",
       " 'violinplot',\n",
       " 'viridis',\n",
       " 'vlines',\n",
       " 'waitforbuttonpress',\n",
       " 'winter',\n",
       " 'xcorr',\n",
       " 'xkcd',\n",
       " 'xlabel',\n",
       " 'xlim',\n",
       " 'xscale',\n",
       " 'xticks',\n",
       " 'ylabel',\n",
       " 'ylim',\n",
       " 'yscale',\n",
       " 'yticks']"
      ]
     },
     "execution_count": 71,
     "metadata": {},
     "output_type": "execute_result"
    }
   ],
   "source": [
    "dir(plt)"
   ]
  },
  {
   "cell_type": "markdown",
   "metadata": {},
   "source": []
  },
  {
   "cell_type": "code",
   "execution_count": 88,
   "metadata": {},
   "outputs": [
    {
     "name": "stdout",
     "output_type": "stream",
     "text": [
      "[ 1.28030292e+00 -5.93902322e-02 -1.44939113e+00  2.25426633e-01\n",
      "  3.58096145e-01 -1.02071646e+00  3.61749150e-01  8.77376257e-01\n",
      " -9.23506460e-01  5.23485386e-01  1.29470242e+00 -3.27856947e-01\n",
      " -8.58683561e-02  3.31835498e-01  4.04253032e-03 -2.13903326e+00\n",
      " -5.68364384e-01 -1.10842971e+00 -8.73259617e-01 -1.08444758e+00\n",
      "  3.35842762e-01 -2.22238962e-01 -1.81050238e+00  1.66140096e-01\n",
      " -5.01194187e-01 -7.78392226e-01  1.04206257e+00  1.15417648e-01\n",
      "  3.63976539e-01 -1.88322971e-01 -1.79780702e+00 -1.69407920e+00\n",
      "  6.57858848e-01  4.23531083e-01  5.55668200e-01 -1.10410172e+00\n",
      "  2.75632582e-01 -9.73658377e-02 -8.97198983e-01 -2.44680866e-01\n",
      "  1.38466657e+00  2.60465277e-01 -1.12393090e+00 -1.50763337e-01\n",
      "  1.79493434e+00  4.14254144e-01 -1.19395101e+00 -6.47399894e-01\n",
      " -1.40495891e+00 -1.07958237e+00  1.77835514e+00  1.03652863e+00\n",
      " -1.70318627e-01 -2.00396238e-01  7.49932134e-01 -1.37636669e+00\n",
      "  6.14330962e-01  7.68873764e-01 -6.93544612e-02 -1.52459897e-01\n",
      "  7.70310962e-01  9.39735422e-01  2.71027679e+00  2.71680726e-01\n",
      " -8.17096219e-01 -1.29082707e-01 -1.09709151e+00 -1.57694648e+00\n",
      "  5.07514763e-01  3.08244595e-01 -2.48418452e-01  1.15875280e-01\n",
      " -5.04198829e-01  1.05246778e+00 -1.15378321e-01 -3.75008848e-01\n",
      " -4.61739602e-01 -4.05503481e-01  7.23664710e-01  2.04071680e-02\n",
      "  1.80506977e+00  1.62864328e+00  4.81377549e-02 -4.44522013e-01\n",
      "  1.75908028e+00 -1.22860579e+00  1.47612044e+00 -6.01380614e-01\n",
      "  1.62778312e-01 -6.61757879e-01 -7.66896861e-01 -1.85525187e+00\n",
      "  9.25609210e-01  1.19972074e+00  2.87300494e-01 -5.02954333e-01\n",
      "  9.60580795e-01 -6.94506465e-01  1.74516692e+00  3.38082642e-01\n",
      "  8.98883430e-01 -1.19832129e-01 -2.97500721e-01 -1.60256705e-01\n",
      "  2.23911874e+00 -6.48109793e-01  1.16845533e-01 -5.23272359e-01\n",
      " -7.77096701e-01  2.82404437e-01  1.14723647e+00 -7.27135278e-02\n",
      " -8.32304485e-04 -5.67111346e-01 -7.59538082e-01 -1.73050434e+00\n",
      "  1.55009253e+00 -5.40676425e-01 -3.76399349e-01  2.30961376e+00\n",
      "  2.71112513e-02 -2.08754802e-03 -5.54288498e-01 -5.11741762e-01\n",
      "  1.42237361e+00  1.07137391e+00 -5.20409367e-01 -1.83968766e+00\n",
      " -5.38421287e-01  1.11550118e+00 -1.13510437e+00  9.76098965e-01\n",
      " -1.19517147e+00 -1.61850150e+00 -1.21688149e+00 -9.31277834e-01\n",
      " -6.96217574e-01 -5.58930864e-01  3.09497847e-01  7.73014847e-01\n",
      "  1.17035000e+00 -1.37661982e+00  4.29522911e-01 -2.95386816e-01\n",
      " -7.88581969e-02  4.24456579e-02 -1.05282371e+00 -1.46994066e+00\n",
      "  1.56114588e+00  6.96581986e-01 -3.70263725e-01  9.95459053e-01\n",
      " -6.70880447e-01  1.21926983e+00 -7.79969932e-01  4.59872165e-01\n",
      " -2.66940497e-02 -1.21684264e+00  2.91088000e-02  1.85120774e-01\n",
      "  2.70368479e-01 -3.74655538e-01 -1.19298423e+00 -6.27791084e-01\n",
      "  6.85796091e-01 -7.88778880e-01 -1.44837972e-01 -1.57106867e+00\n",
      " -2.34022817e+00 -1.04041947e+00 -8.96677430e-01 -1.30173306e+00\n",
      "  8.92395382e-02  1.02320354e+00  8.69240688e-02  1.21648438e+00\n",
      " -4.06468185e-01  9.99100285e-01  1.44798761e+00  2.07972091e+00\n",
      " -1.79459432e-01 -9.87234005e-01 -1.86154604e+00  2.31578068e+00\n",
      " -1.31676030e-02 -3.05730953e-01  9.62640581e-01 -2.81546910e-01\n",
      "  6.88093135e-01  6.32829511e-01 -4.98024493e-01  7.90467107e-01\n",
      " -3.48828397e-01  3.93197122e-01 -3.26381114e-01  4.74183148e-01\n",
      " -1.25185254e+00  9.61682319e-01  3.92096269e-01 -6.85291776e-01\n",
      "  7.94495370e-01  1.12615420e+00 -2.44276337e-01  6.17291710e-01\n",
      "  9.72877552e-01 -1.39032291e+00 -2.03894894e-01 -1.12782440e-01\n",
      " -7.58836296e-01 -7.92531116e-02 -6.10479837e-01  5.55338389e-02\n",
      " -2.49408481e-01 -2.66951136e+00  2.64145407e-01 -8.87677904e-01\n",
      "  8.16527506e-01  1.53317029e+00 -3.12326543e-01 -2.73926654e-01\n",
      "  5.90351969e-02 -1.28379789e+00 -5.37995301e-01  9.37491930e-01\n",
      " -1.41190681e+00  1.18191230e+00 -6.77449148e-01 -8.37618661e-01\n",
      " -3.48640969e-01 -1.02482599e+00  1.13228458e+00 -5.74079707e-01\n",
      " -1.86244896e-02  3.39292929e-01  1.21633253e+00 -2.02017009e+00\n",
      " -4.17224129e-02 -8.07739010e-01  1.05871315e+00  1.03714447e+00\n",
      "  1.61484306e+00  2.47764521e-01 -8.44475557e-01  1.22394538e+00\n",
      "  2.17976259e-01  2.06837144e-01  1.51424772e+00  1.06053978e+00\n",
      "  1.19600455e+00  1.87283240e+00 -1.71708983e-01  9.70743992e-01\n",
      " -7.10769943e-02 -1.37375351e+00  1.85249601e+00  6.90638268e-01\n",
      "  3.85346988e-01 -7.77130292e-01 -3.87294182e-01  1.69055167e+00\n",
      "  7.35580356e-01 -8.73764080e-01  1.74211171e+00  4.71806693e-01\n",
      " -7.22132285e-01 -1.25460436e-01 -1.21497800e+00 -3.01456150e-01\n",
      " -1.99481019e+00  5.44590742e-02 -1.91806734e-01 -4.85810886e-01\n",
      " -3.38457487e-01  2.04718665e-01  3.29172925e-01  6.28121927e-01\n",
      "  9.35335733e-01  3.90608902e-01 -5.51330408e-01  1.39818881e+00\n",
      "  1.61291257e+00 -6.21923364e-01  1.87821341e-01  4.23221835e-01\n",
      "  1.10407682e+00 -1.22804396e+00 -2.72822442e-02 -1.03502488e-01\n",
      "  3.45197550e+00 -1.34617199e-01  5.01188922e-01  6.03616229e-01\n",
      " -7.75544652e-02 -3.97213500e-02  5.15260604e-01 -1.04863927e+00\n",
      " -1.55706267e+00  1.64958414e+00  1.16818018e+00  3.09691205e-01\n",
      " -1.49267394e+00  6.43306032e-01  1.30394172e+00  1.39468832e+00\n",
      "  3.06719926e-01 -1.48984402e+00  1.59392616e+00 -1.54465659e+00\n",
      "  1.25026148e+00  3.11498604e-01  4.89339708e-01 -5.48156899e-02\n",
      "  3.63229418e-01  1.15034107e+00  1.08848996e+00  5.76289900e-01\n",
      " -2.00262234e+00 -5.07701688e-01 -1.90658161e-01  9.76069127e-01\n",
      " -4.22687929e-01  1.12514177e+00  4.12401236e-01 -1.41613146e+00\n",
      "  7.13746667e-01 -1.39147198e+00  2.77334981e+00 -9.77533409e-02\n",
      "  2.04373081e-01 -1.22389749e+00 -4.18253367e-01  1.50116823e+00\n",
      "  1.74722863e+00 -1.89970126e+00 -2.12663581e-01 -1.35051481e+00\n",
      "  9.39968571e-02 -6.76959017e-01 -1.15824943e+00 -5.17065253e-01\n",
      "  1.36452820e+00 -3.76784382e-01  6.91733391e-01 -1.58742469e+00\n",
      "  6.47423641e-01  4.40166365e-02  8.44963431e-01  8.13954194e-02\n",
      " -1.42568994e+00 -8.25014681e-01 -5.99865008e-01 -5.49877390e-01\n",
      " -5.26119704e-01  1.20226182e-01 -1.10972623e+00  3.30435220e-01\n",
      " -1.09149491e-01 -4.83405305e-01 -7.45693960e-01  9.75727215e-01\n",
      " -5.59403934e-01 -4.28720908e-01  8.59983999e-01 -1.83302981e+00\n",
      " -1.16077875e+00  1.36660341e-01 -1.07762408e-01  2.74207312e-01\n",
      " -1.82690698e+00  3.82777839e-01  1.69350054e+00 -4.85438272e-01\n",
      " -8.53064756e-01  2.55559661e+00  5.72346409e-01 -1.38589424e+00\n",
      " -1.27644122e+00  5.20171363e-01 -6.03019790e-01  7.88607178e-01\n",
      "  9.67526439e-02  1.37253266e+00  1.12438577e+00  1.58741820e+00\n",
      "  5.28911319e-01  2.75661297e-01 -5.33400238e-01 -1.56067559e+00\n",
      "  4.41068639e-01  7.63069585e-01 -1.72505125e-01 -1.30243080e+00\n",
      "  1.35651470e+00 -6.42862949e-01 -5.65108335e-01  2.26670988e-01\n",
      " -8.85499019e-01  4.38724916e-01 -8.67095899e-01  1.49400552e+00\n",
      " -2.36672454e-01  7.94299964e-01  1.27401859e+00  2.27376928e-01\n",
      "  6.38091536e-01 -2.08319338e+00 -1.77179660e+00  1.00905041e+00\n",
      " -1.44503914e-01 -5.07993237e-01  4.00033795e-01  1.52213629e-01\n",
      "  1.61629466e+00 -1.09816101e-01  3.44739506e-01 -1.50104393e+00\n",
      " -1.45916038e+00 -5.50704753e-01  9.07471977e-01 -9.99908840e-01\n",
      " -6.87189938e-01 -1.06521320e+00 -7.46330883e-01 -8.34865481e-01\n",
      "  9.60789509e-02 -1.51146228e+00 -1.69181258e+00 -2.85461222e-01\n",
      " -2.15022835e+00 -4.91015705e-01 -4.07895414e-01 -1.70435083e-01\n",
      "  9.39609933e-01  9.80236026e-01  4.59697840e-01 -1.05989728e+00\n",
      " -5.93019926e-02  1.69875517e-01 -3.75586478e-01  1.92036355e-01\n",
      " -5.51602955e-01  7.72365923e-01 -1.01576975e+00  6.63865905e-01\n",
      " -8.31900013e-01 -8.54917283e-01  1.79558295e+00 -1.71026885e+00\n",
      "  2.20448156e-01  2.02700075e-01  6.81253086e-01  9.87444337e-01\n",
      "  6.04998251e-01 -1.36156211e+00  1.46996316e+00 -1.49564234e-01\n",
      " -3.15473227e-01 -1.04156294e-01 -1.34294375e+00 -1.17260915e+00\n",
      "  4.60002943e-01  8.39385844e-03 -1.64091020e-01  1.05387830e+00\n",
      " -3.92969224e-01  1.85394279e+00  4.03300225e-01  5.93914174e-02\n",
      " -2.26534254e-01  8.41454838e-02  1.09117334e+00 -1.14959211e+00\n",
      "  1.86332392e-01 -2.44449800e-01  1.39140271e+00  3.43248771e-02\n",
      "  4.67760875e-01 -3.34984845e-01 -9.31783362e-02  8.74026170e-01\n",
      "  1.61500445e-01 -7.05239064e-01  5.68185860e-01  2.03263072e+00\n",
      " -5.63953866e-01  3.42122522e-01 -1.95023585e+00  1.11039330e-01\n",
      " -1.23640032e+00  1.22847681e+00  2.65547475e-01 -1.60081226e+00\n",
      " -1.91716072e+00 -2.46964837e+00  1.67123175e-01 -1.03258306e+00\n",
      " -1.15656128e-01 -1.01193404e+00 -7.63761718e-01  6.90804095e-01\n",
      " -1.40913930e+00  6.59946855e-01 -2.77095307e-01 -1.13297429e+00\n",
      "  2.92244046e-01  7.65232839e-02 -6.28622415e-01 -1.21593670e+00\n",
      " -2.77085335e-01 -1.08025976e+00  1.44805089e+00 -7.66174748e-01\n",
      " -1.60997150e-01  1.51132847e-01 -1.10040122e+00  1.19067359e-01\n",
      " -3.88734215e-02  2.30948999e-01 -8.97635860e-01 -7.86944375e-01\n",
      " -1.80237147e+00  1.17757487e+00  2.43476499e-01 -1.19781254e-02\n",
      "  1.87001963e-02 -8.83141822e-01  2.47263985e-01  1.05751459e+00\n",
      "  1.90754520e-01 -2.47942070e-01 -1.58314537e+00  6.47504438e-01\n",
      "  5.87537940e-01 -4.22481602e-01  9.48692767e-01  1.23884611e-01\n",
      " -7.13272903e-01  1.19051054e+00 -1.58741609e+00  7.68529459e-02\n",
      "  7.21204884e-02  3.06426123e-01 -1.50370998e+00 -1.17096172e+00\n",
      "  3.69250132e-02  5.47604429e-01  6.73936847e-01  6.45861040e-01\n",
      " -4.37159951e-01  1.93848014e+00 -5.18784304e-01 -4.33696222e-01\n",
      " -8.02767737e-01  6.67931153e-01 -2.00180796e+00  3.07080311e-01\n",
      " -1.87543759e+00 -4.91165897e-01 -1.54807516e+00  2.16529957e-01\n",
      " -3.43235556e-01  2.01999576e+00 -5.11934324e-01 -1.36354302e+00\n",
      "  1.23012091e+00 -4.59078618e-01 -5.37967515e-01  1.98343668e+00\n",
      " -6.78274031e-01  1.94416948e-01 -5.88943172e-01 -2.14765651e+00\n",
      "  4.98384998e-01 -3.76821195e-01  9.89426295e-01 -4.00962125e-03\n",
      " -8.31490415e-01  2.12242009e+00  2.36463299e+00  9.46838910e-01\n",
      " -3.91115080e-01  4.04481225e-01 -6.26534304e-01  4.93856531e-01\n",
      " -2.54537921e-01 -1.18954735e+00  2.33728561e-01  1.22748545e+00\n",
      " -1.25991535e+00  8.04672043e-02  1.14446079e+00 -2.01761514e-01\n",
      "  5.20180619e-01 -1.19899644e+00 -2.21241429e+00 -1.20042661e+00\n",
      "  1.11411225e-01  4.95629754e-01 -4.71568910e-01  1.19912022e+00\n",
      "  3.62838248e-02  4.56748995e-01 -1.09409509e+00  9.88644509e-02\n",
      "  7.22931446e-02 -1.28912747e-01  7.54299926e-01  1.13649890e+00\n",
      "  9.84342370e-01 -3.39255475e-01 -1.56644265e-01 -1.33333995e+00\n",
      "  3.97693271e-01 -2.14653358e-01  1.12707243e+00 -2.54110475e+00\n",
      "  9.64613843e-01  3.16035722e-01  1.24097489e+00  8.38537431e-01\n",
      "  1.34033591e+00  1.24763826e+00  5.57078541e-01  3.18438065e-03\n",
      " -1.85978692e+00  7.95939324e-02  2.90232005e+00 -1.35724762e+00\n",
      "  7.92107067e-01 -5.78431117e-01 -5.32731082e-01 -2.19458095e-01\n",
      " -5.76187228e-01  1.72662210e-01  1.46879880e+00  3.16586231e-01\n",
      "  1.97455260e-01  4.81455687e-01  1.03641456e+00  5.57579688e-01\n",
      " -1.59645712e+00  3.66163014e-01 -5.15389634e-01 -1.20697529e+00\n",
      "  2.64880073e+00  4.19311213e-01 -1.08891427e+00  8.68347309e-01\n",
      "  2.78193260e-01  8.81921015e-01  7.58547578e-01  1.25722567e-01\n",
      " -2.10924291e+00  1.80250480e-02 -6.32693553e-01 -8.63377699e-01\n",
      " -1.03439245e-02  1.45490275e+00  1.62020359e+00  2.59049185e-01\n",
      "  7.02850330e-01  1.16388402e-01  5.80551846e-02  6.84668106e-01\n",
      " -2.06421213e-02  1.63765774e+00  8.65087987e-01 -2.13977801e+00\n",
      " -8.73593071e-01  4.66806210e-01  1.60041635e+00 -6.17567029e-01\n",
      " -1.57349567e+00  4.39494648e-01 -1.87576287e-01  6.91644891e-01\n",
      " -2.05607834e-01 -1.61592929e+00  9.01364461e-01 -6.36526162e-01\n",
      " -1.45814283e+00 -1.77287142e-01  9.58988604e-01  1.57122399e+00\n",
      "  5.26615575e-01  1.22972725e+00 -3.12439107e-01  2.62817476e-01\n",
      "  1.69908398e+00  5.24394387e-02 -4.18897184e-01  4.43821866e-01\n",
      " -1.69286411e-01 -4.75454737e-01  1.28417841e+00  2.01045503e+00\n",
      " -1.68958263e+00 -2.55394743e+00  1.87566259e+00  2.52097390e+00\n",
      " -4.42250124e-01  6.16897917e-01  6.10990454e-01 -1.37161546e+00\n",
      "  6.11016323e-01 -2.63509161e+00  2.74503634e-01 -8.85320092e-01\n",
      " -1.25305111e+00  3.60796689e-01 -1.61076697e+00 -2.18170599e-01\n",
      " -7.62308446e-01  9.31737346e-01 -1.36361058e+00  6.57445638e-01\n",
      "  4.47906248e-01 -6.44362332e-01  8.66865937e-01 -2.47002946e-01\n",
      " -1.79348577e-01  8.91629109e-01 -1.65522378e+00 -1.65369003e+00\n",
      "  8.04560125e-02  8.16709261e-01  1.11212248e-01  1.91172669e+00\n",
      "  1.49273376e+00  9.45990296e-01 -1.02559285e+00  9.65362810e-02\n",
      " -8.16901943e-01  5.04820805e-01  2.09506338e+00  3.58928284e+00\n",
      "  1.63539481e-01 -7.01421126e-01 -3.46089227e-01  6.06908488e-01\n",
      " -1.08598441e+00  2.93726179e-01  1.35262646e+00  6.32447943e-01\n",
      "  6.52736328e-01  4.78030350e-01 -1.13707754e+00 -9.83260801e-01\n",
      "  8.17296736e-01 -3.40136317e-01  1.24415262e-02  1.46008844e-01\n",
      "  8.75921500e-02 -3.19784834e-01 -1.15393420e+00  1.15009542e+00\n",
      "  1.39014680e-01  1.54645649e+00  3.31652047e-01  1.47577065e+00\n",
      " -1.09977156e+00 -5.71514965e-01 -6.78288877e-01  1.59922333e+00\n",
      "  2.17810581e-01 -1.54281760e+00  1.23236247e+00  3.51153417e-01\n",
      "  3.71925272e-01 -5.69221755e-01 -7.45491811e-01 -2.72648943e-01\n",
      " -2.88719858e-01  7.31600432e-01 -9.66544962e-01 -2.09310117e-01\n",
      " -1.17989137e+00 -4.93472810e-01  5.41768914e-01  1.94785141e+00\n",
      " -1.01531128e+00  1.71497325e-01  6.91176318e-01 -1.23688494e+00\n",
      "  1.59962311e-01  6.99519078e-01 -3.56567669e-01  2.84578290e-01\n",
      "  6.22272009e-01 -1.33149621e+00 -9.58722859e-01 -1.39974427e+00\n",
      " -7.82106811e-01  2.11354004e+00 -4.12460025e-01 -5.69659649e-01\n",
      "  1.92738200e+00  3.51831784e-01 -3.03337166e-02 -4.16094961e-01\n",
      "  2.48279034e+00  1.79841440e+00  8.08197944e-01 -3.46874194e-01\n",
      " -2.76490872e-01 -1.01803278e+00  4.21965655e-01  2.07739621e+00\n",
      "  1.25420238e+00 -2.84504929e-01 -9.85384649e-01 -1.37221330e+00\n",
      " -5.81336192e-01 -6.19133870e-01 -7.89969219e-02  1.48326886e-02\n",
      " -4.45178734e-01 -2.99245605e-01 -8.75191289e-01 -2.39464418e+00\n",
      " -3.44371614e-01 -1.11328668e+00 -2.28188143e-01 -1.72139174e+00\n",
      "  1.00876795e-01 -3.68364289e-01 -1.08951828e+00 -7.35468589e-01\n",
      " -1.17997443e+00 -2.62402348e+00  6.30629371e-01 -3.01024015e-02\n",
      "  1.49735017e+00  3.78891169e-01 -8.32005581e-01  8.69533341e-01\n",
      " -1.10465200e+00 -5.98099528e-01 -6.18400559e-01  1.40481654e+00\n",
      " -8.42360757e-01 -1.05656486e+00 -2.26811238e-01 -1.36591539e-01\n",
      " -1.50292860e+00  6.53865328e-01 -1.59538491e+00 -1.14921104e+00\n",
      "  2.44705365e-01 -3.86248524e-01  1.33199969e+00  1.52463106e+00\n",
      "  1.30277356e+00 -5.42979230e-01 -1.91524896e+00  1.09635985e+00\n",
      "  4.78194699e-01  1.76925710e+00  4.17393952e-01  5.53053957e-01\n",
      "  1.36642036e+00  2.03094240e+00 -1.60469686e-01  2.95997896e-01\n",
      "  2.26786590e+00  1.30624383e+00 -3.29909121e-01  4.99130559e-01\n",
      "  6.68544008e-01  4.68754313e-02 -9.05265318e-02 -3.59786871e-01\n",
      " -1.38312917e-01  1.25203051e+00 -2.55960603e-01 -1.02099932e+00\n",
      " -1.26346176e+00  1.04954608e-01 -4.21596894e-01  2.08023536e-01\n",
      " -6.33103801e-01  9.09504594e-01 -6.11402664e-01 -2.27742685e-01\n",
      "  3.38652120e-02 -1.31567836e+00 -6.89602856e-01  9.23614783e-01\n",
      " -1.91317911e+00 -6.97031195e-01 -8.05018571e-01 -4.34530819e-01\n",
      "  5.38148517e-01  4.70309863e-02  1.27601647e+00  4.40572678e-01\n",
      "  4.74398041e-01  4.51285943e-01  5.28146023e-01  3.69034134e-01\n",
      "  1.09707216e+00 -2.68995980e-01  7.45731386e-01 -1.67738418e+00\n",
      " -5.75958336e-01  4.65382783e-02  1.10156675e+00 -1.36255844e+00\n",
      "  1.12418554e+00 -4.22257278e-01  3.03728859e-01 -1.40792880e+00\n",
      " -2.82972570e-01 -5.91078565e-01  1.24276513e-01  5.02675280e-01\n",
      "  1.95227428e+00  3.25414905e-03  4.41250410e-01 -6.13255021e-01\n",
      "  8.39369038e-01 -1.32247803e-01 -2.14156754e-01 -8.48991284e-01\n",
      "  9.57085991e-01 -5.23399053e-01  6.45647076e-01 -1.18465145e+00\n",
      "  1.09788744e+00 -2.77025155e+00  4.52554981e-02 -2.33230354e-01\n",
      "  1.51696335e+00  7.64514584e-01 -1.54352975e-01 -9.11248780e-01\n",
      "  8.78398759e-01  2.11999642e+00  3.75095044e-01  1.39541246e+00\n",
      " -6.87337529e-01  9.17559296e-01 -3.29734525e-01 -3.53696472e-01\n",
      "  1.88817246e+00 -2.49007698e-01  2.05072482e-01  4.79117057e-01\n",
      "  2.51317124e-01 -1.38140052e-01 -4.80646127e-01 -5.68651454e-01\n",
      " -6.86415372e-01  5.78505384e-01 -1.67074754e+00  1.75222719e+00\n",
      "  1.08017523e+00  1.27653100e+00 -5.01416416e-01 -6.56345186e-01\n",
      "  4.76948616e-01 -1.86677264e+00 -7.85177214e-01 -2.08083106e-01\n",
      " -9.17063037e-01  6.96436323e-01 -1.11646103e+00  1.35024678e+00\n",
      " -9.35557682e-01  9.02150542e-01 -2.61769806e-01 -1.05004614e+00\n",
      "  8.61843985e-01 -3.54512898e-01  1.83775073e+00 -3.60505354e-01\n",
      " -5.33820206e-01  1.93046842e+00  1.13982235e+00 -2.97150585e-01\n",
      " -7.71301282e-01  1.78927792e+00 -2.38307385e-01 -5.18077681e-02\n",
      "  1.93044618e-01 -4.68239748e-02 -1.31892702e+00  4.09891907e-01\n",
      "  1.10810711e+00  4.35999676e-01 -6.45560137e-01 -1.64318427e-01\n",
      "  2.41810853e+00  1.38161897e+00 -6.75556406e-01 -3.39340070e-01\n",
      "  4.47722968e-02  6.65595526e-01 -1.43610260e-01 -9.38935786e-01]\n"
     ]
    }
   ],
   "source": [
    "x=np.random.randn(1000) # 100 random numbers from the normal (bell curve) distribution\n",
    "print(x)"
   ]
  },
  {
   "cell_type": "code",
   "execution_count": 89,
   "metadata": {},
   "outputs": [
    {
     "data": {
      "text/plain": [
       "(array([ 14.,  54., 127., 223., 246., 178., 105.,  42.,   9.,   2.]),\n",
       " array([-2.77025155, -2.13429811, -1.49834467, -0.86239123, -0.22643779,\n",
       "         0.40951565,  1.04546909,  1.68142252,  2.31737596,  2.9533294 ,\n",
       "         3.58928284]),\n",
       " <BarContainer object of 10 artists>)"
      ]
     },
     "execution_count": 89,
     "metadata": {},
     "output_type": "execute_result"
    },
    {
     "data": {
      "image/png": "[encoded data removed]",
      "text/plain": [
       "<Figure size 640x480 with 1 Axes>"
      ]
     },
     "metadata": {},
     "output_type": "display_data"
    }
   ],
   "source": [
    "plt.hist(x)"
   ]
  },
  {
   "cell_type": "code",
   "execution_count": 90,
   "metadata": {},
   "outputs": [
    {
     "name": "stdout",
     "output_type": "stream",
     "text": [
      "\u001b[0;31mSignature:\u001b[0m\n",
      "\u001b[0mplt\u001b[0m\u001b[0;34m.\u001b[0m\u001b[0mhist\u001b[0m\u001b[0;34m(\u001b[0m\u001b[0;34m\u001b[0m\n",
      "\u001b[0;34m\u001b[0m    \u001b[0mx\u001b[0m\u001b[0;34m,\u001b[0m\u001b[0;34m\u001b[0m\n",
      "\u001b[0;34m\u001b[0m    \u001b[0mbins\u001b[0m\u001b[0;34m=\u001b[0m\u001b[0;32mNone\u001b[0m\u001b[0;34m,\u001b[0m\u001b[0;34m\u001b[0m\n",
      "\u001b[0;34m\u001b[0m    \u001b[0mrange\u001b[0m\u001b[0;34m=\u001b[0m\u001b[0;32mNone\u001b[0m\u001b[0;34m,\u001b[0m\u001b[0;34m\u001b[0m\n",
      "\u001b[0;34m\u001b[0m    \u001b[0mdensity\u001b[0m\u001b[0;34m=\u001b[0m\u001b[0;32mFalse\u001b[0m\u001b[0;34m,\u001b[0m\u001b[0;34m\u001b[0m\n",
      "\u001b[0;34m\u001b[0m    \u001b[0mweights\u001b[0m\u001b[0;34m=\u001b[0m\u001b[0;32mNone\u001b[0m\u001b[0;34m,\u001b[0m\u001b[0;34m\u001b[0m\n",
      "\u001b[0;34m\u001b[0m    \u001b[0mcumulative\u001b[0m\u001b[0;34m=\u001b[0m\u001b[0;32mFalse\u001b[0m\u001b[0;34m,\u001b[0m\u001b[0;34m\u001b[0m\n",
      "\u001b[0;34m\u001b[0m    \u001b[0mbottom\u001b[0m\u001b[0;34m=\u001b[0m\u001b[0;32mNone\u001b[0m\u001b[0;34m,\u001b[0m\u001b[0;34m\u001b[0m\n",
      "\u001b[0;34m\u001b[0m    \u001b[0mhisttype\u001b[0m\u001b[0;34m=\u001b[0m\u001b[0;34m'bar'\u001b[0m\u001b[0;34m,\u001b[0m\u001b[0;34m\u001b[0m\n",
      "\u001b[0;34m\u001b[0m    \u001b[0malign\u001b[0m\u001b[0;34m=\u001b[0m\u001b[0;34m'mid'\u001b[0m\u001b[0;34m,\u001b[0m\u001b[0;34m\u001b[0m\n",
      "\u001b[0;34m\u001b[0m    \u001b[0morientation\u001b[0m\u001b[0;34m=\u001b[0m\u001b[0;34m'vertical'\u001b[0m\u001b[0;34m,\u001b[0m\u001b[0;34m\u001b[0m\n",
      "\u001b[0;34m\u001b[0m    \u001b[0mrwidth\u001b[0m\u001b[0;34m=\u001b[0m\u001b[0;32mNone\u001b[0m\u001b[0;34m,\u001b[0m\u001b[0;34m\u001b[0m\n",
      "\u001b[0;34m\u001b[0m    \u001b[0mlog\u001b[0m\u001b[0;34m=\u001b[0m\u001b[0;32mFalse\u001b[0m\u001b[0;34m,\u001b[0m\u001b[0;34m\u001b[0m\n",
      "\u001b[0;34m\u001b[0m    \u001b[0mcolor\u001b[0m\u001b[0;34m=\u001b[0m\u001b[0;32mNone\u001b[0m\u001b[0;34m,\u001b[0m\u001b[0;34m\u001b[0m\n",
      "\u001b[0;34m\u001b[0m    \u001b[0mlabel\u001b[0m\u001b[0;34m=\u001b[0m\u001b[0;32mNone\u001b[0m\u001b[0;34m,\u001b[0m\u001b[0;34m\u001b[0m\n",
      "\u001b[0;34m\u001b[0m    \u001b[0mstacked\u001b[0m\u001b[0;34m=\u001b[0m\u001b[0;32mFalse\u001b[0m\u001b[0;34m,\u001b[0m\u001b[0;34m\u001b[0m\n",
      "\u001b[0;34m\u001b[0m    \u001b[0;34m*\u001b[0m\u001b[0;34m,\u001b[0m\u001b[0;34m\u001b[0m\n",
      "\u001b[0;34m\u001b[0m    \u001b[0mdata\u001b[0m\u001b[0;34m=\u001b[0m\u001b[0;32mNone\u001b[0m\u001b[0;34m,\u001b[0m\u001b[0;34m\u001b[0m\n",
      "\u001b[0;34m\u001b[0m    \u001b[0;34m**\u001b[0m\u001b[0mkwargs\u001b[0m\u001b[0;34m,\u001b[0m\u001b[0;34m\u001b[0m\n",
      "\u001b[0;34m\u001b[0m\u001b[0;34m)\u001b[0m\u001b[0;34m\u001b[0m\u001b[0;34m\u001b[0m\u001b[0m\n",
      "\u001b[0;31mDocstring:\u001b[0m\n",
      "Compute and plot a histogram.\n",
      "\n",
      "This method uses `numpy.histogram` to bin the data in *x* and count the\n",
      "number of values in each bin, then draws the distribution either as a\n",
      "`.BarContainer` or `.Polygon`. The *bins*, *range*, *density*, and\n",
      "*weights* parameters are forwarded to `numpy.histogram`.\n",
      "\n",
      "If the data has already been binned and counted, use `~.bar` or\n",
      "`~.stairs` to plot the distribution::\n",
      "\n",
      "    counts, bins = np.histogram(x)\n",
      "    plt.stairs(counts, bins)\n",
      "\n",
      "Alternatively, plot pre-computed bins and counts using ``hist()`` by\n",
      "treating each bin as a single point with a weight equal to its count::\n",
      "\n",
      "    plt.hist(bins[:-1], bins, weights=counts)\n",
      "\n",
      "The data input *x* can be a singular array, a list of datasets of\n",
      "potentially different lengths ([*x0*, *x1*, ...]), or a 2D ndarray in\n",
      "which each column is a dataset. Note that the ndarray form is\n",
      "transposed relative to the list form. If the input is an array, then\n",
      "the return value is a tuple (*n*, *bins*, *patches*); if the input is a\n",
      "sequence of arrays, then the return value is a tuple\n",
      "([*n0*, *n1*, ...], *bins*, [*patches0*, *patches1*, ...]).\n",
      "\n",
      "Masked arrays are not supported.\n",
      "\n",
      "Parameters\n",
      "----------\n",
      "x : (n,) array or sequence of (n,) arrays\n",
      "    Input values, this takes either a single array or a sequence of\n",
      "    arrays which are not required to be of the same length.\n",
      "\n",
      "bins : int or sequence or str, default: :rc:`hist.bins`\n",
      "    If *bins* is an integer, it defines the number of equal-width bins\n",
      "    in the range.\n",
      "\n",
      "    If *bins* is a sequence, it defines the bin edges, including the\n",
      "    left edge of the first bin and the right edge of the last bin;\n",
      "    in this case, bins may be unequally spaced.  All but the last\n",
      "    (righthand-most) bin is half-open.  In other words, if *bins* is::\n",
      "\n",
      "        [1, 2, 3, 4]\n",
      "\n",
      "    then the first bin is ``[1, 2)`` (including 1, but excluding 2) and\n",
      "    the second ``[2, 3)``.  The last bin, however, is ``[3, 4]``, which\n",
      "    *includes* 4.\n",
      "\n",
      "    If *bins* is a string, it is one of the binning strategies\n",
      "    supported by `numpy.histogram_bin_edges`: 'auto', 'fd', 'doane',\n",
      "    'scott', 'stone', 'rice', 'sturges', or 'sqrt'.\n",
      "\n",
      "range : tuple or None, default: None\n",
      "    The lower and upper range of the bins. Lower and upper outliers\n",
      "    are ignored. If not provided, *range* is ``(x.min(), x.max())``.\n",
      "    Range has no effect if *bins* is a sequence.\n",
      "\n",
      "    If *bins* is a sequence or *range* is specified, autoscaling\n",
      "    is based on the specified bin range instead of the\n",
      "    range of x.\n",
      "\n",
      "density : bool, default: False\n",
      "    If ``True``, draw and return a probability density: each bin\n",
      "    will display the bin's raw count divided by the total number of\n",
      "    counts *and the bin width*\n",
      "    (``density = counts / (sum(counts) * np.diff(bins))``),\n",
      "    so that the area under the histogram integrates to 1\n",
      "    (``np.sum(density * np.diff(bins)) == 1``).\n",
      "\n",
      "    If *stacked* is also ``True``, the sum of the histograms is\n",
      "    normalized to 1.\n",
      "\n",
      "weights : (n,) array-like or None, default: None\n",
      "    An array of weights, of the same shape as *x*.  Each value in\n",
      "    *x* only contributes its associated weight towards the bin count\n",
      "    (instead of 1).  If *density* is ``True``, the weights are\n",
      "    normalized, so that the integral of the density over the range\n",
      "    remains 1.\n",
      "\n",
      "cumulative : bool or -1, default: False\n",
      "    If ``True``, then a histogram is computed where each bin gives the\n",
      "    counts in that bin plus all bins for smaller values. The last bin\n",
      "    gives the total number of datapoints.\n",
      "\n",
      "    If *density* is also ``True`` then the histogram is normalized such\n",
      "    that the last bin equals 1.\n",
      "\n",
      "    If *cumulative* is a number less than 0 (e.g., -1), the direction\n",
      "    of accumulation is reversed.  In this case, if *density* is also\n",
      "    ``True``, then the histogram is normalized such that the first bin\n",
      "    equals 1.\n",
      "\n",
      "bottom : array-like, scalar, or None, default: None\n",
      "    Location of the bottom of each bin, i.e. bins are drawn from\n",
      "    ``bottom`` to ``bottom + hist(x, bins)`` If a scalar, the bottom\n",
      "    of each bin is shifted by the same amount. If an array, each bin\n",
      "    is shifted independently and the length of bottom must match the\n",
      "    number of bins. If None, defaults to 0.\n",
      "\n",
      "histtype : {'bar', 'barstacked', 'step', 'stepfilled'}, default: 'bar'\n",
      "    The type of histogram to draw.\n",
      "\n",
      "    - 'bar' is a traditional bar-type histogram.  If multiple data\n",
      "      are given the bars are arranged side by side.\n",
      "    - 'barstacked' is a bar-type histogram where multiple\n",
      "      data are stacked on top of each other.\n",
      "    - 'step' generates a lineplot that is by default unfilled.\n",
      "    - 'stepfilled' generates a lineplot that is by default filled.\n",
      "\n",
      "align : {'left', 'mid', 'right'}, default: 'mid'\n",
      "    The horizontal alignment of the histogram bars.\n",
      "\n",
      "    - 'left': bars are centered on the left bin edges.\n",
      "    - 'mid': bars are centered between the bin edges.\n",
      "    - 'right': bars are centered on the right bin edges.\n",
      "\n",
      "orientation : {'vertical', 'horizontal'}, default: 'vertical'\n",
      "    If 'horizontal', `~.Axes.barh` will be used for bar-type histograms\n",
      "    and the *bottom* kwarg will be the left edges.\n",
      "\n",
      "rwidth : float or None, default: None\n",
      "    The relative width of the bars as a fraction of the bin width.  If\n",
      "    ``None``, automatically compute the width.\n",
      "\n",
      "    Ignored if *histtype* is 'step' or 'stepfilled'.\n",
      "\n",
      "log : bool, default: False\n",
      "    If ``True``, the histogram axis will be set to a log scale.\n",
      "\n",
      "color : color or array-like of colors or None, default: None\n",
      "    Color or sequence of colors, one per dataset.  Default (``None``)\n",
      "    uses the standard line color sequence.\n",
      "\n",
      "label : str or None, default: None\n",
      "    String, or sequence of strings to match multiple datasets.  Bar\n",
      "    charts yield multiple patches per dataset, but only the first gets\n",
      "    the label, so that `~.Axes.legend` will work as expected.\n",
      "\n",
      "stacked : bool, default: False\n",
      "    If ``True``, multiple data are stacked on top of each other If\n",
      "    ``False`` multiple data are arranged side by side if histtype is\n",
      "    'bar' or on top of each other if histtype is 'step'\n",
      "\n",
      "Returns\n",
      "-------\n",
      "n : array or list of arrays\n",
      "    The values of the histogram bins. See *density* and *weights* for a\n",
      "    description of the possible semantics.  If input *x* is an array,\n",
      "    then this is an array of length *nbins*. If input is a sequence of\n",
      "    arrays ``[data1, data2, ...]``, then this is a list of arrays with\n",
      "    the values of the histograms for each of the arrays in the same\n",
      "    order.  The dtype of the array *n* (or of its element arrays) will\n",
      "    always be float even if no weighting or normalization is used.\n",
      "\n",
      "bins : array\n",
      "    The edges of the bins. Length nbins + 1 (nbins left edges and right\n",
      "    edge of last bin).  Always a single array even when multiple data\n",
      "    sets are passed in.\n",
      "\n",
      "patches : `.BarContainer` or list of a single `.Polygon` or list of such objects\n",
      "    Container of individual artists used to create the histogram\n",
      "    or list of such containers if there are multiple input datasets.\n",
      "\n",
      "Other Parameters\n",
      "----------------\n",
      "data : indexable object, optional\n",
      "    If given, the following parameters also accept a string ``s``, which is\n",
      "    interpreted as ``data[s]`` (unless this raises an exception):\n",
      "\n",
      "    *x*, *weights*\n",
      "\n",
      "**kwargs\n",
      "    `~matplotlib.patches.Patch` properties\n",
      "\n",
      "See Also\n",
      "--------\n",
      "hist2d : 2D histogram with rectangular bins\n",
      "hexbin : 2D histogram with hexagonal bins\n",
      "stairs : Plot a pre-computed histogram\n",
      "bar : Plot a pre-computed histogram\n",
      "\n",
      "Notes\n",
      "-----\n",
      "For large numbers of bins (>1000), plotting can be significantly\n",
      "accelerated by using `~.Axes.stairs` to plot a pre-computed histogram\n",
      "(``plt.stairs(*np.histogram(data))``), or by setting *histtype* to\n",
      "'step' or 'stepfilled' rather than 'bar' or 'barstacked'.\n",
      "\u001b[0;31mFile:\u001b[0m      ~/.pyenv/versions/3.11.4/envs/2521_env/lib/python3.11/site-packages/matplotlib/pyplot.py\n",
      "\u001b[0;31mType:\u001b[0m      function"
     ]
    }
   ],
   "source": [
    "plt.hist?"
   ]
  },
  {
   "cell_type": "code",
   "execution_count": 91,
   "metadata": {},
   "outputs": [
    {
     "data": {
      "text/plain": [
       "(array([ 1.,  1.,  2.,  2.,  1.,  1.,  1.,  0.,  1.,  4.,  2.,  1.,  4.,\n",
       "         4.,  8.,  4.,  6.,  4., 12.,  9.,  6., 15., 11.,  8., 17., 13.,\n",
       "        19., 14.,  8., 16., 16., 19., 17., 21., 26., 30., 18., 22., 25.,\n",
       "        29., 26., 28., 20., 22., 31., 24., 26., 23., 25., 21., 25., 23.,\n",
       "        12., 25., 19., 14., 10., 17., 22., 11., 15., 15., 15., 11.,  8.,\n",
       "        11.,  7., 10.,  9.,  4.,  4., 11.,  3.,  6.,  4.,  4.,  6.,  0.,\n",
       "         1.,  3.,  1.,  1.,  1.,  2.,  0.,  1.,  1.,  1.,  0.,  1.,  0.,\n",
       "         0.,  0.,  0.,  0.,  0.,  0.,  1.,  0.,  1.]),\n",
       " array([-2.77025155, -2.70665621, -2.64306086, -2.57946552, -2.51587017,\n",
       "        -2.45227483, -2.38867949, -2.32508414, -2.2614888 , -2.19789345,\n",
       "        -2.13429811, -2.07070277, -2.00710742, -1.94351208, -1.87991674,\n",
       "        -1.81632139, -1.75272605, -1.6891307 , -1.62553536, -1.56194002,\n",
       "        -1.49834467, -1.43474933, -1.37115398, -1.30755864, -1.2439633 ,\n",
       "        -1.18036795, -1.11677261, -1.05317726, -0.98958192, -0.92598658,\n",
       "        -0.86239123, -0.79879589, -0.73520054, -0.6716052 , -0.60800986,\n",
       "        -0.54441451, -0.48081917, -0.41722382, -0.35362848, -0.29003314,\n",
       "        -0.22643779, -0.16284245, -0.09924711, -0.03565176,  0.02794358,\n",
       "         0.09153893,  0.15513427,  0.21872961,  0.28232496,  0.3459203 ,\n",
       "         0.40951565,  0.47311099,  0.53670633,  0.60030168,  0.66389702,\n",
       "         0.72749237,  0.79108771,  0.85468305,  0.9182784 ,  0.98187374,\n",
       "         1.04546909,  1.10906443,  1.17265977,  1.23625512,  1.29985046,\n",
       "         1.36344581,  1.42704115,  1.49063649,  1.55423184,  1.61782718,\n",
       "         1.68142252,  1.74501787,  1.80861321,  1.87220856,  1.9358039 ,\n",
       "         1.99939924,  2.06299459,  2.12658993,  2.19018528,  2.25378062,\n",
       "         2.31737596,  2.38097131,  2.44456665,  2.508162  ,  2.57175734,\n",
       "         2.63535268,  2.69894803,  2.76254337,  2.82613872,  2.88973406,\n",
       "         2.9533294 ,  3.01692475,  3.08052009,  3.14411544,  3.20771078,\n",
       "         3.27130612,  3.33490147,  3.39849681,  3.46209216,  3.5256875 ,\n",
       "         3.58928284]),\n",
       " <BarContainer object of 100 artists>)"
      ]
     },
     "execution_count": 91,
     "metadata": {},
     "output_type": "execute_result"
    },
    {
     "data": {
      "image/png": "[encoded data removed]",
      "text/plain": [
       "<Figure size 640x480 with 1 Axes>"
      ]
     },
     "metadata": {},
     "output_type": "display_data"
    }
   ],
   "source": [
    "plt.hist(x, 100)"
   ]
  },
  {
   "cell_type": "markdown",
   "metadata": {},
   "source": [
    "Recall our dictionary D from earlier, whose keys were the letters in a file, and values were the frequency those letters occurred. Let's plot this via a bar chart:"
   ]
  },
  {
   "cell_type": "code",
   "execution_count": 14,
   "metadata": {},
   "outputs": [
    {
     "data": {
      "text/plain": [
       "{'T': 2,\n",
       " 'h': 3,\n",
       " 'i': 8,\n",
       " 's': 8,\n",
       " ' ': 16,\n",
       " 'a': 8,\n",
       " 'b': 1,\n",
       " 'l': 3,\n",
       " 'n': 9,\n",
       " 'k': 1,\n",
       " 'd': 4,\n",
       " 'o': 4,\n",
       " 'c': 2,\n",
       " 'u': 1,\n",
       " 'm': 1,\n",
       " 'e': 4,\n",
       " 't': 3,\n",
       " '.': 2,\n",
       " '\\n': 3,\n",
       " 'y': 2,\n",
       " 'f': 2,\n",
       " 'r': 3,\n",
       " 'P': 1,\n",
       " 'g': 2,\n",
       " 'w': 1}"
      ]
     },
     "execution_count": 14,
     "metadata": {},
     "output_type": "execute_result"
    }
   ],
   "source": [
    "D"
   ]
  },
  {
   "cell_type": "code",
   "execution_count": 13,
   "metadata": {},
   "outputs": [
    {
     "data": {
      "text/plain": [
       "<BarContainer object of 25 artists>"
      ]
     },
     "execution_count": 13,
     "metadata": {},
     "output_type": "execute_result"
    },
    {
     "data": {
      "image/png": "[encoded data removed]",
      "text/plain": [
       "<Figure size 640x480 with 1 Axes>"
      ]
     },
     "metadata": {},
     "output_type": "display_data"
    }
   ],
   "source": [
    "plt.bar(D.keys(), D.values())"
   ]
  },
  {
   "cell_type": "markdown",
   "metadata": {},
   "source": [
    "# Labelling graphs\n",
    "\n",
    "```\n",
    "plt.title('My title')\n",
    "plt.xlabel('My x-axis label')\n",
    "plt.ylabel('My y-axis label')\n",
    "```"
   ]
  },
  {
   "cell_type": "code",
   "execution_count": 92,
   "metadata": {},
   "outputs": [
    {
     "data": {
      "text/plain": [
       "[<matplotlib.lines.Line2D at 0x12a52cad0>]"
      ]
     },
     "execution_count": 92,
     "metadata": {},
     "output_type": "execute_result"
    },
    {
     "data": {
      "image/png": "[encoded data removed]",
      "text/plain": [
       "<Figure size 640x480 with 1 Axes>"
      ]
     },
     "metadata": {},
     "output_type": "display_data"
    }
   ],
   "source": [
    "x=[1, 2, 3, 4, 5, 6, 7]\n",
    "y=[80, 75, 56, 70, 80, 90, 100]\n",
    "plt.plot(x, y)"
   ]
  },
  {
   "cell_type": "code",
   "execution_count": 95,
   "metadata": {},
   "outputs": [
    {
     "data": {
      "text/plain": [
       "([<matplotlib.patches.Wedge at 0x12a97ec90>,\n",
       "  <matplotlib.patches.Wedge at 0x12a97fa10>,\n",
       "  <matplotlib.patches.Wedge at 0x12a984c50>,\n",
       "  <matplotlib.patches.Wedge at 0x12a986090>,\n",
       "  <matplotlib.patches.Wedge at 0x12a987450>,\n",
       "  <matplotlib.patches.Wedge at 0x12a99c9d0>,\n",
       "  <matplotlib.patches.Wedge at 0x12a99df10>],\n",
       " [Text(0.9875404337197939, 0.4845243974956488, '1'),\n",
       "  Text(0.2517558120090531, 1.0708029749303383, '2'),\n",
       "  Text(-0.5427421345200452, 0.9567815714240243, '3'),\n",
       "  Text(-1.0383456152737318, 0.3630955566263731, '4'),\n",
       "  Text(-0.9552304266690331, -0.5454675352078224, '5'),\n",
       "  Text(-0.09083729352452266, -1.0962429411882841, '6'),\n",
       "  Text(0.9259948708678196, -0.5937453150354032, '7')])"
      ]
     },
     "execution_count": 95,
     "metadata": {},
     "output_type": "execute_result"
    },
    {
     "data": {
      "image/png": "[encoded data removed]",
      "text/plain": [
       "<Figure size 640x480 with 1 Axes>"
      ]
     },
     "metadata": {},
     "output_type": "display_data"
    }
   ],
   "source": [
    "plt.pie(y, labels=x)"
   ]
  },
  {
   "cell_type": "markdown",
   "metadata": {},
   "source": [
    "### Numpy arange (for array-range) and linspace \n"
   ]
  },
  {
   "cell_type": "code",
   "execution_count": 157,
   "metadata": {},
   "outputs": [
    {
     "data": {
      "text/plain": [
       "array([ 2,  8, 14])"
      ]
     },
     "execution_count": 157,
     "metadata": {},
     "output_type": "execute_result"
    }
   ],
   "source": [
    "np.arange(2,20,6)  #numpy array-range object, start at 2, stop at before 20, step size 6"
   ]
  },
  {
   "cell_type": "code",
   "execution_count": 158,
   "metadata": {},
   "outputs": [
    {
     "data": {
      "text/plain": [
       "array([ 1,  2,  3,  4,  5,  6,  7,  8,  9, 10, 11, 12, 13, 14, 15, 16, 17,\n",
       "       18, 19])"
      ]
     },
     "execution_count": 158,
     "metadata": {},
     "output_type": "execute_result"
    }
   ],
   "source": [
    "np.arange(1, 20)"
   ]
  },
  {
   "cell_type": "code",
   "execution_count": 161,
   "metadata": {},
   "outputs": [
    {
     "data": {
      "text/plain": [
       "array([ 0. ,  0.1,  0.2,  0.3,  0.4,  0.5,  0.6,  0.7,  0.8,  0.9,  1. ,\n",
       "        1.1,  1.2,  1.3,  1.4,  1.5,  1.6,  1.7,  1.8,  1.9,  2. ,  2.1,\n",
       "        2.2,  2.3,  2.4,  2.5,  2.6,  2.7,  2.8,  2.9,  3. ,  3.1,  3.2,\n",
       "        3.3,  3.4,  3.5,  3.6,  3.7,  3.8,  3.9,  4. ,  4.1,  4.2,  4.3,\n",
       "        4.4,  4.5,  4.6,  4.7,  4.8,  4.9,  5. ,  5.1,  5.2,  5.3,  5.4,\n",
       "        5.5,  5.6,  5.7,  5.8,  5.9,  6. ,  6.1,  6.2,  6.3,  6.4,  6.5,\n",
       "        6.6,  6.7,  6.8,  6.9,  7. ,  7.1,  7.2,  7.3,  7.4,  7.5,  7.6,\n",
       "        7.7,  7.8,  7.9,  8. ,  8.1,  8.2,  8.3,  8.4,  8.5,  8.6,  8.7,\n",
       "        8.8,  8.9,  9. ,  9.1,  9.2,  9.3,  9.4,  9.5,  9.6,  9.7,  9.8,\n",
       "        9.9, 10. ])"
      ]
     },
     "execution_count": 161,
     "metadata": {},
     "output_type": "execute_result"
    }
   ],
   "source": [
    "np.linspace(0,10, 101) # 101 numbers evenly spaced between 0 and 10"
   ]
  },
  {
   "cell_type": "markdown",
   "metadata": {},
   "source": [
    "### np.zeros() and np.ones()\n",
    "Sometimes you need to create an numpy array of a certain size and you will later fill its entries. \n",
    "You can create an array of zeroes with ```np.zeros``` (not zeroes!)"
   ]
  },
  {
   "cell_type": "code",
   "execution_count": 16,
   "metadata": {},
   "outputs": [
    {
     "name": "stdout",
     "output_type": "stream",
     "text": [
      "[0. 0. 0. 0. 0. 0. 0. 0. 0. 0.]\n"
     ]
    }
   ],
   "source": [
    "print(np.zeros(10))"
   ]
  },
  {
   "cell_type": "code",
   "execution_count": 18,
   "metadata": {},
   "outputs": [
    {
     "name": "stdout",
     "output_type": "stream",
     "text": [
      "[[0. 0. 0. 0. 0. 0. 0. 0. 0. 0.]\n",
      " [0. 0. 0. 0. 0. 0. 0. 0. 0. 0.]\n",
      " [0. 0. 0. 0. 0. 0. 0. 0. 0. 0.]\n",
      " [0. 0. 0. 0. 0. 0. 0. 0. 0. 0.]\n",
      " [0. 0. 0. 0. 0. 0. 0. 0. 0. 0.]\n",
      " [0. 0. 0. 0. 0. 0. 0. 0. 0. 0.]\n",
      " [0. 0. 0. 0. 0. 0. 0. 0. 0. 0.]\n",
      " [0. 0. 0. 0. 0. 0. 0. 0. 0. 0.]\n",
      " [0. 0. 0. 0. 0. 0. 0. 0. 0. 0.]\n",
      " [0. 0. 0. 0. 0. 0. 0. 0. 0. 0.]]\n"
     ]
    }
   ],
   "source": [
    "print(np.zeros((10,10)))"
   ]
  },
  {
   "cell_type": "markdown",
   "metadata": {},
   "source": [
    "# axis\n",
    "\n",
    "A multidimensional numpy array you often want to apply some function (like max) across rows. This is where the ```axis```\n",
    "\n",
    "axis=0 vary indices in first dimension (e.g. row), keep indices in other dimensions fixed\n",
    "\n",
    "axis=1 vary indices in the second dimension (e.g column), keep indices in other dimensions fixed\n",
    "\n",
    "axis=2 ... etc"
   ]
  },
  {
   "cell_type": "code",
   "execution_count": 35,
   "metadata": {},
   "outputs": [
    {
     "data": {
      "text/plain": [
       "array([[18,  8,  8,  1, 10],\n",
       "       [ 1, 11,  2,  3,  5]])"
      ]
     },
     "execution_count": 35,
     "metadata": {},
     "output_type": "execute_result"
    }
   ],
   "source": [
    "N=np.random.randint(0,20, (2,5))\n",
    "N"
   ]
  },
  {
   "cell_type": "code",
   "execution_count": 36,
   "metadata": {},
   "outputs": [
    {
     "name": "stdout",
     "output_type": "stream",
     "text": [
      "[18  1]\n",
      "[ 8 11]\n",
      "[18 11  8  3 10]\n"
     ]
    }
   ],
   "source": [
    "print(N[:,0])\n",
    "print(N[:,1])\n",
    "print(N.max(axis=0))"
   ]
  },
  {
   "cell_type": "code",
   "execution_count": 37,
   "metadata": {},
   "outputs": [
    {
     "name": "stdout",
     "output_type": "stream",
     "text": [
      "[[[ 0  1  2]\n",
      "  [ 3  4  5]\n",
      "  [ 6  7  8]\n",
      "  [ 9 10 11]\n",
      "  [12 13 14]]\n",
      "\n",
      " [[15 16 17]\n",
      "  [18 19 20]\n",
      "  [21 22 23]\n",
      "  [24 25 26]\n",
      "  [27 28 29]]]\n",
      "(2, 5, 3)\n"
     ]
    }
   ],
   "source": [
    "# Slicing a 3D array ... this make my head hurt\n",
    "\n",
    "M=np.arange(30).reshape(2,5,3)\n",
    "print(M)\n",
    "print(M.shape)"
   ]
  },
  {
   "cell_type": "code",
   "execution_count": 27,
   "metadata": {},
   "outputs": [
    {
     "data": {
      "text/plain": [
       "array([[ 0,  1,  2],\n",
       "       [ 3,  4,  5],\n",
       "       [ 6,  7,  8],\n",
       "       [ 9, 10, 11],\n",
       "       [12, 13, 14]])"
      ]
     },
     "execution_count": 27,
     "metadata": {},
     "output_type": "execute_result"
    }
   ],
   "source": [
    "M[0]"
   ]
  },
  {
   "cell_type": "code",
   "execution_count": 30,
   "metadata": {},
   "outputs": [
    {
     "data": {
      "text/plain": [
       "array([[ 0,  1,  2],\n",
       "       [15, 16, 17]])"
      ]
     },
     "execution_count": 30,
     "metadata": {},
     "output_type": "execute_result"
    }
   ],
   "source": [
    "M[:, 0, :]"
   ]
  },
  {
   "cell_type": "code",
   "execution_count": 31,
   "metadata": {},
   "outputs": [
    {
     "data": {
      "text/plain": [
       "array([[ 0,  3,  6,  9, 12],\n",
       "       [15, 18, 21, 24, 27]])"
      ]
     },
     "execution_count": 31,
     "metadata": {},
     "output_type": "execute_result"
    }
   ],
   "source": [
    "M[:, :, 0]"
   ]
  },
  {
   "cell_type": "code",
   "execution_count": 22,
   "metadata": {},
   "outputs": [
    {
     "data": {
      "text/plain": [
       "array([[15, 16, 17],\n",
       "       [18, 19, 20],\n",
       "       [21, 22, 23],\n",
       "       [24, 25, 26],\n",
       "       [27, 28, 29]])"
      ]
     },
     "execution_count": 22,
     "metadata": {},
     "output_type": "execute_result"
    }
   ],
   "source": [
    "M.max(axis=0)"
   ]
  },
  {
   "cell_type": "code",
   "execution_count": 26,
   "metadata": {},
   "outputs": [
    {
     "name": "stdout",
     "output_type": "stream",
     "text": [
      "[ 0  3  6  9 12]\n"
     ]
    },
    {
     "data": {
      "text/plain": [
       "array([[12, 13, 14],\n",
       "       [27, 28, 29]])"
      ]
     },
     "execution_count": 26,
     "metadata": {},
     "output_type": "execute_result"
    }
   ],
   "source": [
    "print(M[0, :, 0])\n",
    "np.max(M, axis=1)"
   ]
  },
  {
   "cell_type": "markdown",
   "metadata": {},
   "source": [
    "### ```plt.subplots``` or ```fig.add_subplot()```\n",
    "\n",
    "Multiple charts axes on one figure\n",
    "\n",
    "See https://matplotlib.org/cheatsheets/_images/cheatsheets-1.png\n",
    "for matplotlib cheatsheet"
   ]
  },
  {
   "cell_type": "code",
   "execution_count": 39,
   "metadata": {},
   "outputs": [
    {
     "name": "stdout",
     "output_type": "stream",
     "text": [
      "\u001b[0;31mSignature:\u001b[0m\n",
      "\u001b[0mplt\u001b[0m\u001b[0;34m.\u001b[0m\u001b[0msubplots\u001b[0m\u001b[0;34m(\u001b[0m\u001b[0;34m\u001b[0m\n",
      "\u001b[0;34m\u001b[0m    \u001b[0mnrows\u001b[0m\u001b[0;34m=\u001b[0m\u001b[0;36m1\u001b[0m\u001b[0;34m,\u001b[0m\u001b[0;34m\u001b[0m\n",
      "\u001b[0;34m\u001b[0m    \u001b[0mncols\u001b[0m\u001b[0;34m=\u001b[0m\u001b[0;36m1\u001b[0m\u001b[0;34m,\u001b[0m\u001b[0;34m\u001b[0m\n",
      "\u001b[0;34m\u001b[0m    \u001b[0;34m*\u001b[0m\u001b[0;34m,\u001b[0m\u001b[0;34m\u001b[0m\n",
      "\u001b[0;34m\u001b[0m    \u001b[0msharex\u001b[0m\u001b[0;34m=\u001b[0m\u001b[0;32mFalse\u001b[0m\u001b[0;34m,\u001b[0m\u001b[0;34m\u001b[0m\n",
      "\u001b[0;34m\u001b[0m    \u001b[0msharey\u001b[0m\u001b[0;34m=\u001b[0m\u001b[0;32mFalse\u001b[0m\u001b[0;34m,\u001b[0m\u001b[0;34m\u001b[0m\n",
      "\u001b[0;34m\u001b[0m    \u001b[0msqueeze\u001b[0m\u001b[0;34m=\u001b[0m\u001b[0;32mTrue\u001b[0m\u001b[0;34m,\u001b[0m\u001b[0;34m\u001b[0m\n",
      "\u001b[0;34m\u001b[0m    \u001b[0mwidth_ratios\u001b[0m\u001b[0;34m=\u001b[0m\u001b[0;32mNone\u001b[0m\u001b[0;34m,\u001b[0m\u001b[0;34m\u001b[0m\n",
      "\u001b[0;34m\u001b[0m    \u001b[0mheight_ratios\u001b[0m\u001b[0;34m=\u001b[0m\u001b[0;32mNone\u001b[0m\u001b[0;34m,\u001b[0m\u001b[0;34m\u001b[0m\n",
      "\u001b[0;34m\u001b[0m    \u001b[0msubplot_kw\u001b[0m\u001b[0;34m=\u001b[0m\u001b[0;32mNone\u001b[0m\u001b[0;34m,\u001b[0m\u001b[0;34m\u001b[0m\n",
      "\u001b[0;34m\u001b[0m    \u001b[0mgridspec_kw\u001b[0m\u001b[0;34m=\u001b[0m\u001b[0;32mNone\u001b[0m\u001b[0;34m,\u001b[0m\u001b[0;34m\u001b[0m\n",
      "\u001b[0;34m\u001b[0m    \u001b[0;34m**\u001b[0m\u001b[0mfig_kw\u001b[0m\u001b[0;34m,\u001b[0m\u001b[0;34m\u001b[0m\n",
      "\u001b[0;34m\u001b[0m\u001b[0;34m)\u001b[0m\u001b[0;34m\u001b[0m\u001b[0;34m\u001b[0m\u001b[0m\n",
      "\u001b[0;31mDocstring:\u001b[0m\n",
      "Create a figure and a set of subplots.\n",
      "\n",
      "This utility wrapper makes it convenient to create common layouts of\n",
      "subplots, including the enclosing figure object, in a single call.\n",
      "\n",
      "Parameters\n",
      "----------\n",
      "nrows, ncols : int, default: 1\n",
      "    Number of rows/columns of the subplot grid.\n",
      "\n",
      "sharex, sharey : bool or {'none', 'all', 'row', 'col'}, default: False\n",
      "    Controls sharing of properties among x (*sharex*) or y (*sharey*)\n",
      "    axes:\n",
      "\n",
      "    - True or 'all': x- or y-axis will be shared among all subplots.\n",
      "    - False or 'none': each subplot x- or y-axis will be independent.\n",
      "    - 'row': each subplot row will share an x- or y-axis.\n",
      "    - 'col': each subplot column will share an x- or y-axis.\n",
      "\n",
      "    When subplots have a shared x-axis along a column, only the x tick\n",
      "    labels of the bottom subplot are created. Similarly, when subplots\n",
      "    have a shared y-axis along a row, only the y tick labels of the first\n",
      "    column subplot are created. To later turn other subplots' ticklabels\n",
      "    on, use `~matplotlib.axes.Axes.tick_params`.\n",
      "\n",
      "    When subplots have a shared axis that has units, calling\n",
      "    `~matplotlib.axis.Axis.set_units` will update each axis with the\n",
      "    new units.\n",
      "\n",
      "squeeze : bool, default: True\n",
      "    - If True, extra dimensions are squeezed out from the returned\n",
      "      array of `~matplotlib.axes.Axes`:\n",
      "\n",
      "      - if only one subplot is constructed (nrows=ncols=1), the\n",
      "        resulting single Axes object is returned as a scalar.\n",
      "      - for Nx1 or 1xM subplots, the returned object is a 1D numpy\n",
      "        object array of Axes objects.\n",
      "      - for NxM, subplots with N>1 and M>1 are returned as a 2D array.\n",
      "\n",
      "    - If False, no squeezing at all is done: the returned Axes object is\n",
      "      always a 2D array containing Axes instances, even if it ends up\n",
      "      being 1x1.\n",
      "\n",
      "width_ratios : array-like of length *ncols*, optional\n",
      "    Defines the relative widths of the columns. Each column gets a\n",
      "    relative width of ``width_ratios[i] / sum(width_ratios)``.\n",
      "    If not given, all columns will have the same width.  Equivalent\n",
      "    to ``gridspec_kw={'width_ratios': [...]}``.\n",
      "\n",
      "height_ratios : array-like of length *nrows*, optional\n",
      "    Defines the relative heights of the rows. Each row gets a\n",
      "    relative height of ``height_ratios[i] / sum(height_ratios)``.\n",
      "    If not given, all rows will have the same height. Convenience\n",
      "    for ``gridspec_kw={'height_ratios': [...]}``.\n",
      "\n",
      "subplot_kw : dict, optional\n",
      "    Dict with keywords passed to the\n",
      "    `~matplotlib.figure.Figure.add_subplot` call used to create each\n",
      "    subplot.\n",
      "\n",
      "gridspec_kw : dict, optional\n",
      "    Dict with keywords passed to the `~matplotlib.gridspec.GridSpec`\n",
      "    constructor used to create the grid the subplots are placed on.\n",
      "\n",
      "**fig_kw\n",
      "    All additional keyword arguments are passed to the\n",
      "    `.pyplot.figure` call.\n",
      "\n",
      "Returns\n",
      "-------\n",
      "fig : `.Figure`\n",
      "\n",
      "ax : `~matplotlib.axes.Axes` or array of Axes\n",
      "    *ax* can be either a single `~.axes.Axes` object, or an array of Axes\n",
      "    objects if more than one subplot was created.  The dimensions of the\n",
      "    resulting array can be controlled with the squeeze keyword, see above.\n",
      "\n",
      "    Typical idioms for handling the return value are::\n",
      "\n",
      "        # using the variable ax for single a Axes\n",
      "        fig, ax = plt.subplots()\n",
      "\n",
      "        # using the variable axs for multiple Axes\n",
      "        fig, axs = plt.subplots(2, 2)\n",
      "\n",
      "        # using tuple unpacking for multiple Axes\n",
      "        fig, (ax1, ax2) = plt.subplots(1, 2)\n",
      "        fig, ((ax1, ax2), (ax3, ax4)) = plt.subplots(2, 2)\n",
      "\n",
      "    The names ``ax`` and pluralized ``axs`` are preferred over ``axes``\n",
      "    because for the latter it's not clear if it refers to a single\n",
      "    `~.axes.Axes` instance or a collection of these.\n",
      "\n",
      "See Also\n",
      "--------\n",
      ".pyplot.figure\n",
      ".pyplot.subplot\n",
      ".pyplot.axes\n",
      ".Figure.subplots\n",
      ".Figure.add_subplot\n",
      "\n",
      "Examples\n",
      "--------\n",
      "::\n",
      "\n",
      "    # First create some toy data:\n",
      "    x = np.linspace(0, 2*np.pi, 400)\n",
      "    y = np.sin(x**2)\n",
      "\n",
      "    # Create just a figure and only one subplot\n",
      "    fig, ax = plt.subplots()\n",
      "    ax.plot(x, y)\n",
      "    ax.set_title('Simple plot')\n",
      "\n",
      "    # Create two subplots and unpack the output array immediately\n",
      "    f, (ax1, ax2) = plt.subplots(1, 2, sharey=True)\n",
      "    ax1.plot(x, y)\n",
      "    ax1.set_title('Sharing Y axis')\n",
      "    ax2.scatter(x, y)\n",
      "\n",
      "    # Create four polar axes and access them through the returned array\n",
      "    fig, axs = plt.subplots(2, 2, subplot_kw=dict(projection=\"polar\"))\n",
      "    axs[0, 0].plot(x, y)\n",
      "    axs[1, 1].scatter(x, y)\n",
      "\n",
      "    # Share a X axis with each column of subplots\n",
      "    plt.subplots(2, 2, sharex='col')\n",
      "\n",
      "    # Share a Y axis with each row of subplots\n",
      "    plt.subplots(2, 2, sharey='row')\n",
      "\n",
      "    # Share both X and Y axes with all subplots\n",
      "    plt.subplots(2, 2, sharex='all', sharey='all')\n",
      "\n",
      "    # Note that this is the same as\n",
      "    plt.subplots(2, 2, sharex=True, sharey=True)\n",
      "\n",
      "    # Create figure number 10 with a single subplot\n",
      "    # and clears it if it already exists.\n",
      "    fig, ax = plt.subplots(num=10, clear=True)\n",
      "\u001b[0;31mFile:\u001b[0m      ~/.pyenv/versions/3.11.4/envs/2521_env/lib/python3.11/site-packages/matplotlib/pyplot.py\n",
      "\u001b[0;31mType:\u001b[0m      function"
     ]
    }
   ],
   "source": [
    "plt.subplots?"
   ]
  },
  {
   "cell_type": "code",
   "execution_count": 48,
   "metadata": {},
   "outputs": [
    {
     "data": {
      "image/png": "[encoded data removed]",
      "text/plain": [
       "<Figure size 640x480 with 4 Axes>"
      ]
     },
     "metadata": {},
     "output_type": "display_data"
    }
   ],
   "source": [
    "# create a figure\n",
    "fig=plt.figure()\n",
    "\n",
    "# split up the figure into 4 subplots or axes, I call ax1, ax2, ax3, ax4\n",
    "ax1=fig.add_subplot(2, 2, 1)\n",
    "ax2=fig.add_subplot(2, 2, 2)\n",
    "ax3=fig.add_subplot(2, 2, 3)\n",
    "ax4=fig.add_subplot(2, 2, 4)\n",
    "\n",
    "x=np.linspace(-10, 10, 100)\n",
    "\n",
    "#plot different things in each axis\n",
    "ax1.plot(x, x)   #plot y=x\n",
    "ax2.plot(x, x**2)   # y=x^2 parabola\n",
    "ax3.plot(x, x**3)   # y=x^3\n",
    "ax4.plot(x, x**4)\n",
    "\n",
    "# add Titles\n",
    "ax1.set_title('y=x')\n",
    "ax2.set_title('y=x^2')\n",
    "ax3.set_title('y=x^3')\n",
    "ax4.set_title('y=x^4')\n",
    "\n",
    "#save figure to file\n",
    "fig.savefig('my_figure.pdf')"
   ]
  },
  {
   "cell_type": "markdown",
   "metadata": {},
   "source": []
  },
  {
   "cell_type": "markdown",
   "metadata": {},
   "source": [
    "### Exercises\n",
    "\n",
    "User:\n",
    "I just learned some numpy arrays and matplotlib.  Make up 10 exercises for practice\n",
    "\n",
    "ChatGPT:\n",
    "\n",
    "Great! Practicing with exercises is an excellent way to solidify your understanding of NumPy arrays and Matplotlib. Here are ten exercises for you to practice (I added some hints):\n",
    "\n",
    "Exercise 1:\n",
    "Create a NumPy array of integers from 1 to 20 and find the sum, mean, median, and standard deviation of the elements.\n",
    "\n",
    "Exercise 2:\n",
    "Generate a 5x5 random matrix using NumPy and find the maximum and minimum values in each row and column. Hint: the ```axis``` argument specifies column (axis 0) or row (axis 1). E.g. \n",
    "\n",
    "```\n",
    "M=np.random.randint(0,10,(5,5))\n",
    "np.max(M, axis=0)\n",
    "```\n",
    "\n",
    "Exercise 3:\n",
    "Create two NumPy arrays of the same shape and perform element-wise addition, subtraction, multiplication, and division.\n",
    "\n",
    "Exercise 4: Using ```np.linspace```, Generate a NumPy array containing 100 equally spaced values between 0 and 2π (inclusive). Plot the sine and cosine functions for these values using Matplotlib.\n",
    "\n",
    "Exercise 5:\n",
    "Create a 2D NumPy array representing a chessboard with alternating 0s and 1s. Display the chessboard using Matplotlib's imshow() function.\n",
    "\n",
    "\n",
    "Exercise 6:\n",
    "Given a NumPy array \n",
    "```\n",
    "x=np.random.randint(50)\n",
    "```\n",
    " replace all even numbers with 0 and all odd numbers with -1.\n",
    "\n",
    "Exercise 7:\n",
    "Create a 1D NumPy array of 50 elements, and then reshape it into a 5x10 2D array.\n",
    "\n",
    "\n",
    "```.reshape(5,10)```\n",
    "\n",
    "Exercise 8:\n",
    "Generate two 1D NumPy arrays of different lengths and concatenate them into a single 1D array.\n",
    "\n",
    "```np.concat``` or ```np.vstack```\n",
    "\n",
    "Exercise 9:\n",
    "Create a 2D NumPy array with random integers between 1 and 100, and then find the indices of the maximum and minimum values in the array.\n",
    "\n",
    "```np.argmax``` and ```np.argmin```\n",
    "\n",
    "Exercise 10:\n",
    "Plot a histogram of 1000 random numbers generated using NumPy's random module. Experiment with the number of bins and plot the histogram with different styles.\n",
    "\n",
    "Remember to use NumPy's documentation and Matplotlib's documentation to guide you through these exercises. Have fun practicing!"
   ]
  },
  {
   "cell_type": "markdown",
   "metadata": {},
   "source": [
    "### And some exercises for matplotlib\n",
    "ChatGPT\n",
    "\n",
    "Certainly! Here are some more exercises specifically focused on Matplotlib. (Make up random data as needed). I've added some hints:\n",
    "\n",
    "Exercise 1:\n",
    "Create a line plot that represents the function f(x) = x^2 for x values between -5 and 5. Customize the line color, style, and add appropriate labels for the x and y axes.\n",
    "\n",
    "```\n",
    "x=np.linspace(-5, 5, 50)\n",
    "plt.plot(x, x**2)\n",
    "```\n",
    "\n",
    "Exercise 2:\n",
    "Generate two sets of random data (x, y) points, each containing 50 data points. Create two scatter plots for each set of data with different colors and markers. Add a legend to differentiate between the two sets.\n",
    "\n",
    "```plt.scatter```\n",
    "\n",
    "Exercise 3:\n",
    "Create a bar chart that compares the sales of five different products in a store. The products are \"Product A,\" \"Product B,\" \"Product C,\" \"Product D,\" and \"Product E.\" Each product's sales for a particular month should be represented on the bar chart, and each bar should have a different color.\n",
    "\n",
    "Exercise 4:\n",
    "Load and plot an image using Matplotlib's imshow() function. Experiment with different color maps to display the image in different styles.\n",
    "\n",
    "Exercise 5:\n",
    "Create a pie chart representing the distribution of students' favorite subjects in a class. The subjects are \"Math,\" \"Science,\" \"History,\" \"English,\" and \"Art.\" Use different colors to represent each subject and include percentages in the pie chart.\n",
    "\n",
    "Exercise 6:\n",
    "Plot two sine waves with different frequencies and amplitudes on the same figure. Use different line styles and colors for each sine wave. Add a legend to label the two sine waves.\n",
    "\n",
    "```\n",
    "x=np.linspace(-5, 5, 50)\n",
    "y1=np.sin(2*x)\n",
    "y2=np.sin(3x+5)\n",
    "plt.plot(x, y1)\n",
    "plt.plot(x, y2)\n",
    "```\n",
    "\n",
    "Exercise 7:\n",
    "Create a stacked area plot that shows the distribution of population over three continents (e.g., Asia, Europe, and Africa) over ten years. Each continent's population should be represented with a different color, and the x-axis should represent the years.\n",
    "\n",
    "Exercise 8:\n",
    "Generate a histogram representing the ages of 500 people. Experiment with different bin sizes and plot the histogram with appropriate labels.\n",
    "\n",
    "Exercise 9:\n",
    "Create a box plot to visualize the distribution of scores for students in five different subjects (e.g., Math, Science, History, English, and Art). Each subject should have a box plot, and the y-axis should represent the score range.\n",
    "\n",
    "Exercise 10:\n",
    "Plot a 3D surface plot using Matplotlib to represent the function f(x, y) = sin(x) + cos(y). Use appropriate labels and color maps to enhance the visualization."
   ]
  },
  {
   "cell_type": "code",
   "execution_count": 15,
   "metadata": {},
   "outputs": [
    {
     "name": "stdout",
     "output_type": "stream",
     "text": [
      "\u001b[0;31mSignature:\u001b[0m      \u001b[0mplt\u001b[0m\u001b[0;34m.\u001b[0m\u001b[0mcolormaps\u001b[0m\u001b[0;34m(\u001b[0m\u001b[0;34m)\u001b[0m\u001b[0;34m\u001b[0m\u001b[0;34m\u001b[0m\u001b[0m\n",
      "\u001b[0;31mType:\u001b[0m           ColormapRegistry\n",
      "\u001b[0;31mString form:\u001b[0m   \n",
      "ColormapRegistry; available colormaps:\n",
      "           'magma', 'inferno', 'plasma', 'viridis', 'cividis', 'twili <...> mako', 'mako_r', 'icefire', 'icefire_r', 'vlag', 'vlag_r', 'flare', 'flare_r', 'crest', 'crest_r'\n",
      "\u001b[0;31mLength:\u001b[0m         178\n",
      "\u001b[0;31mFile:\u001b[0m           ~/.pyenv/versions/3.11.4/envs/2521_env/lib/python3.11/site-packages/matplotlib/cm.py\n",
      "\u001b[0;31mDocstring:\u001b[0m     \n",
      "Container for colormaps that are known to Matplotlib by name.\n",
      "\n",
      "The universal registry instance is `matplotlib.colormaps`. There should be\n",
      "no need for users to instantiate `.ColormapRegistry` themselves.\n",
      "\n",
      "Read access uses a dict-like interface mapping names to `.Colormap`\\s::\n",
      "\n",
      "    import matplotlib as mpl\n",
      "    cmap = mpl.colormaps['viridis']\n",
      "\n",
      "Returned `.Colormap`\\s are copies, so that their modification does not\n",
      "change the global definition of the colormap.\n",
      "\n",
      "Additional colormaps can be added via `.ColormapRegistry.register`::\n",
      "\n",
      "    mpl.colormaps.register(my_colormap)\n",
      "\u001b[0;31mCall docstring:\u001b[0m\n",
      "Return a list of the registered colormap names.\n",
      "\n",
      "This exists only for backward-compatibility in `.pyplot` which had a\n",
      "``plt.colormaps()`` method. The recommended way to get this list is\n",
      "now ``list(colormaps)``."
     ]
    }
   ],
   "source": [
    "plt.colormaps?"
   ]
  },
  {
   "cell_type": "code",
   "execution_count": 51,
   "metadata": {},
   "outputs": [
    {
     "name": "stdout",
     "output_type": "stream",
     "text": [
      "my_list= [1, 2, 3, 4, 5, 6, 7, 8, 9, 10, 11, 12, 13, 14, 15, 16, 17, 18, 19, 20]\n",
      "my_numpy_array [ 1  2  3  4  5  6  7  8  9 10 11 12 13 14 15 16 17 18 19 20]\n"
     ]
    }
   ],
   "source": [
    "#Exercise 1:\n",
    "#Create a NumPy array of integers from 1 to 20 and find the sum, mean, median, and standard deviation of the elements.\n",
    "\n",
    "my_list=range(1,21,1)\n",
    "my_numpy_array=np.arange(1,21,1)\n",
    "\n",
    "print('my_list=', list(my_list))\n",
    "print('my_numpy_array', my_numpy_array)"
   ]
  },
  {
   "cell_type": "code",
   "execution_count": 52,
   "metadata": {},
   "outputs": [
    {
     "data": {
      "text/plain": [
       "['__bool__',\n",
       " '__class__',\n",
       " '__contains__',\n",
       " '__delattr__',\n",
       " '__dir__',\n",
       " '__doc__',\n",
       " '__eq__',\n",
       " '__format__',\n",
       " '__ge__',\n",
       " '__getattribute__',\n",
       " '__getitem__',\n",
       " '__getstate__',\n",
       " '__gt__',\n",
       " '__hash__',\n",
       " '__init__',\n",
       " '__init_subclass__',\n",
       " '__iter__',\n",
       " '__le__',\n",
       " '__len__',\n",
       " '__lt__',\n",
       " '__ne__',\n",
       " '__new__',\n",
       " '__reduce__',\n",
       " '__reduce_ex__',\n",
       " '__repr__',\n",
       " '__reversed__',\n",
       " '__setattr__',\n",
       " '__sizeof__',\n",
       " '__str__',\n",
       " '__subclasshook__',\n",
       " 'count',\n",
       " 'index',\n",
       " 'start',\n",
       " 'step',\n",
       " 'stop']"
      ]
     },
     "execution_count": 52,
     "metadata": {},
     "output_type": "execute_result"
    }
   ],
   "source": [
    "dir(my_list)"
   ]
  },
  {
   "cell_type": "code",
   "execution_count": 55,
   "metadata": {},
   "outputs": [
    {
     "data": {
      "text/plain": [
       "21"
      ]
     },
     "execution_count": 55,
     "metadata": {},
     "output_type": "execute_result"
    }
   ],
   "source": [
    "my_list.stop"
   ]
  },
  {
   "cell_type": "code",
   "execution_count": 56,
   "metadata": {},
   "outputs": [
    {
     "data": {
      "text/plain": [
       "['T',\n",
       " '__abs__',\n",
       " '__add__',\n",
       " '__and__',\n",
       " '__array__',\n",
       " '__array_finalize__',\n",
       " '__array_function__',\n",
       " '__array_interface__',\n",
       " '__array_prepare__',\n",
       " '__array_priority__',\n",
       " '__array_struct__',\n",
       " '__array_ufunc__',\n",
       " '__array_wrap__',\n",
       " '__bool__',\n",
       " '__class__',\n",
       " '__class_getitem__',\n",
       " '__complex__',\n",
       " '__contains__',\n",
       " '__copy__',\n",
       " '__deepcopy__',\n",
       " '__delattr__',\n",
       " '__delitem__',\n",
       " '__dir__',\n",
       " '__divmod__',\n",
       " '__dlpack__',\n",
       " '__dlpack_device__',\n",
       " '__doc__',\n",
       " '__eq__',\n",
       " '__float__',\n",
       " '__floordiv__',\n",
       " '__format__',\n",
       " '__ge__',\n",
       " '__getattribute__',\n",
       " '__getitem__',\n",
       " '__getstate__',\n",
       " '__gt__',\n",
       " '__hash__',\n",
       " '__iadd__',\n",
       " '__iand__',\n",
       " '__ifloordiv__',\n",
       " '__ilshift__',\n",
       " '__imatmul__',\n",
       " '__imod__',\n",
       " '__imul__',\n",
       " '__index__',\n",
       " '__init__',\n",
       " '__init_subclass__',\n",
       " '__int__',\n",
       " '__invert__',\n",
       " '__ior__',\n",
       " '__ipow__',\n",
       " '__irshift__',\n",
       " '__isub__',\n",
       " '__iter__',\n",
       " '__itruediv__',\n",
       " '__ixor__',\n",
       " '__le__',\n",
       " '__len__',\n",
       " '__lshift__',\n",
       " '__lt__',\n",
       " '__matmul__',\n",
       " '__mod__',\n",
       " '__mul__',\n",
       " '__ne__',\n",
       " '__neg__',\n",
       " '__new__',\n",
       " '__or__',\n",
       " '__pos__',\n",
       " '__pow__',\n",
       " '__radd__',\n",
       " '__rand__',\n",
       " '__rdivmod__',\n",
       " '__reduce__',\n",
       " '__reduce_ex__',\n",
       " '__repr__',\n",
       " '__rfloordiv__',\n",
       " '__rlshift__',\n",
       " '__rmatmul__',\n",
       " '__rmod__',\n",
       " '__rmul__',\n",
       " '__ror__',\n",
       " '__rpow__',\n",
       " '__rrshift__',\n",
       " '__rshift__',\n",
       " '__rsub__',\n",
       " '__rtruediv__',\n",
       " '__rxor__',\n",
       " '__setattr__',\n",
       " '__setitem__',\n",
       " '__setstate__',\n",
       " '__sizeof__',\n",
       " '__str__',\n",
       " '__sub__',\n",
       " '__subclasshook__',\n",
       " '__truediv__',\n",
       " '__xor__',\n",
       " 'all',\n",
       " 'any',\n",
       " 'argmax',\n",
       " 'argmin',\n",
       " 'argpartition',\n",
       " 'argsort',\n",
       " 'astype',\n",
       " 'base',\n",
       " 'byteswap',\n",
       " 'choose',\n",
       " 'clip',\n",
       " 'compress',\n",
       " 'conj',\n",
       " 'conjugate',\n",
       " 'copy',\n",
       " 'ctypes',\n",
       " 'cumprod',\n",
       " 'cumsum',\n",
       " 'data',\n",
       " 'diagonal',\n",
       " 'dot',\n",
       " 'dtype',\n",
       " 'dump',\n",
       " 'dumps',\n",
       " 'fill',\n",
       " 'flags',\n",
       " 'flat',\n",
       " 'flatten',\n",
       " 'getfield',\n",
       " 'imag',\n",
       " 'item',\n",
       " 'itemset',\n",
       " 'itemsize',\n",
       " 'max',\n",
       " 'mean',\n",
       " 'min',\n",
       " 'nbytes',\n",
       " 'ndim',\n",
       " 'newbyteorder',\n",
       " 'nonzero',\n",
       " 'partition',\n",
       " 'prod',\n",
       " 'ptp',\n",
       " 'put',\n",
       " 'ravel',\n",
       " 'real',\n",
       " 'repeat',\n",
       " 'reshape',\n",
       " 'resize',\n",
       " 'round',\n",
       " 'searchsorted',\n",
       " 'setfield',\n",
       " 'setflags',\n",
       " 'shape',\n",
       " 'size',\n",
       " 'sort',\n",
       " 'squeeze',\n",
       " 'std',\n",
       " 'strides',\n",
       " 'sum',\n",
       " 'swapaxes',\n",
       " 'take',\n",
       " 'tobytes',\n",
       " 'tofile',\n",
       " 'tolist',\n",
       " 'tostring',\n",
       " 'trace',\n",
       " 'transpose',\n",
       " 'var',\n",
       " 'view']"
      ]
     },
     "execution_count": 56,
     "metadata": {},
     "output_type": "execute_result"
    }
   ],
   "source": [
    "dir(my_numpy_array)"
   ]
  },
  {
   "cell_type": "code",
   "execution_count": 57,
   "metadata": {},
   "outputs": [
    {
     "name": "stdout",
     "output_type": "stream",
     "text": [
      "[1, 2, 3, 4]\n",
      "[1 2 3 4]\n"
     ]
    }
   ],
   "source": [
    "my_list2=[1, 2, 3, 4]\n",
    "my_numpy_array2=np.array([1, 2, 3, 4])\n",
    "\n",
    "print(my_list2)\n",
    "print(my_numpy_array2)"
   ]
  },
  {
   "cell_type": "code",
   "execution_count": 59,
   "metadata": {},
   "outputs": [
    {
     "name": "stdout",
     "output_type": "stream",
     "text": [
      "Mean = 10.5\n"
     ]
    }
   ],
   "source": [
    "my_numpy_array=np.arange(1, 21, 1)\n",
    "\n",
    "print('Mean =', my_numpy_array.mean())"
   ]
  },
  {
   "cell_type": "code",
   "execution_count": 61,
   "metadata": {},
   "outputs": [
    {
     "name": "stdout",
     "output_type": "stream",
     "text": [
      "Median = 10.5\n"
     ]
    }
   ],
   "source": [
    "my_numpy_array=np.arange(1, 21, 1)\n",
    "\n",
    "print('Median =', np.median(my_numpy_array))"
   ]
  },
  {
   "cell_type": "code",
   "execution_count": 60,
   "metadata": {},
   "outputs": [
    {
     "data": {
      "text/plain": [
       "['ALLOW_THREADS',\n",
       " 'BUFSIZE',\n",
       " 'CLIP',\n",
       " 'DataSource',\n",
       " 'ERR_CALL',\n",
       " 'ERR_DEFAULT',\n",
       " 'ERR_IGNORE',\n",
       " 'ERR_LOG',\n",
       " 'ERR_PRINT',\n",
       " 'ERR_RAISE',\n",
       " 'ERR_WARN',\n",
       " 'FLOATING_POINT_SUPPORT',\n",
       " 'FPE_DIVIDEBYZERO',\n",
       " 'FPE_INVALID',\n",
       " 'FPE_OVERFLOW',\n",
       " 'FPE_UNDERFLOW',\n",
       " 'False_',\n",
       " 'Inf',\n",
       " 'Infinity',\n",
       " 'MAXDIMS',\n",
       " 'MAY_SHARE_BOUNDS',\n",
       " 'MAY_SHARE_EXACT',\n",
       " 'NAN',\n",
       " 'NINF',\n",
       " 'NZERO',\n",
       " 'NaN',\n",
       " 'PINF',\n",
       " 'PZERO',\n",
       " 'RAISE',\n",
       " 'RankWarning',\n",
       " 'SHIFT_DIVIDEBYZERO',\n",
       " 'SHIFT_INVALID',\n",
       " 'SHIFT_OVERFLOW',\n",
       " 'SHIFT_UNDERFLOW',\n",
       " 'ScalarType',\n",
       " 'True_',\n",
       " 'UFUNC_BUFSIZE_DEFAULT',\n",
       " 'UFUNC_PYVALS_NAME',\n",
       " 'WRAP',\n",
       " '_CopyMode',\n",
       " '_NoValue',\n",
       " '_UFUNC_API',\n",
       " '__NUMPY_SETUP__',\n",
       " '__all__',\n",
       " '__builtins__',\n",
       " '__cached__',\n",
       " '__config__',\n",
       " '__deprecated_attrs__',\n",
       " '__dir__',\n",
       " '__doc__',\n",
       " '__expired_functions__',\n",
       " '__file__',\n",
       " '__former_attrs__',\n",
       " '__future_scalars__',\n",
       " '__getattr__',\n",
       " '__git_version__',\n",
       " '__loader__',\n",
       " '__name__',\n",
       " '__package__',\n",
       " '__path__',\n",
       " '__spec__',\n",
       " '__version__',\n",
       " '_add_newdoc_ufunc',\n",
       " '_builtins',\n",
       " '_distributor_init',\n",
       " '_financial_names',\n",
       " '_get_promotion_state',\n",
       " '_globals',\n",
       " '_int_extended_msg',\n",
       " '_mat',\n",
       " '_no_nep50_warning',\n",
       " '_pyinstaller_hooks_dir',\n",
       " '_pytesttester',\n",
       " '_set_promotion_state',\n",
       " '_specific_msg',\n",
       " '_typing',\n",
       " '_using_numpy2_behavior',\n",
       " '_utils',\n",
       " '_version',\n",
       " 'abs',\n",
       " 'absolute',\n",
       " 'add',\n",
       " 'add_docstring',\n",
       " 'add_newdoc',\n",
       " 'add_newdoc_ufunc',\n",
       " 'all',\n",
       " 'allclose',\n",
       " 'alltrue',\n",
       " 'amax',\n",
       " 'amin',\n",
       " 'angle',\n",
       " 'any',\n",
       " 'append',\n",
       " 'apply_along_axis',\n",
       " 'apply_over_axes',\n",
       " 'arange',\n",
       " 'arccos',\n",
       " 'arccosh',\n",
       " 'arcsin',\n",
       " 'arcsinh',\n",
       " 'arctan',\n",
       " 'arctan2',\n",
       " 'arctanh',\n",
       " 'argmax',\n",
       " 'argmin',\n",
       " 'argpartition',\n",
       " 'argsort',\n",
       " 'argwhere',\n",
       " 'around',\n",
       " 'array',\n",
       " 'array2string',\n",
       " 'array_equal',\n",
       " 'array_equiv',\n",
       " 'array_repr',\n",
       " 'array_split',\n",
       " 'array_str',\n",
       " 'asanyarray',\n",
       " 'asarray',\n",
       " 'asarray_chkfinite',\n",
       " 'ascontiguousarray',\n",
       " 'asfarray',\n",
       " 'asfortranarray',\n",
       " 'asmatrix',\n",
       " 'atleast_1d',\n",
       " 'atleast_2d',\n",
       " 'atleast_3d',\n",
       " 'average',\n",
       " 'bartlett',\n",
       " 'base_repr',\n",
       " 'binary_repr',\n",
       " 'bincount',\n",
       " 'bitwise_and',\n",
       " 'bitwise_not',\n",
       " 'bitwise_or',\n",
       " 'bitwise_xor',\n",
       " 'blackman',\n",
       " 'block',\n",
       " 'bmat',\n",
       " 'bool_',\n",
       " 'broadcast',\n",
       " 'broadcast_arrays',\n",
       " 'broadcast_shapes',\n",
       " 'broadcast_to',\n",
       " 'busday_count',\n",
       " 'busday_offset',\n",
       " 'busdaycalendar',\n",
       " 'byte',\n",
       " 'byte_bounds',\n",
       " 'bytes_',\n",
       " 'c_',\n",
       " 'can_cast',\n",
       " 'cast',\n",
       " 'cbrt',\n",
       " 'cdouble',\n",
       " 'ceil',\n",
       " 'cfloat',\n",
       " 'char',\n",
       " 'character',\n",
       " 'chararray',\n",
       " 'choose',\n",
       " 'clip',\n",
       " 'clongdouble',\n",
       " 'clongfloat',\n",
       " 'column_stack',\n",
       " 'common_type',\n",
       " 'compare_chararrays',\n",
       " 'compat',\n",
       " 'complex128',\n",
       " 'complex256',\n",
       " 'complex64',\n",
       " 'complex_',\n",
       " 'complexfloating',\n",
       " 'compress',\n",
       " 'concatenate',\n",
       " 'conj',\n",
       " 'conjugate',\n",
       " 'convolve',\n",
       " 'copy',\n",
       " 'copysign',\n",
       " 'copyto',\n",
       " 'corrcoef',\n",
       " 'correlate',\n",
       " 'cos',\n",
       " 'cosh',\n",
       " 'count_nonzero',\n",
       " 'cov',\n",
       " 'cross',\n",
       " 'csingle',\n",
       " 'ctypeslib',\n",
       " 'cumprod',\n",
       " 'cumproduct',\n",
       " 'cumsum',\n",
       " 'datetime64',\n",
       " 'datetime_as_string',\n",
       " 'datetime_data',\n",
       " 'deg2rad',\n",
       " 'degrees',\n",
       " 'delete',\n",
       " 'deprecate',\n",
       " 'deprecate_with_doc',\n",
       " 'diag',\n",
       " 'diag_indices',\n",
       " 'diag_indices_from',\n",
       " 'diagflat',\n",
       " 'diagonal',\n",
       " 'diff',\n",
       " 'digitize',\n",
       " 'disp',\n",
       " 'divide',\n",
       " 'divmod',\n",
       " 'dot',\n",
       " 'double',\n",
       " 'dsplit',\n",
       " 'dstack',\n",
       " 'dtype',\n",
       " 'dtypes',\n",
       " 'e',\n",
       " 'ediff1d',\n",
       " 'einsum',\n",
       " 'einsum_path',\n",
       " 'emath',\n",
       " 'empty',\n",
       " 'empty_like',\n",
       " 'equal',\n",
       " 'error_message',\n",
       " 'errstate',\n",
       " 'euler_gamma',\n",
       " 'exceptions',\n",
       " 'exp',\n",
       " 'exp2',\n",
       " 'expand_dims',\n",
       " 'expm1',\n",
       " 'extract',\n",
       " 'eye',\n",
       " 'fabs',\n",
       " 'fastCopyAndTranspose',\n",
       " 'fft',\n",
       " 'fill_diagonal',\n",
       " 'find_common_type',\n",
       " 'finfo',\n",
       " 'fix',\n",
       " 'flatiter',\n",
       " 'flatnonzero',\n",
       " 'flexible',\n",
       " 'flip',\n",
       " 'fliplr',\n",
       " 'flipud',\n",
       " 'float128',\n",
       " 'float16',\n",
       " 'float32',\n",
       " 'float64',\n",
       " 'float_',\n",
       " 'float_power',\n",
       " 'floating',\n",
       " 'floor',\n",
       " 'floor_divide',\n",
       " 'fmax',\n",
       " 'fmin',\n",
       " 'fmod',\n",
       " 'format_float_positional',\n",
       " 'format_float_scientific',\n",
       " 'format_parser',\n",
       " 'frexp',\n",
       " 'from_dlpack',\n",
       " 'frombuffer',\n",
       " 'fromfile',\n",
       " 'fromfunction',\n",
       " 'fromiter',\n",
       " 'frompyfunc',\n",
       " 'fromregex',\n",
       " 'fromstring',\n",
       " 'full',\n",
       " 'full_like',\n",
       " 'gcd',\n",
       " 'generic',\n",
       " 'genfromtxt',\n",
       " 'geomspace',\n",
       " 'get_array_wrap',\n",
       " 'get_include',\n",
       " 'get_printoptions',\n",
       " 'getbufsize',\n",
       " 'geterr',\n",
       " 'geterrcall',\n",
       " 'geterrobj',\n",
       " 'gradient',\n",
       " 'greater',\n",
       " 'greater_equal',\n",
       " 'half',\n",
       " 'hamming',\n",
       " 'hanning',\n",
       " 'heaviside',\n",
       " 'histogram',\n",
       " 'histogram2d',\n",
       " 'histogram_bin_edges',\n",
       " 'histogramdd',\n",
       " 'hsplit',\n",
       " 'hstack',\n",
       " 'hypot',\n",
       " 'i0',\n",
       " 'identity',\n",
       " 'iinfo',\n",
       " 'imag',\n",
       " 'in1d',\n",
       " 'index_exp',\n",
       " 'indices',\n",
       " 'inexact',\n",
       " 'inf',\n",
       " 'info',\n",
       " 'infty',\n",
       " 'inner',\n",
       " 'insert',\n",
       " 'int16',\n",
       " 'int32',\n",
       " 'int64',\n",
       " 'int8',\n",
       " 'int_',\n",
       " 'intc',\n",
       " 'integer',\n",
       " 'interp',\n",
       " 'intersect1d',\n",
       " 'intp',\n",
       " 'invert',\n",
       " 'is_busday',\n",
       " 'isclose',\n",
       " 'iscomplex',\n",
       " 'iscomplexobj',\n",
       " 'isfinite',\n",
       " 'isfortran',\n",
       " 'isin',\n",
       " 'isinf',\n",
       " 'isnan',\n",
       " 'isnat',\n",
       " 'isneginf',\n",
       " 'isposinf',\n",
       " 'isreal',\n",
       " 'isrealobj',\n",
       " 'isscalar',\n",
       " 'issctype',\n",
       " 'issubclass_',\n",
       " 'issubdtype',\n",
       " 'issubsctype',\n",
       " 'iterable',\n",
       " 'ix_',\n",
       " 'kaiser',\n",
       " 'kron',\n",
       " 'lcm',\n",
       " 'ldexp',\n",
       " 'left_shift',\n",
       " 'less',\n",
       " 'less_equal',\n",
       " 'lexsort',\n",
       " 'lib',\n",
       " 'linalg',\n",
       " 'linspace',\n",
       " 'little_endian',\n",
       " 'load',\n",
       " 'loadtxt',\n",
       " 'log',\n",
       " 'log10',\n",
       " 'log1p',\n",
       " 'log2',\n",
       " 'logaddexp',\n",
       " 'logaddexp2',\n",
       " 'logical_and',\n",
       " 'logical_not',\n",
       " 'logical_or',\n",
       " 'logical_xor',\n",
       " 'logspace',\n",
       " 'longcomplex',\n",
       " 'longdouble',\n",
       " 'longfloat',\n",
       " 'longlong',\n",
       " 'lookfor',\n",
       " 'ma',\n",
       " 'mask_indices',\n",
       " 'mat',\n",
       " 'matmul',\n",
       " 'matrix',\n",
       " 'max',\n",
       " 'maximum',\n",
       " 'maximum_sctype',\n",
       " 'may_share_memory',\n",
       " 'mean',\n",
       " 'median',\n",
       " 'memmap',\n",
       " 'meshgrid',\n",
       " 'mgrid',\n",
       " 'min',\n",
       " 'min_scalar_type',\n",
       " 'minimum',\n",
       " 'mintypecode',\n",
       " 'mod',\n",
       " 'modf',\n",
       " 'moveaxis',\n",
       " 'msort',\n",
       " 'multiply',\n",
       " 'nan',\n",
       " 'nan_to_num',\n",
       " 'nanargmax',\n",
       " 'nanargmin',\n",
       " 'nancumprod',\n",
       " 'nancumsum',\n",
       " 'nanmax',\n",
       " 'nanmean',\n",
       " 'nanmedian',\n",
       " 'nanmin',\n",
       " 'nanpercentile',\n",
       " 'nanprod',\n",
       " 'nanquantile',\n",
       " 'nanstd',\n",
       " 'nansum',\n",
       " 'nanvar',\n",
       " 'nbytes',\n",
       " 'ndarray',\n",
       " 'ndenumerate',\n",
       " 'ndim',\n",
       " 'ndindex',\n",
       " 'nditer',\n",
       " 'negative',\n",
       " 'nested_iters',\n",
       " 'newaxis',\n",
       " 'nextafter',\n",
       " 'nonzero',\n",
       " 'not_equal',\n",
       " 'numarray',\n",
       " 'number',\n",
       " 'obj2sctype',\n",
       " 'object_',\n",
       " 'ogrid',\n",
       " 'oldnumeric',\n",
       " 'ones',\n",
       " 'ones_like',\n",
       " 'outer',\n",
       " 'packbits',\n",
       " 'pad',\n",
       " 'partition',\n",
       " 'percentile',\n",
       " 'pi',\n",
       " 'piecewise',\n",
       " 'place',\n",
       " 'poly',\n",
       " 'poly1d',\n",
       " 'polyadd',\n",
       " 'polyder',\n",
       " 'polydiv',\n",
       " 'polyfit',\n",
       " 'polyint',\n",
       " 'polymul',\n",
       " 'polynomial',\n",
       " 'polysub',\n",
       " 'polyval',\n",
       " 'positive',\n",
       " 'power',\n",
       " 'printoptions',\n",
       " 'prod',\n",
       " 'product',\n",
       " 'promote_types',\n",
       " 'ptp',\n",
       " 'put',\n",
       " 'put_along_axis',\n",
       " 'putmask',\n",
       " 'quantile',\n",
       " 'r_',\n",
       " 'rad2deg',\n",
       " 'radians',\n",
       " 'random',\n",
       " 'ravel',\n",
       " 'ravel_multi_index',\n",
       " 'real',\n",
       " 'real_if_close',\n",
       " 'rec',\n",
       " 'recarray',\n",
       " 'recfromcsv',\n",
       " 'recfromtxt',\n",
       " 'reciprocal',\n",
       " 'record',\n",
       " 'remainder',\n",
       " 'repeat',\n",
       " 'require',\n",
       " 'reshape',\n",
       " 'resize',\n",
       " 'result_type',\n",
       " 'right_shift',\n",
       " 'rint',\n",
       " 'roll',\n",
       " 'rollaxis',\n",
       " 'roots',\n",
       " 'rot90',\n",
       " 'round',\n",
       " 'round_',\n",
       " 'row_stack',\n",
       " 's_',\n",
       " 'safe_eval',\n",
       " 'save',\n",
       " 'savetxt',\n",
       " 'savez',\n",
       " 'savez_compressed',\n",
       " 'sctype2char',\n",
       " 'sctypeDict',\n",
       " 'sctypes',\n",
       " 'searchsorted',\n",
       " 'select',\n",
       " 'set_numeric_ops',\n",
       " 'set_printoptions',\n",
       " 'set_string_function',\n",
       " 'setbufsize',\n",
       " 'setdiff1d',\n",
       " 'seterr',\n",
       " 'seterrcall',\n",
       " 'seterrobj',\n",
       " 'setxor1d',\n",
       " 'shape',\n",
       " 'shares_memory',\n",
       " 'short',\n",
       " 'show_config',\n",
       " 'show_runtime',\n",
       " 'sign',\n",
       " 'signbit',\n",
       " 'signedinteger',\n",
       " 'sin',\n",
       " 'sinc',\n",
       " 'single',\n",
       " 'singlecomplex',\n",
       " 'sinh',\n",
       " 'size',\n",
       " 'sometrue',\n",
       " 'sort',\n",
       " 'sort_complex',\n",
       " 'source',\n",
       " 'spacing',\n",
       " 'split',\n",
       " 'sqrt',\n",
       " 'square',\n",
       " 'squeeze',\n",
       " 'stack',\n",
       " 'std',\n",
       " 'str_',\n",
       " 'string_',\n",
       " 'subtract',\n",
       " 'sum',\n",
       " 'swapaxes',\n",
       " 'take',\n",
       " 'take_along_axis',\n",
       " 'tan',\n",
       " 'tanh',\n",
       " 'tensordot',\n",
       " 'test',\n",
       " 'testing',\n",
       " 'tile',\n",
       " 'timedelta64',\n",
       " 'trace',\n",
       " 'tracemalloc_domain',\n",
       " 'transpose',\n",
       " 'trapz',\n",
       " 'tri',\n",
       " 'tril',\n",
       " 'tril_indices',\n",
       " 'tril_indices_from',\n",
       " 'trim_zeros',\n",
       " 'triu',\n",
       " 'triu_indices',\n",
       " 'triu_indices_from',\n",
       " 'true_divide',\n",
       " 'trunc',\n",
       " 'typecodes',\n",
       " 'typename',\n",
       " 'ubyte',\n",
       " 'ufunc',\n",
       " 'uint',\n",
       " 'uint16',\n",
       " 'uint32',\n",
       " 'uint64',\n",
       " 'uint8',\n",
       " 'uintc',\n",
       " 'uintp',\n",
       " 'ulonglong',\n",
       " 'unicode_',\n",
       " 'union1d',\n",
       " 'unique',\n",
       " 'unpackbits',\n",
       " 'unravel_index',\n",
       " 'unsignedinteger',\n",
       " 'unwrap',\n",
       " 'ushort',\n",
       " 'vander',\n",
       " 'var',\n",
       " 'vdot',\n",
       " 'vectorize',\n",
       " 'version',\n",
       " 'void',\n",
       " 'vsplit',\n",
       " 'vstack',\n",
       " 'w',\n",
       " 'where',\n",
       " 'who',\n",
       " 'zeros',\n",
       " 'zeros_like']"
      ]
     },
     "execution_count": 60,
     "metadata": {},
     "output_type": "execute_result"
    }
   ],
   "source": [
    "dir(np)"
   ]
  },
  {
   "cell_type": "code",
   "execution_count": 64,
   "metadata": {},
   "outputs": [
    {
     "name": "stdout",
     "output_type": "stream",
     "text": [
      "Sum = 210\n"
     ]
    }
   ],
   "source": [
    "my_numpy_array=np.arange(1, 21, 1)\n",
    "\n",
    "print('Sum =', np.sum(my_numpy_array))"
   ]
  },
  {
   "cell_type": "code",
   "execution_count": 65,
   "metadata": {},
   "outputs": [
    {
     "name": "stdout",
     "output_type": "stream",
     "text": [
      "Requirement already satisfied: numpy in /Users/yogeshmore/.pyenv/versions/2521_env/lib/python3.11/site-packages (1.25.1)\n"
     ]
    }
   ],
   "source": [
    "!pip install numpy\n",
    "import numpy as np"
   ]
  },
  {
   "cell_type": "code",
   "execution_count": 67,
   "metadata": {},
   "outputs": [
    {
     "name": "stdout",
     "output_type": "stream",
     "text": [
      "[[4 8 6 2 6]\n",
      " [5 0 9 5 4]\n",
      " [1 1 0 6 3]\n",
      " [4 7 8 9 2]\n",
      " [3 3 3 9 4]]\n"
     ]
    }
   ],
   "source": [
    "# Exercise 2: 5x5 matrix, find max and min of rows and columns\n",
    "\n",
    "M=np.random.randint(0,10, (5,5))\n",
    "print(M)"
   ]
  },
  {
   "cell_type": "code",
   "execution_count": 68,
   "metadata": {},
   "outputs": [
    {
     "name": "stdout",
     "output_type": "stream",
     "text": [
      "\u001b[0;31mSignature:\u001b[0m      \n",
      "\u001b[0mnp\u001b[0m\u001b[0;34m.\u001b[0m\u001b[0mmax\u001b[0m\u001b[0;34m(\u001b[0m\u001b[0;34m\u001b[0m\n",
      "\u001b[0;34m\u001b[0m    \u001b[0ma\u001b[0m\u001b[0;34m,\u001b[0m\u001b[0;34m\u001b[0m\n",
      "\u001b[0;34m\u001b[0m    \u001b[0maxis\u001b[0m\u001b[0;34m=\u001b[0m\u001b[0;32mNone\u001b[0m\u001b[0;34m,\u001b[0m\u001b[0;34m\u001b[0m\n",
      "\u001b[0;34m\u001b[0m    \u001b[0mout\u001b[0m\u001b[0;34m=\u001b[0m\u001b[0;32mNone\u001b[0m\u001b[0;34m,\u001b[0m\u001b[0;34m\u001b[0m\n",
      "\u001b[0;34m\u001b[0m    \u001b[0mkeepdims\u001b[0m\u001b[0;34m=\u001b[0m\u001b[0;34m<\u001b[0m\u001b[0mno\u001b[0m \u001b[0mvalue\u001b[0m\u001b[0;34m>\u001b[0m\u001b[0;34m,\u001b[0m\u001b[0;34m\u001b[0m\n",
      "\u001b[0;34m\u001b[0m    \u001b[0minitial\u001b[0m\u001b[0;34m=\u001b[0m\u001b[0;34m<\u001b[0m\u001b[0mno\u001b[0m \u001b[0mvalue\u001b[0m\u001b[0;34m>\u001b[0m\u001b[0;34m,\u001b[0m\u001b[0;34m\u001b[0m\n",
      "\u001b[0;34m\u001b[0m    \u001b[0mwhere\u001b[0m\u001b[0;34m=\u001b[0m\u001b[0;34m<\u001b[0m\u001b[0mno\u001b[0m \u001b[0mvalue\u001b[0m\u001b[0;34m>\u001b[0m\u001b[0;34m,\u001b[0m\u001b[0;34m\u001b[0m\n",
      "\u001b[0;34m\u001b[0m\u001b[0;34m)\u001b[0m\u001b[0;34m\u001b[0m\u001b[0;34m\u001b[0m\u001b[0m\n",
      "\u001b[0;31mCall signature:\u001b[0m  \u001b[0mnp\u001b[0m\u001b[0;34m.\u001b[0m\u001b[0mmax\u001b[0m\u001b[0;34m(\u001b[0m\u001b[0;34m*\u001b[0m\u001b[0margs\u001b[0m\u001b[0;34m,\u001b[0m \u001b[0;34m**\u001b[0m\u001b[0mkwargs\u001b[0m\u001b[0;34m)\u001b[0m\u001b[0;34m\u001b[0m\u001b[0;34m\u001b[0m\u001b[0m\n",
      "\u001b[0;31mType:\u001b[0m            _ArrayFunctionDispatcher\n",
      "\u001b[0;31mString form:\u001b[0m     <function max at 0x10e888540>\n",
      "\u001b[0;31mFile:\u001b[0m            ~/.pyenv/versions/3.11.4/envs/2521_env/lib/python3.11/site-packages/numpy/core/fromnumeric.py\n",
      "\u001b[0;31mDocstring:\u001b[0m      \n",
      "Return the maximum of an array or maximum along an axis.\n",
      "\n",
      "Parameters\n",
      "----------\n",
      "a : array_like\n",
      "    Input data.\n",
      "axis : None or int or tuple of ints, optional\n",
      "    Axis or axes along which to operate.  By default, flattened input is\n",
      "    used.\n",
      "\n",
      "    .. versionadded:: 1.7.0\n",
      "\n",
      "    If this is a tuple of ints, the maximum is selected over multiple axes,\n",
      "    instead of a single axis or all the axes as before.\n",
      "out : ndarray, optional\n",
      "    Alternative output array in which to place the result.  Must\n",
      "    be of the same shape and buffer length as the expected output.\n",
      "    See :ref:`ufuncs-output-type` for more details.\n",
      "\n",
      "keepdims : bool, optional\n",
      "    If this is set to True, the axes which are reduced are left\n",
      "    in the result as dimensions with size one. With this option,\n",
      "    the result will broadcast correctly against the input array.\n",
      "\n",
      "    If the default value is passed, then `keepdims` will not be\n",
      "    passed through to the ``max`` method of sub-classes of\n",
      "    `ndarray`, however any non-default value will be.  If the\n",
      "    sub-class' method does not implement `keepdims` any\n",
      "    exceptions will be raised.\n",
      "\n",
      "initial : scalar, optional\n",
      "    The minimum value of an output element. Must be present to allow\n",
      "    computation on empty slice. See `~numpy.ufunc.reduce` for details.\n",
      "\n",
      "    .. versionadded:: 1.15.0\n",
      "\n",
      "where : array_like of bool, optional\n",
      "    Elements to compare for the maximum. See `~numpy.ufunc.reduce`\n",
      "    for details.\n",
      "\n",
      "    .. versionadded:: 1.17.0\n",
      "\n",
      "Returns\n",
      "-------\n",
      "max : ndarray or scalar\n",
      "    Maximum of `a`. If `axis` is None, the result is a scalar value.\n",
      "    If `axis` is an int, the result is an array of dimension\n",
      "    ``a.ndim - 1``. If `axis` is a tuple, the result is an array of \n",
      "    dimension ``a.ndim - len(axis)``.\n",
      "\n",
      "See Also\n",
      "--------\n",
      "amin :\n",
      "    The minimum value of an array along a given axis, propagating any NaNs.\n",
      "nanmax :\n",
      "    The maximum value of an array along a given axis, ignoring any NaNs.\n",
      "maximum :\n",
      "    Element-wise maximum of two arrays, propagating any NaNs.\n",
      "fmax :\n",
      "    Element-wise maximum of two arrays, ignoring any NaNs.\n",
      "argmax :\n",
      "    Return the indices of the maximum values.\n",
      "\n",
      "nanmin, minimum, fmin\n",
      "\n",
      "Notes\n",
      "-----\n",
      "NaN values are propagated, that is if at least one item is NaN, the\n",
      "corresponding max value will be NaN as well. To ignore NaN values\n",
      "(MATLAB behavior), please use nanmax.\n",
      "\n",
      "Don't use `~numpy.max` for element-wise comparison of 2 arrays; when\n",
      "``a.shape[0]`` is 2, ``maximum(a[0], a[1])`` is faster than\n",
      "``max(a, axis=0)``.\n",
      "\n",
      "Examples\n",
      "--------\n",
      ">>> a = np.arange(4).reshape((2,2))\n",
      ">>> a\n",
      "array([[0, 1],\n",
      "       [2, 3]])\n",
      ">>> np.max(a)           # Maximum of the flattened array\n",
      "3\n",
      ">>> np.max(a, axis=0)   # Maxima along the first axis\n",
      "array([2, 3])\n",
      ">>> np.max(a, axis=1)   # Maxima along the second axis\n",
      "array([1, 3])\n",
      ">>> np.max(a, where=[False, True], initial=-1, axis=0)\n",
      "array([-1,  3])\n",
      ">>> b = np.arange(5, dtype=float)\n",
      ">>> b[2] = np.NaN\n",
      ">>> np.max(b)\n",
      "nan\n",
      ">>> np.max(b, where=~np.isnan(b), initial=-1)\n",
      "4.0\n",
      ">>> np.nanmax(b)\n",
      "4.0\n",
      "\n",
      "You can use an initial value to compute the maximum of an empty slice, or\n",
      "to initialize it to a different value:\n",
      "\n",
      ">>> np.max([[-50], [10]], axis=-1, initial=0)\n",
      "array([ 0, 10])\n",
      "\n",
      "Notice that the initial value is used as one of the elements for which the\n",
      "maximum is determined, unlike for the default argument Python's max\n",
      "function, which is only used for empty iterables.\n",
      "\n",
      ">>> np.max([5], initial=6)\n",
      "6\n",
      ">>> max([5], default=6)\n",
      "5\n",
      "\u001b[0;31mClass docstring:\u001b[0m\n",
      "Class to wrap functions with checks for __array_function__ overrides.\n",
      "\n",
      "All arguments are required, and can only be passed by position.\n",
      "\n",
      "Parameters\n",
      "----------\n",
      "dispatcher : function or None\n",
      "    The dispatcher function that returns a single sequence-like object\n",
      "    of all arguments relevant.  It must have the same signature (except\n",
      "    the default values) as the actual implementation.\n",
      "    If ``None``, this is a ``like=`` dispatcher and the\n",
      "    ``_ArrayFunctionDispatcher`` must be called with ``like`` as the\n",
      "    first (additional and positional) argument.\n",
      "implementation : function\n",
      "    Function that implements the operation on NumPy arrays without\n",
      "    overrides.  Arguments passed calling the ``_ArrayFunctionDispatcher``\n",
      "    will be forwarded to this (and the ``dispatcher``) as if using\n",
      "    ``*args, **kwargs``.\n",
      "\n",
      "Attributes\n",
      "----------\n",
      "_implementation : function\n",
      "    The original implementation passed in."
     ]
    }
   ],
   "source": [
    "np.max?"
   ]
  },
  {
   "cell_type": "code",
   "execution_count": 69,
   "metadata": {},
   "outputs": [
    {
     "data": {
      "text/plain": [
       "array([[4, 8, 6, 2, 6],\n",
       "       [5, 0, 9, 5, 4],\n",
       "       [1, 1, 0, 6, 3],\n",
       "       [4, 7, 8, 9, 2],\n",
       "       [3, 3, 3, 9, 4]])"
      ]
     },
     "execution_count": 69,
     "metadata": {},
     "output_type": "execute_result"
    }
   ],
   "source": [
    "M"
   ]
  },
  {
   "cell_type": "code",
   "execution_count": 70,
   "metadata": {},
   "outputs": [
    {
     "data": {
      "text/plain": [
       "2"
      ]
     },
     "execution_count": 70,
     "metadata": {},
     "output_type": "execute_result"
    }
   ],
   "source": [
    "M[3,4]"
   ]
  },
  {
   "cell_type": "code",
   "execution_count": 72,
   "metadata": {},
   "outputs": [
    {
     "data": {
      "text/plain": [
       "array([5, 8, 9, 9, 6])"
      ]
     },
     "execution_count": 72,
     "metadata": {},
     "output_type": "execute_result"
    }
   ],
   "source": [
    "np.max(M, axis=0)  #maximum in each column"
   ]
  },
  {
   "cell_type": "code",
   "execution_count": 74,
   "metadata": {},
   "outputs": [
    {
     "data": {
      "text/plain": [
       "array([8, 9, 6, 9, 9])"
      ]
     },
     "execution_count": 74,
     "metadata": {},
     "output_type": "execute_result"
    }
   ],
   "source": [
    "M.max(axis=1) #maximum along rows"
   ]
  },
  {
   "cell_type": "markdown",
   "metadata": {},
   "source": [
    "Exercise 4: Using ```np.linspace```, Generate a NumPy array containing 100 equally spaced values between 0 and 2π (inclusive). Plot the sine and cosine functions for these values using Matplotlib."
   ]
  },
  {
   "cell_type": "code",
   "execution_count": 76,
   "metadata": {},
   "outputs": [
    {
     "name": "stdout",
     "output_type": "stream",
     "text": [
      "[0.         0.06346652 0.12693304 0.19039955 0.25386607 0.31733259\n",
      " 0.38079911 0.44426563 0.50773215 0.57119866 0.63466518 0.6981317\n",
      " 0.76159822 0.82506474 0.88853126 0.95199777 1.01546429 1.07893081\n",
      " 1.14239733 1.20586385 1.26933037 1.33279688 1.3962634  1.45972992\n",
      " 1.52319644 1.58666296 1.65012947 1.71359599 1.77706251 1.84052903\n",
      " 1.90399555 1.96746207 2.03092858 2.0943951  2.15786162 2.22132814\n",
      " 2.28479466 2.34826118 2.41172769 2.47519421 2.53866073 2.60212725\n",
      " 2.66559377 2.72906028 2.7925268  2.85599332 2.91945984 2.98292636\n",
      " 3.04639288 3.10985939 3.17332591 3.23679243 3.30025895 3.36372547\n",
      " 3.42719199 3.4906585  3.55412502 3.61759154 3.68105806 3.74452458\n",
      " 3.8079911  3.87145761 3.93492413 3.99839065 4.06185717 4.12532369\n",
      " 4.1887902  4.25225672 4.31572324 4.37918976 4.44265628 4.5061228\n",
      " 4.56958931 4.63305583 4.69652235 4.75998887 4.82345539 4.88692191\n",
      " 4.95038842 5.01385494 5.07732146 5.14078798 5.2042545  5.26772102\n",
      " 5.33118753 5.39465405 5.45812057 5.52158709 5.58505361 5.64852012\n",
      " 5.71198664 5.77545316 5.83891968 5.9023862  5.96585272 6.02931923\n",
      " 6.09278575 6.15625227 6.21971879 6.28318531]\n"
     ]
    }
   ],
   "source": [
    "x=np.linspace(0, 2*np.pi, 100)\n",
    "print(x)"
   ]
  },
  {
   "cell_type": "code",
   "execution_count": 77,
   "metadata": {},
   "outputs": [
    {
     "data": {
      "text/plain": [
       "array([ 0.00000000e+00,  6.34239197e-02,  1.26592454e-01,  1.89251244e-01,\n",
       "        2.51147987e-01,  3.12033446e-01,  3.71662456e-01,  4.29794912e-01,\n",
       "        4.86196736e-01,  5.40640817e-01,  5.92907929e-01,  6.42787610e-01,\n",
       "        6.90079011e-01,  7.34591709e-01,  7.76146464e-01,  8.14575952e-01,\n",
       "        8.49725430e-01,  8.81453363e-01,  9.09631995e-01,  9.34147860e-01,\n",
       "        9.54902241e-01,  9.71811568e-01,  9.84807753e-01,  9.93838464e-01,\n",
       "        9.98867339e-01,  9.99874128e-01,  9.96854776e-01,  9.89821442e-01,\n",
       "        9.78802446e-01,  9.63842159e-01,  9.45000819e-01,  9.22354294e-01,\n",
       "        8.95993774e-01,  8.66025404e-01,  8.32569855e-01,  7.95761841e-01,\n",
       "        7.55749574e-01,  7.12694171e-01,  6.66769001e-01,  6.18158986e-01,\n",
       "        5.67059864e-01,  5.13677392e-01,  4.58226522e-01,  4.00930535e-01,\n",
       "        3.42020143e-01,  2.81732557e-01,  2.20310533e-01,  1.58001396e-01,\n",
       "        9.50560433e-02,  3.17279335e-02, -3.17279335e-02, -9.50560433e-02,\n",
       "       -1.58001396e-01, -2.20310533e-01, -2.81732557e-01, -3.42020143e-01,\n",
       "       -4.00930535e-01, -4.58226522e-01, -5.13677392e-01, -5.67059864e-01,\n",
       "       -6.18158986e-01, -6.66769001e-01, -7.12694171e-01, -7.55749574e-01,\n",
       "       -7.95761841e-01, -8.32569855e-01, -8.66025404e-01, -8.95993774e-01,\n",
       "       -9.22354294e-01, -9.45000819e-01, -9.63842159e-01, -9.78802446e-01,\n",
       "       -9.89821442e-01, -9.96854776e-01, -9.99874128e-01, -9.98867339e-01,\n",
       "       -9.93838464e-01, -9.84807753e-01, -9.71811568e-01, -9.54902241e-01,\n",
       "       -9.34147860e-01, -9.09631995e-01, -8.81453363e-01, -8.49725430e-01,\n",
       "       -8.14575952e-01, -7.76146464e-01, -7.34591709e-01, -6.90079011e-01,\n",
       "       -6.42787610e-01, -5.92907929e-01, -5.40640817e-01, -4.86196736e-01,\n",
       "       -4.29794912e-01, -3.71662456e-01, -3.12033446e-01, -2.51147987e-01,\n",
       "       -1.89251244e-01, -1.26592454e-01, -6.34239197e-02, -2.44929360e-16])"
      ]
     },
     "execution_count": 77,
     "metadata": {},
     "output_type": "execute_result"
    }
   ],
   "source": [
    "np.sin(x) #functions in numpy are typically vectorized"
   ]
  },
  {
   "cell_type": "code",
   "execution_count": 78,
   "metadata": {},
   "outputs": [
    {
     "ename": "TypeError",
     "evalue": "only length-1 arrays can be converted to Python scalars",
     "output_type": "error",
     "traceback": [
      "\u001b[0;31m---------------------------------------------------------------------------\u001b[0m",
      "\u001b[0;31mTypeError\u001b[0m                                 Traceback (most recent call last)",
      "Cell \u001b[0;32mIn[78], line 2\u001b[0m\n\u001b[1;32m      1\u001b[0m \u001b[39mimport\u001b[39;00m \u001b[39mmath\u001b[39;00m\n\u001b[0;32m----> 2\u001b[0m math\u001b[39m.\u001b[39;49msin(x)\n",
      "\u001b[0;31mTypeError\u001b[0m: only length-1 arrays can be converted to Python scalars"
     ]
    }
   ],
   "source": [
    "import math\n",
    "math.sin(x) #sin in math is NOT vectorized"
   ]
  },
  {
   "cell_type": "code",
   "execution_count": 79,
   "metadata": {},
   "outputs": [
    {
     "data": {
      "text/plain": [
       "1.0"
      ]
     },
     "execution_count": 79,
     "metadata": {},
     "output_type": "execute_result"
    }
   ],
   "source": [
    "math.sin(math.pi/2)"
   ]
  },
  {
   "cell_type": "code",
   "execution_count": 80,
   "metadata": {},
   "outputs": [],
   "source": [
    "import matplotlib.pyplot as plt"
   ]
  },
  {
   "cell_type": "code",
   "execution_count": 81,
   "metadata": {},
   "outputs": [
    {
     "name": "stdout",
     "output_type": "stream",
     "text": [
      "\u001b[0;31mSignature:\u001b[0m \u001b[0mplt\u001b[0m\u001b[0;34m.\u001b[0m\u001b[0mplot\u001b[0m\u001b[0;34m(\u001b[0m\u001b[0;34m*\u001b[0m\u001b[0margs\u001b[0m\u001b[0;34m,\u001b[0m \u001b[0mscalex\u001b[0m\u001b[0;34m=\u001b[0m\u001b[0;32mTrue\u001b[0m\u001b[0;34m,\u001b[0m \u001b[0mscaley\u001b[0m\u001b[0;34m=\u001b[0m\u001b[0;32mTrue\u001b[0m\u001b[0;34m,\u001b[0m \u001b[0mdata\u001b[0m\u001b[0;34m=\u001b[0m\u001b[0;32mNone\u001b[0m\u001b[0;34m,\u001b[0m \u001b[0;34m**\u001b[0m\u001b[0mkwargs\u001b[0m\u001b[0;34m)\u001b[0m\u001b[0;34m\u001b[0m\u001b[0;34m\u001b[0m\u001b[0m\n",
      "\u001b[0;31mDocstring:\u001b[0m\n",
      "Plot y versus x as lines and/or markers.\n",
      "\n",
      "Call signatures::\n",
      "\n",
      "    plot([x], y, [fmt], *, data=None, **kwargs)\n",
      "    plot([x], y, [fmt], [x2], y2, [fmt2], ..., **kwargs)\n",
      "\n",
      "The coordinates of the points or line nodes are given by *x*, *y*.\n",
      "\n",
      "The optional parameter *fmt* is a convenient way for defining basic\n",
      "formatting like color, marker and linestyle. It's a shortcut string\n",
      "notation described in the *Notes* section below.\n",
      "\n",
      ">>> plot(x, y)        # plot x and y using default line style and color\n",
      ">>> plot(x, y, 'bo')  # plot x and y using blue circle markers\n",
      ">>> plot(y)           # plot y using x as index array 0..N-1\n",
      ">>> plot(y, 'r+')     # ditto, but with red plusses\n",
      "\n",
      "You can use `.Line2D` properties as keyword arguments for more\n",
      "control on the appearance. Line properties and *fmt* can be mixed.\n",
      "The following two calls yield identical results:\n",
      "\n",
      ">>> plot(x, y, 'go--', linewidth=2, markersize=12)\n",
      ">>> plot(x, y, color='green', marker='o', linestyle='dashed',\n",
      "...      linewidth=2, markersize=12)\n",
      "\n",
      "When conflicting with *fmt*, keyword arguments take precedence.\n",
      "\n",
      "\n",
      "**Plotting labelled data**\n",
      "\n",
      "There's a convenient way for plotting objects with labelled data (i.e.\n",
      "data that can be accessed by index ``obj['y']``). Instead of giving\n",
      "the data in *x* and *y*, you can provide the object in the *data*\n",
      "parameter and just give the labels for *x* and *y*::\n",
      "\n",
      ">>> plot('xlabel', 'ylabel', data=obj)\n",
      "\n",
      "All indexable objects are supported. This could e.g. be a `dict`, a\n",
      "`pandas.DataFrame` or a structured numpy array.\n",
      "\n",
      "\n",
      "**Plotting multiple sets of data**\n",
      "\n",
      "There are various ways to plot multiple sets of data.\n",
      "\n",
      "- The most straight forward way is just to call `plot` multiple times.\n",
      "  Example:\n",
      "\n",
      "  >>> plot(x1, y1, 'bo')\n",
      "  >>> plot(x2, y2, 'go')\n",
      "\n",
      "- If *x* and/or *y* are 2D arrays a separate data set will be drawn\n",
      "  for every column. If both *x* and *y* are 2D, they must have the\n",
      "  same shape. If only one of them is 2D with shape (N, m) the other\n",
      "  must have length N and will be used for every data set m.\n",
      "\n",
      "  Example:\n",
      "\n",
      "  >>> x = [1, 2, 3]\n",
      "  >>> y = np.array([[1, 2], [3, 4], [5, 6]])\n",
      "  >>> plot(x, y)\n",
      "\n",
      "  is equivalent to:\n",
      "\n",
      "  >>> for col in range(y.shape[1]):\n",
      "  ...     plot(x, y[:, col])\n",
      "\n",
      "- The third way is to specify multiple sets of *[x]*, *y*, *[fmt]*\n",
      "  groups::\n",
      "\n",
      "  >>> plot(x1, y1, 'g^', x2, y2, 'g-')\n",
      "\n",
      "  In this case, any additional keyword argument applies to all\n",
      "  datasets. Also, this syntax cannot be combined with the *data*\n",
      "  parameter.\n",
      "\n",
      "By default, each line is assigned a different style specified by a\n",
      "'style cycle'. The *fmt* and line property parameters are only\n",
      "necessary if you want explicit deviations from these defaults.\n",
      "Alternatively, you can also change the style cycle using\n",
      ":rc:`axes.prop_cycle`.\n",
      "\n",
      "\n",
      "Parameters\n",
      "----------\n",
      "x, y : array-like or scalar\n",
      "    The horizontal / vertical coordinates of the data points.\n",
      "    *x* values are optional and default to ``range(len(y))``.\n",
      "\n",
      "    Commonly, these parameters are 1D arrays.\n",
      "\n",
      "    They can also be scalars, or two-dimensional (in that case, the\n",
      "    columns represent separate data sets).\n",
      "\n",
      "    These arguments cannot be passed as keywords.\n",
      "\n",
      "fmt : str, optional\n",
      "    A format string, e.g. 'ro' for red circles. See the *Notes*\n",
      "    section for a full description of the format strings.\n",
      "\n",
      "    Format strings are just an abbreviation for quickly setting\n",
      "    basic line properties. All of these and more can also be\n",
      "    controlled by keyword arguments.\n",
      "\n",
      "    This argument cannot be passed as keyword.\n",
      "\n",
      "data : indexable object, optional\n",
      "    An object with labelled data. If given, provide the label names to\n",
      "    plot in *x* and *y*.\n",
      "\n",
      "    .. note::\n",
      "        Technically there's a slight ambiguity in calls where the\n",
      "        second label is a valid *fmt*. ``plot('n', 'o', data=obj)``\n",
      "        could be ``plt(x, y)`` or ``plt(y, fmt)``. In such cases,\n",
      "        the former interpretation is chosen, but a warning is issued.\n",
      "        You may suppress the warning by adding an empty format string\n",
      "        ``plot('n', 'o', '', data=obj)``.\n",
      "\n",
      "Returns\n",
      "-------\n",
      "list of `.Line2D`\n",
      "    A list of lines representing the plotted data.\n",
      "\n",
      "Other Parameters\n",
      "----------------\n",
      "scalex, scaley : bool, default: True\n",
      "    These parameters determine if the view limits are adapted to the\n",
      "    data limits. The values are passed on to\n",
      "    `~.axes.Axes.autoscale_view`.\n",
      "\n",
      "**kwargs : `~matplotlib.lines.Line2D` properties, optional\n",
      "    *kwargs* are used to specify properties like a line label (for\n",
      "    auto legends), linewidth, antialiasing, marker face color.\n",
      "    Example::\n",
      "\n",
      "    >>> plot([1, 2, 3], [1, 2, 3], 'go-', label='line 1', linewidth=2)\n",
      "    >>> plot([1, 2, 3], [1, 4, 9], 'rs', label='line 2')\n",
      "\n",
      "    If you specify multiple lines with one plot call, the kwargs apply\n",
      "    to all those lines. In case the label object is iterable, each\n",
      "    element is used as labels for each set of data.\n",
      "\n",
      "    Here is a list of available `.Line2D` properties:\n",
      "\n",
      "    Properties:\n",
      "    agg_filter: a filter function, which takes a (m, n, 3) float array and a dpi value, and returns a (m, n, 3) array and two offsets from the bottom left corner of the image\n",
      "    alpha: scalar or None\n",
      "    animated: bool\n",
      "    antialiased or aa: bool\n",
      "    clip_box: `.Bbox`\n",
      "    clip_on: bool\n",
      "    clip_path: Patch or (Path, Transform) or None\n",
      "    color or c: color\n",
      "    dash_capstyle: `.CapStyle` or {'butt', 'projecting', 'round'}\n",
      "    dash_joinstyle: `.JoinStyle` or {'miter', 'round', 'bevel'}\n",
      "    dashes: sequence of floats (on/off ink in points) or (None, None)\n",
      "    data: (2, N) array or two 1D arrays\n",
      "    drawstyle or ds: {'default', 'steps', 'steps-pre', 'steps-mid', 'steps-post'}, default: 'default'\n",
      "    figure: `.Figure`\n",
      "    fillstyle: {'full', 'left', 'right', 'bottom', 'top', 'none'}\n",
      "    gapcolor: color or None\n",
      "    gid: str\n",
      "    in_layout: bool\n",
      "    label: object\n",
      "    linestyle or ls: {'-', '--', '-.', ':', '', (offset, on-off-seq), ...}\n",
      "    linewidth or lw: float\n",
      "    marker: marker style string, `~.path.Path` or `~.markers.MarkerStyle`\n",
      "    markeredgecolor or mec: color\n",
      "    markeredgewidth or mew: float\n",
      "    markerfacecolor or mfc: color\n",
      "    markerfacecoloralt or mfcalt: color\n",
      "    markersize or ms: float\n",
      "    markevery: None or int or (int, int) or slice or list[int] or float or (float, float) or list[bool]\n",
      "    mouseover: bool\n",
      "    path_effects: `.AbstractPathEffect`\n",
      "    picker: float or callable[[Artist, Event], tuple[bool, dict]]\n",
      "    pickradius: unknown\n",
      "    rasterized: bool\n",
      "    sketch_params: (scale: float, length: float, randomness: float)\n",
      "    snap: bool or None\n",
      "    solid_capstyle: `.CapStyle` or {'butt', 'projecting', 'round'}\n",
      "    solid_joinstyle: `.JoinStyle` or {'miter', 'round', 'bevel'}\n",
      "    transform: unknown\n",
      "    url: str\n",
      "    visible: bool\n",
      "    xdata: 1D array\n",
      "    ydata: 1D array\n",
      "    zorder: float\n",
      "\n",
      "See Also\n",
      "--------\n",
      "scatter : XY scatter plot with markers of varying size and/or color (\n",
      "    sometimes also called bubble chart).\n",
      "\n",
      "Notes\n",
      "-----\n",
      "**Format Strings**\n",
      "\n",
      "A format string consists of a part for color, marker and line::\n",
      "\n",
      "    fmt = '[marker][line][color]'\n",
      "\n",
      "Each of them is optional. If not provided, the value from the style\n",
      "cycle is used. Exception: If ``line`` is given, but no ``marker``,\n",
      "the data will be a line without markers.\n",
      "\n",
      "Other combinations such as ``[color][marker][line]`` are also\n",
      "supported, but note that their parsing may be ambiguous.\n",
      "\n",
      "**Markers**\n",
      "\n",
      "=============   ===============================\n",
      "character       description\n",
      "=============   ===============================\n",
      "``'.'``         point marker\n",
      "``','``         pixel marker\n",
      "``'o'``         circle marker\n",
      "``'v'``         triangle_down marker\n",
      "``'^'``         triangle_up marker\n",
      "``'<'``         triangle_left marker\n",
      "``'>'``         triangle_right marker\n",
      "``'1'``         tri_down marker\n",
      "``'2'``         tri_up marker\n",
      "``'3'``         tri_left marker\n",
      "``'4'``         tri_right marker\n",
      "``'8'``         octagon marker\n",
      "``'s'``         square marker\n",
      "``'p'``         pentagon marker\n",
      "``'P'``         plus (filled) marker\n",
      "``'*'``         star marker\n",
      "``'h'``         hexagon1 marker\n",
      "``'H'``         hexagon2 marker\n",
      "``'+'``         plus marker\n",
      "``'x'``         x marker\n",
      "``'X'``         x (filled) marker\n",
      "``'D'``         diamond marker\n",
      "``'d'``         thin_diamond marker\n",
      "``'|'``         vline marker\n",
      "``'_'``         hline marker\n",
      "=============   ===============================\n",
      "\n",
      "**Line Styles**\n",
      "\n",
      "=============    ===============================\n",
      "character        description\n",
      "=============    ===============================\n",
      "``'-'``          solid line style\n",
      "``'--'``         dashed line style\n",
      "``'-.'``         dash-dot line style\n",
      "``':'``          dotted line style\n",
      "=============    ===============================\n",
      "\n",
      "Example format strings::\n",
      "\n",
      "    'b'    # blue markers with default shape\n",
      "    'or'   # red circles\n",
      "    '-g'   # green solid line\n",
      "    '--'   # dashed line with default color\n",
      "    '^k:'  # black triangle_up markers connected by a dotted line\n",
      "\n",
      "**Colors**\n",
      "\n",
      "The supported color abbreviations are the single letter codes\n",
      "\n",
      "=============    ===============================\n",
      "character        color\n",
      "=============    ===============================\n",
      "``'b'``          blue\n",
      "``'g'``          green\n",
      "``'r'``          red\n",
      "``'c'``          cyan\n",
      "``'m'``          magenta\n",
      "``'y'``          yellow\n",
      "``'k'``          black\n",
      "``'w'``          white\n",
      "=============    ===============================\n",
      "\n",
      "and the ``'CN'`` colors that index into the default property cycle.\n",
      "\n",
      "If the color is the only part of the format string, you can\n",
      "additionally use any  `matplotlib.colors` spec, e.g. full names\n",
      "(``'green'``) or hex strings (``'#008000'``).\n",
      "\u001b[0;31mFile:\u001b[0m      ~/.pyenv/versions/3.11.4/envs/2521_env/lib/python3.11/site-packages/matplotlib/pyplot.py\n",
      "\u001b[0;31mType:\u001b[0m      function"
     ]
    }
   ],
   "source": [
    "plt.plot?"
   ]
  },
  {
   "cell_type": "code",
   "execution_count": 85,
   "metadata": {},
   "outputs": [
    {
     "data": {
      "text/plain": [
       "[<matplotlib.lines.Line2D at 0x12b367bd0>]"
      ]
     },
     "execution_count": 85,
     "metadata": {},
     "output_type": "execute_result"
    },
    {
     "data": {
      "image/png": "[encoded data removed]",
      "text/plain": [
       "<Figure size 640x480 with 1 Axes>"
      ]
     },
     "metadata": {},
     "output_type": "display_data"
    }
   ],
   "source": [
    "plt.plot(x, np.sin(x))\n",
    "plt.plot(x, np.cos(x), 'r')"
   ]
  },
  {
   "cell_type": "markdown",
   "metadata": {},
   "source": [
    "Exercise 5: Create a 2D NumPy array representing a chessboard with alternating 0s and 1s. Display the chessboard using Matplotlib's imshow() function."
   ]
  },
  {
   "cell_type": "code",
   "execution_count": 86,
   "metadata": {},
   "outputs": [
    {
     "name": "stdout",
     "output_type": "stream",
     "text": [
      "\u001b[0;31mSignature:\u001b[0m\n",
      "\u001b[0mplt\u001b[0m\u001b[0;34m.\u001b[0m\u001b[0mimshow\u001b[0m\u001b[0;34m(\u001b[0m\u001b[0;34m\u001b[0m\n",
      "\u001b[0;34m\u001b[0m    \u001b[0mX\u001b[0m\u001b[0;34m,\u001b[0m\u001b[0;34m\u001b[0m\n",
      "\u001b[0;34m\u001b[0m    \u001b[0mcmap\u001b[0m\u001b[0;34m=\u001b[0m\u001b[0;32mNone\u001b[0m\u001b[0;34m,\u001b[0m\u001b[0;34m\u001b[0m\n",
      "\u001b[0;34m\u001b[0m    \u001b[0mnorm\u001b[0m\u001b[0;34m=\u001b[0m\u001b[0;32mNone\u001b[0m\u001b[0;34m,\u001b[0m\u001b[0;34m\u001b[0m\n",
      "\u001b[0;34m\u001b[0m    \u001b[0;34m*\u001b[0m\u001b[0;34m,\u001b[0m\u001b[0;34m\u001b[0m\n",
      "\u001b[0;34m\u001b[0m    \u001b[0maspect\u001b[0m\u001b[0;34m=\u001b[0m\u001b[0;32mNone\u001b[0m\u001b[0;34m,\u001b[0m\u001b[0;34m\u001b[0m\n",
      "\u001b[0;34m\u001b[0m    \u001b[0minterpolation\u001b[0m\u001b[0;34m=\u001b[0m\u001b[0;32mNone\u001b[0m\u001b[0;34m,\u001b[0m\u001b[0;34m\u001b[0m\n",
      "\u001b[0;34m\u001b[0m    \u001b[0malpha\u001b[0m\u001b[0;34m=\u001b[0m\u001b[0;32mNone\u001b[0m\u001b[0;34m,\u001b[0m\u001b[0;34m\u001b[0m\n",
      "\u001b[0;34m\u001b[0m    \u001b[0mvmin\u001b[0m\u001b[0;34m=\u001b[0m\u001b[0;32mNone\u001b[0m\u001b[0;34m,\u001b[0m\u001b[0;34m\u001b[0m\n",
      "\u001b[0;34m\u001b[0m    \u001b[0mvmax\u001b[0m\u001b[0;34m=\u001b[0m\u001b[0;32mNone\u001b[0m\u001b[0;34m,\u001b[0m\u001b[0;34m\u001b[0m\n",
      "\u001b[0;34m\u001b[0m    \u001b[0morigin\u001b[0m\u001b[0;34m=\u001b[0m\u001b[0;32mNone\u001b[0m\u001b[0;34m,\u001b[0m\u001b[0;34m\u001b[0m\n",
      "\u001b[0;34m\u001b[0m    \u001b[0mextent\u001b[0m\u001b[0;34m=\u001b[0m\u001b[0;32mNone\u001b[0m\u001b[0;34m,\u001b[0m\u001b[0;34m\u001b[0m\n",
      "\u001b[0;34m\u001b[0m    \u001b[0minterpolation_stage\u001b[0m\u001b[0;34m=\u001b[0m\u001b[0;32mNone\u001b[0m\u001b[0;34m,\u001b[0m\u001b[0;34m\u001b[0m\n",
      "\u001b[0;34m\u001b[0m    \u001b[0mfilternorm\u001b[0m\u001b[0;34m=\u001b[0m\u001b[0;32mTrue\u001b[0m\u001b[0;34m,\u001b[0m\u001b[0;34m\u001b[0m\n",
      "\u001b[0;34m\u001b[0m    \u001b[0mfilterrad\u001b[0m\u001b[0;34m=\u001b[0m\u001b[0;36m4.0\u001b[0m\u001b[0;34m,\u001b[0m\u001b[0;34m\u001b[0m\n",
      "\u001b[0;34m\u001b[0m    \u001b[0mresample\u001b[0m\u001b[0;34m=\u001b[0m\u001b[0;32mNone\u001b[0m\u001b[0;34m,\u001b[0m\u001b[0;34m\u001b[0m\n",
      "\u001b[0;34m\u001b[0m    \u001b[0murl\u001b[0m\u001b[0;34m=\u001b[0m\u001b[0;32mNone\u001b[0m\u001b[0;34m,\u001b[0m\u001b[0;34m\u001b[0m\n",
      "\u001b[0;34m\u001b[0m    \u001b[0mdata\u001b[0m\u001b[0;34m=\u001b[0m\u001b[0;32mNone\u001b[0m\u001b[0;34m,\u001b[0m\u001b[0;34m\u001b[0m\n",
      "\u001b[0;34m\u001b[0m    \u001b[0;34m**\u001b[0m\u001b[0mkwargs\u001b[0m\u001b[0;34m,\u001b[0m\u001b[0;34m\u001b[0m\n",
      "\u001b[0;34m\u001b[0m\u001b[0;34m)\u001b[0m\u001b[0;34m\u001b[0m\u001b[0;34m\u001b[0m\u001b[0m\n",
      "\u001b[0;31mDocstring:\u001b[0m\n",
      "Display data as an image, i.e., on a 2D regular raster.\n",
      "\n",
      "The input may either be actual RGB(A) data, or 2D scalar data, which\n",
      "will be rendered as a pseudocolor image. For displaying a grayscale\n",
      "image set up the colormapping using the parameters\n",
      "``cmap='gray', vmin=0, vmax=255``.\n",
      "\n",
      "The number of pixels used to render an image is set by the Axes size\n",
      "and the *dpi* of the figure. This can lead to aliasing artifacts when\n",
      "the image is resampled because the displayed image size will usually\n",
      "not match the size of *X* (see\n",
      ":doc:`/gallery/images_contours_and_fields/image_antialiasing`).\n",
      "The resampling can be controlled via the *interpolation* parameter\n",
      "and/or :rc:`image.interpolation`.\n",
      "\n",
      "Parameters\n",
      "----------\n",
      "X : array-like or PIL image\n",
      "    The image data. Supported array shapes are:\n",
      "\n",
      "    - (M, N): an image with scalar data. The values are mapped to\n",
      "      colors using normalization and a colormap. See parameters *norm*,\n",
      "      *cmap*, *vmin*, *vmax*.\n",
      "    - (M, N, 3): an image with RGB values (0-1 float or 0-255 int).\n",
      "    - (M, N, 4): an image with RGBA values (0-1 float or 0-255 int),\n",
      "      i.e. including transparency.\n",
      "\n",
      "    The first two dimensions (M, N) define the rows and columns of\n",
      "    the image.\n",
      "\n",
      "    Out-of-range RGB(A) values are clipped.\n",
      "\n",
      "cmap : str or `~matplotlib.colors.Colormap`, default: :rc:`image.cmap`\n",
      "    The Colormap instance or registered colormap name used to map scalar data\n",
      "    to colors.\n",
      "\n",
      "    This parameter is ignored if *X* is RGB(A).\n",
      "\n",
      "norm : str or `~matplotlib.colors.Normalize`, optional\n",
      "    The normalization method used to scale scalar data to the [0, 1] range\n",
      "    before mapping to colors using *cmap*. By default, a linear scaling is\n",
      "    used, mapping the lowest value to 0 and the highest to 1.\n",
      "\n",
      "    If given, this can be one of the following:\n",
      "\n",
      "    - An instance of `.Normalize` or one of its subclasses\n",
      "      (see :doc:`/tutorials/colors/colormapnorms`).\n",
      "    - A scale name, i.e. one of \"linear\", \"log\", \"symlog\", \"logit\", etc.  For a\n",
      "      list of available scales, call `matplotlib.scale.get_scale_names()`.\n",
      "      In that case, a suitable `.Normalize` subclass is dynamically generated\n",
      "      and instantiated.\n",
      "\n",
      "    This parameter is ignored if *X* is RGB(A).\n",
      "\n",
      "vmin, vmax : float, optional\n",
      "    When using scalar data and no explicit *norm*, *vmin* and *vmax* define\n",
      "    the data range that the colormap covers. By default, the colormap covers\n",
      "    the complete value range of the supplied data. It is an error to use\n",
      "    *vmin*/*vmax* when a *norm* instance is given (but using a `str` *norm*\n",
      "    name together with *vmin*/*vmax* is acceptable).\n",
      "\n",
      "    This parameter is ignored if *X* is RGB(A).\n",
      "\n",
      "aspect : {'equal', 'auto'} or float, default: :rc:`image.aspect`\n",
      "    The aspect ratio of the Axes.  This parameter is particularly\n",
      "    relevant for images since it determines whether data pixels are\n",
      "    square.\n",
      "\n",
      "    This parameter is a shortcut for explicitly calling\n",
      "    `.Axes.set_aspect`. See there for further details.\n",
      "\n",
      "    - 'equal': Ensures an aspect ratio of 1. Pixels will be square\n",
      "      (unless pixel sizes are explicitly made non-square in data\n",
      "      coordinates using *extent*).\n",
      "    - 'auto': The Axes is kept fixed and the aspect is adjusted so\n",
      "      that the data fit in the Axes. In general, this will result in\n",
      "      non-square pixels.\n",
      "\n",
      "interpolation : str, default: :rc:`image.interpolation`\n",
      "    The interpolation method used.\n",
      "\n",
      "    Supported values are 'none', 'antialiased', 'nearest', 'bilinear',\n",
      "    'bicubic', 'spline16', 'spline36', 'hanning', 'hamming', 'hermite',\n",
      "    'kaiser', 'quadric', 'catrom', 'gaussian', 'bessel', 'mitchell',\n",
      "    'sinc', 'lanczos', 'blackman'.\n",
      "\n",
      "    The data *X* is resampled to the pixel size of the image on the\n",
      "    figure canvas, using the interpolation method to either up- or\n",
      "    downsample the data.\n",
      "\n",
      "    If *interpolation* is 'none', then for the ps, pdf, and svg\n",
      "    backends no down- or upsampling occurs, and the image data is\n",
      "    passed to the backend as a native image.  Note that different ps,\n",
      "    pdf, and svg viewers may display these raw pixels differently. On\n",
      "    other backends, 'none' is the same as 'nearest'.\n",
      "\n",
      "    If *interpolation* is the default 'antialiased', then 'nearest'\n",
      "    interpolation is used if the image is upsampled by more than a\n",
      "    factor of three (i.e. the number of display pixels is at least\n",
      "    three times the size of the data array).  If the upsampling rate is\n",
      "    smaller than 3, or the image is downsampled, then 'hanning'\n",
      "    interpolation is used to act as an anti-aliasing filter, unless the\n",
      "    image happens to be upsampled by exactly a factor of two or one.\n",
      "\n",
      "    See\n",
      "    :doc:`/gallery/images_contours_and_fields/interpolation_methods`\n",
      "    for an overview of the supported interpolation methods, and\n",
      "    :doc:`/gallery/images_contours_and_fields/image_antialiasing` for\n",
      "    a discussion of image antialiasing.\n",
      "\n",
      "    Some interpolation methods require an additional radius parameter,\n",
      "    which can be set by *filterrad*. Additionally, the antigrain image\n",
      "    resize filter is controlled by the parameter *filternorm*.\n",
      "\n",
      "interpolation_stage : {'data', 'rgba'}, default: 'data'\n",
      "    If 'data', interpolation\n",
      "    is carried out on the data provided by the user.  If 'rgba', the\n",
      "    interpolation is carried out after the colormapping has been\n",
      "    applied (visual interpolation).\n",
      "\n",
      "alpha : float or array-like, optional\n",
      "    The alpha blending value, between 0 (transparent) and 1 (opaque).\n",
      "    If *alpha* is an array, the alpha blending values are applied pixel\n",
      "    by pixel, and *alpha* must have the same shape as *X*.\n",
      "\n",
      "origin : {'upper', 'lower'}, default: :rc:`image.origin`\n",
      "    Place the [0, 0] index of the array in the upper left or lower\n",
      "    left corner of the Axes. The convention (the default) 'upper' is\n",
      "    typically used for matrices and images.\n",
      "\n",
      "    Note that the vertical axis points upward for 'lower'\n",
      "    but downward for 'upper'.\n",
      "\n",
      "    See the :doc:`/tutorials/intermediate/imshow_extent` tutorial for\n",
      "    examples and a more detailed description.\n",
      "\n",
      "extent : floats (left, right, bottom, top), optional\n",
      "    The bounding box in data coordinates that the image will fill.\n",
      "    These values may be unitful and match the units of the Axes.\n",
      "    The image is stretched individually along x and y to fill the box.\n",
      "\n",
      "    The default extent is determined by the following conditions.\n",
      "    Pixels have unit size in data coordinates. Their centers are on\n",
      "    integer coordinates, and their center coordinates range from 0 to\n",
      "    columns-1 horizontally and from 0 to rows-1 vertically.\n",
      "\n",
      "    Note that the direction of the vertical axis and thus the default\n",
      "    values for top and bottom depend on *origin*:\n",
      "\n",
      "    - For ``origin == 'upper'`` the default is\n",
      "      ``(-0.5, numcols-0.5, numrows-0.5, -0.5)``.\n",
      "    - For ``origin == 'lower'`` the default is\n",
      "      ``(-0.5, numcols-0.5, -0.5, numrows-0.5)``.\n",
      "\n",
      "    See the :doc:`/tutorials/intermediate/imshow_extent` tutorial for\n",
      "    examples and a more detailed description.\n",
      "\n",
      "filternorm : bool, default: True\n",
      "    A parameter for the antigrain image resize filter (see the\n",
      "    antigrain documentation).  If *filternorm* is set, the filter\n",
      "    normalizes integer values and corrects the rounding errors. It\n",
      "    doesn't do anything with the source floating point values, it\n",
      "    corrects only integers according to the rule of 1.0 which means\n",
      "    that any sum of pixel weights must be equal to 1.0.  So, the\n",
      "    filter function must produce a graph of the proper shape.\n",
      "\n",
      "filterrad : float > 0, default: 4.0\n",
      "    The filter radius for filters that have a radius parameter, i.e.\n",
      "    when interpolation is one of: 'sinc', 'lanczos' or 'blackman'.\n",
      "\n",
      "resample : bool, default: :rc:`image.resample`\n",
      "    When *True*, use a full resampling method.  When *False*, only\n",
      "    resample when the output image is larger than the input image.\n",
      "\n",
      "url : str, optional\n",
      "    Set the url of the created `.AxesImage`. See `.Artist.set_url`.\n",
      "\n",
      "Returns\n",
      "-------\n",
      "`~matplotlib.image.AxesImage`\n",
      "\n",
      "Other Parameters\n",
      "----------------\n",
      "data : indexable object, optional\n",
      "    If given, all parameters also accept a string ``s``, which is\n",
      "    interpreted as ``data[s]`` (unless this raises an exception).\n",
      "\n",
      "**kwargs : `~matplotlib.artist.Artist` properties\n",
      "    These parameters are passed on to the constructor of the\n",
      "    `.AxesImage` artist.\n",
      "\n",
      "See Also\n",
      "--------\n",
      "matshow : Plot a matrix or an array as an image.\n",
      "\n",
      "Notes\n",
      "-----\n",
      "Unless *extent* is used, pixel centers will be located at integer\n",
      "coordinates. In other words: the origin will coincide with the center\n",
      "of pixel (0, 0).\n",
      "\n",
      "There are two common representations for RGB images with an alpha\n",
      "channel:\n",
      "\n",
      "-   Straight (unassociated) alpha: R, G, and B channels represent the\n",
      "    color of the pixel, disregarding its opacity.\n",
      "-   Premultiplied (associated) alpha: R, G, and B channels represent\n",
      "    the color of the pixel, adjusted for its opacity by multiplication.\n",
      "\n",
      "`~matplotlib.pyplot.imshow` expects RGB images adopting the straight\n",
      "(unassociated) alpha representation.\n",
      "\u001b[0;31mFile:\u001b[0m      ~/.pyenv/versions/3.11.4/envs/2521_env/lib/python3.11/site-packages/matplotlib/pyplot.py\n",
      "\u001b[0;31mType:\u001b[0m      function"
     ]
    }
   ],
   "source": [
    "plt.imshow?"
   ]
  },
  {
   "cell_type": "code",
   "execution_count": 89,
   "metadata": {},
   "outputs": [
    {
     "name": "stdout",
     "output_type": "stream",
     "text": [
      "[[0 1]\n",
      " [1 0]]\n"
     ]
    }
   ],
   "source": [
    "M=np.array([0,1,1,0]).reshape(2,2)\n",
    "print(M)"
   ]
  },
  {
   "cell_type": "code",
   "execution_count": 90,
   "metadata": {},
   "outputs": [
    {
     "data": {
      "text/plain": [
       "<matplotlib.image.AxesImage at 0x12b5b8750>"
      ]
     },
     "execution_count": 90,
     "metadata": {},
     "output_type": "execute_result"
    },
    {
     "data": {
      "image/png": "[encoded data removed]",
      "text/plain": [
       "<Figure size 640x480 with 1 Axes>"
      ]
     },
     "metadata": {},
     "output_type": "display_data"
    }
   ],
   "source": [
    "plt.imshow(M)"
   ]
  },
  {
   "cell_type": "code",
   "execution_count": 94,
   "metadata": {},
   "outputs": [
    {
     "data": {
      "text/plain": [
       "<matplotlib.image.AxesImage at 0x12b73dc10>"
      ]
     },
     "execution_count": 94,
     "metadata": {},
     "output_type": "execute_result"
    },
    {
     "data": {
      "image/png": "[encoded data removed]",
      "text/plain": [
       "<Figure size 640x480 with 1 Axes>"
      ]
     },
     "metadata": {},
     "output_type": "display_data"
    }
   ],
   "source": [
    "plt.imshow(M, cmap='plasma')"
   ]
  },
  {
   "cell_type": "code",
   "execution_count": 92,
   "metadata": {},
   "outputs": [
    {
     "name": "stdout",
     "output_type": "stream",
     "text": [
      "\u001b[0;31mSignature:\u001b[0m      \u001b[0mplt\u001b[0m\u001b[0;34m.\u001b[0m\u001b[0mcolormaps\u001b[0m\u001b[0;34m(\u001b[0m\u001b[0;34m)\u001b[0m\u001b[0;34m\u001b[0m\u001b[0;34m\u001b[0m\u001b[0m\n",
      "\u001b[0;31mType:\u001b[0m           ColormapRegistry\n",
      "\u001b[0;31mString form:\u001b[0m   \n",
      "ColormapRegistry; available colormaps:\n",
      "           'magma', 'inferno', 'plasma', 'viridis', 'cividis', 'twili <...> mako', 'mako_r', 'icefire', 'icefire_r', 'vlag', 'vlag_r', 'flare', 'flare_r', 'crest', 'crest_r'\n",
      "\u001b[0;31mLength:\u001b[0m         178\n",
      "\u001b[0;31mFile:\u001b[0m           ~/.pyenv/versions/3.11.4/envs/2521_env/lib/python3.11/site-packages/matplotlib/cm.py\n",
      "\u001b[0;31mDocstring:\u001b[0m     \n",
      "Container for colormaps that are known to Matplotlib by name.\n",
      "\n",
      "The universal registry instance is `matplotlib.colormaps`. There should be\n",
      "no need for users to instantiate `.ColormapRegistry` themselves.\n",
      "\n",
      "Read access uses a dict-like interface mapping names to `.Colormap`\\s::\n",
      "\n",
      "    import matplotlib as mpl\n",
      "    cmap = mpl.colormaps['viridis']\n",
      "\n",
      "Returned `.Colormap`\\s are copies, so that their modification does not\n",
      "change the global definition of the colormap.\n",
      "\n",
      "Additional colormaps can be added via `.ColormapRegistry.register`::\n",
      "\n",
      "    mpl.colormaps.register(my_colormap)\n",
      "\u001b[0;31mCall docstring:\u001b[0m\n",
      "Return a list of the registered colormap names.\n",
      "\n",
      "This exists only for backward-compatibility in `.pyplot` which had a\n",
      "``plt.colormaps()`` method. The recommended way to get this list is\n",
      "now ``list(colormaps)``."
     ]
    }
   ],
   "source": [
    "plt.colormaps?"
   ]
  },
  {
   "cell_type": "code",
   "execution_count": 98,
   "metadata": {},
   "outputs": [
    {
     "name": "stdout",
     "output_type": "stream",
     "text": [
      "[[0.1532932  0.66317923 0.09707854 0.54342253 0.91551765]\n",
      " [0.70785615 0.53693005 0.8227817  0.62830318 0.36373043]\n",
      " [0.97400034 0.23474594 0.66996996 0.27699372 0.36586325]\n",
      " [0.15518313 0.39298827 0.22549149 0.36795951 0.36859096]\n",
      " [0.39408752 0.01597274 0.02340997 0.89126644 0.49901731]]\n"
     ]
    }
   ],
   "source": [
    "N=np.random.rand(5,5)\n",
    "print(N)"
   ]
  },
  {
   "cell_type": "code",
   "execution_count": 99,
   "metadata": {},
   "outputs": [
    {
     "data": {
      "text/plain": [
       "<matplotlib.image.AxesImage at 0x12b734a50>"
      ]
     },
     "execution_count": 99,
     "metadata": {},
     "output_type": "execute_result"
    },
    {
     "data": {
      "image/png": "[encoded data removed]",
      "text/plain": [
       "<Figure size 640x480 with 1 Axes>"
      ]
     },
     "metadata": {},
     "output_type": "display_data"
    }
   ],
   "source": [
    "plt.imshow(N)"
   ]
  },
  {
   "cell_type": "code",
   "execution_count": 100,
   "metadata": {},
   "outputs": [],
   "source": [
    "checkerboard=np.zeros((8,8))"
   ]
  },
  {
   "cell_type": "code",
   "execution_count": 101,
   "metadata": {},
   "outputs": [
    {
     "data": {
      "text/plain": [
       "array([[0., 0., 0., 0., 0., 0., 0., 0.],\n",
       "       [0., 0., 0., 0., 0., 0., 0., 0.],\n",
       "       [0., 0., 0., 0., 0., 0., 0., 0.],\n",
       "       [0., 0., 0., 0., 0., 0., 0., 0.],\n",
       "       [0., 0., 0., 0., 0., 0., 0., 0.],\n",
       "       [0., 0., 0., 0., 0., 0., 0., 0.],\n",
       "       [0., 0., 0., 0., 0., 0., 0., 0.],\n",
       "       [0., 0., 0., 0., 0., 0., 0., 0.]])"
      ]
     },
     "execution_count": 101,
     "metadata": {},
     "output_type": "execute_result"
    }
   ],
   "source": [
    "checkerboard"
   ]
  },
  {
   "cell_type": "code",
   "execution_count": 102,
   "metadata": {},
   "outputs": [
    {
     "data": {
      "text/plain": [
       "<matplotlib.image.AxesImage at 0x12b8261d0>"
      ]
     },
     "execution_count": 102,
     "metadata": {},
     "output_type": "execute_result"
    },
    {
     "data": {
      "image/png": "[encoded data removed]",
      "text/plain": [
       "<Figure size 640x480 with 1 Axes>"
      ]
     },
     "metadata": {},
     "output_type": "display_data"
    }
   ],
   "source": [
    "plt.imshow(checkerboard)"
   ]
  },
  {
   "cell_type": "code",
   "execution_count": 104,
   "metadata": {},
   "outputs": [
    {
     "name": "stdout",
     "output_type": "stream",
     "text": [
      "[[0. 1. 0. 1. 0. 1. 0. 1.]\n",
      " [1. 0. 1. 0. 1. 0. 1. 0.]\n",
      " [0. 1. 0. 1. 0. 1. 0. 1.]\n",
      " [1. 0. 1. 0. 1. 0. 1. 0.]\n",
      " [0. 1. 0. 1. 0. 1. 0. 1.]\n",
      " [1. 0. 1. 0. 1. 0. 1. 0.]\n",
      " [0. 1. 0. 1. 0. 1. 0. 1.]\n",
      " [1. 0. 1. 0. 1. 0. 1. 0.]]\n"
     ]
    }
   ],
   "source": [
    "checkerboard=np.zeros((8,8))\n",
    "for r in range(8):\n",
    "    for c in range(8):\n",
    "        if (r+c) %2 ==1:\n",
    "            checkerboard[r,c]=1\n",
    "\n",
    "print(checkerboard)"
   ]
  },
  {
   "cell_type": "code",
   "execution_count": 105,
   "metadata": {},
   "outputs": [
    {
     "data": {
      "text/plain": [
       "<matplotlib.image.AxesImage at 0x12b86ca50>"
      ]
     },
     "execution_count": 105,
     "metadata": {},
     "output_type": "execute_result"
    },
    {
     "data": {
      "image/png": "[encoded data removed]",
      "text/plain": [
       "<Figure size 640x480 with 1 Axes>"
      ]
     },
     "metadata": {},
     "output_type": "display_data"
    }
   ],
   "source": [
    "plt.imshow(checkerboard)"
   ]
  },
  {
   "cell_type": "code",
   "execution_count": null,
   "metadata": {},
   "outputs": [],
   "source": []
  }
 ],
 "metadata": {
  "kernelspec": {
   "display_name": "2521_env",
   "language": "python",
   "name": "python3"
  },
  "language_info": {
   "codemirror_mode": {
    "name": "ipython",
    "version": 3
   },
   "file_extension": ".py",
   "mimetype": "text/x-python",
   "name": "python",
   "nbconvert_exporter": "python",
   "pygments_lexer": "ipython3",
   "version": "3.11.4"
  },
  "orig_nbformat": 4
 },
 "nbformat": 4,
 "nbformat_minor": 2
}
