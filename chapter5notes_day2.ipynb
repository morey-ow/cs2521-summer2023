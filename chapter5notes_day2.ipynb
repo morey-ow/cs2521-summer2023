{
 "cells": [
  {
   "cell_type": "markdown",
   "metadata": {},
   "source": [
    "### Chapter 5 Classes, continued\n",
    "\n",
    "Today's topics:\n",
    "\n",
    "- ## Inheritance\n",
    "- ### Dunder methods\n",
    "\n",
    "Review from last time: \n",
    "\n",
    " - You can MAKE UP YOUR OWN TYPE of object using ```class```\n",
    " - A class is a *template* for an object (analogy: class is the floorplans of a house, not the house itself)\n",
    " - Can create many **instances** of a class (house analogy:  floorplans:class as actual-house : instance; also same floorplan can be used to build multiple houses)\n",
    " - A class/instance has **attributes** (house analogy: number of square feet, bedrooms, bathrooms)\n",
    " - A class/instance has **methods** (house analogy: things one can do in a house: open_garage_door(), switch_lights(), set_thermostat(75))\n",
    "\n"
   ]
  },
  {
   "cell_type": "code",
   "execution_count": 64,
   "metadata": {},
   "outputs": [],
   "source": [
    "class Person():  \n",
    "    #__init__ is automatically called when creating a new instance of the class\n",
    "    def __init__(self, name1='', name2=''): \n",
    "        self.first_name=name1\n",
    "        self.last_name=name2\n",
    "\n",
    "    def full_name(self):\n",
    "        return self.first_name + ' ' + self.last_name\n",
    "    \n",
    " \n",
    "    def introduce(self):\n",
    "        return 'My name is ' + self.full_name()\n",
    "    \n",
    "    def __repr__(self):\n",
    "        return(self.full_name())\n"
   ]
  },
  {
   "cell_type": "markdown",
   "metadata": {},
   "source": [
    "## Inheritance\n",
    "\n",
    "### Let's create a 'subclass' called `Basketballer` of the parent/super/base class `Person` and create a Basketballer that inherit the methods and attributes of Person\n",
    "\n",
    "### We use the special word `super().` to call methods or access attributes of the parent (or super) class."
   ]
  },
  {
   "cell_type": "code",
   "execution_count": 67,
   "metadata": {},
   "outputs": [],
   "source": [
    "class Basketballer(Person):\n",
    "    def __init__(self, first_name='', last_name='', position='', team='', height=''):\n",
    "        # we begin with the call to the Person().__init__\n",
    "        super().__init__(first_name, last_name)\n",
    "        self.position=position\n",
    "        self.team=team\n",
    "        self.height=height\n",
    "\n"
   ]
  },
  {
   "cell_type": "code",
   "execution_count": 68,
   "metadata": {},
   "outputs": [],
   "source": [
    "\n",
    "player1=Basketballer('Nikola', 'Jokic')"
   ]
  },
  {
   "cell_type": "code",
   "execution_count": 43,
   "metadata": {},
   "outputs": [
    {
     "data": {
      "text/plain": [
       "['__class__',\n",
       " '__delattr__',\n",
       " '__dict__',\n",
       " '__dir__',\n",
       " '__doc__',\n",
       " '__eq__',\n",
       " '__format__',\n",
       " '__ge__',\n",
       " '__getattribute__',\n",
       " '__getstate__',\n",
       " '__gt__',\n",
       " '__hash__',\n",
       " '__init__',\n",
       " '__init_subclass__',\n",
       " '__le__',\n",
       " '__lt__',\n",
       " '__module__',\n",
       " '__ne__',\n",
       " '__new__',\n",
       " '__reduce__',\n",
       " '__reduce_ex__',\n",
       " '__repr__',\n",
       " '__setattr__',\n",
       " '__sizeof__',\n",
       " '__str__',\n",
       " '__subclasshook__',\n",
       " '__weakref__',\n",
       " 'first_name',\n",
       " 'full_name',\n",
       " 'height',\n",
       " 'introduce',\n",
       " 'last_name',\n",
       " 'position',\n",
       " 'team']"
      ]
     },
     "execution_count": 43,
     "metadata": {},
     "output_type": "execute_result"
    }
   ],
   "source": [
    "dir(player1)"
   ]
  },
  {
   "cell_type": "code",
   "execution_count": 69,
   "metadata": {},
   "outputs": [
    {
     "data": {
      "text/plain": [
       "'My name is Nikola Jokic'"
      ]
     },
     "execution_count": 69,
     "metadata": {},
     "output_type": "execute_result"
    }
   ],
   "source": [
    "player1.introduce()"
   ]
  },
  {
   "cell_type": "markdown",
   "metadata": {},
   "source": [
    "Let's change this functionality so that when we `introduce()` a basketballer, they mention the team they play for (the `introduce()` for a non-basketballer person is unchanged)."
   ]
  },
  {
   "cell_type": "code",
   "execution_count": 45,
   "metadata": {},
   "outputs": [
    {
     "data": {
      "text/plain": [
       "''"
      ]
     },
     "execution_count": 45,
     "metadata": {},
     "output_type": "execute_result"
    }
   ],
   "source": [
    "player1.height"
   ]
  },
  {
   "cell_type": "code",
   "execution_count": 46,
   "metadata": {},
   "outputs": [],
   "source": [
    "player1.height='7-1'"
   ]
  },
  {
   "cell_type": "code",
   "execution_count": 49,
   "metadata": {},
   "outputs": [
    {
     "data": {
      "text/plain": [
       "{'first_name': 'Nikola',\n",
       " 'last_name': 'Jokic',\n",
       " 'position': '',\n",
       " 'team': '',\n",
       " 'height': '7-1'}"
      ]
     },
     "execution_count": 49,
     "metadata": {},
     "output_type": "execute_result"
    }
   ],
   "source": [
    "player1.__dict__  #returns a dictionary of attribute attached to the object player1"
   ]
  },
  {
   "cell_type": "code",
   "execution_count": 81,
   "metadata": {},
   "outputs": [],
   "source": [
    "class Basketballer(Person):\n",
    "    def __init__(self, first_name='', last_name='', position='', team='', height=''):\n",
    "        super().__init__(first_name, last_name)\n",
    "        self.position=position\n",
    "        self.team=team\n",
    "        self.height=height\n",
    "\n",
    "    def introduce(self):\n",
    "        if self.team:\n",
    "            return super().introduce() + f' and I play for the  {self.team}'\n",
    "        else:\n",
    "            return super().introduce() + 'and my team is {self.team}' #purposely left off the f' in f-string\n",
    "\n"
   ]
  },
  {
   "cell_type": "code",
   "execution_count": 82,
   "metadata": {},
   "outputs": [],
   "source": [
    "#we modified, however slighlty, the class, so don't forget reconstruct the instance if we want the new functionality!!\n",
    "\n",
    "player1=Basketballer('Nikola', 'Jokic', team='Denver Nuggets')  \n",
    "me=Person('Yogesh', 'More')"
   ]
  },
  {
   "cell_type": "code",
   "execution_count": 75,
   "metadata": {},
   "outputs": [
    {
     "data": {
      "text/plain": [
       "{'first_name': 'Nikola',\n",
       " 'last_name': 'Jokic',\n",
       " 'position': '',\n",
       " 'team': 'Denver Nuggets',\n",
       " 'height': ''}"
      ]
     },
     "execution_count": 75,
     "metadata": {},
     "output_type": "execute_result"
    }
   ],
   "source": [
    "player1.__dict__"
   ]
  },
  {
   "cell_type": "code",
   "execution_count": 76,
   "metadata": {},
   "outputs": [
    {
     "data": {
      "text/plain": [
       "'Nikola Jokic'"
      ]
     },
     "execution_count": 76,
     "metadata": {},
     "output_type": "execute_result"
    }
   ],
   "source": [
    "player1.full_name()"
   ]
  },
  {
   "cell_type": "code",
   "execution_count": 77,
   "metadata": {},
   "outputs": [
    {
     "name": "stdout",
     "output_type": "stream",
     "text": [
      "My name is Nikola Jokic and I play for the  Denver Nuggets\n",
      "My name is Yogesh More\n"
     ]
    }
   ],
   "source": [
    "print(player1.introduce())\n",
    "print(me.introduce())"
   ]
  },
  {
   "cell_type": "code",
   "execution_count": 83,
   "metadata": {},
   "outputs": [],
   "source": [
    "player2=Basketballer('Jamal', 'Murray')"
   ]
  },
  {
   "cell_type": "code",
   "execution_count": 84,
   "metadata": {},
   "outputs": [
    {
     "data": {
      "text/plain": [
       "{'first_name': 'Jamal',\n",
       " 'last_name': 'Murray',\n",
       " 'position': '',\n",
       " 'team': '',\n",
       " 'height': ''}"
      ]
     },
     "execution_count": 84,
     "metadata": {},
     "output_type": "execute_result"
    }
   ],
   "source": [
    "player2.__dict__"
   ]
  },
  {
   "cell_type": "code",
   "execution_count": 85,
   "metadata": {},
   "outputs": [
    {
     "data": {
      "text/plain": [
       "'My name is Jamal Murrayand my team is {self.team}'"
      ]
     },
     "execution_count": 85,
     "metadata": {},
     "output_type": "execute_result"
    }
   ],
   "source": [
    "player2.introduce()"
   ]
  },
  {
   "cell_type": "markdown",
   "metadata": {},
   "source": [
    "You can also create classes that inherit from multiple parent classes:"
   ]
  },
  {
   "cell_type": "code",
   "execution_count": 99,
   "metadata": {},
   "outputs": [],
   "source": [
    "# The following code was generated by ChatGPT, but gives an error!!\n",
    "\n",
    "class Animal():\n",
    "    def make_sound2(self):\n",
    "        print(\"Some generic sound\")\n",
    "\n",
    "class Mammal():\n",
    "    def make_sound(self):\n",
    "        print(\"Mammal sound\")\n",
    "\n",
    "class Dog(Mammal, Animal):\n",
    "    \n",
    "    '''\n",
    "    def make_sound(self):\n",
    "        super(Animal, self).make_sound()  # Call make_sound from Animal class\n",
    "        super(Mammal, self).make_sound()  # Call make_sound from Mammal class\n",
    "        print(\"Woof!\")\n",
    "    '''\n",
    "\n",
    "\n"
   ]
  },
  {
   "cell_type": "code",
   "execution_count": 100,
   "metadata": {},
   "outputs": [
    {
     "name": "stdout",
     "output_type": "stream",
     "text": [
      "Some generic sound\n"
     ]
    }
   ],
   "source": [
    "Dog().make_sound2()"
   ]
  },
  {
   "cell_type": "code",
   "execution_count": 93,
   "metadata": {},
   "outputs": [
    {
     "data": {
      "text/plain": [
       "<__main__.Animal at 0x10cf2e650>"
      ]
     },
     "execution_count": 93,
     "metadata": {},
     "output_type": "execute_result"
    }
   ],
   "source": [
    "Animal()"
   ]
  },
  {
   "cell_type": "code",
   "execution_count": 90,
   "metadata": {},
   "outputs": [
    {
     "name": "stdout",
     "output_type": "stream",
     "text": [
      "Some generic sound\n"
     ]
    }
   ],
   "source": [
    "Animal().make_sound()"
   ]
  },
  {
   "cell_type": "code",
   "execution_count": 94,
   "metadata": {},
   "outputs": [
    {
     "name": "stdout",
     "output_type": "stream",
     "text": [
      "Mammal sound\n"
     ]
    }
   ],
   "source": [
    "Mammal().make_sound()"
   ]
  },
  {
   "cell_type": "code",
   "execution_count": null,
   "metadata": {},
   "outputs": [],
   "source": []
  },
  {
   "cell_type": "code",
   "execution_count": 51,
   "metadata": {},
   "outputs": [
    {
     "data": {
      "text/plain": [
       "['__class__',\n",
       " '__delattr__',\n",
       " '__dict__',\n",
       " '__dir__',\n",
       " '__doc__',\n",
       " '__eq__',\n",
       " '__format__',\n",
       " '__ge__',\n",
       " '__getattribute__',\n",
       " '__getstate__',\n",
       " '__gt__',\n",
       " '__hash__',\n",
       " '__init__',\n",
       " '__init_subclass__',\n",
       " '__le__',\n",
       " '__lt__',\n",
       " '__module__',\n",
       " '__ne__',\n",
       " '__new__',\n",
       " '__reduce__',\n",
       " '__reduce_ex__',\n",
       " '__repr__',\n",
       " '__setattr__',\n",
       " '__sizeof__',\n",
       " '__str__',\n",
       " '__subclasshook__',\n",
       " '__weakref__',\n",
       " 'first_name',\n",
       " 'full_name',\n",
       " 'height',\n",
       " 'introduce',\n",
       " 'last_name',\n",
       " 'position',\n",
       " 'team']"
      ]
     },
     "execution_count": 51,
     "metadata": {},
     "output_type": "execute_result"
    }
   ],
   "source": [
    "# Create an instance of Dog\n",
    "dog_instance = Dog()\n",
    "\n",
    "# Call the make_sound method in Dog class\n",
    "dog_instance.make_sound()\n",
    "\n",
    "# Inspect the Method Resolution Order (MRO)\n",
    "print(Dog.__mro__)"
   ]
  },
  {
   "cell_type": "markdown",
   "metadata": {},
   "source": []
  },
  {
   "cell_type": "markdown",
   "metadata": {},
   "source": []
  },
  {
   "cell_type": "markdown",
   "metadata": {},
   "source": [
    "### Dunder (=double underscore) methods\n",
    "\n",
    "Here is a table provided by ChatGPT (in response to prompt 'list all the Python dunder methods for classes and their uses in a nice table'). One shouldn't blindly trust anything ChatGPT says. As I look over it, it looks ok.\n",
    "\n",
    "ChatGPT:\n",
    "Below is a table listing some of the commonly used Python dunder methods (special methods) for classes, along with their purposes:\n",
    "\n",
    "| Dunder Method | Purpose |\n",
    "|---------------|---------|\n",
    "| `__init__(self, ...) ` | Constructor: Initializes the instance with specified attributes. |\n",
    "| `__str__(self)` | String representation: Returns a string representation of the instance, used by `str()`. |\n",
    "| `__repr__(self)` | Object representation: Returns a string representation of the instance, used by `repr()`. |\n",
    "| `__len__(self)` | Length: Returns the length of the object, used by `len()`. |\n",
    "| `__getitem__(self, key)` | Indexing: Allows accessing elements using square brackets. |\n",
    "| `__setitem__(self, key, value)` | Assignment: Allows setting values using square brackets. |\n",
    "| `__delitem__(self, key)` | Deletion: Allows deleting items using `del` statement and square brackets. |\n",
    "| `__iter__(self)` | Iteration: Returns an iterator object, used by iteration protocols (e.g., `for` loops). |\n",
    "| `__next__(self)` | Next: Returns the next item from the iterator when used with `next()`. |\n",
    "| `__contains__(self, item)` | Membership: Checks if an item is present in the object, used by `in` keyword. |\n",
    "| `__add__(self, other)` | Addition: Defines behavior for the `+` operator. |\n",
    "| `__sub__(self, other)` | Subtraction: Defines behavior for the `-` operator. |\n",
    "| `__mul__(self, other)` | Multiplication: Defines behavior for the `*` operator. |\n",
    "| `__truediv__(self, other)` | Division: Defines behavior for the `/` operator. |\n",
    "| `__floordiv__(self, other)` | Floor Division: Defines behavior for the `//` operator. |\n",
    "| `__mod__(self, other)` | Modulus: Defines behavior for the `%` operator. |\n",
    "| `__pow__(self, other)` | Exponentiation: Defines behavior for the `**` operator. |\n",
    "| `__eq__(self, other)` | Equality: Defines behavior for the `==` operator. |\n",
    "| `__ne__(self, other)` | Inequality: Defines behavior for the `!=` operator. |\n",
    "| `__lt__(self, other)` | Less than: Defines behavior for the `<` operator. |\n",
    "| `__le__(self, other)` | Less than or equal: Defines behavior for the `<=` operator. |\n",
    "| `__gt__(self, other)` | Greater than: Defines behavior for the `>` operator. |\n",
    "| `__ge__(self, other)` | Greater than or equal: Defines behavior for the `>=` operator. |\n",
    "| `__call__(self, ...) ` | Call: Allows the instance to be called as a function. |\n",
    "| `__enter__(self)` | Context Manager Entry: Defines behavior when entering a `with` block. |\n",
    "| `__exit__(self, exc_type, exc_value, traceback)` | Context Manager Exit: Defines behavior when exiting a `with` block. |\n",
    "| `__getattr__(self, name)` | Attribute Access: Allows handling of attribute access if the attribute is not found. |\n",
    "| `__setattr__(self, name, value)` | Attribute Assignment: Allows handling of attribute assignment. |\n",
    "| `__delattr__(self, name)` | Attribute Deletion: Allows handling of attribute deletion. |\n",
    "\n",
    "These are just some of the commonly used dunder methods in Python classes. Depending on the specific use case, you may implement other dunder methods to customize the behavior of your classes further."
   ]
  },
  {
   "cell_type": "code",
   "execution_count": 52,
   "metadata": {},
   "outputs": [
    {
     "data": {
      "text/plain": [
       "['__class__',\n",
       " '__delattr__',\n",
       " '__dict__',\n",
       " '__dir__',\n",
       " '__doc__',\n",
       " '__eq__',\n",
       " '__format__',\n",
       " '__ge__',\n",
       " '__getattribute__',\n",
       " '__getstate__',\n",
       " '__gt__',\n",
       " '__hash__',\n",
       " '__init__',\n",
       " '__init_subclass__',\n",
       " '__le__',\n",
       " '__lt__',\n",
       " '__module__',\n",
       " '__ne__',\n",
       " '__new__',\n",
       " '__reduce__',\n",
       " '__reduce_ex__',\n",
       " '__repr__',\n",
       " '__setattr__',\n",
       " '__sizeof__',\n",
       " '__str__',\n",
       " '__subclasshook__',\n",
       " '__weakref__',\n",
       " 'first_name',\n",
       " 'full_name',\n",
       " 'height',\n",
       " 'introduce',\n",
       " 'last_name',\n",
       " 'position',\n",
       " 'team']"
      ]
     },
     "execution_count": 52,
     "metadata": {},
     "output_type": "execute_result"
    }
   ],
   "source": [
    "player1=Basketballer('Nikola', 'Jokic')\n",
    "dir(player1)"
   ]
  },
  {
   "cell_type": "markdown",
   "metadata": {},
   "source": [
    "Me: What is the difference between `__str__` and `__repr__`?\n",
    "\n",
    "ChatGPT (response looks ok to me; TLDR: basically the same but use `__str__` for production and `__repr__` for behind the scenes debugging)\n",
    "\n",
    "\n",
    "Both `__str__` and `__repr__` are special methods in Python classes that are used to provide string representations of objects. However, they serve different purposes and are used in different contexts.\n",
    "\n",
    "1. `__str__(self)`:\n",
    "   - Purpose: The `__str__` method is used to define the informal or user-friendly string representation of an object. It is called by the `str()` function and typically provides a human-readable description of the object.\n",
    "   - Usage: This method is meant for end-users or for when you want to display the object in a user-friendly manner. It's often used for logging or displaying objects to users.\n",
    "   - Example:\n",
    "\n",
    "     ```python\n",
    "     class MyClass:\n",
    "         def __str__(self):\n",
    "             return \"This is a MyClass object.\"\n",
    "\n",
    "     obj = MyClass()\n",
    "     print(str(obj))  # Output: This is a MyClass object.\n",
    "     ```\n",
    "\n",
    "2. `__repr__(self)`:\n",
    "   - Purpose: The `__repr__` method is used to define the formal or unambiguous string representation of an object. It is called by the `repr()` function and should ideally **return a string that, when passed to `eval()`, would recreate the object**.\n",
    "   - Usage: This method is meant for developers and debugging. It provides a more detailed and technical representation of the object, which is useful for debugging and development purposes.\n",
    "   - Example:\n",
    "\n",
    "     ```python\n",
    "     class Point:\n",
    "         def __init__(self, x, y):\n",
    "             self.x = x\n",
    "             self.y = y\n",
    "\n",
    "         def __repr__(self):\n",
    "             return f\"Point({self.x}, {self.y})\"\n",
    "\n",
    "     p = Point(2, 3)\n",
    "     print(repr(p))  # Output: Point(2, 3)\n",
    "     ```\n",
    "\n",
    "   Note that if `__str__` is not defined for a class, but `__repr__` is, then `__str__` will use the result of `__repr__`. In case neither `__str__` nor `__repr__` are defined, Python will use a default implementation for both.\n",
    "\n",
    "In summary, `__str__` is used for creating user-friendly string representations, while `__repr__` is used for creating unambiguous and detailed representations, mainly for developers and debugging purposes. If both methods are defined, `__str__` takes precedence when using `str()` on an object, and `__repr__` is used by default if `__str__` is not defined."
   ]
  },
  {
   "cell_type": "markdown",
   "metadata": {},
   "source": [
    "### Homework: Create a function that two basketball players player 1 and player 2 and tells me which one is taller:\n",
    "\n",
    "If player1 is taller, then\n",
    "`player1 > player2` should return true\n",
    "\n",
    "Hints: \n",
    "- use `__gt__`\n",
    "- define a function that takes a player's height like `'7-1'` and converts it to inches like `85`\n",
    "- use '7-1'.split('-') to split the '7' and '1'\n",
    "\n",
    "\n",
    "### Video assignment:\n",
    "Same assignment as last week - make a 10-15 min video explaining something you learned this week in class"
   ]
  },
  {
   "cell_type": "code",
   "execution_count": 105,
   "metadata": {},
   "outputs": [
    {
     "data": {
      "text/plain": [
       "['7', '1']"
      ]
     },
     "execution_count": 105,
     "metadata": {},
     "output_type": "execute_result"
    }
   ],
   "source": [
    "'7-1'.split('-')"
   ]
  },
  {
   "cell_type": "code",
   "execution_count": 108,
   "metadata": {},
   "outputs": [
    {
     "data": {
      "text/plain": [
       "7"
      ]
     },
     "execution_count": 108,
     "metadata": {},
     "output_type": "execute_result"
    }
   ],
   "source": [
    "int('7') #converts the string '7' into the integer 7"
   ]
  },
  {
   "cell_type": "code",
   "execution_count": 109,
   "metadata": {},
   "outputs": [
    {
     "data": {
      "text/plain": [
       "['09', '12', '2021']"
      ]
     },
     "execution_count": 109,
     "metadata": {},
     "output_type": "execute_result"
    }
   ],
   "source": [
    "'09-12-2021'.split('-')"
   ]
  },
  {
   "cell_type": "markdown",
   "metadata": {},
   "source": [
    "Create a function that two basketball players player 1 and player 2 and tells me which one has a longer name:\n",
    "\n",
    "If player1 is has a longer name, then\n",
    "`player1 > plater2` should return true"
   ]
  },
  {
   "cell_type": "code",
   "execution_count": 101,
   "metadata": {},
   "outputs": [],
   "source": [
    "class Basketballer(Person):\n",
    "    def __init__(self, first_name='', last_name='', position='', team='', height=''):\n",
    "        super().__init__(first_name, last_name)\n",
    "        self.position=position\n",
    "        self.team=team\n",
    "        self.height=height\n",
    "\n",
    "    def introduce(self):\n",
    "        if self.team:\n",
    "            return super().introduce() + f' and I play for the  {self.team}'\n",
    "        else:\n",
    "            return super().introduce()\n",
    "        \n",
    "    def __gt__(self, player2):\n",
    "        if len(self.full_name())> len(player2.full_name()):\n",
    "            return True\n",
    "        else:\n",
    "            return False"
   ]
  },
  {
   "cell_type": "code",
   "execution_count": 102,
   "metadata": {},
   "outputs": [],
   "source": [
    "player1=Basketballer('Nikola', 'Jokic')\n",
    "player2=Basketballer('Giannis', 'Antedekumpo')"
   ]
  },
  {
   "cell_type": "code",
   "execution_count": 103,
   "metadata": {},
   "outputs": [
    {
     "data": {
      "text/plain": [
       "False"
      ]
     },
     "execution_count": 103,
     "metadata": {},
     "output_type": "execute_result"
    }
   ],
   "source": [
    "player1>player2"
   ]
  },
  {
   "cell_type": "code",
   "execution_count": 104,
   "metadata": {},
   "outputs": [
    {
     "data": {
      "text/plain": [
       "True"
      ]
     },
     "execution_count": 104,
     "metadata": {},
     "output_type": "execute_result"
    }
   ],
   "source": [
    "player2>player1"
   ]
  },
  {
   "cell_type": "code",
   "execution_count": null,
   "metadata": {},
   "outputs": [],
   "source": []
  }
 ],
 "metadata": {
  "kernelspec": {
   "display_name": "2521_env",
   "language": "python",
   "name": "python3"
  },
  "language_info": {
   "codemirror_mode": {
    "name": "ipython",
    "version": 3
   },
   "file_extension": ".py",
   "mimetype": "text/x-python",
   "name": "python",
   "nbconvert_exporter": "python",
   "pygments_lexer": "ipython3",
   "version": "3.11.4"
  },
  "orig_nbformat": 4
 },
 "nbformat": 4,
 "nbformat_minor": 2
}
