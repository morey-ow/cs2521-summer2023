{
 "cells": [
  {
   "cell_type": "markdown",
   "metadata": {},
   "source": [
    "### Chapter 8 Software Development"
   ]
  },
  {
   "cell_type": "markdown",
   "metadata": {},
   "source": [
    "Topics:\n",
    "\n",
    "- scripts (.py files) vs Jupyter/Colab interactive python notebooks (.ipynb)\n",
    "- debugging\n",
    "- version control (e.g. git)"
   ]
  },
  {
   "cell_type": "markdown",
   "metadata": {},
   "source": [
    "## Scripts vs Notebooks\n",
    "\n",
    "**Jupyter Notebooks** , ending with the `.ipynb` extension (for *interactive python notebook*), are what we have been using, since it is easier for beginners to jump into coding without having the set up environments, know command lines commands, download, issues.\n",
    "\n",
    "We have not been using **scripts**, which are python code in `.py` files. You write some python code (just as we've been learning), and to run them you go to a terminal and type \n",
    "\n",
    "`python3 <filename>.py`\n"
   ]
  },
  {
   "cell_type": "code",
   "execution_count": 2,
   "metadata": {},
   "outputs": [
    {
     "data": {
      "text/plain": [
       "3"
      ]
     },
     "execution_count": 2,
     "metadata": {},
     "output_type": "execute_result"
    }
   ],
   "source": [
    "x=3\n",
    "x"
   ]
  },
  {
   "cell_type": "markdown",
   "metadata": {},
   "source": [
    "### Joel Grus\n",
    "- Author of *Data Science from Scratch*\n",
    "- gave an interesting talk at a conference on Juptyer notebooks on why notebooks are bad for reproducible research:\n",
    "\n",
    "https://youtu.be/7jiPeIFXb6U\n",
    "\n",
    "Slides from his webpage at https://joelgrus.com/speaking/\n",
    "for 2019 Talk If Not Notebooks, Then What?: \n",
    "\n",
    "https://docs.google.com/presentation/d/1ivK8AKgz8Hx-ZYzPC9gJyQK6tzuhR3UuhCEajFGJDlA/edit"
   ]
  },
  {
   "cell_type": "code",
   "execution_count": 5,
   "metadata": {},
   "outputs": [],
   "source": [
    "x=4"
   ]
  },
  {
   "cell_type": "code",
   "execution_count": 4,
   "metadata": {},
   "outputs": [
    {
     "name": "stdout",
     "output_type": "stream",
     "text": [
      "3\n"
     ]
    }
   ],
   "source": [
    "print(x)"
   ]
  },
  {
   "cell_type": "markdown",
   "metadata": {},
   "source": [
    "## Debugging\n",
    "\n",
    "`pdb` Python's debugging module\n",
    "\n",
    "Debug a script (.py) file, not a .ipynb file\n",
    "\n",
    "`python -m pdb <filename>.py`\n",
    "\n",
    "Here are the key commands in order of increasing usage\n",
    "- `help`, `help <command>`  (most important to help figure out how to use)\n",
    "- `s` step to go forward a step\n",
    "- `l` list the code\n",
    "- `c` to continue to the next line\n",
    "- CAN'T GO BACKWARDS!\n",
    "- `p <expr>` print expression \n",
    "- `args` \n",
    "- 'b <line number>` break at a line number\n",
    "- 'j <line number>' jump to line number\n"
   ]
  },
  {
   "cell_type": "code",
   "execution_count": null,
   "metadata": {},
   "outputs": [],
   "source": []
  },
  {
   "cell_type": "markdown",
   "metadata": {},
   "source": [
    "### Git and Github\n",
    "\n",
    "It is sort of like Track Changes in Microsoft word\n",
    "\n",
    "Git is version control software"
   ]
  },
  {
   "cell_type": "markdown",
   "metadata": {},
   "source": [
    "Excellent tutorial for beginners (this is how I learned git) is the following:\n",
    "\n",
    "[Git and GitHub - 0 Experience to Professional in 1 Tutorial (Part 1)](https://youtu.be/hrTQipWp6co)\n",
    "\n",
    "by YouTuber SuperSimpleDev"
   ]
  },
  {
   "cell_type": "markdown",
   "metadata": {},
   "source": [
    "### I just use these handful of commands 95 % of the time\n",
    "\n",
    "`git init`  (initialise)\n",
    "____\n",
    "Commands for local git repo (i.e. on your own computer)\n",
    "\n",
    "`git status`\n",
    "\n",
    "`git add .`   adds all the files in directory\n",
    "\n",
    "`git commit -m 'my_message'`\n",
    "\n",
    "`git log --all --graph`\n",
    "\n",
    "___\n",
    "Commands Remote git repo (i.e. on github.com)\n",
    "\n",
    "\n",
    "`git remote add <github_branch_name> <github_url>`\n",
    "\n",
    "pushes changes on your computer up to the internet\n",
    "\n",
    "`git push <github_branch_name> <local_branch_name>`\n",
    "\n",
    "`git pull `\n",
    "\n",
    "\n",
    "\n"
   ]
  },
  {
   "cell_type": "markdown",
   "metadata": {},
   "source": []
  }
 ],
 "metadata": {
  "kernelspec": {
   "display_name": "2521_env",
   "language": "python",
   "name": "python3"
  },
  "language_info": {
   "codemirror_mode": {
    "name": "ipython",
    "version": 3
   },
   "file_extension": ".py",
   "mimetype": "text/x-python",
   "name": "python",
   "nbconvert_exporter": "python",
   "pygments_lexer": "ipython3",
   "version": "3.11.4"
  },
  "orig_nbformat": 4
 },
 "nbformat": 4,
 "nbformat_minor": 2
}
