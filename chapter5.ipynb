{
 "cells": [
  {
   "cell_type": "markdown",
   "metadata": {},
   "source": [
    "## Chapter 5: Object Oriented Programming (OOP): Classes, objects, methods\n",
    "\n",
    "Topics: \n",
    "\n",
    "- objects \n",
    "- classes\n",
    "- methods\n",
    "- properties\n",
    "- inheritance"
   ]
  },
  {
   "cell_type": "markdown",
   "metadata": {},
   "source": [
    "``` int, str, dict ``` are built-in Python classes, \n",
    "\n",
    "### But you can (and will need  to) MAKE UP YOUR OWN TYPES OF CLASSES. **This is the topic of this chapter.**\n",
    "\n",
    "Here's how: create a template for the object, called ```class```\n",
    "\n",
    "``` \n",
    "class Person():  \n",
    "    #initialize\n",
    "    def __init__(self, name1, name2):\n",
    "        self.first_name=name1\n",
    "        self.last_name=name2\n",
    "\n",
    "    # a method for this class\n",
    "    def full_name(self):\n",
    "        return self.first_name + self.last_name\n",
    "```\n",
    "\n",
    "An object is an **instance** of the class: \n",
    "\n",
    "```me=Person('Yogesh, 'More')```\n",
    "\n",
    "```another_person=Person('John', 'Doe') ```\n",
    "\n",
    "An object has variables/**properties** attached to it, and you access its value using the the dot ```.``` notation.\n",
    "\n",
    "```\n",
    "me.first_name\n",
    "```\n",
    "\n",
    "\n",
    "An object has functions/**methods** attached to it, and you **call** using round brackets ``` () ``` and the dot ```.``` notation\n",
    "\n",
    "\n",
    "```\n",
    "me.full_name()\n",
    "\n",
    "```\n",
    " "
   ]
  },
  {
   "cell_type": "code",
   "execution_count": 15,
   "metadata": {},
   "outputs": [
    {
     "name": "stdout",
     "output_type": "stream",
     "text": [
      "Yogesh\n",
      "YogeshMore\n"
     ]
    }
   ],
   "source": [
    "class Person():  \n",
    "    #__init__ is automatically called  when creating a new instance of the class\n",
    "    def __init__(self, name1, name2):\n",
    "        self.first_name=name1\n",
    "        self.last_name=name2\n",
    "\n",
    "    # a method for this class\n",
    "    def full_name(self):\n",
    "        return self.first_name + self.last_name\n",
    "\n",
    "me=Person('Yogesh', 'More')\n",
    "\n",
    "another_person=Person('John', 'Doe')\n",
    "\n",
    "print(me.first_name)\n",
    "\n",
    "print(me.full_name())\n"
   ]
  },
  {
   "cell_type": "code",
   "execution_count": 16,
   "metadata": {},
   "outputs": [
    {
     "data": {
      "text/plain": [
       "['__class__',\n",
       " '__delattr__',\n",
       " '__dict__',\n",
       " '__dir__',\n",
       " '__doc__',\n",
       " '__eq__',\n",
       " '__format__',\n",
       " '__ge__',\n",
       " '__getattribute__',\n",
       " '__getstate__',\n",
       " '__gt__',\n",
       " '__hash__',\n",
       " '__init__',\n",
       " '__init_subclass__',\n",
       " '__le__',\n",
       " '__lt__',\n",
       " '__module__',\n",
       " '__ne__',\n",
       " '__new__',\n",
       " '__reduce__',\n",
       " '__reduce_ex__',\n",
       " '__repr__',\n",
       " '__setattr__',\n",
       " '__sizeof__',\n",
       " '__str__',\n",
       " '__subclasshook__',\n",
       " '__weakref__',\n",
       " 'first_name',\n",
       " 'full_name',\n",
       " 'last_name']"
      ]
     },
     "execution_count": 16,
     "metadata": {},
     "output_type": "execute_result"
    }
   ],
   "source": [
    "dir(me)"
   ]
  },
  {
   "cell_type": "code",
   "execution_count": 18,
   "metadata": {},
   "outputs": [
    {
     "data": {
      "text/plain": [
       "__main__.Person"
      ]
     },
     "execution_count": 18,
     "metadata": {},
     "output_type": "execute_result"
    }
   ],
   "source": [
    "me.__class__"
   ]
  },
  {
   "cell_type": "markdown",
   "metadata": {},
   "source": [
    "### ```__str__``` or ```__repr__```\n",
    "These dunder methods are secretly called when you want a string representation of an object, for example when ```print(<object>)```"
   ]
  },
  {
   "cell_type": "code",
   "execution_count": 19,
   "metadata": {},
   "outputs": [
    {
     "name": "stdout",
     "output_type": "stream",
     "text": [
      "<__main__.Person object at 0x1169c8cd0>\n"
     ]
    }
   ],
   "source": [
    "print(me)"
   ]
  },
  {
   "cell_type": "markdown",
   "metadata": {},
   "source": [
    "Above is not very useful, so lets's add a ```___repr__``` (or ```__str__```) method to our class that Python will call it when we want to print"
   ]
  },
  {
   "cell_type": "code",
   "execution_count": 38,
   "metadata": {},
   "outputs": [],
   "source": [
    "class Person():  \n",
    "    #__init__ is automatically class when creating a new instance of the class\n",
    "    def __init__(self, name1, name2):\n",
    "        self.first_name=name1\n",
    "        self.last_name=name2\n",
    "\n",
    "    # a method for this class\n",
    "    def full_name(self):\n",
    "        return self.first_name + ' ' + self.last_name\n",
    "    \n",
    "    def introduce(self):\n",
    "        return 'My name is' + self.full_name()\n",
    "    \n",
    "    def __repr__(self):\n",
    "        return(self.full_name())"
   ]
  },
  {
   "cell_type": "code",
   "execution_count": 27,
   "metadata": {},
   "outputs": [
    {
     "ename": "NameError",
     "evalue": "name 'introduce' is not defined",
     "output_type": "error",
     "traceback": [
      "\u001b[0;31m---------------------------------------------------------------------------\u001b[0m",
      "\u001b[0;31mNameError\u001b[0m                                 Traceback (most recent call last)",
      "Cell \u001b[0;32mIn[27], line 1\u001b[0m\n\u001b[0;32m----> 1\u001b[0m introduce(me)\n",
      "\u001b[0;31mNameError\u001b[0m: name 'introduce' is not defined"
     ]
    }
   ],
   "source": [
    "introduce(me) #me is Person object defined at the beginning, which did not have"
   ]
  },
  {
   "cell_type": "code",
   "execution_count": 24,
   "metadata": {},
   "outputs": [
    {
     "name": "stdout",
     "output_type": "stream",
     "text": [
      "<__main__.Person object at 0x1169c8cd0>\n"
     ]
    }
   ],
   "source": [
    "print(me)  #does not give expected output, because me is "
   ]
  },
  {
   "cell_type": "code",
   "execution_count": 32,
   "metadata": {},
   "outputs": [],
   "source": [
    "me=Person('Yogesh', 'More')  #must redefine me, using the new Person class\n"
   ]
  },
  {
   "cell_type": "code",
   "execution_count": 33,
   "metadata": {},
   "outputs": [
    {
     "data": {
      "text/plain": [
       "<bound method Person.introduce of Yogesh More>"
      ]
     },
     "execution_count": 33,
     "metadata": {},
     "output_type": "execute_result"
    }
   ],
   "source": [
    "me.introduce"
   ]
  },
  {
   "cell_type": "code",
   "execution_count": 37,
   "metadata": {},
   "outputs": [
    {
     "data": {
      "text/plain": [
       "'My name isYogesh More'"
      ]
     },
     "execution_count": 37,
     "metadata": {},
     "output_type": "execute_result"
    }
   ],
   "source": [
    "me.introduce()"
   ]
  },
  {
   "cell_type": "code",
   "execution_count": 29,
   "metadata": {},
   "outputs": [
    {
     "name": "stdout",
     "output_type": "stream",
     "text": [
      "Yogesh More\n"
     ]
    }
   ],
   "source": [
    "print(me) # uses the dunder method __repr__"
   ]
  },
  {
   "cell_type": "markdown",
   "metadata": {},
   "source": [
    "\n"
   ]
  },
  {
   "cell_type": "markdown",
   "metadata": {},
   "source": [
    "- EVERYTHING in python is an OBJECT ( a string, int, function, numpy array, etc)\n",
    "- A class is a template for object\n",
    "- "
   ]
  },
  {
   "cell_type": "markdown",
   "metadata": {},
   "source": []
  },
  {
   "cell_type": "code",
   "execution_count": 6,
   "metadata": {},
   "outputs": [
    {
     "name": "stdout",
     "output_type": "stream",
     "text": [
      "\u001b[0;31mInit signature:\u001b[0m \u001b[0mtype\u001b[0m\u001b[0;34m(\u001b[0m\u001b[0mself\u001b[0m\u001b[0;34m,\u001b[0m \u001b[0;34m/\u001b[0m\u001b[0;34m,\u001b[0m \u001b[0;34m*\u001b[0m\u001b[0margs\u001b[0m\u001b[0;34m,\u001b[0m \u001b[0;34m**\u001b[0m\u001b[0mkwargs\u001b[0m\u001b[0;34m)\u001b[0m\u001b[0;34m\u001b[0m\u001b[0;34m\u001b[0m\u001b[0m\n",
      "\u001b[0;31mDocstring:\u001b[0m     \n",
      "type(object) -> the object's type\n",
      "type(name, bases, dict, **kwds) -> a new type\n",
      "\u001b[0;31mType:\u001b[0m           type\n",
      "\u001b[0;31mSubclasses:\u001b[0m     ABCMeta, EnumType, _AnyMeta, NamedTupleMeta, _TypedDictMeta, _DeprecatedType, PyCStructType, UnionType, PyCPointerType, PyCArrayType, ..."
     ]
    }
   ],
   "source": [
    "### tp\n",
    "\n",
    "type?"
   ]
  },
  {
   "cell_type": "code",
   "execution_count": 11,
   "metadata": {},
   "outputs": [
    {
     "name": "stdout",
     "output_type": "stream",
     "text": [
      "[3 2 1 3]\n",
      "<class 'numpy.ndarray'>\n",
      "<class 'numpy.ndarray'>\n"
     ]
    }
   ],
   "source": [
    "import numpy as np\n",
    "x=np.array([3, 2, 1, 3])\n",
    "\n",
    "print(x)\n",
    "print(type(x))\n",
    "print(x.__class__)"
   ]
  },
  {
   "cell_type": "code",
   "execution_count": 12,
   "metadata": {},
   "outputs": [
    {
     "data": {
      "text/plain": [
       "3"
      ]
     },
     "execution_count": 12,
     "metadata": {},
     "output_type": "execute_result"
    }
   ],
   "source": [
    "x.shape #property/attribute\n"
   ]
  },
  {
   "cell_type": "code",
   "execution_count": 13,
   "metadata": {},
   "outputs": [
    {
     "data": {
      "text/plain": [
       "3"
      ]
     },
     "execution_count": 13,
     "metadata": {},
     "output_type": "execute_result"
    }
   ],
   "source": [
    "x.max() # method/functionn"
   ]
  },
  {
   "cell_type": "code",
   "execution_count": 39,
   "metadata": {},
   "outputs": [
    {
     "ename": "TypeError",
     "evalue": "Person.__init__() missing 1 required positional argument: 'name2'",
     "output_type": "error",
     "traceback": [
      "\u001b[0;31m---------------------------------------------------------------------------\u001b[0m",
      "\u001b[0;31mTypeError\u001b[0m                                 Traceback (most recent call last)",
      "Cell \u001b[0;32mIn[39], line 1\u001b[0m\n\u001b[0;32m----> 1\u001b[0m friend\u001b[39m=\u001b[39mPerson(\u001b[39m'\u001b[39;49m\u001b[39mAlison\u001b[39;49m\u001b[39m'\u001b[39;49m)\n",
      "\u001b[0;31mTypeError\u001b[0m: Person.__init__() missing 1 required positional argument: 'name2'"
     ]
    }
   ],
   "source": [
    "friend=Person('Alison')  #error - to create a Person instance, we need first and last name"
   ]
  },
  {
   "cell_type": "code",
   "execution_count": 44,
   "metadata": {},
   "outputs": [],
   "source": [
    "class Person():  \n",
    "    #__init__ is automatically class when creating a new instance of the class\n",
    "    def __init__(self, name1='', name2=''):  #we now added default values\n",
    "        self.first_name=name1\n",
    "        self.last_name=name2\n",
    "\n",
    "    # a method for this class\n",
    "    def full_name(self):\n",
    "        return self.first_name + ' ' + self.last_name\n",
    "    \n",
    "    def introduce(self):\n",
    "        return 'My name is' + self.full_name()\n",
    "    \n",
    "    def __repr__(self):\n",
    "        return(self.full_name())"
   ]
  },
  {
   "cell_type": "code",
   "execution_count": 45,
   "metadata": {},
   "outputs": [],
   "source": [
    "friend=Person('Alison')"
   ]
  },
  {
   "cell_type": "code",
   "execution_count": 46,
   "metadata": {},
   "outputs": [
    {
     "data": {
      "text/plain": [
       "'My name isAlison '"
      ]
     },
     "execution_count": 46,
     "metadata": {},
     "output_type": "execute_result"
    }
   ],
   "source": [
    "friend.introduce()"
   ]
  },
  {
   "cell_type": "code",
   "execution_count": 47,
   "metadata": {},
   "outputs": [],
   "source": [
    "friend2=Person(name2='Smith')"
   ]
  },
  {
   "cell_type": "code",
   "execution_count": 49,
   "metadata": {},
   "outputs": [
    {
     "name": "stdout",
     "output_type": "stream",
     "text": [
      " Smith\n"
     ]
    }
   ],
   "source": [
    "print(friend2)"
   ]
  },
  {
   "cell_type": "code",
   "execution_count": 52,
   "metadata": {},
   "outputs": [],
   "source": [
    "class Person():  \n",
    "    #__init__ is automatically class when creating a new instance of the class\n",
    "    def __init__(self, name1='', name2=''):\n",
    "        self.first_name=name1\n",
    "        self.last_name=name2\n",
    "\n",
    "    # a method for this class\n",
    "    def full_name(self):\n",
    "        return self.first_name + ' ' + self.last_name\n",
    "    \n",
    "    def introduce(self):\n",
    "        if self.first_name:\n",
    "            return 'My name is' + self.full_name()\n",
    "        else:\n",
    "            return 'My name is Mr(s). ' + self.last_name\n",
    "    \n",
    "    def __repr__(self):\n",
    "        return(self.full_name())"
   ]
  },
  {
   "cell_type": "code",
   "execution_count": 53,
   "metadata": {},
   "outputs": [],
   "source": [
    "friend2=Person(name2='Smith')"
   ]
  },
  {
   "cell_type": "code",
   "execution_count": 54,
   "metadata": {},
   "outputs": [
    {
     "data": {
      "text/plain": [
       "'My name is Mr(s). Smith'"
      ]
     },
     "execution_count": 54,
     "metadata": {},
     "output_type": "execute_result"
    }
   ],
   "source": [
    "friend2.introduce()"
   ]
  },
  {
   "cell_type": "code",
   "execution_count": 62,
   "metadata": {},
   "outputs": [],
   "source": [
    "friend2.first_name='Alex' #we can set an attibute this way, but it is better to use a method - setter method - to set attributes"
   ]
  },
  {
   "cell_type": "code",
   "execution_count": 63,
   "metadata": {},
   "outputs": [
    {
     "data": {
      "text/plain": [
       "'My name isAlex Smith'"
      ]
     },
     "execution_count": 63,
     "metadata": {},
     "output_type": "execute_result"
    }
   ],
   "source": [
    "friend2.introduce()"
   ]
  },
  {
   "cell_type": "code",
   "execution_count": 57,
   "metadata": {},
   "outputs": [
    {
     "data": {
      "text/plain": [
       "{'first_name': 'Alison', 'last_name': ''}"
      ]
     },
     "execution_count": 57,
     "metadata": {},
     "output_type": "execute_result"
    }
   ],
   "source": [
    "friend.__dict__  #Dictionary of attributes"
   ]
  },
  {
   "cell_type": "code",
   "execution_count": 61,
   "metadata": {},
   "outputs": [
    {
     "data": {
      "text/plain": [
       "['__class__',\n",
       " '__delattr__',\n",
       " '__dict__',\n",
       " '__dir__',\n",
       " '__doc__',\n",
       " '__eq__',\n",
       " '__format__',\n",
       " '__ge__',\n",
       " '__getattribute__',\n",
       " '__getstate__',\n",
       " '__gt__',\n",
       " '__hash__',\n",
       " '__init__',\n",
       " '__init_subclass__',\n",
       " '__le__',\n",
       " '__lt__',\n",
       " '__module__',\n",
       " '__ne__',\n",
       " '__new__',\n",
       " '__reduce__',\n",
       " '__reduce_ex__',\n",
       " '__repr__',\n",
       " '__setattr__',\n",
       " '__sizeof__',\n",
       " '__str__',\n",
       " '__subclasshook__',\n",
       " '__weakref__',\n",
       " 'first_name',\n",
       " 'full_name',\n",
       " 'introduce',\n",
       " 'last_name']"
      ]
     },
     "execution_count": 61,
     "metadata": {},
     "output_type": "execute_result"
    }
   ],
   "source": [
    "dir(friend)"
   ]
  },
  {
   "cell_type": "markdown",
   "metadata": {},
   "source": [
    "### Methods\n",
    "\n",
    "3 types:\n",
    "\n",
    "- Instance methods (methods of a class that depend on the instance, i.e. use self)\n",
    "- Static methods (these do not implicitly pass the self/instance variable when called ... not used too often)\n",
    "- Class methods"
   ]
  },
  {
   "cell_type": "markdown",
   "metadata": {},
   "source": [
    "### Static Methods\n",
    "\n",
    "We want to method of the class that does not depend on instance of the class, but rather just the class."
   ]
  },
  {
   "cell_type": "code",
   "execution_count": 71,
   "metadata": {},
   "outputs": [],
   "source": [
    "class Person():  \n",
    "    #__init__ is automatically class when creating a new instance of the class\n",
    "    def __init__(self, name1='', name2=''):  #we now added default values\n",
    "        self.first_name=name1\n",
    "        self.last_name=name2\n",
    "\n",
    "    # a method for this class\n",
    "    def full_name(self):\n",
    "        return self.first_name + ' ' + self.last_name\n",
    "    \n",
    "    def introduce(self):\n",
    "        return 'My name is' + self.full_name()\n",
    "    \n",
    "    def __repr__(self):\n",
    "        return(self.full_name())\n",
    "    \n",
    "    def genus(): #I could, but I don't want to add self since genus doesn't depend on person\n",
    "        return 'Homo sapiens'"
   ]
  },
  {
   "cell_type": "code",
   "execution_count": 67,
   "metadata": {},
   "outputs": [
    {
     "ename": "TypeError",
     "evalue": "Person.genus() takes 0 positional arguments but 1 was given",
     "output_type": "error",
     "traceback": [
      "\u001b[0;31m---------------------------------------------------------------------------\u001b[0m",
      "\u001b[0;31mTypeError\u001b[0m                                 Traceback (most recent call last)",
      "Cell \u001b[0;32mIn[67], line 2\u001b[0m\n\u001b[1;32m      1\u001b[0m me\u001b[39m=\u001b[39mPerson(\u001b[39m'\u001b[39m\u001b[39mYogesh\u001b[39m\u001b[39m'\u001b[39m, \u001b[39m'\u001b[39m\u001b[39mMore\u001b[39m\u001b[39m'\u001b[39m)\n\u001b[0;32m----> 2\u001b[0m me\u001b[39m.\u001b[39;49mgenus() \u001b[39m#gives error since 'me.genus()' is secretly translated to genus(me) but genus does not need self argument\u001b[39;00m\n",
      "\u001b[0;31mTypeError\u001b[0m: Person.genus() takes 0 positional arguments but 1 was given"
     ]
    }
   ],
   "source": [
    "me=Person('Yogesh', 'More')\n",
    "me.genus() #gives error since 'me.genus()' is secretly translated to genus(me) but genus does not need self argument"
   ]
  },
  {
   "cell_type": "code",
   "execution_count": 68,
   "metadata": {},
   "outputs": [],
   "source": [
    "class Person():  \n",
    "    #__init__ is automatically class when creating a new instance of the class\n",
    "    def __init__(self, name1='', name2=''):  #we now added default values\n",
    "        self.first_name=name1\n",
    "        self.last_name=name2\n",
    "\n",
    "    # a method for this class\n",
    "    def full_name(self):\n",
    "        return self.first_name + ' ' + self.last_name\n",
    "    \n",
    "    def introduce(self):\n",
    "        return 'My name is' + self.full_name()\n",
    "    \n",
    "    def __repr__(self):\n",
    "        return(self.full_name())\n",
    "    \n",
    "    @staticmethod \n",
    "    def genus(): #I don't want to add self since genus doesn't depend on person\n",
    "        return 'Homo sapiens'"
   ]
  },
  {
   "cell_type": "code",
   "execution_count": 69,
   "metadata": {},
   "outputs": [
    {
     "data": {
      "text/plain": [
       "'Homo sapiens'"
      ]
     },
     "execution_count": 69,
     "metadata": {},
     "output_type": "execute_result"
    }
   ],
   "source": [
    "me=Person('Yogesh', 'More')\n",
    "me.genus() #no longer gives error"
   ]
  },
  {
   "cell_type": "markdown",
   "metadata": {},
   "source": [
    "### Class methods\n",
    "\n",
    "Class methods are sortof a mix of static and instance methods:\n",
    "\n",
    "- Like static methods, class methods don't depend on an instance of the class.\n",
    "\n",
    "- Like instance methods, they secretly take in variable, but instead of the instance (self), it takes in the class (convention is to use cls)"
   ]
  },
  {
   "cell_type": "code",
   "execution_count": 82,
   "metadata": {},
   "outputs": [],
   "source": [
    "class Person():  \n",
    "    #__init__ is automatically class when creating a new instance of the class\n",
    "    def __init__(self, name1='', name2=''):  #we now added default values\n",
    "        self.first_name=name1\n",
    "        self.last_name=name2\n",
    "\n",
    "    # a method for this class\n",
    "    def full_name(self):\n",
    "        return self.first_name + ' ' + self.last_name\n",
    "    \n",
    "    def introduce(self):\n",
    "        return 'My name is' + self.full_name()\n",
    "    \n",
    "    def __repr__(self):\n",
    "        return(self.full_name())\n",
    "    \n",
    "    @staticmethod \n",
    "    def genus(): #I don't want to add self since genus doesn't depend on person\n",
    "        return 'Homo sapiens'\n",
    "    \n",
    "    @classmethod\n",
    "    def what_can_do(cls):\n",
    "        return dir(cls)"
   ]
  },
  {
   "cell_type": "code",
   "execution_count": 83,
   "metadata": {},
   "outputs": [
    {
     "data": {
      "text/plain": [
       "['__class__',\n",
       " '__delattr__',\n",
       " '__dict__',\n",
       " '__dir__',\n",
       " '__doc__',\n",
       " '__eq__',\n",
       " '__format__',\n",
       " '__ge__',\n",
       " '__getattribute__',\n",
       " '__getstate__',\n",
       " '__gt__',\n",
       " '__hash__',\n",
       " '__init__',\n",
       " '__init_subclass__',\n",
       " '__le__',\n",
       " '__lt__',\n",
       " '__module__',\n",
       " '__ne__',\n",
       " '__new__',\n",
       " '__reduce__',\n",
       " '__reduce_ex__',\n",
       " '__repr__',\n",
       " '__setattr__',\n",
       " '__sizeof__',\n",
       " '__str__',\n",
       " '__subclasshook__',\n",
       " '__weakref__',\n",
       " 'full_name',\n",
       " 'genus',\n",
       " 'introduce',\n",
       " 'what_can_do']"
      ]
     },
     "execution_count": 83,
     "metadata": {},
     "output_type": "execute_result"
    }
   ],
   "source": [
    "me=Person('John', 'Doe')\n",
    "Person.what_can_do()"
   ]
  },
  {
   "cell_type": "code",
   "execution_count": 84,
   "metadata": {},
   "outputs": [
    {
     "data": {
      "text/plain": [
       "['__class__',\n",
       " '__delattr__',\n",
       " '__dict__',\n",
       " '__dir__',\n",
       " '__doc__',\n",
       " '__eq__',\n",
       " '__format__',\n",
       " '__ge__',\n",
       " '__getattribute__',\n",
       " '__getstate__',\n",
       " '__gt__',\n",
       " '__hash__',\n",
       " '__init__',\n",
       " '__init_subclass__',\n",
       " '__le__',\n",
       " '__lt__',\n",
       " '__module__',\n",
       " '__ne__',\n",
       " '__new__',\n",
       " '__reduce__',\n",
       " '__reduce_ex__',\n",
       " '__repr__',\n",
       " '__setattr__',\n",
       " '__sizeof__',\n",
       " '__str__',\n",
       " '__subclasshook__',\n",
       " '__weakref__',\n",
       " 'full_name',\n",
       " 'genus',\n",
       " 'introduce',\n",
       " 'what_can_do']"
      ]
     },
     "execution_count": 84,
     "metadata": {},
     "output_type": "execute_result"
    }
   ],
   "source": [
    "me.what_can_do()"
   ]
  },
  {
   "cell_type": "markdown",
   "metadata": {},
   "source": [
    "### property decorator\n",
    "\n",
    "```\n",
    "@property\n",
    "\n",
    "```\n",
    "a property of an instance is like a mix of an attribute and a method of an instance\n",
    "\n",
    "- like an attribute, it is **accessed without () **\n",
    "- like a method, it can compute things "
   ]
  },
  {
   "cell_type": "code",
   "execution_count": 96,
   "metadata": {},
   "outputs": [],
   "source": [
    "class Person():  \n",
    "    #__init__ is automatically class when creating a new instance of the class\n",
    "    def __init__(self, name1='', name2=''):  #we now added default values\n",
    "        self.first_name=name1\n",
    "        self.last_name=name2\n",
    "\n",
    "    # change full_name from a method to a property \n",
    "    @property\n",
    "    def full_name(self):\n",
    "        return self.first_name + ' ' + self.last_name\n",
    "    \n",
    "    def introduce(self):\n",
    "        return 'My name is' + self.full_name #<-- now full name is not callable\n",
    "    \n",
    "    def __repr__(self):\n",
    "        return(self.full_name)\n",
    "    \n",
    "    @staticmethod \n",
    "    def genus(): #I don't want to add self since genus doesn't depend on person\n",
    "        return 'Homo sapiens'\n",
    "    \n",
    "    @classmethod\n",
    "    def what_can_do(cls):\n",
    "        return dir(cls)"
   ]
  },
  {
   "cell_type": "code",
   "execution_count": 86,
   "metadata": {},
   "outputs": [
    {
     "ename": "TypeError",
     "evalue": "'str' object is not callable",
     "output_type": "error",
     "traceback": [
      "\u001b[0;31m---------------------------------------------------------------------------\u001b[0m",
      "\u001b[0;31mTypeError\u001b[0m                                 Traceback (most recent call last)",
      "Cell \u001b[0;32mIn[86], line 2\u001b[0m\n\u001b[1;32m      1\u001b[0m me\u001b[39m=\u001b[39mPerson(\u001b[39m'\u001b[39m\u001b[39mYogesh\u001b[39m\u001b[39m'\u001b[39m, \u001b[39m'\u001b[39m\u001b[39mMore\u001b[39m\u001b[39m'\u001b[39m)\n\u001b[0;32m----> 2\u001b[0m me\u001b[39m.\u001b[39;49mfull_name()\n",
      "\u001b[0;31mTypeError\u001b[0m: 'str' object is not callable"
     ]
    }
   ],
   "source": [
    "me=Person('Yogesh', 'More')\n",
    "me.full_name()"
   ]
  },
  {
   "cell_type": "code",
   "execution_count": 87,
   "metadata": {},
   "outputs": [
    {
     "data": {
      "text/plain": [
       "'Yogesh More'"
      ]
     },
     "execution_count": 87,
     "metadata": {},
     "output_type": "execute_result"
    }
   ],
   "source": [
    "me.full_name"
   ]
  },
  {
   "cell_type": "markdown",
   "metadata": {},
   "source": [
    "### setter methods\n",
    "\n",
    "A property is basically a function/method that looks as if it is an attribute (i.e. no () and can't call it)\n",
    "\n",
    "A setter method"
   ]
  },
  {
   "cell_type": "code",
   "execution_count": 97,
   "metadata": {},
   "outputs": [],
   "source": [
    "class Person():  \n",
    "    #__init__ is automatically class when creating a new instance of the class\n",
    "    def __init__(self, name1='', name2=''):  #we now added default values\n",
    "        self.first_name=name1\n",
    "        self.last_name=name2\n",
    "\n",
    "    # change full_name from a method to a property \n",
    "    @property\n",
    "    def full_name(self):\n",
    "        return self.first_name + ' ' + self.last_name\n",
    "    \n",
    "    def introduce(self):\n",
    "        return 'My name is' + self.full_name #<-- now full name is not callable\n",
    "    \n",
    "    def __repr__(self):\n",
    "        return(self.full_name)\n",
    "    \n",
    "    @staticmethod \n",
    "    def genus(): #I don't want to add self since genus doesn't depend on person\n",
    "        return 'Homo sapiens'\n",
    "    \n",
    "    @classmethod\n",
    "    def what_can_do(cls):\n",
    "        return dir(cls)"
   ]
  },
  {
   "cell_type": "code",
   "execution_count": 98,
   "metadata": {},
   "outputs": [],
   "source": [
    "me=Person()"
   ]
  },
  {
   "cell_type": "code",
   "execution_count": 99,
   "metadata": {},
   "outputs": [
    {
     "data": {
      "text/plain": [
       " "
      ]
     },
     "execution_count": 99,
     "metadata": {},
     "output_type": "execute_result"
    }
   ],
   "source": [
    "me"
   ]
  },
  {
   "cell_type": "code",
   "execution_count": 100,
   "metadata": {},
   "outputs": [
    {
     "ename": "AttributeError",
     "evalue": "property 'full_name' of 'Person' object has no setter",
     "output_type": "error",
     "traceback": [
      "\u001b[0;31m---------------------------------------------------------------------------\u001b[0m",
      "\u001b[0;31mAttributeError\u001b[0m                            Traceback (most recent call last)",
      "Cell \u001b[0;32mIn[100], line 1\u001b[0m\n\u001b[0;32m----> 1\u001b[0m me\u001b[39m.\u001b[39;49mfull_name\u001b[39m=\u001b[39m\u001b[39m'\u001b[39m\u001b[39mYogesh More\u001b[39m\u001b[39m'\u001b[39m\n",
      "\u001b[0;31mAttributeError\u001b[0m: property 'full_name' of 'Person' object has no setter"
     ]
    }
   ],
   "source": [
    "me.full_name='Yogesh More'"
   ]
  },
  {
   "cell_type": "code",
   "execution_count": 101,
   "metadata": {},
   "outputs": [],
   "source": [
    "class Person():  \n",
    "    #__init__ is automatically class when creating a new instance of the class\n",
    "    def __init__(self, name1='', name2=''):  #we now added default values\n",
    "        self.first_name=name1\n",
    "        self.last_name=name2\n",
    "\n",
    "    # change full_name from a method to a property \n",
    "    @property\n",
    "    def full_name(self):\n",
    "        return self.first_name + ' ' + self.last_name\n",
    "    \n",
    "    @ full_name.setter\n",
    "    def full_name(self, name):\n",
    "        split_name=name.split( ' ')\n",
    "        self.first_name=split_name[0]\n",
    "        self.last_name=split_name[1]\n",
    "    \n",
    "    def introduce(self):\n",
    "        return 'My name is' + self.full_name #<-- now full name is not callable\n",
    "    \n",
    "    def __repr__(self):\n",
    "        return(self.full_name)\n",
    "    \n",
    "    @staticmethod \n",
    "    def genus(): #I don't want to add self since genus doesn't depend on person\n",
    "        return 'Homo sapiens'\n",
    "    \n",
    "    @classmethod\n",
    "    def what_can_do(cls):\n",
    "        return dir(cls)"
   ]
  },
  {
   "cell_type": "code",
   "execution_count": 102,
   "metadata": {},
   "outputs": [],
   "source": [
    "me=Person()\n",
    "me.full_name='Yogesh More'"
   ]
  },
  {
   "cell_type": "code",
   "execution_count": 103,
   "metadata": {},
   "outputs": [
    {
     "data": {
      "text/plain": [
       "Yogesh More"
      ]
     },
     "execution_count": 103,
     "metadata": {},
     "output_type": "execute_result"
    }
   ],
   "source": [
    "me"
   ]
  },
  {
   "cell_type": "code",
   "execution_count": null,
   "metadata": {},
   "outputs": [],
   "source": []
  }
 ],
 "metadata": {
  "kernelspec": {
   "display_name": "2521_env",
   "language": "python",
   "name": "python3"
  },
  "language_info": {
   "codemirror_mode": {
    "name": "ipython",
    "version": 3
   },
   "file_extension": ".py",
   "mimetype": "text/x-python",
   "name": "python",
   "nbconvert_exporter": "python",
   "pygments_lexer": "ipython3",
   "version": "3.11.4"
  },
  "orig_nbformat": 4
 },
 "nbformat": 4,
 "nbformat_minor": 2
}
