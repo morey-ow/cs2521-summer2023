{
 "cells": [
  {
   "cell_type": "markdown",
   "metadata": {},
   "source": [
    "### Chapter 3 continued: \n",
    " - recursive functions, \n",
    " - dynamic programming, \n",
    " - lambda functions, \n",
    " - map, filter"
   ]
  },
  {
   "cell_type": "markdown",
   "metadata": {},
   "source": [
    "### A *recursive* function is a function that calls itself"
   ]
  },
  {
   "cell_type": "markdown",
   "metadata": {},
   "source": [
    "**Example** Write a recursive function that given a positive integer $n$ as input, computes the sum $$1 + 2 + \\ldots + n$$"
   ]
  },
  {
   "cell_type": "markdown",
   "metadata": {},
   "source": [
    "**Solution** The key idea is that the sum of the first $n$ integers is $n$ plus the sum of the first $n-1$ integers."
   ]
  },
  {
   "cell_type": "code",
   "execution_count": 1,
   "metadata": {},
   "outputs": [],
   "source": [
    "def sum_integers(n):\n",
    "    if n==1:\n",
    "        return 1\n",
    "    else:\n",
    "        return n + sum_integers(n-1)"
   ]
  },
  {
   "cell_type": "code",
   "execution_count": 2,
   "metadata": {},
   "outputs": [
    {
     "data": {
      "text/plain": [
       "55"
      ]
     },
     "execution_count": 2,
     "metadata": {},
     "output_type": "execute_result"
    }
   ],
   "source": [
    "sum_integers(10)"
   ]
  },
  {
   "cell_type": "markdown",
   "metadata": {},
   "source": [
    "Let's try to recursively code bubble sort. The idea is that after the first pass through a list with $n$ elements, the largest element is guaranteed to be at the end in its correct position, and so then we have the sort the list of the first $n-1$ elements."
   ]
  },
  {
   "cell_type": "code",
   "execution_count": 47,
   "metadata": {},
   "outputs": [],
   "source": [
    "def recursive_bubble_sort(my_list):\n",
    "    length=len(my_list)\n",
    "    if length==0 or length==1:\n",
    "        return my_list\n",
    "    else:\n",
    "        for i in range(length-1):\n",
    "            if my_list[i]>my_list[i+1]:\n",
    "                my_list[i], my_list[i+1] = my_list[i+1], my_list[i] #this swaps\n",
    "                \n",
    "        return recursive_bubble_sort(my_list[:length-1]) + [my_list[length-1]]\n",
    "    "
   ]
  },
  {
   "cell_type": "code",
   "execution_count": 48,
   "metadata": {},
   "outputs": [
    {
     "data": {
      "text/plain": [
       "[1, 1, 2, 3, 4]"
      ]
     },
     "execution_count": 48,
     "metadata": {},
     "output_type": "execute_result"
    }
   ],
   "source": [
    "recursive_bubble_sort([3, 4, 1, 2, 1])"
   ]
  },
  {
   "cell_type": "markdown",
   "metadata": {},
   "source": [
    "**Example** Write a recursive function that computes the $n$ terms of the Fibonnacci sequence. Let the indexing start at $0$, so $F_0=0$, $F_1=1$, and then $F_2=0+1=1$ and in general $F_n=F_{n-1} + F_{n-2}$ for $n \\geq 2$"
   ]
  },
  {
   "cell_type": "code",
   "execution_count": 5,
   "metadata": {},
   "outputs": [],
   "source": [
    "def fibonacci(n):\n",
    "    if n==0:\n",
    "        return 0\n",
    "    elif n==1:\n",
    "        return 1\n",
    "    else:\n",
    "        return fibonacci(n-1) + fibonacci(n-2)"
   ]
  },
  {
   "cell_type": "code",
   "execution_count": 8,
   "metadata": {},
   "outputs": [
    {
     "data": {
      "text/plain": [
       "21"
      ]
     },
     "execution_count": 8,
     "metadata": {},
     "output_type": "execute_result"
    }
   ],
   "source": [
    "fibonacci(8)"
   ]
  },
  {
   "cell_type": "code",
   "execution_count": 14,
   "metadata": {},
   "outputs": [
    {
     "data": {
      "text/plain": [
       "102334155"
      ]
     },
     "execution_count": 14,
     "metadata": {},
     "output_type": "execute_result"
    }
   ],
   "source": [
    "fibonacci(40)  #takes a while to run! (21s on my device)"
   ]
  },
  {
   "cell_type": "markdown",
   "metadata": {},
   "source": [
    "Our recursive fibonacci algorithm is not very efficient because it repeatedly computes from scratch values it had already previously computed.\n",
    "\n",
    "Let's create a dictionary ```fib_dict``` with key $n$ storing the value of the number of times ```fibonacci(n)``` is called. "
   ]
  },
  {
   "cell_type": "code",
   "execution_count": 34,
   "metadata": {},
   "outputs": [],
   "source": [
    "fib_dict=dict() #create an empty dictionary\n",
    "def fibonacci2(n):\n",
    "    fib_dict[n]=fib_dict.get(n, 0) +1\n",
    "    if n==0 or n==1:\n",
    "        return n\n",
    "    else:\n",
    "        return fibonacci2(n-1)+fibonacci2(n-2)"
   ]
  },
  {
   "cell_type": "code",
   "execution_count": 35,
   "metadata": {},
   "outputs": [
    {
     "data": {
      "text/plain": [
       "1"
      ]
     },
     "execution_count": 35,
     "metadata": {},
     "output_type": "execute_result"
    }
   ],
   "source": [
    "fib_dict=dict()\n",
    "fibonacci2(2)"
   ]
  },
  {
   "cell_type": "code",
   "execution_count": 36,
   "metadata": {},
   "outputs": [
    {
     "data": {
      "text/plain": [
       "{2: 1, 1: 1, 0: 1}"
      ]
     },
     "execution_count": 36,
     "metadata": {},
     "output_type": "execute_result"
    }
   ],
   "source": [
    "fib_dict"
   ]
  },
  {
   "cell_type": "code",
   "execution_count": 38,
   "metadata": {},
   "outputs": [
    {
     "name": "stdout",
     "output_type": "stream",
     "text": [
      "{4: 1, 3: 1, 2: 2, 1: 3, 0: 2}\n"
     ]
    }
   ],
   "source": [
    "fib_dict=dict()\n",
    "fibonacci2(4)\n",
    "print(fib_dict)"
   ]
  },
  {
   "cell_type": "code",
   "execution_count": 40,
   "metadata": {},
   "outputs": [
    {
     "name": "stdout",
     "output_type": "stream",
     "text": [
      "{25: 1, 24: 1, 23: 2, 22: 3, 21: 5, 20: 8, 19: 13, 18: 21, 17: 34, 16: 55, 15: 89, 14: 144, 13: 233, 12: 377, 11: 610, 10: 987, 9: 1597, 8: 2584, 7: 4181, 6: 6765, 5: 10946, 4: 17711, 3: 28657, 2: 46368, 1: 75025, 0: 46368}\n"
     ]
    }
   ],
   "source": [
    "fib_dict=dict()\n",
    "fibonacci2(25)\n",
    "print(fib_dict)"
   ]
  },
  {
   "cell_type": "markdown",
   "metadata": {},
   "source": [
    "### Dynamic Programming"
   ]
  },
  {
   "cell_type": "markdown",
   "metadata": {},
   "source": [
    "Dynamic programming is simply where you **store the results** of any calculation that you may need to reuse.\n",
    "\n",
    "So a dynamic programming and recursive solution to the fibonnaci problem will store the fibonacci numbers in a dictionary as we compute them."
   ]
  },
  {
   "cell_type": "code",
   "execution_count": 57,
   "metadata": {},
   "outputs": [],
   "source": [
    "fib_stored={0:0, 1:1}\n",
    "def fibonacci_dynamic(n):\n",
    "    if n in fib_stored.keys():\n",
    "        return fib_stored[n]\n",
    "    else:\n",
    "        fib_stored[n]=fibonacci_dynamic(n-1) + fibonacci_dynamic(n-2)\n",
    "        return fib_stored[n]"
   ]
  },
  {
   "cell_type": "code",
   "execution_count": 58,
   "metadata": {},
   "outputs": [
    {
     "data": {
      "text/plain": [
       "12586269025"
      ]
     },
     "execution_count": 58,
     "metadata": {},
     "output_type": "execute_result"
    }
   ],
   "source": [
    "fibonacci_dynamic(50)"
   ]
  },
  {
   "cell_type": "code",
   "execution_count": 59,
   "metadata": {},
   "outputs": [
    {
     "data": {
      "text/plain": [
       "{0: 0,\n",
       " 1: 1,\n",
       " 2: 1,\n",
       " 3: 2,\n",
       " 4: 3,\n",
       " 5: 5,\n",
       " 6: 8,\n",
       " 7: 13,\n",
       " 8: 21,\n",
       " 9: 34,\n",
       " 10: 55,\n",
       " 11: 89,\n",
       " 12: 144,\n",
       " 13: 233,\n",
       " 14: 377,\n",
       " 15: 610,\n",
       " 16: 987,\n",
       " 17: 1597,\n",
       " 18: 2584,\n",
       " 19: 4181,\n",
       " 20: 6765,\n",
       " 21: 10946,\n",
       " 22: 17711,\n",
       " 23: 28657,\n",
       " 24: 46368,\n",
       " 25: 75025,\n",
       " 26: 121393,\n",
       " 27: 196418,\n",
       " 28: 317811,\n",
       " 29: 514229,\n",
       " 30: 832040,\n",
       " 31: 1346269,\n",
       " 32: 2178309,\n",
       " 33: 3524578,\n",
       " 34: 5702887,\n",
       " 35: 9227465,\n",
       " 36: 14930352,\n",
       " 37: 24157817,\n",
       " 38: 39088169,\n",
       " 39: 63245986,\n",
       " 40: 102334155,\n",
       " 41: 165580141,\n",
       " 42: 267914296,\n",
       " 43: 433494437,\n",
       " 44: 701408733,\n",
       " 45: 1134903170,\n",
       " 46: 1836311903,\n",
       " 47: 2971215073,\n",
       " 48: 4807526976,\n",
       " 49: 7778742049,\n",
       " 50: 12586269025}"
      ]
     },
     "execution_count": 59,
     "metadata": {},
     "output_type": "execute_result"
    }
   ],
   "source": [
    "fib_stored"
   ]
  },
  {
   "cell_type": "markdown",
   "metadata": {},
   "source": [
    "### Lambda functions\n",
    "\n",
    "These are very simple. It is a concise syntax for defining simple functions that are 'throw away' functions - ones that you won't be using much."
   ]
  },
  {
   "cell_type": "code",
   "execution_count": 60,
   "metadata": {},
   "outputs": [],
   "source": [
    "square = lambda x: x**2  #takes x as input and returns x^2"
   ]
  },
  {
   "cell_type": "code",
   "execution_count": 61,
   "metadata": {},
   "outputs": [
    {
     "data": {
      "text/plain": [
       "25"
      ]
     },
     "execution_count": 61,
     "metadata": {},
     "output_type": "execute_result"
    }
   ],
   "source": [
    "square(5)"
   ]
  },
  {
   "cell_type": "code",
   "execution_count": 64,
   "metadata": {},
   "outputs": [],
   "source": [
    "add = lambda x, y: x+y"
   ]
  },
  {
   "cell_type": "code",
   "execution_count": 66,
   "metadata": {},
   "outputs": [
    {
     "data": {
      "text/plain": [
       "8"
      ]
     },
     "execution_count": 66,
     "metadata": {},
     "output_type": "execute_result"
    }
   ],
   "source": [
    "add(3,5)"
   ]
  },
  {
   "cell_type": "markdown",
   "metadata": {},
   "source": [
    "### map(function, list)\n",
    "### filter(function, list)\n",
    "\n",
    "The ```map``` and ```filter``` functions apply a function to all the elements of an iterable (e.g. a list, string, tuple)\n"
   ]
  },
  {
   "cell_type": "code",
   "execution_count": 67,
   "metadata": {},
   "outputs": [
    {
     "name": "stdout",
     "output_type": "stream",
     "text": [
      "\u001b[0;31mInit signature:\u001b[0m \u001b[0mmap\u001b[0m\u001b[0;34m(\u001b[0m\u001b[0mself\u001b[0m\u001b[0;34m,\u001b[0m \u001b[0;34m/\u001b[0m\u001b[0;34m,\u001b[0m \u001b[0;34m*\u001b[0m\u001b[0margs\u001b[0m\u001b[0;34m,\u001b[0m \u001b[0;34m**\u001b[0m\u001b[0mkwargs\u001b[0m\u001b[0;34m)\u001b[0m\u001b[0;34m\u001b[0m\u001b[0;34m\u001b[0m\u001b[0m\n",
      "\u001b[0;31mDocstring:\u001b[0m     \n",
      "map(func, *iterables) --> map object\n",
      "\n",
      "Make an iterator that computes the function using arguments from\n",
      "each of the iterables.  Stops when the shortest iterable is exhausted.\n",
      "\u001b[0;31mType:\u001b[0m           type\n",
      "\u001b[0;31mSubclasses:\u001b[0m     "
     ]
    }
   ],
   "source": [
    "map?"
   ]
  },
  {
   "cell_type": "code",
   "execution_count": 68,
   "metadata": {},
   "outputs": [
    {
     "data": {
      "text/plain": [
       "<map at 0x10370d810>"
      ]
     },
     "execution_count": 68,
     "metadata": {},
     "output_type": "execute_result"
    }
   ],
   "source": [
    "map(square, [1, 2, 3])"
   ]
  },
  {
   "cell_type": "code",
   "execution_count": 69,
   "metadata": {},
   "outputs": [
    {
     "data": {
      "text/plain": [
       "[1, 4, 9]"
      ]
     },
     "execution_count": 69,
     "metadata": {},
     "output_type": "execute_result"
    }
   ],
   "source": [
    "list(map(square, [1, 2, 3]))"
   ]
  },
  {
   "cell_type": "code",
   "execution_count": 70,
   "metadata": {},
   "outputs": [
    {
     "name": "stdout",
     "output_type": "stream",
     "text": [
      "\u001b[0;31mInit signature:\u001b[0m \u001b[0mfilter\u001b[0m\u001b[0;34m(\u001b[0m\u001b[0mself\u001b[0m\u001b[0;34m,\u001b[0m \u001b[0;34m/\u001b[0m\u001b[0;34m,\u001b[0m \u001b[0;34m*\u001b[0m\u001b[0margs\u001b[0m\u001b[0;34m,\u001b[0m \u001b[0;34m**\u001b[0m\u001b[0mkwargs\u001b[0m\u001b[0;34m)\u001b[0m\u001b[0;34m\u001b[0m\u001b[0;34m\u001b[0m\u001b[0m\n",
      "\u001b[0;31mDocstring:\u001b[0m     \n",
      "filter(function or None, iterable) --> filter object\n",
      "\n",
      "Return an iterator yielding those items of iterable for which function(item)\n",
      "is true. If function is None, return the items that are true.\n",
      "\u001b[0;31mType:\u001b[0m           type\n",
      "\u001b[0;31mSubclasses:\u001b[0m     "
     ]
    }
   ],
   "source": [
    "filter?"
   ]
  },
  {
   "cell_type": "code",
   "execution_count": 80,
   "metadata": {},
   "outputs": [
    {
     "data": {
      "text/plain": [
       "[3, 3, 5]"
      ]
     },
     "execution_count": 80,
     "metadata": {},
     "output_type": "execute_result"
    }
   ],
   "source": [
    "list(filter(lambda x: x%2!=0, [8, 2, 3, 3, 4, 5])) #returns odd number is a list"
   ]
  },
  {
   "cell_type": "code",
   "execution_count": 81,
   "metadata": {},
   "outputs": [
    {
     "data": {
      "text/plain": [
       "[3, 6]"
      ]
     },
     "execution_count": 81,
     "metadata": {},
     "output_type": "execute_result"
    }
   ],
   "source": [
    "list(filter(lambda x: x%3==0, [8, 2, 3, 6, 4, 5])) #returns the multiples of 3 in a list"
   ]
  },
  {
   "cell_type": "markdown",
   "metadata": {},
   "source": [
    "## Summary of [], {}, vs ()\n",
    "\n",
    "### Square brackets [] \n",
    "     - creating a list: \n",
    "        my_list=['a', 1, 3]\n",
    "     \n",
    "     - getting a item from a list, dictionary, string, or tuple:\n",
    "        my_list[0]='a'\n",
    "\n",
    "\n",
    "### Round brackets () \n",
    "    - functions:\n",
    "        -definining a function:\n",
    "            def my_function(x):\n",
    "                return x**2 \n",
    "    \n",
    "        -calling a function:\n",
    "            my_function(2)\n",
    "            D=dict()  #dict function creates an empty dictionary\n",
    "            L=list()  #list function creates an empty list\n",
    "\n",
    "    - creating a tuple (which is like a list, but immutable)\n",
    "        my_tuple=(3, 2, 5)\n",
    "        my_tuple[0]=3   #note we still use *square* brackets to index a tuple\n",
    "        \n",
    "    \n",
    "### Curly braces {}\n",
    "    - creating a dictionary:\n",
    "        D={'Caroline':21, 'Bob': 32, 'Sally':10}\n",
    "    - format strings:\n",
    "        print(f'The value of x is {x}')\n",
    "\n"
   ]
  },
  {
   "cell_type": "markdown",
   "metadata": {},
   "source": [
    "### Exercise\n",
    "Here are some exercises suggested by ChatGPT to the prompt:\n",
    "'I'm a beginner in python. I just learned about recursive functions and map and filter. Make up 10 easy exercises'\n"
   ]
  },
  {
   "cell_type": "markdown",
   "metadata": {},
   "source": [
    "**Exercise**:\n",
    "Write a recursive function to calculate the factorial of a given non-negative integer n. (Factorial of $n$ is the product of the integers from $1$ to $n$)\n",
    "\n",
    "**Exercise**:\n",
    "Write a recursive function to calculate the sum of digits of a positive integer $n$. (Hint: if $n=321$, then $n//10=321//10=32$ and $n\\%10=1$, so we've separated 321 as 32 and 1.)\n",
    "\n",
    "**Exercise**: Given a list of strings, use map to convert each string to uppercase and return a new list with the uppercase strings. (Hint: use ```dir(str)``` to find the function that uppercases a string)\n",
    "\n",
    "**Exercise**:\n",
    "Write a recursive function to reverse a string.\n",
    "\n",
    "**Exercise**:\n",
    "Write a recursive function to check if a given string is a palindrome (reads the same forward and backward).\n",
    "\n",
    "**Exercise**:\n",
    "Given a list of temperatures in Celsius, use map to convert each temperature to Fahrenheit using the formula (Celsius * 9/5) + 32 and return a new list with the converted temperatures.\n",
    "\n",
    "**Exercise**:\n",
    "Given a list of positive integers, write a recursive function to find the maximum element in the list.\n",
    "\n",
    "**Exercise** Given a list of dictionaries where each dictionary contains a name and age, use filter to keep only the people who are above 21 years old and return a new list with their names.\n",
    "\n",
    "\n",
    "\n",
    "\n"
   ]
  },
  {
   "cell_type": "markdown",
   "metadata": {},
   "source": [
    "### Video assignment\n",
    "Record a short instructional video (10-15) minutes explaining something in class you learned and found interesting this week. For instance, it could be one of the exercises. Consider explaining things using pythontutor, if appropriate. Upload it to 'Discussions' in Brightspace.  \n",
    "Secondly, watch at least one video (when available) submitted by a classmate.\n",
    "\n",
    "One way to create such a video is create a Zoom meeting with yourself and then share screen (with yourself) and record in Zoom."
   ]
  }
 ],
 "metadata": {
  "kernelspec": {
   "display_name": "2521_env",
   "language": "python",
   "name": "python3"
  },
  "language_info": {
   "codemirror_mode": {
    "name": "ipython",
    "version": 3
   },
   "file_extension": ".py",
   "mimetype": "text/x-python",
   "name": "python",
   "nbconvert_exporter": "python",
   "pygments_lexer": "ipython3",
   "version": "3.11.4"
  },
  "orig_nbformat": 4
 },
 "nbformat": 4,
 "nbformat_minor": 2
}
