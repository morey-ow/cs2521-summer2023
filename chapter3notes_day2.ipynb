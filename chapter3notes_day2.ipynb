{
 "cells": [
  {
   "cell_type": "markdown",
   "metadata": {},
   "source": [
    "### Chapter 3 continued: recursive functions, dynamic programming, lambda functions, map, filter"
   ]
  },
  {
   "cell_type": "markdown",
   "metadata": {},
   "source": [
    "### A *recursive* function is a function that calls itself"
   ]
  },
  {
   "cell_type": "markdown",
   "metadata": {},
   "source": [
    "**Example** Write a recursive function that given a positive integer $n$ as input, computes the sum $$1 + 2 + \\ldots + n$$"
   ]
  },
  {
   "cell_type": "markdown",
   "metadata": {},
   "source": [
    "**Solution** The key idea is that the sum of the first $n$ integers is $n$ plus the sum of the first $n-1$ integers."
   ]
  },
  {
   "cell_type": "code",
   "execution_count": 1,
   "metadata": {},
   "outputs": [],
   "source": [
    "def sum_integers(n):\n",
    "    if n==1:\n",
    "        return 1\n",
    "    else:\n",
    "        return n + sum_integers(n-1)"
   ]
  },
  {
   "cell_type": "code",
   "execution_count": 2,
   "metadata": {},
   "outputs": [
    {
     "data": {
      "text/plain": [
       "55"
      ]
     },
     "execution_count": 2,
     "metadata": {},
     "output_type": "execute_result"
    }
   ],
   "source": [
    "sum_integers(10)"
   ]
  },
  {
   "cell_type": "markdown",
   "metadata": {},
   "source": [
    "Let's try to recursively code bubble sort. The idea is that after the first pass through a list with $n$ elements, the largest element is guaranteed to be at the end in its correct position, and so then we have the sort the list of the first $n-1$ elements."
   ]
  },
  {
   "cell_type": "code",
   "execution_count": 47,
   "metadata": {},
   "outputs": [],
   "source": [
    "def recursive_bubble_sort(my_list):\n",
    "    length=len(my_list)\n",
    "    if length==0 or length==1:\n",
    "        return my_list\n",
    "    else:\n",
    "        for i in range(length-1):\n",
    "            if my_list[i]>my_list[i+1]:\n",
    "                my_list[i], my_list[i+1] = my_list[i+1], my_list[i] #this swaps\n",
    "                \n",
    "        return recursive_bubble_sort(my_list[:length-1]) + [my_list[length-1]]\n",
    "    "
   ]
  },
  {
   "cell_type": "code",
   "execution_count": 48,
   "metadata": {},
   "outputs": [
    {
     "data": {
      "text/plain": [
       "[1, 1, 2, 3, 4]"
      ]
     },
     "execution_count": 48,
     "metadata": {},
     "output_type": "execute_result"
    }
   ],
   "source": [
    "recursive_bubble_sort([3, 4, 1, 2, 1])"
   ]
  },
  {
   "cell_type": "markdown",
   "metadata": {},
   "source": [
    "**Example** Write a recursive function that computes the $n$ terms of the Fibonnacci sequence. Let the indexing start at $0$, so $F_0=0$, $F_1=1$, and then $F_2=0+1=1$ and in general $F_n=F_{n-1} + F_{n-2}$ for $n \\geq 2$"
   ]
  },
  {
   "cell_type": "code",
   "execution_count": 5,
   "metadata": {},
   "outputs": [],
   "source": [
    "def fibonacci(n):\n",
    "    if n==0:\n",
    "        return 0\n",
    "    elif n==1:\n",
    "        return 1\n",
    "    else:\n",
    "        return fibonacci(n-1) + fibonacci(n-2)"
   ]
  },
  {
   "cell_type": "code",
   "execution_count": 8,
   "metadata": {},
   "outputs": [
    {
     "data": {
      "text/plain": [
       "21"
      ]
     },
     "execution_count": 8,
     "metadata": {},
     "output_type": "execute_result"
    }
   ],
   "source": [
    "fibonacci(8)"
   ]
  },
  {
   "cell_type": "code",
   "execution_count": 14,
   "metadata": {},
   "outputs": [
    {
     "data": {
      "text/plain": [
       "102334155"
      ]
     },
     "execution_count": 14,
     "metadata": {},
     "output_type": "execute_result"
    }
   ],
   "source": [
    "fibonacci(40)  #takes a while to run! (21s on my device)"
   ]
  },
  {
   "cell_type": "markdown",
   "metadata": {},
   "source": [
    "Our recursive fibonacci algorithm is not very efficient because it repeatedly computes from scratch values it had already previously computed.\n",
    "\n",
    "Let's create a dictionary ```fib_dict``` with key $n$ storing the value of the number of times ```fibonacci(n)``` is called. "
   ]
  },
  {
   "cell_type": "code",
   "execution_count": 34,
   "metadata": {},
   "outputs": [],
   "source": [
    "fib_dict=dict() #create an empty dictionary\n",
    "def fibonacci2(n):\n",
    "    fib_dict[n]=fib_dict.get(n, 0) +1\n",
    "    if n==0 or n==1:\n",
    "        return n\n",
    "    else:\n",
    "        return fibonacci2(n-1)+fibonacci2(n-2)"
   ]
  },
  {
   "cell_type": "code",
   "execution_count": 35,
   "metadata": {},
   "outputs": [
    {
     "data": {
      "text/plain": [
       "1"
      ]
     },
     "execution_count": 35,
     "metadata": {},
     "output_type": "execute_result"
    }
   ],
   "source": [
    "fib_dict=dict()\n",
    "fibonacci2(2)"
   ]
  },
  {
   "cell_type": "code",
   "execution_count": 36,
   "metadata": {},
   "outputs": [
    {
     "data": {
      "text/plain": [
       "{2: 1, 1: 1, 0: 1}"
      ]
     },
     "execution_count": 36,
     "metadata": {},
     "output_type": "execute_result"
    }
   ],
   "source": [
    "fib_dict"
   ]
  },
  {
   "cell_type": "code",
   "execution_count": 38,
   "metadata": {},
   "outputs": [
    {
     "name": "stdout",
     "output_type": "stream",
     "text": [
      "{4: 1, 3: 1, 2: 2, 1: 3, 0: 2}\n"
     ]
    }
   ],
   "source": [
    "fib_dict=dict()\n",
    "fibonacci2(4)\n",
    "print(fib_dict)"
   ]
  },
  {
   "cell_type": "code",
   "execution_count": 40,
   "metadata": {},
   "outputs": [
    {
     "name": "stdout",
     "output_type": "stream",
     "text": [
      "{25: 1, 24: 1, 23: 2, 22: 3, 21: 5, 20: 8, 19: 13, 18: 21, 17: 34, 16: 55, 15: 89, 14: 144, 13: 233, 12: 377, 11: 610, 10: 987, 9: 1597, 8: 2584, 7: 4181, 6: 6765, 5: 10946, 4: 17711, 3: 28657, 2: 46368, 1: 75025, 0: 46368}\n"
     ]
    }
   ],
   "source": [
    "fib_dict=dict()\n",
    "fibonacci2(25)\n",
    "print(fib_dict)"
   ]
  },
  {
   "cell_type": "code",
   "execution_count": null,
   "metadata": {},
   "outputs": [],
   "source": []
  }
 ],
 "metadata": {
  "kernelspec": {
   "display_name": "2521_env",
   "language": "python",
   "name": "python3"
  },
  "language_info": {
   "codemirror_mode": {
    "name": "ipython",
    "version": 3
   },
   "file_extension": ".py",
   "mimetype": "text/x-python",
   "name": "python",
   "nbconvert_exporter": "python",
   "pygments_lexer": "ipython3",
   "version": "3.11.4"
  },
  "orig_nbformat": 4
 },
 "nbformat": 4,
 "nbformat_minor": 2
}
