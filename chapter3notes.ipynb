{
 "cells": [
  {
   "cell_type": "markdown",
   "metadata": {},
   "source": [
    "## Chapter 3 Functions, algorithms"
   ]
  },
  {
   "cell_type": "markdown",
   "metadata": {},
   "source": [
    "**Example** Define a function called ```square``` that takes a number x and returns its square\n"
   ]
  },
  {
   "cell_type": "code",
   "execution_count": 1,
   "metadata": {},
   "outputs": [],
   "source": [
    "def square(x):\n",
    "    return x*x"
   ]
  },
  {
   "cell_type": "code",
   "execution_count": 2,
   "metadata": {},
   "outputs": [
    {
     "data": {
      "text/plain": [
       "16"
      ]
     },
     "execution_count": 2,
     "metadata": {},
     "output_type": "execute_result"
    }
   ],
   "source": [
    "square(4)"
   ]
  },
  {
   "cell_type": "code",
   "execution_count": 3,
   "metadata": {},
   "outputs": [
    {
     "data": {
      "text/plain": [
       "256"
      ]
     },
     "execution_count": 3,
     "metadata": {},
     "output_type": "execute_result"
    }
   ],
   "source": [
    "square(square(4))"
   ]
  },
  {
   "cell_type": "markdown",
   "metadata": {},
   "source": [
    "**Example** Define a function ```square_and_double``` that takes two numbers and adds the square of the first to the double of the second. Try using the previous function ```square```"
   ]
  },
  {
   "cell_type": "code",
   "execution_count": 53,
   "metadata": {},
   "outputs": [],
   "source": [
    "def square_and_double(x, y):\n",
    "    return square(x) + 2*y"
   ]
  },
  {
   "cell_type": "code",
   "execution_count": 54,
   "metadata": {},
   "outputs": [
    {
     "data": {
      "text/plain": [
       "17"
      ]
     },
     "execution_count": 54,
     "metadata": {},
     "output_type": "execute_result"
    }
   ],
   "source": [
    "square_and_double(3,4)"
   ]
  },
  {
   "cell_type": "code",
   "execution_count": 55,
   "metadata": {},
   "outputs": [
    {
     "data": {
      "text/plain": [
       "22"
      ]
     },
     "execution_count": 55,
     "metadata": {},
     "output_type": "execute_result"
    }
   ],
   "source": [
    "square_and_double(4,3)"
   ]
  },
  {
   "cell_type": "code",
   "execution_count": 56,
   "metadata": {},
   "outputs": [
    {
     "data": {
      "text/plain": [
       "17"
      ]
     },
     "execution_count": 56,
     "metadata": {},
     "output_type": "execute_result"
    }
   ],
   "source": [
    "square_and_double(y=4, x=3)"
   ]
  },
  {
   "cell_type": "markdown",
   "metadata": {},
   "source": [
    "**Example** Define a function that takes a positive integer $n$ and returns the value of the sum \n",
    "$$1+2+ \\ldots + n$$"
   ]
  },
  {
   "cell_type": "code",
   "execution_count": 4,
   "metadata": {},
   "outputs": [],
   "source": [
    "def sum_integers(n):\n",
    "    total=0 #total here is a local variable, SCOPE is only within this function\n",
    "    for i in range(n+1):\n",
    "        total+=i \n",
    "    return total"
   ]
  },
  {
   "cell_type": "code",
   "execution_count": 6,
   "metadata": {},
   "outputs": [
    {
     "data": {
      "text/plain": [
       "55"
      ]
     },
     "execution_count": 6,
     "metadata": {},
     "output_type": "execute_result"
    }
   ],
   "source": [
    "sum_integers(10)"
   ]
  },
  {
   "cell_type": "code",
   "execution_count": 16,
   "metadata": {},
   "outputs": [
    {
     "ename": "NameError",
     "evalue": "name 'total' is not defined",
     "output_type": "error",
     "traceback": [
      "\u001b[0;31m---------------------------------------------------------------------------\u001b[0m",
      "\u001b[0;31mNameError\u001b[0m                                 Traceback (most recent call last)",
      "Cell \u001b[0;32mIn[16], line 1\u001b[0m\n\u001b[0;32m----> 1\u001b[0m \u001b[39mprint\u001b[39m(total) \u001b[39m#gives an error because total is a local variable\u001b[39;00m\n",
      "\u001b[0;31mNameError\u001b[0m: name 'total' is not defined"
     ]
    }
   ],
   "source": [
    "print(total) #gives an error because total is a local variable"
   ]
  },
  {
   "cell_type": "markdown",
   "metadata": {},
   "source": [
    "### Scope of a variable\n",
    "\n",
    "\n",
    "In python, the same variable, say x, can be used in different functions ('frames'), and can have (point to) different values, and be adjusted independently\n",
    "\n",
    "Scope is very nicely visualized by putting code of functions in pythontutor.com\n",
    "[Pythontutor.com](Pythontutor.com)\n"
   ]
  },
  {
   "cell_type": "code",
   "execution_count": 23,
   "metadata": {},
   "outputs": [],
   "source": [
    "x=5\n",
    "def function1():\n",
    "    print(x)  # x is not in local namespace, then computer searches the global namespace\n",
    "\n",
    "def function2():\n",
    "    x=3\n",
    "    print(x) # x is in global and local namespace, local namespace is searched first"
   ]
  },
  {
   "cell_type": "code",
   "execution_count": 31,
   "metadata": {},
   "outputs": [
    {
     "name": "stdout",
     "output_type": "stream",
     "text": [
      "5\n",
      "3\n",
      "5\n"
     ]
    }
   ],
   "source": [
    "function1()\n",
    "function2()\n",
    "function1()"
   ]
  },
  {
   "cell_type": "code",
   "execution_count": 43,
   "metadata": {},
   "outputs": [],
   "source": [
    "total4=100 \n",
    "def sum_integers4(n):\n",
    "    total4=0 #this total4 is a new local variable, completely isolated from global local4\n",
    "    for i in range(n+1):\n",
    "        total4+=i\n",
    "    print(f'Within the function sum_integer3 the value of total4 is {total4} ') \n",
    "    return total4"
   ]
  },
  {
   "cell_type": "code",
   "execution_count": 44,
   "metadata": {},
   "outputs": [
    {
     "name": "stdout",
     "output_type": "stream",
     "text": [
      "Within the function sum_integer3 the value of total4 is 55 \n",
      "55\n",
      "in global space, value of total4 is 100\n"
     ]
    }
   ],
   "source": [
    "print(sum_integers4(10))\n",
    "print(f'in global space, value of total4 is {total4}')"
   ]
  },
  {
   "cell_type": "markdown",
   "metadata": {},
   "source": [
    "### Exercises\n",
    "\n",
    "The following exercises are suggested by ChatGPT, in response to the prompt 'I\\'m a beginner in python and learning about functions. Give me ten exercises of functions to write.'\n",
    "\n",
    "You do not have to use ```input()``` to get user input.\n",
    "\n",
    "**Exercise 1**: Simple Greeting\n",
    "Write a function called greet that takes a name as input and prints a greeting message like \"Hello, [name]!\".\n",
    "\n",
    "```\n",
    "def greet(name):\n",
    "    # your code here\n",
    "\n",
    "```\n",
    "\n",
    "**Exercise 2**: Temperature Converter\n",
    "Write a function called celsius_to_fahrenheit that takes a temperature in Celsius as input and returns the equivalent temperature in Fahrenheit. The conversion formula is: Fahrenheit = (Celsius * 9/5) + 32.\n",
    "\n",
    "**Exercise 3**: Factorial\n",
    "Write a function called factorial that takes an integer n as input and returns the factorial of n (n!). The factorial of a non-negative integer n is the product of all positive integers less than or equal to n. So for instance, $5!=5*4*3*2*1 = 120$\n",
    "\n",
    "**Exercise 4**: List Reversal\n",
    "Write a function called reverse_list that takes a list as input and returns a new list with the elements in reverse order. (Hint: use pop() and then append() )\n",
    "\n",
    "**Exercise 5**: Palindrome Checker\n",
    "Write a function called is_palindrome that takes a string as input and returns True if it is a palindrome (reads the same forwards and backward), otherwise False.\n",
    "\n",
    "\n",
    "**Exercise 6**: Sum of Digits\n",
    "Write a function called sum_of_digits that takes an integer as input and returns the sum of its digits. For example, sum_of_digits(123) should return 6 (1 + 2 + 3).  (Hint: mod 10 extracts the last digit)\n",
    "\n",
    "**Exercise 7**: Fibonacci Sequence\n",
    "The Fibonacci sequence is 0, 1, 1, 2, 3, 5, 8, 13, 21 ... where each term (after the first two) is the sum of the previous two terms (e.g. 13=5+8)\n",
    "Write a function called fibonacci that takes an integer n as input and returns the first n numbers in the Fibonacci sequence as a list.\n",
    "\n",
    "**Exercise 8**: Prime Number Checker\n",
    "Write a function called is_prime that takes an integer as input and returns True if it is a prime number, otherwise False.\n",
    "\n",
    "**Exercise 9**: Word Reversal\n",
    "Write a function called reverse_words that takes a string as input and returns a new string with the words in reverse order. For example, if the input is \"hello world\", the function should return \"world hello\".\n",
    "\n",
    "\n",
    "Feel free to give these exercises a try, and if you get stuck or need help, don't hesitate to ask! Happy coding!\n",
    "Free Research Preview. ChatGPT may produce inaccurate information about people, places, or facts. ChatGPT May 24 Version"
   ]
  },
  {
   "cell_type": "markdown",
   "metadata": {},
   "source": [
    "### Algorithms\n",
    "\n",
    "An algorithm is simple a sequence of instructions or steps to take solve a particular task (such as sorting a list).\n",
    "\n",
    "There usually are many different algorithms for a given task, and new algorithms are often invented by people who study algorithms as a career.\n",
    "\n",
    "For instance, for the task of sorting the elements in a list, \n",
    " - sorting\n",
    "    - bubblesort\n",
    "    - quicksort\n",
    "    - merge sort \n",
    "    - ...\n",
    "    - see [https://en.wikipedia.org/wiki/Sorting_algorithm]\n",
    " - searching\n",
    "    - binary search\n",
    "    - linear search\n",
    "    - ...\n"
   ]
  },
  {
   "cell_type": "markdown",
   "metadata": {},
   "source": [
    "### Bubble sort\n",
    "\n",
    "- simple, not efficient\n",
    "\n",
    "To bubble sort a list of $n$ numbers into increasing order,\n",
    "    - you pass through the list several times,\n",
    "    - compare consecutive numbers and swap if in wrong order\n",
    "    - after the first pass, largest element will be last\n",
    "    - the larger elements gradually bubble to the top after successive passes"
   ]
  },
  {
   "cell_type": "code",
   "execution_count": 46,
   "metadata": {},
   "outputs": [],
   "source": [
    "def bubble_sort(my_list):\n",
    "    start=0\n",
    "    stop=len(my_list)-1\n",
    "    while stop>0:\n",
    "        start=0\n",
    "        while start<stop:\n",
    "            if my_list[start]>my_list[start+1]:\n",
    "                my_list[start], my_list[start+1] = my_list[start+1], my_list[start]\n",
    "            start+=1\n",
    "        stop-=1\n",
    "    return my_list"
   ]
  },
  {
   "cell_type": "code",
   "execution_count": 47,
   "metadata": {},
   "outputs": [
    {
     "data": {
      "text/plain": [
       "[3, 4, 4, 5, 7, 7, 52]"
      ]
     },
     "execution_count": 47,
     "metadata": {},
     "output_type": "execute_result"
    }
   ],
   "source": [
    "bubble_sort([4, 7, 52, 4, 3, 5, 7])"
   ]
  },
  {
   "cell_type": "code",
   "execution_count": 48,
   "metadata": {},
   "outputs": [
    {
     "data": {
      "text/plain": [
       "[4]"
      ]
     },
     "execution_count": 48,
     "metadata": {},
     "output_type": "execute_result"
    }
   ],
   "source": [
    "bubble_sort([4]) #edge case, make sure code does not give error"
   ]
  },
  {
   "cell_type": "code",
   "execution_count": 49,
   "metadata": {},
   "outputs": [
    {
     "data": {
      "text/plain": [
       "[]"
      ]
     },
     "execution_count": 49,
     "metadata": {},
     "output_type": "execute_result"
    }
   ],
   "source": [
    "bubble_sort([])  #edge case"
   ]
  }
 ],
 "metadata": {
  "kernelspec": {
   "display_name": "2521_env",
   "language": "python",
   "name": "python3"
  },
  "language_info": {
   "codemirror_mode": {
    "name": "ipython",
    "version": 3
   },
   "file_extension": ".py",
   "mimetype": "text/x-python",
   "name": "python",
   "nbconvert_exporter": "python",
   "pygments_lexer": "ipython3",
   "version": "3.11.4"
  },
  "orig_nbformat": 4
 },
 "nbformat": 4,
 "nbformat_minor": 2
}
