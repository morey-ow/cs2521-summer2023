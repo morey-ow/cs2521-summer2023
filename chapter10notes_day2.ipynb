{
 "cells": [
  {
   "cell_type": "markdown",
   "metadata": {},
   "source": [
    "### Pandas continued\n",
    "\n",
    "See chapter 5 of Wes McKinney Python for Data Analysis\n",
    "\n",
    "https://wesmckinney.com/book/pandas-basics.html#pandas_construction\n"
   ]
  },
  {
   "cell_type": "markdown",
   "metadata": {},
   "source": [
    "### DataFrame\n",
    "\n",
    "A DataFrame is like an excel spreadsheet, i.e. 2D object\n",
    "\n",
    "- column names are in a list called `columns`\n",
    "- rows or names of rows are in a list called `index` (not rows)\n",
    "- if you construct a DataFrame from a dictionary, the **keys** of the dictionary become **column** names, not row names \n"
   ]
  },
  {
   "cell_type": "code",
   "execution_count": 164,
   "metadata": {},
   "outputs": [
    {
     "name": "stdout",
     "output_type": "stream",
     "text": [
      "[[ 0  1  2  3]\n",
      " [ 4  5  6  7]\n",
      " [ 8  9 10 11]]\n"
     ]
    }
   ],
   "source": [
    "import pandas as pd\n",
    "import numpy as np\n",
    "\n",
    "matrix=np.arange(12).reshape(3,4)\n",
    "print(matrix)"
   ]
  },
  {
   "cell_type": "code",
   "execution_count": 165,
   "metadata": {},
   "outputs": [],
   "source": [
    "df=pd.DataFrame(matrix, columns=['A', 'B', 'C', 'D'], index=[2, 'row2', 'row3'])"
   ]
  },
  {
   "cell_type": "code",
   "execution_count": 166,
   "metadata": {},
   "outputs": [
    {
     "data": {
      "text/html": [
       "<div>\n",
       "<style scoped>\n",
       "    .dataframe tbody tr th:only-of-type {\n",
       "        vertical-align: middle;\n",
       "    }\n",
       "\n",
       "    .dataframe tbody tr th {\n",
       "        vertical-align: top;\n",
       "    }\n",
       "\n",
       "    .dataframe thead th {\n",
       "        text-align: right;\n",
       "    }\n",
       "</style>\n",
       "<table border=\"1\" class=\"dataframe\">\n",
       "  <thead>\n",
       "    <tr style=\"text-align: right;\">\n",
       "      <th></th>\n",
       "      <th>A</th>\n",
       "      <th>B</th>\n",
       "      <th>C</th>\n",
       "      <th>D</th>\n",
       "    </tr>\n",
       "  </thead>\n",
       "  <tbody>\n",
       "    <tr>\n",
       "      <th>2</th>\n",
       "      <td>0</td>\n",
       "      <td>1</td>\n",
       "      <td>2</td>\n",
       "      <td>3</td>\n",
       "    </tr>\n",
       "    <tr>\n",
       "      <th>row2</th>\n",
       "      <td>4</td>\n",
       "      <td>5</td>\n",
       "      <td>6</td>\n",
       "      <td>7</td>\n",
       "    </tr>\n",
       "    <tr>\n",
       "      <th>row3</th>\n",
       "      <td>8</td>\n",
       "      <td>9</td>\n",
       "      <td>10</td>\n",
       "      <td>11</td>\n",
       "    </tr>\n",
       "  </tbody>\n",
       "</table>\n",
       "</div>"
      ],
      "text/plain": [
       "      A  B   C   D\n",
       "2     0  1   2   3\n",
       "row2  4  5   6   7\n",
       "row3  8  9  10  11"
      ]
     },
     "execution_count": 166,
     "metadata": {},
     "output_type": "execute_result"
    }
   ],
   "source": [
    "df"
   ]
  },
  {
   "cell_type": "code",
   "execution_count": 167,
   "metadata": {},
   "outputs": [
    {
     "data": {
      "text/plain": [
       "2       0\n",
       "row2    4\n",
       "row3    8\n",
       "Name: A, dtype: int64"
      ]
     },
     "execution_count": 167,
     "metadata": {},
     "output_type": "execute_result"
    }
   ],
   "source": [
    "df['A']"
   ]
  },
  {
   "cell_type": "code",
   "execution_count": 169,
   "metadata": {},
   "outputs": [
    {
     "ename": "KeyError",
     "evalue": "'row1'",
     "output_type": "error",
     "traceback": [
      "\u001b[0;31m---------------------------------------------------------------------------\u001b[0m",
      "\u001b[0;31mKeyError\u001b[0m                                  Traceback (most recent call last)",
      "File \u001b[0;32m~/.pyenv/versions/3.11.4/envs/2521_env/lib/python3.11/site-packages/pandas/core/indexes/base.py:3653\u001b[0m, in \u001b[0;36mIndex.get_loc\u001b[0;34m(self, key)\u001b[0m\n\u001b[1;32m   3652\u001b[0m \u001b[39mtry\u001b[39;00m:\n\u001b[0;32m-> 3653\u001b[0m     \u001b[39mreturn\u001b[39;00m \u001b[39mself\u001b[39;49m\u001b[39m.\u001b[39;49m_engine\u001b[39m.\u001b[39;49mget_loc(casted_key)\n\u001b[1;32m   3654\u001b[0m \u001b[39mexcept\u001b[39;00m \u001b[39mKeyError\u001b[39;00m \u001b[39mas\u001b[39;00m err:\n",
      "File \u001b[0;32m~/.pyenv/versions/3.11.4/envs/2521_env/lib/python3.11/site-packages/pandas/_libs/index.pyx:147\u001b[0m, in \u001b[0;36mpandas._libs.index.IndexEngine.get_loc\u001b[0;34m()\u001b[0m\n",
      "File \u001b[0;32m~/.pyenv/versions/3.11.4/envs/2521_env/lib/python3.11/site-packages/pandas/_libs/index.pyx:176\u001b[0m, in \u001b[0;36mpandas._libs.index.IndexEngine.get_loc\u001b[0;34m()\u001b[0m\n",
      "File \u001b[0;32mpandas/_libs/hashtable_class_helper.pxi:7080\u001b[0m, in \u001b[0;36mpandas._libs.hashtable.PyObjectHashTable.get_item\u001b[0;34m()\u001b[0m\n",
      "File \u001b[0;32mpandas/_libs/hashtable_class_helper.pxi:7088\u001b[0m, in \u001b[0;36mpandas._libs.hashtable.PyObjectHashTable.get_item\u001b[0;34m()\u001b[0m\n",
      "\u001b[0;31mKeyError\u001b[0m: 'row1'",
      "\nThe above exception was the direct cause of the following exception:\n",
      "\u001b[0;31mKeyError\u001b[0m                                  Traceback (most recent call last)",
      "Cell \u001b[0;32mIn[169], line 1\u001b[0m\n\u001b[0;32m----> 1\u001b[0m df[\u001b[39m'\u001b[39;49m\u001b[39mrow1\u001b[39;49m\u001b[39m'\u001b[39;49m] \u001b[39m#gives error, must use loc and iloc for rows!\u001b[39;00m\n",
      "File \u001b[0;32m~/.pyenv/versions/3.11.4/envs/2521_env/lib/python3.11/site-packages/pandas/core/frame.py:3761\u001b[0m, in \u001b[0;36mDataFrame.__getitem__\u001b[0;34m(self, key)\u001b[0m\n\u001b[1;32m   3759\u001b[0m \u001b[39mif\u001b[39;00m \u001b[39mself\u001b[39m\u001b[39m.\u001b[39mcolumns\u001b[39m.\u001b[39mnlevels \u001b[39m>\u001b[39m \u001b[39m1\u001b[39m:\n\u001b[1;32m   3760\u001b[0m     \u001b[39mreturn\u001b[39;00m \u001b[39mself\u001b[39m\u001b[39m.\u001b[39m_getitem_multilevel(key)\n\u001b[0;32m-> 3761\u001b[0m indexer \u001b[39m=\u001b[39m \u001b[39mself\u001b[39;49m\u001b[39m.\u001b[39;49mcolumns\u001b[39m.\u001b[39;49mget_loc(key)\n\u001b[1;32m   3762\u001b[0m \u001b[39mif\u001b[39;00m is_integer(indexer):\n\u001b[1;32m   3763\u001b[0m     indexer \u001b[39m=\u001b[39m [indexer]\n",
      "File \u001b[0;32m~/.pyenv/versions/3.11.4/envs/2521_env/lib/python3.11/site-packages/pandas/core/indexes/base.py:3655\u001b[0m, in \u001b[0;36mIndex.get_loc\u001b[0;34m(self, key)\u001b[0m\n\u001b[1;32m   3653\u001b[0m     \u001b[39mreturn\u001b[39;00m \u001b[39mself\u001b[39m\u001b[39m.\u001b[39m_engine\u001b[39m.\u001b[39mget_loc(casted_key)\n\u001b[1;32m   3654\u001b[0m \u001b[39mexcept\u001b[39;00m \u001b[39mKeyError\u001b[39;00m \u001b[39mas\u001b[39;00m err:\n\u001b[0;32m-> 3655\u001b[0m     \u001b[39mraise\u001b[39;00m \u001b[39mKeyError\u001b[39;00m(key) \u001b[39mfrom\u001b[39;00m \u001b[39merr\u001b[39;00m\n\u001b[1;32m   3656\u001b[0m \u001b[39mexcept\u001b[39;00m \u001b[39mTypeError\u001b[39;00m:\n\u001b[1;32m   3657\u001b[0m     \u001b[39m# If we have a listlike key, _check_indexing_error will raise\u001b[39;00m\n\u001b[1;32m   3658\u001b[0m     \u001b[39m#  InvalidIndexError. Otherwise we fall through and re-raise\u001b[39;00m\n\u001b[1;32m   3659\u001b[0m     \u001b[39m#  the TypeError.\u001b[39;00m\n\u001b[1;32m   3660\u001b[0m     \u001b[39mself\u001b[39m\u001b[39m.\u001b[39m_check_indexing_error(key)\n",
      "\u001b[0;31mKeyError\u001b[0m: 'row1'"
     ]
    }
   ],
   "source": [
    "df['row1'] #gives error, must use loc and iloc for rows!"
   ]
  },
  {
   "cell_type": "code",
   "execution_count": null,
   "metadata": {},
   "outputs": [
    {
     "data": {
      "text/html": [
       "<div>\n",
       "<style scoped>\n",
       "    .dataframe tbody tr th:only-of-type {\n",
       "        vertical-align: middle;\n",
       "    }\n",
       "\n",
       "    .dataframe tbody tr th {\n",
       "        vertical-align: top;\n",
       "    }\n",
       "\n",
       "    .dataframe thead th {\n",
       "        text-align: right;\n",
       "    }\n",
       "</style>\n",
       "<table border=\"1\" class=\"dataframe\">\n",
       "  <thead>\n",
       "    <tr style=\"text-align: right;\">\n",
       "      <th></th>\n",
       "      <th>A</th>\n",
       "      <th>B</th>\n",
       "      <th>C</th>\n",
       "      <th>D</th>\n",
       "    </tr>\n",
       "  </thead>\n",
       "  <tbody>\n",
       "    <tr>\n",
       "      <th>2</th>\n",
       "      <td>0</td>\n",
       "      <td>1</td>\n",
       "      <td>2</td>\n",
       "      <td>3</td>\n",
       "    </tr>\n",
       "    <tr>\n",
       "      <th>row2</th>\n",
       "      <td>4</td>\n",
       "      <td>5</td>\n",
       "      <td>6</td>\n",
       "      <td>7</td>\n",
       "    </tr>\n",
       "    <tr>\n",
       "      <th>row3</th>\n",
       "      <td>8</td>\n",
       "      <td>9</td>\n",
       "      <td>10</td>\n",
       "      <td>11</td>\n",
       "    </tr>\n",
       "  </tbody>\n",
       "</table>\n",
       "</div>"
      ],
      "text/plain": [
       "      A  B   C   D\n",
       "2     0  1   2   3\n",
       "row2  4  5   6   7\n",
       "row3  8  9  10  11"
      ]
     },
     "execution_count": 68,
     "metadata": {},
     "output_type": "execute_result"
    }
   ],
   "source": [
    "df"
   ]
  },
  {
   "cell_type": "code",
   "execution_count": null,
   "metadata": {},
   "outputs": [
    {
     "data": {
      "text/plain": [
       "Index([2, 'row2', 'row3'], dtype='object')"
      ]
     },
     "execution_count": 87,
     "metadata": {},
     "output_type": "execute_result"
    }
   ],
   "source": [
    "df.index"
   ]
  },
  {
   "cell_type": "code",
   "execution_count": null,
   "metadata": {},
   "outputs": [
    {
     "data": {
      "text/plain": [
       "Index(['A', 'B', 'C', 'D'], dtype='object')"
      ]
     },
     "execution_count": 70,
     "metadata": {},
     "output_type": "execute_result"
    }
   ],
   "source": [
    "df.columns"
   ]
  },
  {
   "cell_type": "code",
   "execution_count": null,
   "metadata": {},
   "outputs": [
    {
     "data": {
      "text/plain": [
       "A    0\n",
       "B    1\n",
       "C    2\n",
       "D    3\n",
       "Name: 2, dtype: int64"
      ]
     },
     "execution_count": 88,
     "metadata": {},
     "output_type": "execute_result"
    }
   ],
   "source": [
    "df.loc[2]"
   ]
  },
  {
   "cell_type": "code",
   "execution_count": null,
   "metadata": {},
   "outputs": [
    {
     "data": {
      "text/plain": [
       "A    0\n",
       "B    1\n",
       "C    2\n",
       "D    3\n",
       "Name: 2, dtype: int64"
      ]
     },
     "execution_count": 89,
     "metadata": {},
     "output_type": "execute_result"
    }
   ],
   "source": [
    "df.iloc[0]  #iloc is `integer locate', python counting starts at 0"
   ]
  },
  {
   "cell_type": "markdown",
   "metadata": {},
   "source": [
    "### Deleting a row or column:\n",
    "\n",
    "use `.drop(column=[])` for dropping columns \n",
    "\n",
    "or `.drop(index=[])` for dropping rows (index means rows)"
   ]
  },
  {
   "cell_type": "code",
   "execution_count": null,
   "metadata": {},
   "outputs": [
    {
     "data": {
      "text/html": [
       "<div>\n",
       "<style scoped>\n",
       "    .dataframe tbody tr th:only-of-type {\n",
       "        vertical-align: middle;\n",
       "    }\n",
       "\n",
       "    .dataframe tbody tr th {\n",
       "        vertical-align: top;\n",
       "    }\n",
       "\n",
       "    .dataframe thead th {\n",
       "        text-align: right;\n",
       "    }\n",
       "</style>\n",
       "<table border=\"1\" class=\"dataframe\">\n",
       "  <thead>\n",
       "    <tr style=\"text-align: right;\">\n",
       "      <th></th>\n",
       "      <th>A</th>\n",
       "      <th>B</th>\n",
       "      <th>C</th>\n",
       "      <th>D</th>\n",
       "    </tr>\n",
       "  </thead>\n",
       "  <tbody>\n",
       "    <tr>\n",
       "      <th>2</th>\n",
       "      <td>0</td>\n",
       "      <td>1</td>\n",
       "      <td>2</td>\n",
       "      <td>3</td>\n",
       "    </tr>\n",
       "    <tr>\n",
       "      <th>row2</th>\n",
       "      <td>4</td>\n",
       "      <td>5</td>\n",
       "      <td>6</td>\n",
       "      <td>7</td>\n",
       "    </tr>\n",
       "    <tr>\n",
       "      <th>row3</th>\n",
       "      <td>8</td>\n",
       "      <td>9</td>\n",
       "      <td>10</td>\n",
       "      <td>11</td>\n",
       "    </tr>\n",
       "  </tbody>\n",
       "</table>\n",
       "</div>"
      ],
      "text/plain": [
       "      A  B   C   D\n",
       "2     0  1   2   3\n",
       "row2  4  5   6   7\n",
       "row3  8  9  10  11"
      ]
     },
     "execution_count": 90,
     "metadata": {},
     "output_type": "execute_result"
    }
   ],
   "source": [
    "df"
   ]
  },
  {
   "cell_type": "code",
   "execution_count": null,
   "metadata": {},
   "outputs": [
    {
     "data": {
      "text/html": [
       "<div>\n",
       "<style scoped>\n",
       "    .dataframe tbody tr th:only-of-type {\n",
       "        vertical-align: middle;\n",
       "    }\n",
       "\n",
       "    .dataframe tbody tr th {\n",
       "        vertical-align: top;\n",
       "    }\n",
       "\n",
       "    .dataframe thead th {\n",
       "        text-align: right;\n",
       "    }\n",
       "</style>\n",
       "<table border=\"1\" class=\"dataframe\">\n",
       "  <thead>\n",
       "    <tr style=\"text-align: right;\">\n",
       "      <th></th>\n",
       "      <th>B</th>\n",
       "      <th>C</th>\n",
       "      <th>D</th>\n",
       "    </tr>\n",
       "  </thead>\n",
       "  <tbody>\n",
       "    <tr>\n",
       "      <th>2</th>\n",
       "      <td>1</td>\n",
       "      <td>2</td>\n",
       "      <td>3</td>\n",
       "    </tr>\n",
       "    <tr>\n",
       "      <th>row2</th>\n",
       "      <td>5</td>\n",
       "      <td>6</td>\n",
       "      <td>7</td>\n",
       "    </tr>\n",
       "    <tr>\n",
       "      <th>row3</th>\n",
       "      <td>9</td>\n",
       "      <td>10</td>\n",
       "      <td>11</td>\n",
       "    </tr>\n",
       "  </tbody>\n",
       "</table>\n",
       "</div>"
      ],
      "text/plain": [
       "      B   C   D\n",
       "2     1   2   3\n",
       "row2  5   6   7\n",
       "row3  9  10  11"
      ]
     },
     "execution_count": 91,
     "metadata": {},
     "output_type": "execute_result"
    }
   ],
   "source": [
    "df.drop(columns=['A'])"
   ]
  },
  {
   "cell_type": "code",
   "execution_count": null,
   "metadata": {},
   "outputs": [
    {
     "data": {
      "text/html": [
       "<div>\n",
       "<style scoped>\n",
       "    .dataframe tbody tr th:only-of-type {\n",
       "        vertical-align: middle;\n",
       "    }\n",
       "\n",
       "    .dataframe tbody tr th {\n",
       "        vertical-align: top;\n",
       "    }\n",
       "\n",
       "    .dataframe thead th {\n",
       "        text-align: right;\n",
       "    }\n",
       "</style>\n",
       "<table border=\"1\" class=\"dataframe\">\n",
       "  <thead>\n",
       "    <tr style=\"text-align: right;\">\n",
       "      <th></th>\n",
       "      <th>A</th>\n",
       "      <th>B</th>\n",
       "      <th>C</th>\n",
       "      <th>D</th>\n",
       "    </tr>\n",
       "  </thead>\n",
       "  <tbody>\n",
       "    <tr>\n",
       "      <th>2</th>\n",
       "      <td>0</td>\n",
       "      <td>1</td>\n",
       "      <td>2</td>\n",
       "      <td>3</td>\n",
       "    </tr>\n",
       "    <tr>\n",
       "      <th>row2</th>\n",
       "      <td>4</td>\n",
       "      <td>5</td>\n",
       "      <td>6</td>\n",
       "      <td>7</td>\n",
       "    </tr>\n",
       "    <tr>\n",
       "      <th>row3</th>\n",
       "      <td>8</td>\n",
       "      <td>9</td>\n",
       "      <td>10</td>\n",
       "      <td>11</td>\n",
       "    </tr>\n",
       "  </tbody>\n",
       "</table>\n",
       "</div>"
      ],
      "text/plain": [
       "      A  B   C   D\n",
       "2     0  1   2   3\n",
       "row2  4  5   6   7\n",
       "row3  8  9  10  11"
      ]
     },
     "execution_count": 92,
     "metadata": {},
     "output_type": "execute_result"
    }
   ],
   "source": [
    "df"
   ]
  },
  {
   "cell_type": "markdown",
   "metadata": {},
   "source": [
    "Notice above that column A has not been deleted from `df` because the `drop` operation first creates a **copy** of `df`, from which it deletes the column, and it does not act on `df`. But you want it to delete the column in your original DataFrame, use `inplace=True` as below:"
   ]
  },
  {
   "cell_type": "code",
   "execution_count": null,
   "metadata": {},
   "outputs": [],
   "source": [
    "df.drop(columns=['A'], inplace=True)"
   ]
  },
  {
   "cell_type": "code",
   "execution_count": null,
   "metadata": {},
   "outputs": [
    {
     "data": {
      "text/html": [
       "<div>\n",
       "<style scoped>\n",
       "    .dataframe tbody tr th:only-of-type {\n",
       "        vertical-align: middle;\n",
       "    }\n",
       "\n",
       "    .dataframe tbody tr th {\n",
       "        vertical-align: top;\n",
       "    }\n",
       "\n",
       "    .dataframe thead th {\n",
       "        text-align: right;\n",
       "    }\n",
       "</style>\n",
       "<table border=\"1\" class=\"dataframe\">\n",
       "  <thead>\n",
       "    <tr style=\"text-align: right;\">\n",
       "      <th></th>\n",
       "      <th>B</th>\n",
       "      <th>C</th>\n",
       "      <th>D</th>\n",
       "    </tr>\n",
       "  </thead>\n",
       "  <tbody>\n",
       "    <tr>\n",
       "      <th>2</th>\n",
       "      <td>1</td>\n",
       "      <td>2</td>\n",
       "      <td>3</td>\n",
       "    </tr>\n",
       "    <tr>\n",
       "      <th>row2</th>\n",
       "      <td>5</td>\n",
       "      <td>6</td>\n",
       "      <td>7</td>\n",
       "    </tr>\n",
       "    <tr>\n",
       "      <th>row3</th>\n",
       "      <td>9</td>\n",
       "      <td>10</td>\n",
       "      <td>11</td>\n",
       "    </tr>\n",
       "  </tbody>\n",
       "</table>\n",
       "</div>"
      ],
      "text/plain": [
       "      B   C   D\n",
       "2     1   2   3\n",
       "row2  5   6   7\n",
       "row3  9  10  11"
      ]
     },
     "execution_count": 96,
     "metadata": {},
     "output_type": "execute_result"
    }
   ],
   "source": [
    "df"
   ]
  },
  {
   "cell_type": "code",
   "execution_count": null,
   "metadata": {},
   "outputs": [
    {
     "data": {
      "text/html": [
       "<div>\n",
       "<style scoped>\n",
       "    .dataframe tbody tr th:only-of-type {\n",
       "        vertical-align: middle;\n",
       "    }\n",
       "\n",
       "    .dataframe tbody tr th {\n",
       "        vertical-align: top;\n",
       "    }\n",
       "\n",
       "    .dataframe thead th {\n",
       "        text-align: right;\n",
       "    }\n",
       "</style>\n",
       "<table border=\"1\" class=\"dataframe\">\n",
       "  <thead>\n",
       "    <tr style=\"text-align: right;\">\n",
       "      <th></th>\n",
       "      <th>B</th>\n",
       "      <th>C</th>\n",
       "      <th>D</th>\n",
       "    </tr>\n",
       "  </thead>\n",
       "  <tbody>\n",
       "    <tr>\n",
       "      <th>2</th>\n",
       "      <td>1</td>\n",
       "      <td>2</td>\n",
       "      <td>3</td>\n",
       "    </tr>\n",
       "    <tr>\n",
       "      <th>row3</th>\n",
       "      <td>9</td>\n",
       "      <td>10</td>\n",
       "      <td>11</td>\n",
       "    </tr>\n",
       "  </tbody>\n",
       "</table>\n",
       "</div>"
      ],
      "text/plain": [
       "      B   C   D\n",
       "2     1   2   3\n",
       "row3  9  10  11"
      ]
     },
     "execution_count": 97,
     "metadata": {},
     "output_type": "execute_result"
    }
   ],
   "source": [
    "# delete row2\n",
    "df.drop(index=['row2'])"
   ]
  },
  {
   "cell_type": "markdown",
   "metadata": {},
   "source": [
    "### Replacing a column"
   ]
  },
  {
   "cell_type": "code",
   "execution_count": null,
   "metadata": {},
   "outputs": [
    {
     "data": {
      "text/html": [
       "<div>\n",
       "<style scoped>\n",
       "    .dataframe tbody tr th:only-of-type {\n",
       "        vertical-align: middle;\n",
       "    }\n",
       "\n",
       "    .dataframe tbody tr th {\n",
       "        vertical-align: top;\n",
       "    }\n",
       "\n",
       "    .dataframe thead th {\n",
       "        text-align: right;\n",
       "    }\n",
       "</style>\n",
       "<table border=\"1\" class=\"dataframe\">\n",
       "  <thead>\n",
       "    <tr style=\"text-align: right;\">\n",
       "      <th></th>\n",
       "      <th>B</th>\n",
       "      <th>C</th>\n",
       "      <th>D</th>\n",
       "    </tr>\n",
       "  </thead>\n",
       "  <tbody>\n",
       "    <tr>\n",
       "      <th>2</th>\n",
       "      <td>1</td>\n",
       "      <td>2</td>\n",
       "      <td>3</td>\n",
       "    </tr>\n",
       "    <tr>\n",
       "      <th>row2</th>\n",
       "      <td>5</td>\n",
       "      <td>6</td>\n",
       "      <td>7</td>\n",
       "    </tr>\n",
       "    <tr>\n",
       "      <th>row3</th>\n",
       "      <td>9</td>\n",
       "      <td>10</td>\n",
       "      <td>11</td>\n",
       "    </tr>\n",
       "  </tbody>\n",
       "</table>\n",
       "</div>"
      ],
      "text/plain": [
       "      B   C   D\n",
       "2     1   2   3\n",
       "row2  5   6   7\n",
       "row3  9  10  11"
      ]
     },
     "execution_count": 98,
     "metadata": {},
     "output_type": "execute_result"
    }
   ],
   "source": [
    "df"
   ]
  },
  {
   "cell_type": "code",
   "execution_count": null,
   "metadata": {},
   "outputs": [],
   "source": [
    "df['B']=[2,3, 4]"
   ]
  },
  {
   "cell_type": "code",
   "execution_count": null,
   "metadata": {},
   "outputs": [
    {
     "data": {
      "text/html": [
       "<div>\n",
       "<style scoped>\n",
       "    .dataframe tbody tr th:only-of-type {\n",
       "        vertical-align: middle;\n",
       "    }\n",
       "\n",
       "    .dataframe tbody tr th {\n",
       "        vertical-align: top;\n",
       "    }\n",
       "\n",
       "    .dataframe thead th {\n",
       "        text-align: right;\n",
       "    }\n",
       "</style>\n",
       "<table border=\"1\" class=\"dataframe\">\n",
       "  <thead>\n",
       "    <tr style=\"text-align: right;\">\n",
       "      <th></th>\n",
       "      <th>B</th>\n",
       "      <th>C</th>\n",
       "      <th>D</th>\n",
       "    </tr>\n",
       "  </thead>\n",
       "  <tbody>\n",
       "    <tr>\n",
       "      <th>2</th>\n",
       "      <td>2</td>\n",
       "      <td>2</td>\n",
       "      <td>3</td>\n",
       "    </tr>\n",
       "    <tr>\n",
       "      <th>row2</th>\n",
       "      <td>3</td>\n",
       "      <td>6</td>\n",
       "      <td>7</td>\n",
       "    </tr>\n",
       "    <tr>\n",
       "      <th>row3</th>\n",
       "      <td>4</td>\n",
       "      <td>10</td>\n",
       "      <td>11</td>\n",
       "    </tr>\n",
       "  </tbody>\n",
       "</table>\n",
       "</div>"
      ],
      "text/plain": [
       "      B   C   D\n",
       "2     2   2   3\n",
       "row2  3   6   7\n",
       "row3  4  10  11"
      ]
     },
     "execution_count": 100,
     "metadata": {},
     "output_type": "execute_result"
    }
   ],
   "source": [
    "df"
   ]
  },
  {
   "cell_type": "markdown",
   "metadata": {},
   "source": [
    "###  Replacing a row"
   ]
  },
  {
   "cell_type": "code",
   "execution_count": null,
   "metadata": {},
   "outputs": [],
   "source": [
    "df.loc['row2']=[20,20,20]"
   ]
  },
  {
   "cell_type": "code",
   "execution_count": null,
   "metadata": {},
   "outputs": [
    {
     "data": {
      "text/html": [
       "<div>\n",
       "<style scoped>\n",
       "    .dataframe tbody tr th:only-of-type {\n",
       "        vertical-align: middle;\n",
       "    }\n",
       "\n",
       "    .dataframe tbody tr th {\n",
       "        vertical-align: top;\n",
       "    }\n",
       "\n",
       "    .dataframe thead th {\n",
       "        text-align: right;\n",
       "    }\n",
       "</style>\n",
       "<table border=\"1\" class=\"dataframe\">\n",
       "  <thead>\n",
       "    <tr style=\"text-align: right;\">\n",
       "      <th></th>\n",
       "      <th>B</th>\n",
       "      <th>C</th>\n",
       "      <th>D</th>\n",
       "    </tr>\n",
       "  </thead>\n",
       "  <tbody>\n",
       "    <tr>\n",
       "      <th>2</th>\n",
       "      <td>2</td>\n",
       "      <td>2</td>\n",
       "      <td>3</td>\n",
       "    </tr>\n",
       "    <tr>\n",
       "      <th>row2</th>\n",
       "      <td>20</td>\n",
       "      <td>20</td>\n",
       "      <td>20</td>\n",
       "    </tr>\n",
       "    <tr>\n",
       "      <th>row3</th>\n",
       "      <td>4</td>\n",
       "      <td>10</td>\n",
       "      <td>11</td>\n",
       "    </tr>\n",
       "  </tbody>\n",
       "</table>\n",
       "</div>"
      ],
      "text/plain": [
       "       B   C   D\n",
       "2      2   2   3\n",
       "row2  20  20  20\n",
       "row3   4  10  11"
      ]
     },
     "execution_count": 102,
     "metadata": {},
     "output_type": "execute_result"
    }
   ],
   "source": [
    "df"
   ]
  },
  {
   "cell_type": "markdown",
   "metadata": {},
   "source": [
    "# Filtering based on value of a column"
   ]
  },
  {
   "cell_type": "markdown",
   "metadata": {},
   "source": [
    "Suppose we want all rows where value in column C is >5.\n",
    "\n",
    "First create a true-false 'mask':"
   ]
  },
  {
   "cell_type": "code",
   "execution_count": null,
   "metadata": {},
   "outputs": [
    {
     "data": {
      "text/html": [
       "<div>\n",
       "<style scoped>\n",
       "    .dataframe tbody tr th:only-of-type {\n",
       "        vertical-align: middle;\n",
       "    }\n",
       "\n",
       "    .dataframe tbody tr th {\n",
       "        vertical-align: top;\n",
       "    }\n",
       "\n",
       "    .dataframe thead th {\n",
       "        text-align: right;\n",
       "    }\n",
       "</style>\n",
       "<table border=\"1\" class=\"dataframe\">\n",
       "  <thead>\n",
       "    <tr style=\"text-align: right;\">\n",
       "      <th></th>\n",
       "      <th>B</th>\n",
       "      <th>C</th>\n",
       "      <th>D</th>\n",
       "    </tr>\n",
       "  </thead>\n",
       "  <tbody>\n",
       "    <tr>\n",
       "      <th>2</th>\n",
       "      <td>2</td>\n",
       "      <td>2</td>\n",
       "      <td>3</td>\n",
       "    </tr>\n",
       "    <tr>\n",
       "      <th>row2</th>\n",
       "      <td>20</td>\n",
       "      <td>20</td>\n",
       "      <td>20</td>\n",
       "    </tr>\n",
       "    <tr>\n",
       "      <th>row3</th>\n",
       "      <td>4</td>\n",
       "      <td>10</td>\n",
       "      <td>11</td>\n",
       "    </tr>\n",
       "  </tbody>\n",
       "</table>\n",
       "</div>"
      ],
      "text/plain": [
       "       B   C   D\n",
       "2      2   2   3\n",
       "row2  20  20  20\n",
       "row3   4  10  11"
      ]
     },
     "execution_count": 103,
     "metadata": {},
     "output_type": "execute_result"
    }
   ],
   "source": [
    "df"
   ]
  },
  {
   "cell_type": "code",
   "execution_count": null,
   "metadata": {},
   "outputs": [
    {
     "data": {
      "text/plain": [
       "2       False\n",
       "row2     True\n",
       "row3     True\n",
       "Name: C, dtype: bool"
      ]
     },
     "execution_count": 104,
     "metadata": {},
     "output_type": "execute_result"
    }
   ],
   "source": [
    "df['C']>5"
   ]
  },
  {
   "cell_type": "code",
   "execution_count": null,
   "metadata": {},
   "outputs": [
    {
     "data": {
      "text/html": [
       "<div>\n",
       "<style scoped>\n",
       "    .dataframe tbody tr th:only-of-type {\n",
       "        vertical-align: middle;\n",
       "    }\n",
       "\n",
       "    .dataframe tbody tr th {\n",
       "        vertical-align: top;\n",
       "    }\n",
       "\n",
       "    .dataframe thead th {\n",
       "        text-align: right;\n",
       "    }\n",
       "</style>\n",
       "<table border=\"1\" class=\"dataframe\">\n",
       "  <thead>\n",
       "    <tr style=\"text-align: right;\">\n",
       "      <th></th>\n",
       "      <th>B</th>\n",
       "      <th>C</th>\n",
       "      <th>D</th>\n",
       "    </tr>\n",
       "  </thead>\n",
       "  <tbody>\n",
       "    <tr>\n",
       "      <th>row2</th>\n",
       "      <td>20</td>\n",
       "      <td>20</td>\n",
       "      <td>20</td>\n",
       "    </tr>\n",
       "    <tr>\n",
       "      <th>row3</th>\n",
       "      <td>4</td>\n",
       "      <td>10</td>\n",
       "      <td>11</td>\n",
       "    </tr>\n",
       "  </tbody>\n",
       "</table>\n",
       "</div>"
      ],
      "text/plain": [
       "       B   C   D\n",
       "row2  20  20  20\n",
       "row3   4  10  11"
      ]
     },
     "execution_count": 105,
     "metadata": {},
     "output_type": "execute_result"
    }
   ],
   "source": [
    "df[df['C']>5]"
   ]
  },
  {
   "cell_type": "code",
   "execution_count": null,
   "metadata": {},
   "outputs": [
    {
     "data": {
      "text/html": [
       "<div>\n",
       "<style scoped>\n",
       "    .dataframe tbody tr th:only-of-type {\n",
       "        vertical-align: middle;\n",
       "    }\n",
       "\n",
       "    .dataframe tbody tr th {\n",
       "        vertical-align: top;\n",
       "    }\n",
       "\n",
       "    .dataframe thead th {\n",
       "        text-align: right;\n",
       "    }\n",
       "</style>\n",
       "<table border=\"1\" class=\"dataframe\">\n",
       "  <thead>\n",
       "    <tr style=\"text-align: right;\">\n",
       "      <th></th>\n",
       "      <th>B</th>\n",
       "      <th>C</th>\n",
       "      <th>D</th>\n",
       "    </tr>\n",
       "  </thead>\n",
       "  <tbody>\n",
       "    <tr>\n",
       "      <th>row2</th>\n",
       "      <td>20</td>\n",
       "      <td>20</td>\n",
       "      <td>20</td>\n",
       "    </tr>\n",
       "    <tr>\n",
       "      <th>row3</th>\n",
       "      <td>4</td>\n",
       "      <td>10</td>\n",
       "      <td>11</td>\n",
       "    </tr>\n",
       "  </tbody>\n",
       "</table>\n",
       "</div>"
      ],
      "text/plain": [
       "       B   C   D\n",
       "row2  20  20  20\n",
       "row3   4  10  11"
      ]
     },
     "execution_count": 26,
     "metadata": {},
     "output_type": "execute_result"
    }
   ],
   "source": [
    "mask=df['C']>5\n",
    "df[mask]"
   ]
  },
  {
   "cell_type": "code",
   "execution_count": null,
   "metadata": {},
   "outputs": [
    {
     "data": {
      "text/html": [
       "<div>\n",
       "<style scoped>\n",
       "    .dataframe tbody tr th:only-of-type {\n",
       "        vertical-align: middle;\n",
       "    }\n",
       "\n",
       "    .dataframe tbody tr th {\n",
       "        vertical-align: top;\n",
       "    }\n",
       "\n",
       "    .dataframe thead th {\n",
       "        text-align: right;\n",
       "    }\n",
       "</style>\n",
       "<table border=\"1\" class=\"dataframe\">\n",
       "  <thead>\n",
       "    <tr style=\"text-align: right;\">\n",
       "      <th></th>\n",
       "      <th>B</th>\n",
       "      <th>C</th>\n",
       "      <th>D</th>\n",
       "    </tr>\n",
       "  </thead>\n",
       "  <tbody>\n",
       "    <tr>\n",
       "      <th>2</th>\n",
       "      <td>2</td>\n",
       "      <td>2</td>\n",
       "      <td>3</td>\n",
       "    </tr>\n",
       "    <tr>\n",
       "      <th>row2</th>\n",
       "      <td>20</td>\n",
       "      <td>20</td>\n",
       "      <td>20</td>\n",
       "    </tr>\n",
       "    <tr>\n",
       "      <th>row3</th>\n",
       "      <td>4</td>\n",
       "      <td>10</td>\n",
       "      <td>11</td>\n",
       "    </tr>\n",
       "  </tbody>\n",
       "</table>\n",
       "</div>"
      ],
      "text/plain": [
       "       B   C   D\n",
       "2      2   2   3\n",
       "row2  20  20  20\n",
       "row3   4  10  11"
      ]
     },
     "execution_count": 107,
     "metadata": {},
     "output_type": "execute_result"
    }
   ],
   "source": [
    "df"
   ]
  },
  {
   "cell_type": "code",
   "execution_count": null,
   "metadata": {},
   "outputs": [],
   "source": [
    "mask2=df['B']<=4"
   ]
  },
  {
   "cell_type": "code",
   "execution_count": null,
   "metadata": {},
   "outputs": [
    {
     "data": {
      "text/plain": [
       "2        True\n",
       "row2    False\n",
       "row3     True\n",
       "Name: B, dtype: bool"
      ]
     },
     "execution_count": 109,
     "metadata": {},
     "output_type": "execute_result"
    }
   ],
   "source": [
    "mask2"
   ]
  },
  {
   "cell_type": "code",
   "execution_count": null,
   "metadata": {},
   "outputs": [
    {
     "data": {
      "text/html": [
       "<div>\n",
       "<style scoped>\n",
       "    .dataframe tbody tr th:only-of-type {\n",
       "        vertical-align: middle;\n",
       "    }\n",
       "\n",
       "    .dataframe tbody tr th {\n",
       "        vertical-align: top;\n",
       "    }\n",
       "\n",
       "    .dataframe thead th {\n",
       "        text-align: right;\n",
       "    }\n",
       "</style>\n",
       "<table border=\"1\" class=\"dataframe\">\n",
       "  <thead>\n",
       "    <tr style=\"text-align: right;\">\n",
       "      <th></th>\n",
       "      <th>B</th>\n",
       "      <th>C</th>\n",
       "      <th>D</th>\n",
       "    </tr>\n",
       "  </thead>\n",
       "  <tbody>\n",
       "    <tr>\n",
       "      <th>2</th>\n",
       "      <td>2</td>\n",
       "      <td>2</td>\n",
       "      <td>3</td>\n",
       "    </tr>\n",
       "    <tr>\n",
       "      <th>row3</th>\n",
       "      <td>4</td>\n",
       "      <td>10</td>\n",
       "      <td>11</td>\n",
       "    </tr>\n",
       "  </tbody>\n",
       "</table>\n",
       "</div>"
      ],
      "text/plain": [
       "      B   C   D\n",
       "2     2   2   3\n",
       "row3  4  10  11"
      ]
     },
     "execution_count": 110,
     "metadata": {},
     "output_type": "execute_result"
    }
   ],
   "source": [
    "df[mask2]"
   ]
  },
  {
   "cell_type": "markdown",
   "metadata": {},
   "source": [
    "Adding two dataframes with possibly some different columns or indexes is possible, will just introduce `NaN`s in appropriate places. This example is copied from McKinney section 5.2:"
   ]
  },
  {
   "cell_type": "code",
   "execution_count": null,
   "metadata": {},
   "outputs": [],
   "source": [
    "df1 = pd.DataFrame(np.arange(9.).reshape((3, 3)), columns=list(\"bcd\"),\n",
    "   .....:                    index=[\"Ohio\", \"Texas\", \"Colorado\"])\n",
    "\n",
    "df2 = pd.DataFrame(np.arange(12.).reshape((4, 3)), columns=list(\"bde\"),\n",
    "   .....:                    index=[\"Utah\", \"Ohio\", \"Texas\", \"Oregon\"])\n"
   ]
  },
  {
   "cell_type": "code",
   "execution_count": null,
   "metadata": {},
   "outputs": [
    {
     "data": {
      "text/plain": [
       "(            b    c    d\n",
       " Ohio      0.0  1.0  2.0\n",
       " Texas     3.0  4.0  5.0\n",
       " Colorado  6.0  7.0  8.0,\n",
       "           b     d     e\n",
       " Utah    0.0   1.0   2.0\n",
       " Ohio    3.0   4.0   5.0\n",
       " Texas   6.0   7.0   8.0\n",
       " Oregon  9.0  10.0  11.0)"
      ]
     },
     "execution_count": 112,
     "metadata": {},
     "output_type": "execute_result"
    }
   ],
   "source": [
    "df1, df2"
   ]
  },
  {
   "cell_type": "code",
   "execution_count": null,
   "metadata": {},
   "outputs": [
    {
     "data": {
      "text/html": [
       "<div>\n",
       "<style scoped>\n",
       "    .dataframe tbody tr th:only-of-type {\n",
       "        vertical-align: middle;\n",
       "    }\n",
       "\n",
       "    .dataframe tbody tr th {\n",
       "        vertical-align: top;\n",
       "    }\n",
       "\n",
       "    .dataframe thead th {\n",
       "        text-align: right;\n",
       "    }\n",
       "</style>\n",
       "<table border=\"1\" class=\"dataframe\">\n",
       "  <thead>\n",
       "    <tr style=\"text-align: right;\">\n",
       "      <th></th>\n",
       "      <th>b</th>\n",
       "      <th>c</th>\n",
       "      <th>d</th>\n",
       "      <th>e</th>\n",
       "    </tr>\n",
       "  </thead>\n",
       "  <tbody>\n",
       "    <tr>\n",
       "      <th>Colorado</th>\n",
       "      <td>NaN</td>\n",
       "      <td>NaN</td>\n",
       "      <td>NaN</td>\n",
       "      <td>NaN</td>\n",
       "    </tr>\n",
       "    <tr>\n",
       "      <th>Ohio</th>\n",
       "      <td>3.0</td>\n",
       "      <td>NaN</td>\n",
       "      <td>6.0</td>\n",
       "      <td>NaN</td>\n",
       "    </tr>\n",
       "    <tr>\n",
       "      <th>Oregon</th>\n",
       "      <td>NaN</td>\n",
       "      <td>NaN</td>\n",
       "      <td>NaN</td>\n",
       "      <td>NaN</td>\n",
       "    </tr>\n",
       "    <tr>\n",
       "      <th>Texas</th>\n",
       "      <td>9.0</td>\n",
       "      <td>NaN</td>\n",
       "      <td>12.0</td>\n",
       "      <td>NaN</td>\n",
       "    </tr>\n",
       "    <tr>\n",
       "      <th>Utah</th>\n",
       "      <td>NaN</td>\n",
       "      <td>NaN</td>\n",
       "      <td>NaN</td>\n",
       "      <td>NaN</td>\n",
       "    </tr>\n",
       "  </tbody>\n",
       "</table>\n",
       "</div>"
      ],
      "text/plain": [
       "            b   c     d   e\n",
       "Colorado  NaN NaN   NaN NaN\n",
       "Ohio      3.0 NaN   6.0 NaN\n",
       "Oregon    NaN NaN   NaN NaN\n",
       "Texas     9.0 NaN  12.0 NaN\n",
       "Utah      NaN NaN   NaN NaN"
      ]
     },
     "execution_count": 113,
     "metadata": {},
     "output_type": "execute_result"
    }
   ],
   "source": [
    "df1 + df2"
   ]
  },
  {
   "cell_type": "markdown",
   "metadata": {},
   "source": [
    "### Applying functions to entries of a data frame"
   ]
  },
  {
   "cell_type": "code",
   "execution_count": null,
   "metadata": {},
   "outputs": [
    {
     "data": {
      "text/html": [
       "<div>\n",
       "<style scoped>\n",
       "    .dataframe tbody tr th:only-of-type {\n",
       "        vertical-align: middle;\n",
       "    }\n",
       "\n",
       "    .dataframe tbody tr th {\n",
       "        vertical-align: top;\n",
       "    }\n",
       "\n",
       "    .dataframe thead th {\n",
       "        text-align: right;\n",
       "    }\n",
       "</style>\n",
       "<table border=\"1\" class=\"dataframe\">\n",
       "  <thead>\n",
       "    <tr style=\"text-align: right;\">\n",
       "      <th></th>\n",
       "      <th>b</th>\n",
       "      <th>c</th>\n",
       "      <th>d</th>\n",
       "    </tr>\n",
       "  </thead>\n",
       "  <tbody>\n",
       "    <tr>\n",
       "      <th>Ohio</th>\n",
       "      <td>0.0</td>\n",
       "      <td>1.0</td>\n",
       "      <td>2.0</td>\n",
       "    </tr>\n",
       "    <tr>\n",
       "      <th>Texas</th>\n",
       "      <td>3.0</td>\n",
       "      <td>4.0</td>\n",
       "      <td>5.0</td>\n",
       "    </tr>\n",
       "    <tr>\n",
       "      <th>Colorado</th>\n",
       "      <td>6.0</td>\n",
       "      <td>7.0</td>\n",
       "      <td>8.0</td>\n",
       "    </tr>\n",
       "  </tbody>\n",
       "</table>\n",
       "</div>"
      ],
      "text/plain": [
       "            b    c    d\n",
       "Ohio      0.0  1.0  2.0\n",
       "Texas     3.0  4.0  5.0\n",
       "Colorado  6.0  7.0  8.0"
      ]
     },
     "execution_count": 114,
     "metadata": {},
     "output_type": "execute_result"
    }
   ],
   "source": [
    "df1"
   ]
  },
  {
   "cell_type": "code",
   "execution_count": null,
   "metadata": {},
   "outputs": [
    {
     "data": {
      "text/html": [
       "<div>\n",
       "<style scoped>\n",
       "    .dataframe tbody tr th:only-of-type {\n",
       "        vertical-align: middle;\n",
       "    }\n",
       "\n",
       "    .dataframe tbody tr th {\n",
       "        vertical-align: top;\n",
       "    }\n",
       "\n",
       "    .dataframe thead th {\n",
       "        text-align: right;\n",
       "    }\n",
       "</style>\n",
       "<table border=\"1\" class=\"dataframe\">\n",
       "  <thead>\n",
       "    <tr style=\"text-align: right;\">\n",
       "      <th></th>\n",
       "      <th>b</th>\n",
       "      <th>c</th>\n",
       "      <th>d</th>\n",
       "    </tr>\n",
       "  </thead>\n",
       "  <tbody>\n",
       "    <tr>\n",
       "      <th>Ohio</th>\n",
       "      <td>0.0</td>\n",
       "      <td>1.0</td>\n",
       "      <td>4.0</td>\n",
       "    </tr>\n",
       "    <tr>\n",
       "      <th>Texas</th>\n",
       "      <td>9.0</td>\n",
       "      <td>16.0</td>\n",
       "      <td>25.0</td>\n",
       "    </tr>\n",
       "    <tr>\n",
       "      <th>Colorado</th>\n",
       "      <td>36.0</td>\n",
       "      <td>49.0</td>\n",
       "      <td>64.0</td>\n",
       "    </tr>\n",
       "  </tbody>\n",
       "</table>\n",
       "</div>"
      ],
      "text/plain": [
       "             b     c     d\n",
       "Ohio       0.0   1.0   4.0\n",
       "Texas      9.0  16.0  25.0\n",
       "Colorado  36.0  49.0  64.0"
      ]
     },
     "execution_count": 115,
     "metadata": {},
     "output_type": "execute_result"
    }
   ],
   "source": [
    "np.square(df1)  #vectorized numpy operations accept dataframes as input"
   ]
  },
  {
   "cell_type": "markdown",
   "metadata": {},
   "source": [
    "### Apply a function to rows or columns\n",
    "\n",
    "syntax\n",
    "\n",
    "`.apply`\n",
    "\n",
    "`<dataframe>.apply(function, axis=)`"
   ]
  },
  {
   "cell_type": "code",
   "execution_count": null,
   "metadata": {},
   "outputs": [
    {
     "data": {
      "text/html": [
       "<div>\n",
       "<style scoped>\n",
       "    .dataframe tbody tr th:only-of-type {\n",
       "        vertical-align: middle;\n",
       "    }\n",
       "\n",
       "    .dataframe tbody tr th {\n",
       "        vertical-align: top;\n",
       "    }\n",
       "\n",
       "    .dataframe thead th {\n",
       "        text-align: right;\n",
       "    }\n",
       "</style>\n",
       "<table border=\"1\" class=\"dataframe\">\n",
       "  <thead>\n",
       "    <tr style=\"text-align: right;\">\n",
       "      <th></th>\n",
       "      <th>B</th>\n",
       "      <th>C</th>\n",
       "      <th>D</th>\n",
       "    </tr>\n",
       "  </thead>\n",
       "  <tbody>\n",
       "    <tr>\n",
       "      <th>2</th>\n",
       "      <td>16</td>\n",
       "      <td>16</td>\n",
       "      <td>81</td>\n",
       "    </tr>\n",
       "    <tr>\n",
       "      <th>row2</th>\n",
       "      <td>160000</td>\n",
       "      <td>160000</td>\n",
       "      <td>160000</td>\n",
       "    </tr>\n",
       "    <tr>\n",
       "      <th>row3</th>\n",
       "      <td>256</td>\n",
       "      <td>10000</td>\n",
       "      <td>14641</td>\n",
       "    </tr>\n",
       "  </tbody>\n",
       "</table>\n",
       "</div>"
      ],
      "text/plain": [
       "           B       C       D\n",
       "2         16      16      81\n",
       "row2  160000  160000  160000\n",
       "row3     256   10000   14641"
      ]
     },
     "execution_count": 120,
     "metadata": {},
     "output_type": "execute_result"
    }
   ],
   "source": [
    "def my_function(x):\n",
    "    return x**2\n",
    "\n",
    "df=df.apply(my_function)\n",
    "df"
   ]
  },
  {
   "cell_type": "code",
   "execution_count": null,
   "metadata": {},
   "outputs": [
    {
     "data": {
      "text/html": [
       "<div>\n",
       "<style scoped>\n",
       "    .dataframe tbody tr th:only-of-type {\n",
       "        vertical-align: middle;\n",
       "    }\n",
       "\n",
       "    .dataframe tbody tr th {\n",
       "        vertical-align: top;\n",
       "    }\n",
       "\n",
       "    .dataframe thead th {\n",
       "        text-align: right;\n",
       "    }\n",
       "</style>\n",
       "<table border=\"1\" class=\"dataframe\">\n",
       "  <thead>\n",
       "    <tr style=\"text-align: right;\">\n",
       "      <th></th>\n",
       "      <th>B</th>\n",
       "      <th>C</th>\n",
       "      <th>D</th>\n",
       "    </tr>\n",
       "  </thead>\n",
       "  <tbody>\n",
       "    <tr>\n",
       "      <th>2</th>\n",
       "      <td>16</td>\n",
       "      <td>16</td>\n",
       "      <td>81</td>\n",
       "    </tr>\n",
       "    <tr>\n",
       "      <th>row2</th>\n",
       "      <td>160000</td>\n",
       "      <td>160000</td>\n",
       "      <td>160000</td>\n",
       "    </tr>\n",
       "    <tr>\n",
       "      <th>row3</th>\n",
       "      <td>256</td>\n",
       "      <td>10000</td>\n",
       "      <td>14641</td>\n",
       "    </tr>\n",
       "  </tbody>\n",
       "</table>\n",
       "</div>"
      ],
      "text/plain": [
       "           B       C       D\n",
       "2         16      16      81\n",
       "row2  160000  160000  160000\n",
       "row3     256   10000   14641"
      ]
     },
     "execution_count": 121,
     "metadata": {},
     "output_type": "execute_result"
    }
   ],
   "source": [
    "df"
   ]
  },
  {
   "cell_type": "code",
   "execution_count": null,
   "metadata": {},
   "outputs": [],
   "source": [
    "#replace just column B with it entries squares\n",
    "df['B']=df['B'].apply(my_function)"
   ]
  },
  {
   "cell_type": "code",
   "execution_count": null,
   "metadata": {},
   "outputs": [
    {
     "data": {
      "text/html": [
       "<div>\n",
       "<style scoped>\n",
       "    .dataframe tbody tr th:only-of-type {\n",
       "        vertical-align: middle;\n",
       "    }\n",
       "\n",
       "    .dataframe tbody tr th {\n",
       "        vertical-align: top;\n",
       "    }\n",
       "\n",
       "    .dataframe thead th {\n",
       "        text-align: right;\n",
       "    }\n",
       "</style>\n",
       "<table border=\"1\" class=\"dataframe\">\n",
       "  <thead>\n",
       "    <tr style=\"text-align: right;\">\n",
       "      <th></th>\n",
       "      <th>B</th>\n",
       "      <th>C</th>\n",
       "      <th>D</th>\n",
       "    </tr>\n",
       "  </thead>\n",
       "  <tbody>\n",
       "    <tr>\n",
       "      <th>2</th>\n",
       "      <td>256</td>\n",
       "      <td>16</td>\n",
       "      <td>81</td>\n",
       "    </tr>\n",
       "    <tr>\n",
       "      <th>row2</th>\n",
       "      <td>25600000000</td>\n",
       "      <td>160000</td>\n",
       "      <td>160000</td>\n",
       "    </tr>\n",
       "    <tr>\n",
       "      <th>row3</th>\n",
       "      <td>65536</td>\n",
       "      <td>10000</td>\n",
       "      <td>14641</td>\n",
       "    </tr>\n",
       "  </tbody>\n",
       "</table>\n",
       "</div>"
      ],
      "text/plain": [
       "                B       C       D\n",
       "2             256      16      81\n",
       "row2  25600000000  160000  160000\n",
       "row3        65536   10000   14641"
      ]
     },
     "execution_count": 123,
     "metadata": {},
     "output_type": "execute_result"
    }
   ],
   "source": [
    "df"
   ]
  },
  {
   "cell_type": "code",
   "execution_count": null,
   "metadata": {},
   "outputs": [],
   "source": [
    "df.loc[2]=df.loc[2].apply(my_function)"
   ]
  },
  {
   "cell_type": "code",
   "execution_count": null,
   "metadata": {},
   "outputs": [
    {
     "data": {
      "text/html": [
       "<div>\n",
       "<style scoped>\n",
       "    .dataframe tbody tr th:only-of-type {\n",
       "        vertical-align: middle;\n",
       "    }\n",
       "\n",
       "    .dataframe tbody tr th {\n",
       "        vertical-align: top;\n",
       "    }\n",
       "\n",
       "    .dataframe thead th {\n",
       "        text-align: right;\n",
       "    }\n",
       "</style>\n",
       "<table border=\"1\" class=\"dataframe\">\n",
       "  <thead>\n",
       "    <tr style=\"text-align: right;\">\n",
       "      <th></th>\n",
       "      <th>B</th>\n",
       "      <th>C</th>\n",
       "      <th>D</th>\n",
       "    </tr>\n",
       "  </thead>\n",
       "  <tbody>\n",
       "    <tr>\n",
       "      <th>2</th>\n",
       "      <td>65536</td>\n",
       "      <td>256</td>\n",
       "      <td>6561</td>\n",
       "    </tr>\n",
       "    <tr>\n",
       "      <th>row2</th>\n",
       "      <td>25600000000</td>\n",
       "      <td>160000</td>\n",
       "      <td>160000</td>\n",
       "    </tr>\n",
       "    <tr>\n",
       "      <th>row3</th>\n",
       "      <td>65536</td>\n",
       "      <td>10000</td>\n",
       "      <td>14641</td>\n",
       "    </tr>\n",
       "  </tbody>\n",
       "</table>\n",
       "</div>"
      ],
      "text/plain": [
       "                B       C       D\n",
       "2           65536     256    6561\n",
       "row2  25600000000  160000  160000\n",
       "row3        65536   10000   14641"
      ]
     },
     "execution_count": 125,
     "metadata": {},
     "output_type": "execute_result"
    }
   ],
   "source": [
    "df"
   ]
  },
  {
   "cell_type": "code",
   "execution_count": null,
   "metadata": {},
   "outputs": [],
   "source": [
    "df.iloc[2]=df.iloc[2].apply(my_function)"
   ]
  },
  {
   "cell_type": "code",
   "execution_count": null,
   "metadata": {},
   "outputs": [
    {
     "data": {
      "text/html": [
       "<div>\n",
       "<style scoped>\n",
       "    .dataframe tbody tr th:only-of-type {\n",
       "        vertical-align: middle;\n",
       "    }\n",
       "\n",
       "    .dataframe tbody tr th {\n",
       "        vertical-align: top;\n",
       "    }\n",
       "\n",
       "    .dataframe thead th {\n",
       "        text-align: right;\n",
       "    }\n",
       "</style>\n",
       "<table border=\"1\" class=\"dataframe\">\n",
       "  <thead>\n",
       "    <tr style=\"text-align: right;\">\n",
       "      <th></th>\n",
       "      <th>B</th>\n",
       "      <th>C</th>\n",
       "      <th>D</th>\n",
       "    </tr>\n",
       "  </thead>\n",
       "  <tbody>\n",
       "    <tr>\n",
       "      <th>2</th>\n",
       "      <td>65536</td>\n",
       "      <td>256</td>\n",
       "      <td>6561</td>\n",
       "    </tr>\n",
       "    <tr>\n",
       "      <th>row2</th>\n",
       "      <td>25600000000</td>\n",
       "      <td>160000</td>\n",
       "      <td>160000</td>\n",
       "    </tr>\n",
       "    <tr>\n",
       "      <th>row3</th>\n",
       "      <td>4294967296</td>\n",
       "      <td>100000000</td>\n",
       "      <td>214358881</td>\n",
       "    </tr>\n",
       "  </tbody>\n",
       "</table>\n",
       "</div>"
      ],
      "text/plain": [
       "                B          C          D\n",
       "2           65536        256       6561\n",
       "row2  25600000000     160000     160000\n",
       "row3   4294967296  100000000  214358881"
      ]
     },
     "execution_count": 127,
     "metadata": {},
     "output_type": "execute_result"
    }
   ],
   "source": [
    "df"
   ]
  },
  {
   "cell_type": "markdown",
   "metadata": {},
   "source": [
    "### Sorting\n",
    "\n",
    "Can sort index, but I think more common is to sort the values:"
   ]
  },
  {
   "cell_type": "code",
   "execution_count": null,
   "metadata": {},
   "outputs": [
    {
     "data": {
      "text/html": [
       "<div>\n",
       "<style scoped>\n",
       "    .dataframe tbody tr th:only-of-type {\n",
       "        vertical-align: middle;\n",
       "    }\n",
       "\n",
       "    .dataframe tbody tr th {\n",
       "        vertical-align: top;\n",
       "    }\n",
       "\n",
       "    .dataframe thead th {\n",
       "        text-align: right;\n",
       "    }\n",
       "</style>\n",
       "<table border=\"1\" class=\"dataframe\">\n",
       "  <thead>\n",
       "    <tr style=\"text-align: right;\">\n",
       "      <th></th>\n",
       "      <th>B</th>\n",
       "      <th>C</th>\n",
       "      <th>D</th>\n",
       "    </tr>\n",
       "  </thead>\n",
       "  <tbody>\n",
       "    <tr>\n",
       "      <th>2</th>\n",
       "      <td>65536</td>\n",
       "      <td>256</td>\n",
       "      <td>6561</td>\n",
       "    </tr>\n",
       "    <tr>\n",
       "      <th>row2</th>\n",
       "      <td>25600000000</td>\n",
       "      <td>160000</td>\n",
       "      <td>160000</td>\n",
       "    </tr>\n",
       "    <tr>\n",
       "      <th>row3</th>\n",
       "      <td>4294967296</td>\n",
       "      <td>100000000</td>\n",
       "      <td>214358881</td>\n",
       "    </tr>\n",
       "  </tbody>\n",
       "</table>\n",
       "</div>"
      ],
      "text/plain": [
       "                B          C          D\n",
       "2           65536        256       6561\n",
       "row2  25600000000     160000     160000\n",
       "row3   4294967296  100000000  214358881"
      ]
     },
     "execution_count": 128,
     "metadata": {},
     "output_type": "execute_result"
    }
   ],
   "source": [
    "df"
   ]
  },
  {
   "cell_type": "code",
   "execution_count": null,
   "metadata": {},
   "outputs": [
    {
     "data": {
      "text/html": [
       "<div>\n",
       "<style scoped>\n",
       "    .dataframe tbody tr th:only-of-type {\n",
       "        vertical-align: middle;\n",
       "    }\n",
       "\n",
       "    .dataframe tbody tr th {\n",
       "        vertical-align: top;\n",
       "    }\n",
       "\n",
       "    .dataframe thead th {\n",
       "        text-align: right;\n",
       "    }\n",
       "</style>\n",
       "<table border=\"1\" class=\"dataframe\">\n",
       "  <thead>\n",
       "    <tr style=\"text-align: right;\">\n",
       "      <th></th>\n",
       "      <th>B</th>\n",
       "      <th>C</th>\n",
       "      <th>D</th>\n",
       "    </tr>\n",
       "  </thead>\n",
       "  <tbody>\n",
       "    <tr>\n",
       "      <th>2</th>\n",
       "      <td>65536</td>\n",
       "      <td>256</td>\n",
       "      <td>6561</td>\n",
       "    </tr>\n",
       "    <tr>\n",
       "      <th>row3</th>\n",
       "      <td>4294967296</td>\n",
       "      <td>100000000</td>\n",
       "      <td>214358881</td>\n",
       "    </tr>\n",
       "    <tr>\n",
       "      <th>row2</th>\n",
       "      <td>25600000000</td>\n",
       "      <td>160000</td>\n",
       "      <td>160000</td>\n",
       "    </tr>\n",
       "  </tbody>\n",
       "</table>\n",
       "</div>"
      ],
      "text/plain": [
       "                B          C          D\n",
       "2           65536        256       6561\n",
       "row3   4294967296  100000000  214358881\n",
       "row2  25600000000     160000     160000"
      ]
     },
     "execution_count": 129,
     "metadata": {},
     "output_type": "execute_result"
    }
   ],
   "source": [
    "df.sort_values(by=['B'])"
   ]
  },
  {
   "cell_type": "code",
   "execution_count": null,
   "metadata": {},
   "outputs": [
    {
     "data": {
      "text/html": [
       "<div>\n",
       "<style scoped>\n",
       "    .dataframe tbody tr th:only-of-type {\n",
       "        vertical-align: middle;\n",
       "    }\n",
       "\n",
       "    .dataframe tbody tr th {\n",
       "        vertical-align: top;\n",
       "    }\n",
       "\n",
       "    .dataframe thead th {\n",
       "        text-align: right;\n",
       "    }\n",
       "</style>\n",
       "<table border=\"1\" class=\"dataframe\">\n",
       "  <thead>\n",
       "    <tr style=\"text-align: right;\">\n",
       "      <th></th>\n",
       "      <th>B</th>\n",
       "      <th>C</th>\n",
       "      <th>D</th>\n",
       "    </tr>\n",
       "  </thead>\n",
       "  <tbody>\n",
       "    <tr>\n",
       "      <th>2</th>\n",
       "      <td>65536</td>\n",
       "      <td>256</td>\n",
       "      <td>6561</td>\n",
       "    </tr>\n",
       "    <tr>\n",
       "      <th>row2</th>\n",
       "      <td>25600000000</td>\n",
       "      <td>160000</td>\n",
       "      <td>160000</td>\n",
       "    </tr>\n",
       "    <tr>\n",
       "      <th>row3</th>\n",
       "      <td>4294967296</td>\n",
       "      <td>100000000</td>\n",
       "      <td>214358881</td>\n",
       "    </tr>\n",
       "  </tbody>\n",
       "</table>\n",
       "</div>"
      ],
      "text/plain": [
       "                B          C          D\n",
       "2           65536        256       6561\n",
       "row2  25600000000     160000     160000\n",
       "row3   4294967296  100000000  214358881"
      ]
     },
     "execution_count": 131,
     "metadata": {},
     "output_type": "execute_result"
    }
   ],
   "source": [
    "df"
   ]
  },
  {
   "cell_type": "code",
   "execution_count": null,
   "metadata": {},
   "outputs": [
    {
     "data": {
      "text/html": [
       "<div>\n",
       "<style scoped>\n",
       "    .dataframe tbody tr th:only-of-type {\n",
       "        vertical-align: middle;\n",
       "    }\n",
       "\n",
       "    .dataframe tbody tr th {\n",
       "        vertical-align: top;\n",
       "    }\n",
       "\n",
       "    .dataframe thead th {\n",
       "        text-align: right;\n",
       "    }\n",
       "</style>\n",
       "<table border=\"1\" class=\"dataframe\">\n",
       "  <thead>\n",
       "    <tr style=\"text-align: right;\">\n",
       "      <th></th>\n",
       "      <th>B</th>\n",
       "      <th>C</th>\n",
       "      <th>D</th>\n",
       "    </tr>\n",
       "  </thead>\n",
       "  <tbody>\n",
       "    <tr>\n",
       "      <th>2</th>\n",
       "      <td>65536</td>\n",
       "      <td>256</td>\n",
       "      <td>6561</td>\n",
       "    </tr>\n",
       "    <tr>\n",
       "      <th>row2</th>\n",
       "      <td>25600000000</td>\n",
       "      <td>160000</td>\n",
       "      <td>160000</td>\n",
       "    </tr>\n",
       "    <tr>\n",
       "      <th>row3</th>\n",
       "      <td>4294967296</td>\n",
       "      <td>100000000</td>\n",
       "      <td>214358881</td>\n",
       "    </tr>\n",
       "  </tbody>\n",
       "</table>\n",
       "</div>"
      ],
      "text/plain": [
       "                B          C          D\n",
       "2           65536        256       6561\n",
       "row2  25600000000     160000     160000\n",
       "row3   4294967296  100000000  214358881"
      ]
     },
     "execution_count": 132,
     "metadata": {},
     "output_type": "execute_result"
    }
   ],
   "source": [
    "df.sort_values(by=['D','B'])"
   ]
  },
  {
   "cell_type": "code",
   "execution_count": null,
   "metadata": {},
   "outputs": [
    {
     "data": {
      "text/html": [
       "<div>\n",
       "<style scoped>\n",
       "    .dataframe tbody tr th:only-of-type {\n",
       "        vertical-align: middle;\n",
       "    }\n",
       "\n",
       "    .dataframe tbody tr th {\n",
       "        vertical-align: top;\n",
       "    }\n",
       "\n",
       "    .dataframe thead th {\n",
       "        text-align: right;\n",
       "    }\n",
       "</style>\n",
       "<table border=\"1\" class=\"dataframe\">\n",
       "  <thead>\n",
       "    <tr style=\"text-align: right;\">\n",
       "      <th></th>\n",
       "      <th>B</th>\n",
       "      <th>C</th>\n",
       "      <th>D</th>\n",
       "    </tr>\n",
       "  </thead>\n",
       "  <tbody>\n",
       "    <tr>\n",
       "      <th>2</th>\n",
       "      <td>65536</td>\n",
       "      <td>256</td>\n",
       "      <td>6561</td>\n",
       "    </tr>\n",
       "    <tr>\n",
       "      <th>row2</th>\n",
       "      <td>25600000000</td>\n",
       "      <td>160000</td>\n",
       "      <td>160000</td>\n",
       "    </tr>\n",
       "    <tr>\n",
       "      <th>row3</th>\n",
       "      <td>4294967296</td>\n",
       "      <td>100000000</td>\n",
       "      <td>214358881</td>\n",
       "    </tr>\n",
       "  </tbody>\n",
       "</table>\n",
       "</div>"
      ],
      "text/plain": [
       "                B          C          D\n",
       "2           65536        256       6561\n",
       "row2  25600000000     160000     160000\n",
       "row3   4294967296  100000000  214358881"
      ]
     },
     "execution_count": 133,
     "metadata": {},
     "output_type": "execute_result"
    }
   ],
   "source": [
    "df"
   ]
  },
  {
   "cell_type": "markdown",
   "metadata": {},
   "source": [
    "[rows, columns]"
   ]
  },
  {
   "cell_type": "code",
   "execution_count": null,
   "metadata": {},
   "outputs": [
    {
     "data": {
      "text/plain": [
       "B    29895032832\n",
       "C      100160256\n",
       "D      214525442\n",
       "dtype: int64"
      ]
     },
     "execution_count": 134,
     "metadata": {},
     "output_type": "execute_result"
    }
   ],
   "source": [
    "df.sum(axis=0)"
   ]
  },
  {
   "cell_type": "markdown",
   "metadata": {},
   "source": [
    "### Axis, again\n",
    "\n",
    "Yesterday I said (correctly)\n",
    "\n",
    "### axis=0 means varying rows, keeping column fixed\n",
    "\n",
    "I wrote \n",
    "### axis=0 means columns\n",
    "but I should have written more precisely\n",
    "### axis=0 means (operation is applied to) columns\n",
    "\n",
    "and while correct, the usage in Pandas/McKinney is that axis means direction \n",
    "\n",
    "`axis=0` is `axis=\"rows\"`\n",
    "because if you say sum in the direction of rows axis, you are summing up to columns.\n",
    "\n",
    "And\n",
    "`axis=1` is synonymous with `axis=\"columns\"`\n",
    "since doing a sum along the direction of the columns axis is summing each row.\n",
    "\n",
    "Very confusing, I'm sorry.\n"
   ]
  },
  {
   "cell_type": "code",
   "execution_count": null,
   "metadata": {},
   "outputs": [
    {
     "data": {
      "text/html": [
       "<div>\n",
       "<style scoped>\n",
       "    .dataframe tbody tr th:only-of-type {\n",
       "        vertical-align: middle;\n",
       "    }\n",
       "\n",
       "    .dataframe tbody tr th {\n",
       "        vertical-align: top;\n",
       "    }\n",
       "\n",
       "    .dataframe thead th {\n",
       "        text-align: right;\n",
       "    }\n",
       "</style>\n",
       "<table border=\"1\" class=\"dataframe\">\n",
       "  <thead>\n",
       "    <tr style=\"text-align: right;\">\n",
       "      <th></th>\n",
       "      <th>B</th>\n",
       "      <th>C</th>\n",
       "      <th>D</th>\n",
       "    </tr>\n",
       "  </thead>\n",
       "  <tbody>\n",
       "    <tr>\n",
       "      <th>2</th>\n",
       "      <td>65536</td>\n",
       "      <td>256</td>\n",
       "      <td>6561</td>\n",
       "    </tr>\n",
       "    <tr>\n",
       "      <th>row2</th>\n",
       "      <td>25600000000</td>\n",
       "      <td>160000</td>\n",
       "      <td>160000</td>\n",
       "    </tr>\n",
       "    <tr>\n",
       "      <th>row3</th>\n",
       "      <td>4294967296</td>\n",
       "      <td>100000000</td>\n",
       "      <td>214358881</td>\n",
       "    </tr>\n",
       "  </tbody>\n",
       "</table>\n",
       "</div>"
      ],
      "text/plain": [
       "                B          C          D\n",
       "2           65536        256       6561\n",
       "row2  25600000000     160000     160000\n",
       "row3   4294967296  100000000  214358881"
      ]
     },
     "execution_count": 135,
     "metadata": {},
     "output_type": "execute_result"
    }
   ],
   "source": [
    "df"
   ]
  },
  {
   "cell_type": "code",
   "execution_count": null,
   "metadata": {},
   "outputs": [
    {
     "data": {
      "text/plain": [
       "B    29895032832\n",
       "C      100160256\n",
       "D      214525442\n",
       "dtype: int64"
      ]
     },
     "execution_count": 136,
     "metadata": {},
     "output_type": "execute_result"
    }
   ],
   "source": [
    "\n",
    "df.sum(axis=0)"
   ]
  },
  {
   "cell_type": "code",
   "execution_count": null,
   "metadata": {},
   "outputs": [
    {
     "data": {
      "text/plain": [
       "B    29895032832\n",
       "C      100160256\n",
       "D      214525442\n",
       "dtype: int64"
      ]
     },
     "execution_count": 137,
     "metadata": {},
     "output_type": "execute_result"
    }
   ],
   "source": [
    "df.sum(axis='index')"
   ]
  },
  {
   "cell_type": "code",
   "execution_count": null,
   "metadata": {},
   "outputs": [
    {
     "data": {
      "text/plain": [
       "2             72353\n",
       "row2    25600320000\n",
       "row3     4609326177\n",
       "dtype: int64"
      ]
     },
     "execution_count": 138,
     "metadata": {},
     "output_type": "execute_result"
    }
   ],
   "source": [
    "#the following command sums the ROWS\n",
    "df.sum(axis='columns')"
   ]
  },
  {
   "cell_type": "markdown",
   "metadata": {},
   "source": [
    "###  concat"
   ]
  },
  {
   "cell_type": "markdown",
   "metadata": {},
   "source": [
    "pd.concat?"
   ]
  },
  {
   "cell_type": "code",
   "execution_count": null,
   "metadata": {},
   "outputs": [
    {
     "name": "stdout",
     "output_type": "stream",
     "text": [
      "\u001b[0;31mSignature:\u001b[0m\n",
      "\u001b[0mpd\u001b[0m\u001b[0;34m.\u001b[0m\u001b[0mconcat\u001b[0m\u001b[0;34m(\u001b[0m\u001b[0;34m\u001b[0m\n",
      "\u001b[0;34m\u001b[0m    \u001b[0mobjs\u001b[0m\u001b[0;34m:\u001b[0m \u001b[0;34m'Iterable[NDFrame] | Mapping[HashableT, NDFrame]'\u001b[0m\u001b[0;34m,\u001b[0m\u001b[0;34m\u001b[0m\n",
      "\u001b[0;34m\u001b[0m    \u001b[0;34m*\u001b[0m\u001b[0;34m,\u001b[0m\u001b[0;34m\u001b[0m\n",
      "\u001b[0;34m\u001b[0m    \u001b[0maxis\u001b[0m\u001b[0;34m:\u001b[0m \u001b[0;34m'Axis'\u001b[0m \u001b[0;34m=\u001b[0m \u001b[0;36m0\u001b[0m\u001b[0;34m,\u001b[0m\u001b[0;34m\u001b[0m\n",
      "\u001b[0;34m\u001b[0m    \u001b[0mjoin\u001b[0m\u001b[0;34m:\u001b[0m \u001b[0;34m'str'\u001b[0m \u001b[0;34m=\u001b[0m \u001b[0;34m'outer'\u001b[0m\u001b[0;34m,\u001b[0m\u001b[0;34m\u001b[0m\n",
      "\u001b[0;34m\u001b[0m    \u001b[0mignore_index\u001b[0m\u001b[0;34m:\u001b[0m \u001b[0;34m'bool'\u001b[0m \u001b[0;34m=\u001b[0m \u001b[0;32mFalse\u001b[0m\u001b[0;34m,\u001b[0m\u001b[0;34m\u001b[0m\n",
      "\u001b[0;34m\u001b[0m    \u001b[0mkeys\u001b[0m\u001b[0;34m=\u001b[0m\u001b[0;32mNone\u001b[0m\u001b[0;34m,\u001b[0m\u001b[0;34m\u001b[0m\n",
      "\u001b[0;34m\u001b[0m    \u001b[0mlevels\u001b[0m\u001b[0;34m=\u001b[0m\u001b[0;32mNone\u001b[0m\u001b[0;34m,\u001b[0m\u001b[0;34m\u001b[0m\n",
      "\u001b[0;34m\u001b[0m    \u001b[0mnames\u001b[0m\u001b[0;34m=\u001b[0m\u001b[0;32mNone\u001b[0m\u001b[0;34m,\u001b[0m\u001b[0;34m\u001b[0m\n",
      "\u001b[0;34m\u001b[0m    \u001b[0mverify_integrity\u001b[0m\u001b[0;34m:\u001b[0m \u001b[0;34m'bool'\u001b[0m \u001b[0;34m=\u001b[0m \u001b[0;32mFalse\u001b[0m\u001b[0;34m,\u001b[0m\u001b[0;34m\u001b[0m\n",
      "\u001b[0;34m\u001b[0m    \u001b[0msort\u001b[0m\u001b[0;34m:\u001b[0m \u001b[0;34m'bool'\u001b[0m \u001b[0;34m=\u001b[0m \u001b[0;32mFalse\u001b[0m\u001b[0;34m,\u001b[0m\u001b[0;34m\u001b[0m\n",
      "\u001b[0;34m\u001b[0m    \u001b[0mcopy\u001b[0m\u001b[0;34m:\u001b[0m \u001b[0;34m'bool | None'\u001b[0m \u001b[0;34m=\u001b[0m \u001b[0;32mNone\u001b[0m\u001b[0;34m,\u001b[0m\u001b[0;34m\u001b[0m\n",
      "\u001b[0;34m\u001b[0m\u001b[0;34m)\u001b[0m \u001b[0;34m->\u001b[0m \u001b[0;34m'DataFrame | Series'\u001b[0m\u001b[0;34m\u001b[0m\u001b[0;34m\u001b[0m\u001b[0m\n",
      "\u001b[0;31mDocstring:\u001b[0m\n",
      "Concatenate pandas objects along a particular axis.\n",
      "\n",
      "Allows optional set logic along the other axes.\n",
      "\n",
      "Can also add a layer of hierarchical indexing on the concatenation axis,\n",
      "which may be useful if the labels are the same (or overlapping) on\n",
      "the passed axis number.\n",
      "\n",
      "Parameters\n",
      "----------\n",
      "objs : a sequence or mapping of Series or DataFrame objects\n",
      "    If a mapping is passed, the sorted keys will be used as the `keys`\n",
      "    argument, unless it is passed, in which case the values will be\n",
      "    selected (see below). Any None objects will be dropped silently unless\n",
      "    they are all None in which case a ValueError will be raised.\n",
      "axis : {0/'index', 1/'columns'}, default 0\n",
      "    The axis to concatenate along.\n",
      "join : {'inner', 'outer'}, default 'outer'\n",
      "    How to handle indexes on other axis (or axes).\n",
      "ignore_index : bool, default False\n",
      "    If True, do not use the index values along the concatenation axis. The\n",
      "    resulting axis will be labeled 0, ..., n - 1. This is useful if you are\n",
      "    concatenating objects where the concatenation axis does not have\n",
      "    meaningful indexing information. Note the index values on the other\n",
      "    axes are still respected in the join.\n",
      "keys : sequence, default None\n",
      "    If multiple levels passed, should contain tuples. Construct\n",
      "    hierarchical index using the passed keys as the outermost level.\n",
      "levels : list of sequences, default None\n",
      "    Specific levels (unique values) to use for constructing a\n",
      "    MultiIndex. Otherwise they will be inferred from the keys.\n",
      "names : list, default None\n",
      "    Names for the levels in the resulting hierarchical index.\n",
      "verify_integrity : bool, default False\n",
      "    Check whether the new concatenated axis contains duplicates. This can\n",
      "    be very expensive relative to the actual data concatenation.\n",
      "sort : bool, default False\n",
      "    Sort non-concatenation axis if it is not already aligned.\n",
      "\n",
      "copy : bool, default True\n",
      "    If False, do not copy data unnecessarily.\n",
      "\n",
      "Returns\n",
      "-------\n",
      "object, type of objs\n",
      "    When concatenating all ``Series`` along the index (axis=0), a\n",
      "    ``Series`` is returned. When ``objs`` contains at least one\n",
      "    ``DataFrame``, a ``DataFrame`` is returned. When concatenating along\n",
      "    the columns (axis=1), a ``DataFrame`` is returned.\n",
      "\n",
      "See Also\n",
      "--------\n",
      "DataFrame.join : Join DataFrames using indexes.\n",
      "DataFrame.merge : Merge DataFrames by indexes or columns.\n",
      "\n",
      "Notes\n",
      "-----\n",
      "The keys, levels, and names arguments are all optional.\n",
      "\n",
      "A walkthrough of how this method fits in with other tools for combining\n",
      "pandas objects can be found `here\n",
      "<https://pandas.pydata.org/pandas-docs/stable/user_guide/merging.html>`__.\n",
      "\n",
      "It is not recommended to build DataFrames by adding single rows in a\n",
      "for loop. Build a list of rows and make a DataFrame in a single concat.\n",
      "\n",
      "Examples\n",
      "--------\n",
      "Combine two ``Series``.\n",
      "\n",
      ">>> s1 = pd.Series(['a', 'b'])\n",
      ">>> s2 = pd.Series(['c', 'd'])\n",
      ">>> pd.concat([s1, s2])\n",
      "0    a\n",
      "1    b\n",
      "0    c\n",
      "1    d\n",
      "dtype: object\n",
      "\n",
      "Clear the existing index and reset it in the result\n",
      "by setting the ``ignore_index`` option to ``True``.\n",
      "\n",
      ">>> pd.concat([s1, s2], ignore_index=True)\n",
      "0    a\n",
      "1    b\n",
      "2    c\n",
      "3    d\n",
      "dtype: object\n",
      "\n",
      "Add a hierarchical index at the outermost level of\n",
      "the data with the ``keys`` option.\n",
      "\n",
      ">>> pd.concat([s1, s2], keys=['s1', 's2'])\n",
      "s1  0    a\n",
      "    1    b\n",
      "s2  0    c\n",
      "    1    d\n",
      "dtype: object\n",
      "\n",
      "Label the index keys you create with the ``names`` option.\n",
      "\n",
      ">>> pd.concat([s1, s2], keys=['s1', 's2'],\n",
      "...           names=['Series name', 'Row ID'])\n",
      "Series name  Row ID\n",
      "s1           0         a\n",
      "             1         b\n",
      "s2           0         c\n",
      "             1         d\n",
      "dtype: object\n",
      "\n",
      "Combine two ``DataFrame`` objects with identical columns.\n",
      "\n",
      ">>> df1 = pd.DataFrame([['a', 1], ['b', 2]],\n",
      "...                    columns=['letter', 'number'])\n",
      ">>> df1\n",
      "  letter  number\n",
      "0      a       1\n",
      "1      b       2\n",
      ">>> df2 = pd.DataFrame([['c', 3], ['d', 4]],\n",
      "...                    columns=['letter', 'number'])\n",
      ">>> df2\n",
      "  letter  number\n",
      "0      c       3\n",
      "1      d       4\n",
      ">>> pd.concat([df1, df2])\n",
      "  letter  number\n",
      "0      a       1\n",
      "1      b       2\n",
      "0      c       3\n",
      "1      d       4\n",
      "\n",
      "Combine ``DataFrame`` objects with overlapping columns\n",
      "and return everything. Columns outside the intersection will\n",
      "be filled with ``NaN`` values.\n",
      "\n",
      ">>> df3 = pd.DataFrame([['c', 3, 'cat'], ['d', 4, 'dog']],\n",
      "...                    columns=['letter', 'number', 'animal'])\n",
      ">>> df3\n",
      "  letter  number animal\n",
      "0      c       3    cat\n",
      "1      d       4    dog\n",
      ">>> pd.concat([df1, df3], sort=False)\n",
      "  letter  number animal\n",
      "0      a       1    NaN\n",
      "1      b       2    NaN\n",
      "0      c       3    cat\n",
      "1      d       4    dog\n",
      "\n",
      "Combine ``DataFrame`` objects with overlapping columns\n",
      "and return only those that are shared by passing ``inner`` to\n",
      "the ``join`` keyword argument.\n",
      "\n",
      ">>> pd.concat([df1, df3], join=\"inner\")\n",
      "  letter  number\n",
      "0      a       1\n",
      "1      b       2\n",
      "0      c       3\n",
      "1      d       4\n",
      "\n",
      "Combine ``DataFrame`` objects horizontally along the x axis by\n",
      "passing in ``axis=1``.\n",
      "\n",
      ">>> df4 = pd.DataFrame([['bird', 'polly'], ['monkey', 'george']],\n",
      "...                    columns=['animal', 'name'])\n",
      ">>> pd.concat([df1, df4], axis=1)\n",
      "  letter  number  animal    name\n",
      "0      a       1    bird   polly\n",
      "1      b       2  monkey  george\n",
      "\n",
      "Prevent the result from including duplicate index values with the\n",
      "``verify_integrity`` option.\n",
      "\n",
      ">>> df5 = pd.DataFrame([1], index=['a'])\n",
      ">>> df5\n",
      "   0\n",
      "a  1\n",
      ">>> df6 = pd.DataFrame([2], index=['a'])\n",
      ">>> df6\n",
      "   0\n",
      "a  2\n",
      ">>> pd.concat([df5, df6], verify_integrity=True)\n",
      "Traceback (most recent call last):\n",
      "    ...\n",
      "ValueError: Indexes have overlapping values: ['a']\n",
      "\n",
      "Append a single row to the end of a ``DataFrame`` object.\n",
      "\n",
      ">>> df7 = pd.DataFrame({'a': 1, 'b': 2}, index=[0])\n",
      ">>> df7\n",
      "    a   b\n",
      "0   1   2\n",
      ">>> new_row = pd.Series({'a': 3, 'b': 4})\n",
      ">>> new_row\n",
      "a    3\n",
      "b    4\n",
      "dtype: int64\n",
      ">>> pd.concat([df7, new_row.to_frame().T], ignore_index=True)\n",
      "    a   b\n",
      "0   1   2\n",
      "1   3   4\n",
      "\u001b[0;31mFile:\u001b[0m      ~/.pyenv/versions/3.11.4/envs/2521_env/lib/python3.11/site-packages/pandas/core/reshape/concat.py\n",
      "\u001b[0;31mType:\u001b[0m      function"
     ]
    }
   ],
   "source": [
    "pd.concat?"
   ]
  },
  {
   "cell_type": "code",
   "execution_count": null,
   "metadata": {},
   "outputs": [
    {
     "data": {
      "text/plain": [
       "(            b    c    d\n",
       " Ohio      0.0  1.0  2.0\n",
       " Texas     3.0  4.0  5.0\n",
       " Colorado  6.0  7.0  8.0,\n",
       "           b     d     e\n",
       " Utah    0.0   1.0   2.0\n",
       " Ohio    3.0   4.0   5.0\n",
       " Texas   6.0   7.0   8.0\n",
       " Oregon  9.0  10.0  11.0)"
      ]
     },
     "execution_count": 140,
     "metadata": {},
     "output_type": "execute_result"
    }
   ],
   "source": [
    "df1, df2"
   ]
  },
  {
   "cell_type": "code",
   "execution_count": null,
   "metadata": {},
   "outputs": [
    {
     "data": {
      "text/html": [
       "<div>\n",
       "<style scoped>\n",
       "    .dataframe tbody tr th:only-of-type {\n",
       "        vertical-align: middle;\n",
       "    }\n",
       "\n",
       "    .dataframe tbody tr th {\n",
       "        vertical-align: top;\n",
       "    }\n",
       "\n",
       "    .dataframe thead th {\n",
       "        text-align: right;\n",
       "    }\n",
       "</style>\n",
       "<table border=\"1\" class=\"dataframe\">\n",
       "  <thead>\n",
       "    <tr style=\"text-align: right;\">\n",
       "      <th></th>\n",
       "      <th>b</th>\n",
       "      <th>c</th>\n",
       "      <th>d</th>\n",
       "      <th>e</th>\n",
       "    </tr>\n",
       "  </thead>\n",
       "  <tbody>\n",
       "    <tr>\n",
       "      <th>Ohio</th>\n",
       "      <td>0.0</td>\n",
       "      <td>1.0</td>\n",
       "      <td>2.0</td>\n",
       "      <td>NaN</td>\n",
       "    </tr>\n",
       "    <tr>\n",
       "      <th>Texas</th>\n",
       "      <td>3.0</td>\n",
       "      <td>4.0</td>\n",
       "      <td>5.0</td>\n",
       "      <td>NaN</td>\n",
       "    </tr>\n",
       "    <tr>\n",
       "      <th>Colorado</th>\n",
       "      <td>6.0</td>\n",
       "      <td>7.0</td>\n",
       "      <td>8.0</td>\n",
       "      <td>NaN</td>\n",
       "    </tr>\n",
       "    <tr>\n",
       "      <th>Utah</th>\n",
       "      <td>0.0</td>\n",
       "      <td>NaN</td>\n",
       "      <td>1.0</td>\n",
       "      <td>2.0</td>\n",
       "    </tr>\n",
       "    <tr>\n",
       "      <th>Ohio</th>\n",
       "      <td>3.0</td>\n",
       "      <td>NaN</td>\n",
       "      <td>4.0</td>\n",
       "      <td>5.0</td>\n",
       "    </tr>\n",
       "    <tr>\n",
       "      <th>Texas</th>\n",
       "      <td>6.0</td>\n",
       "      <td>NaN</td>\n",
       "      <td>7.0</td>\n",
       "      <td>8.0</td>\n",
       "    </tr>\n",
       "    <tr>\n",
       "      <th>Oregon</th>\n",
       "      <td>9.0</td>\n",
       "      <td>NaN</td>\n",
       "      <td>10.0</td>\n",
       "      <td>11.0</td>\n",
       "    </tr>\n",
       "  </tbody>\n",
       "</table>\n",
       "</div>"
      ],
      "text/plain": [
       "            b    c     d     e\n",
       "Ohio      0.0  1.0   2.0   NaN\n",
       "Texas     3.0  4.0   5.0   NaN\n",
       "Colorado  6.0  7.0   8.0   NaN\n",
       "Utah      0.0  NaN   1.0   2.0\n",
       "Ohio      3.0  NaN   4.0   5.0\n",
       "Texas     6.0  NaN   7.0   8.0\n",
       "Oregon    9.0  NaN  10.0  11.0"
      ]
     },
     "execution_count": 141,
     "metadata": {},
     "output_type": "execute_result"
    }
   ],
   "source": [
    "pd.concat([df1, df2])  #default axis=0 i.e. rows"
   ]
  },
  {
   "cell_type": "code",
   "execution_count": null,
   "metadata": {},
   "outputs": [
    {
     "data": {
      "text/plain": [
       "(            b    c    d\n",
       " Ohio      0.0  1.0  2.0\n",
       " Texas     3.0  4.0  5.0\n",
       " Colorado  6.0  7.0  8.0,\n",
       "           b     d     e\n",
       " Utah    0.0   1.0   2.0\n",
       " Ohio    3.0   4.0   5.0\n",
       " Texas   6.0   7.0   8.0\n",
       " Oregon  9.0  10.0  11.0)"
      ]
     },
     "execution_count": 143,
     "metadata": {},
     "output_type": "execute_result"
    }
   ],
   "source": [
    "df1, df2"
   ]
  },
  {
   "cell_type": "code",
   "execution_count": null,
   "metadata": {},
   "outputs": [
    {
     "data": {
      "text/html": [
       "<div>\n",
       "<style scoped>\n",
       "    .dataframe tbody tr th:only-of-type {\n",
       "        vertical-align: middle;\n",
       "    }\n",
       "\n",
       "    .dataframe tbody tr th {\n",
       "        vertical-align: top;\n",
       "    }\n",
       "\n",
       "    .dataframe thead th {\n",
       "        text-align: right;\n",
       "    }\n",
       "</style>\n",
       "<table border=\"1\" class=\"dataframe\">\n",
       "  <thead>\n",
       "    <tr style=\"text-align: right;\">\n",
       "      <th></th>\n",
       "      <th>b</th>\n",
       "      <th>c</th>\n",
       "      <th>d</th>\n",
       "      <th>b</th>\n",
       "      <th>d</th>\n",
       "      <th>e</th>\n",
       "    </tr>\n",
       "  </thead>\n",
       "  <tbody>\n",
       "    <tr>\n",
       "      <th>Ohio</th>\n",
       "      <td>0.0</td>\n",
       "      <td>1.0</td>\n",
       "      <td>2.0</td>\n",
       "      <td>3.0</td>\n",
       "      <td>4.0</td>\n",
       "      <td>5.0</td>\n",
       "    </tr>\n",
       "    <tr>\n",
       "      <th>Texas</th>\n",
       "      <td>3.0</td>\n",
       "      <td>4.0</td>\n",
       "      <td>5.0</td>\n",
       "      <td>6.0</td>\n",
       "      <td>7.0</td>\n",
       "      <td>8.0</td>\n",
       "    </tr>\n",
       "    <tr>\n",
       "      <th>Colorado</th>\n",
       "      <td>6.0</td>\n",
       "      <td>7.0</td>\n",
       "      <td>8.0</td>\n",
       "      <td>NaN</td>\n",
       "      <td>NaN</td>\n",
       "      <td>NaN</td>\n",
       "    </tr>\n",
       "    <tr>\n",
       "      <th>Utah</th>\n",
       "      <td>NaN</td>\n",
       "      <td>NaN</td>\n",
       "      <td>NaN</td>\n",
       "      <td>0.0</td>\n",
       "      <td>1.0</td>\n",
       "      <td>2.0</td>\n",
       "    </tr>\n",
       "    <tr>\n",
       "      <th>Oregon</th>\n",
       "      <td>NaN</td>\n",
       "      <td>NaN</td>\n",
       "      <td>NaN</td>\n",
       "      <td>9.0</td>\n",
       "      <td>10.0</td>\n",
       "      <td>11.0</td>\n",
       "    </tr>\n",
       "  </tbody>\n",
       "</table>\n",
       "</div>"
      ],
      "text/plain": [
       "            b    c    d    b     d     e\n",
       "Ohio      0.0  1.0  2.0  3.0   4.0   5.0\n",
       "Texas     3.0  4.0  5.0  6.0   7.0   8.0\n",
       "Colorado  6.0  7.0  8.0  NaN   NaN   NaN\n",
       "Utah      NaN  NaN  NaN  0.0   1.0   2.0\n",
       "Oregon    NaN  NaN  NaN  9.0  10.0  11.0"
      ]
     },
     "execution_count": 142,
     "metadata": {},
     "output_type": "execute_result"
    }
   ],
   "source": [
    "pd.concat([df1, df2], axis=1)"
   ]
  },
  {
   "cell_type": "code",
   "execution_count": null,
   "metadata": {},
   "outputs": [
    {
     "data": {
      "text/html": [
       "<div>\n",
       "<style scoped>\n",
       "    .dataframe tbody tr th:only-of-type {\n",
       "        vertical-align: middle;\n",
       "    }\n",
       "\n",
       "    .dataframe tbody tr th {\n",
       "        vertical-align: top;\n",
       "    }\n",
       "\n",
       "    .dataframe thead th {\n",
       "        text-align: right;\n",
       "    }\n",
       "</style>\n",
       "<table border=\"1\" class=\"dataframe\">\n",
       "  <thead>\n",
       "    <tr style=\"text-align: right;\">\n",
       "      <th></th>\n",
       "      <th>b</th>\n",
       "      <th>c</th>\n",
       "      <th>d</th>\n",
       "    </tr>\n",
       "  </thead>\n",
       "  <tbody>\n",
       "    <tr>\n",
       "      <th>Ohio</th>\n",
       "      <td>0.0</td>\n",
       "      <td>1.0</td>\n",
       "      <td>2.0</td>\n",
       "    </tr>\n",
       "    <tr>\n",
       "      <th>Texas</th>\n",
       "      <td>3.0</td>\n",
       "      <td>4.0</td>\n",
       "      <td>5.0</td>\n",
       "    </tr>\n",
       "    <tr>\n",
       "      <th>Colorado</th>\n",
       "      <td>6.0</td>\n",
       "      <td>7.0</td>\n",
       "      <td>8.0</td>\n",
       "    </tr>\n",
       "  </tbody>\n",
       "</table>\n",
       "</div>"
      ],
      "text/plain": [
       "            b    c    d\n",
       "Ohio      0.0  1.0  2.0\n",
       "Texas     3.0  4.0  5.0\n",
       "Colorado  6.0  7.0  8.0"
      ]
     },
     "execution_count": 145,
     "metadata": {},
     "output_type": "execute_result"
    }
   ],
   "source": [
    "df1"
   ]
  },
  {
   "cell_type": "markdown",
   "metadata": {},
   "source": [
    "## McKinney Chapter 10 Group operations\n",
    "### groupby\n",
    "### split-apply-combine paradigm\n",
    "\n",
    " - split the rows\n",
    " - apply a function\n",
    " - combine the results\n",
    "\n",
    "https://wesmckinney.com/book/data-aggregation.html?q=groupby#groupby_fundamentals"
   ]
  },
  {
   "cell_type": "code",
   "execution_count": null,
   "metadata": {},
   "outputs": [],
   "source": [
    "# example from McKinney Chapter 10\n",
    "\n",
    "df = pd.DataFrame({\"key1\" : [\"a\", \"a\", None, \"b\", \"b\", \"a\", None],\n",
    "                 \"key2\" : pd.Series([1, 2, 1, 2, 1, None, 1],\n",
    "                                     dtype=\"Int64\"),\n",
    "                 \"data1\" : np.random.standard_normal(7),\n",
    "                  \"data2\" : np.random.standard_normal(7)})\n",
    "\n"
   ]
  },
  {
   "cell_type": "code",
   "execution_count": null,
   "metadata": {},
   "outputs": [
    {
     "data": {
      "text/html": [
       "<div>\n",
       "<style scoped>\n",
       "    .dataframe tbody tr th:only-of-type {\n",
       "        vertical-align: middle;\n",
       "    }\n",
       "\n",
       "    .dataframe tbody tr th {\n",
       "        vertical-align: top;\n",
       "    }\n",
       "\n",
       "    .dataframe thead th {\n",
       "        text-align: right;\n",
       "    }\n",
       "</style>\n",
       "<table border=\"1\" class=\"dataframe\">\n",
       "  <thead>\n",
       "    <tr style=\"text-align: right;\">\n",
       "      <th></th>\n",
       "      <th>key1</th>\n",
       "      <th>key2</th>\n",
       "      <th>data1</th>\n",
       "      <th>data2</th>\n",
       "    </tr>\n",
       "  </thead>\n",
       "  <tbody>\n",
       "    <tr>\n",
       "      <th>0</th>\n",
       "      <td>a</td>\n",
       "      <td>1</td>\n",
       "      <td>-0.771237</td>\n",
       "      <td>-0.684660</td>\n",
       "    </tr>\n",
       "    <tr>\n",
       "      <th>1</th>\n",
       "      <td>a</td>\n",
       "      <td>2</td>\n",
       "      <td>0.388218</td>\n",
       "      <td>0.313966</td>\n",
       "    </tr>\n",
       "    <tr>\n",
       "      <th>2</th>\n",
       "      <td>None</td>\n",
       "      <td>1</td>\n",
       "      <td>-0.072378</td>\n",
       "      <td>0.668783</td>\n",
       "    </tr>\n",
       "    <tr>\n",
       "      <th>3</th>\n",
       "      <td>b</td>\n",
       "      <td>2</td>\n",
       "      <td>-0.294783</td>\n",
       "      <td>-1.224849</td>\n",
       "    </tr>\n",
       "    <tr>\n",
       "      <th>4</th>\n",
       "      <td>b</td>\n",
       "      <td>1</td>\n",
       "      <td>-0.028292</td>\n",
       "      <td>-1.321189</td>\n",
       "    </tr>\n",
       "    <tr>\n",
       "      <th>5</th>\n",
       "      <td>a</td>\n",
       "      <td>&lt;NA&gt;</td>\n",
       "      <td>0.891031</td>\n",
       "      <td>-0.287722</td>\n",
       "    </tr>\n",
       "    <tr>\n",
       "      <th>6</th>\n",
       "      <td>None</td>\n",
       "      <td>1</td>\n",
       "      <td>-0.008635</td>\n",
       "      <td>0.096108</td>\n",
       "    </tr>\n",
       "  </tbody>\n",
       "</table>\n",
       "</div>"
      ],
      "text/plain": [
       "   key1  key2     data1     data2\n",
       "0     a     1 -0.771237 -0.684660\n",
       "1     a     2  0.388218  0.313966\n",
       "2  None     1 -0.072378  0.668783\n",
       "3     b     2 -0.294783 -1.224849\n",
       "4     b     1 -0.028292 -1.321189\n",
       "5     a  <NA>  0.891031 -0.287722\n",
       "6  None     1 -0.008635  0.096108"
      ]
     },
     "execution_count": 151,
     "metadata": {},
     "output_type": "execute_result"
    }
   ],
   "source": [
    "df"
   ]
  },
  {
   "cell_type": "code",
   "execution_count": null,
   "metadata": {},
   "outputs": [
    {
     "data": {
      "text/plain": [
       "<pandas.core.groupby.generic.SeriesGroupBy object at 0x125fe3b10>"
      ]
     },
     "execution_count": 152,
     "metadata": {},
     "output_type": "execute_result"
    }
   ],
   "source": [
    "grouped = df[\"data1\"].groupby(df[\"key1\"])  #split by key1 value\n",
    "grouped\n"
   ]
  },
  {
   "cell_type": "code",
   "execution_count": null,
   "metadata": {},
   "outputs": [
    {
     "data": {
      "text/plain": [
       "key1\n",
       "a    0.508013\n",
       "b   -0.323075\n",
       "Name: data1, dtype: float64"
      ]
     },
     "execution_count": 154,
     "metadata": {},
     "output_type": "execute_result"
    }
   ],
   "source": [
    "grouped.sum()  #apply the sum function"
   ]
  },
  {
   "cell_type": "markdown",
   "metadata": {},
   "source": [
    "# Week 3 video\n",
    "HW: Go through one of the examples in Chapter 13\n",
    "and make an 5-10 min instructional video\n",
    "\n",
    "https://wesmckinney.com/book/data-analysis-examples"
   ]
  },
  {
   "cell_type": "markdown",
   "metadata": {},
   "source": [
    "Github Datasets:\n",
    "\n",
    "https://github.com/wesm/pydata-book\n",
    "\n",
    "Download to your local device, know where you save it\n"
   ]
  },
  {
   "cell_type": "code",
   "execution_count": null,
   "metadata": {},
   "outputs": [],
   "source": [
    "import json"
   ]
  },
  {
   "cell_type": "code",
   "execution_count": null,
   "metadata": {},
   "outputs": [],
   "source": [
    "db = json.load(open(\"database.json\"))"
   ]
  },
  {
   "cell_type": "code",
   "execution_count": null,
   "metadata": {},
   "outputs": [
    {
     "name": "stdout",
     "output_type": "stream",
     "text": [
      "2521_Syllabus.md                chapter4notes.ipynb\n",
      "Exercise112.py                  chapter5notes.ipynb\n",
      "PythonNotesForProfessionals.pdf chapter5notes_day2.ipynb\n",
      "README.md                       chapter7notes.ipynb\n",
      "\u001b[34m__pycache__\u001b[m\u001b[m                     chapter8notes.ipynb\n",
      "chapter10notes.ipynb            database.json\n",
      "chapter10notes_day2.ipynb       my_figure.pdf\n",
      "chapter1notes.ipynb             my_filename\n",
      "chapter2notes.ipynb             test.csv\n",
      "chapter3notes.ipynb             test1.txt\n",
      "chapter3notes_day2.ipynb        text-to-image.ipynb\n"
     ]
    }
   ],
   "source": [
    "!ls  #windows: !dir"
   ]
  },
  {
   "cell_type": "code",
   "execution_count": null,
   "metadata": {},
   "outputs": [
    {
     "data": {
      "text/plain": [
       "6636"
      ]
     },
     "execution_count": 162,
     "metadata": {},
     "output_type": "execute_result"
    }
   ],
   "source": [
    "len(db)"
   ]
  },
  {
   "cell_type": "code",
   "execution_count": 163,
   "metadata": {},
   "outputs": [
    {
     "data": {
      "text/plain": [
       "{'id': 1008,\n",
       " 'description': 'Cheese, caraway',\n",
       " 'tags': [],\n",
       " 'manufacturer': '',\n",
       " 'group': 'Dairy and Egg Products',\n",
       " 'portions': [{'amount': 1, 'unit': 'oz', 'grams': 28.35}],\n",
       " 'nutrients': [{'value': 25.18,\n",
       "   'units': 'g',\n",
       "   'description': 'Protein',\n",
       "   'group': 'Composition'},\n",
       "  {'value': 29.2,\n",
       "   'units': 'g',\n",
       "   'description': 'Total lipid (fat)',\n",
       "   'group': 'Composition'},\n",
       "  {'value': 3.06,\n",
       "   'units': 'g',\n",
       "   'description': 'Carbohydrate, by difference',\n",
       "   'group': 'Composition'},\n",
       "  {'value': 3.28, 'units': 'g', 'description': 'Ash', 'group': 'Other'},\n",
       "  {'value': 376.0,\n",
       "   'units': 'kcal',\n",
       "   'description': 'Energy',\n",
       "   'group': 'Energy'},\n",
       "  {'value': 39.28,\n",
       "   'units': 'g',\n",
       "   'description': 'Water',\n",
       "   'group': 'Composition'},\n",
       "  {'value': 1573.0, 'units': 'kJ', 'description': 'Energy', 'group': 'Energy'},\n",
       "  {'value': 0.0,\n",
       "   'units': 'g',\n",
       "   'description': 'Fiber, total dietary',\n",
       "   'group': 'Composition'},\n",
       "  {'value': 673.0,\n",
       "   'units': 'mg',\n",
       "   'description': 'Calcium, Ca',\n",
       "   'group': 'Elements'},\n",
       "  {'value': 0.64,\n",
       "   'units': 'mg',\n",
       "   'description': 'Iron, Fe',\n",
       "   'group': 'Elements'},\n",
       "  {'value': 22.0,\n",
       "   'units': 'mg',\n",
       "   'description': 'Magnesium, Mg',\n",
       "   'group': 'Elements'},\n",
       "  {'value': 490.0,\n",
       "   'units': 'mg',\n",
       "   'description': 'Phosphorus, P',\n",
       "   'group': 'Elements'},\n",
       "  {'value': 93.0,\n",
       "   'units': 'mg',\n",
       "   'description': 'Potassium, K',\n",
       "   'group': 'Elements'},\n",
       "  {'value': 690.0,\n",
       "   'units': 'mg',\n",
       "   'description': 'Sodium, Na',\n",
       "   'group': 'Elements'},\n",
       "  {'value': 2.94,\n",
       "   'units': 'mg',\n",
       "   'description': 'Zinc, Zn',\n",
       "   'group': 'Elements'},\n",
       "  {'value': 0.024,\n",
       "   'units': 'mg',\n",
       "   'description': 'Copper, Cu',\n",
       "   'group': 'Elements'},\n",
       "  {'value': 0.021,\n",
       "   'units': 'mg',\n",
       "   'description': 'Manganese, Mn',\n",
       "   'group': 'Elements'},\n",
       "  {'value': 14.5,\n",
       "   'units': 'mcg',\n",
       "   'description': 'Selenium, Se',\n",
       "   'group': 'Elements'},\n",
       "  {'value': 1054.0,\n",
       "   'units': 'IU',\n",
       "   'description': 'Vitamin A, IU',\n",
       "   'group': 'Vitamins'},\n",
       "  {'value': 262.0,\n",
       "   'units': 'mcg',\n",
       "   'description': 'Retinol',\n",
       "   'group': 'Vitamins'},\n",
       "  {'value': 271.0,\n",
       "   'units': 'mcg_RAE',\n",
       "   'description': 'Vitamin A, RAE',\n",
       "   'group': 'Vitamins'},\n",
       "  {'value': 0.0,\n",
       "   'units': 'mg',\n",
       "   'description': 'Vitamin C, total ascorbic acid',\n",
       "   'group': 'Vitamins'},\n",
       "  {'value': 0.031,\n",
       "   'units': 'mg',\n",
       "   'description': 'Thiamin',\n",
       "   'group': 'Vitamins'},\n",
       "  {'value': 0.45,\n",
       "   'units': 'mg',\n",
       "   'description': 'Riboflavin',\n",
       "   'group': 'Vitamins'},\n",
       "  {'value': 0.18, 'units': 'mg', 'description': 'Niacin', 'group': 'Vitamins'},\n",
       "  {'value': 0.19,\n",
       "   'units': 'mg',\n",
       "   'description': 'Pantothenic acid',\n",
       "   'group': 'Vitamins'},\n",
       "  {'value': 0.074,\n",
       "   'units': 'mg',\n",
       "   'description': 'Vitamin B-6',\n",
       "   'group': 'Vitamins'},\n",
       "  {'value': 18.0,\n",
       "   'units': 'mcg',\n",
       "   'description': 'Folate, total',\n",
       "   'group': 'Vitamins'},\n",
       "  {'value': 0.27,\n",
       "   'units': 'mcg',\n",
       "   'description': 'Vitamin B-12',\n",
       "   'group': 'Vitamins'},\n",
       "  {'value': 0.0,\n",
       "   'units': 'mcg',\n",
       "   'description': 'Folic acid',\n",
       "   'group': 'Vitamins'},\n",
       "  {'value': 18.0,\n",
       "   'units': 'mcg',\n",
       "   'description': 'Folate, food',\n",
       "   'group': 'Vitamins'},\n",
       "  {'value': 18.0,\n",
       "   'units': 'mcg_DFE',\n",
       "   'description': 'Folate, DFE',\n",
       "   'group': 'Vitamins'},\n",
       "  {'value': 93.0,\n",
       "   'units': 'mg',\n",
       "   'description': 'Cholesterol',\n",
       "   'group': 'Other'},\n",
       "  {'value': 18.584,\n",
       "   'units': 'g',\n",
       "   'description': 'Fatty acids, total saturated',\n",
       "   'group': 'Other'},\n",
       "  {'value': 8.275,\n",
       "   'units': 'g',\n",
       "   'description': 'Fatty acids, total monounsaturated',\n",
       "   'group': 'Other'},\n",
       "  {'value': 0.83,\n",
       "   'units': 'g',\n",
       "   'description': 'Fatty acids, total polyunsaturated',\n",
       "   'group': 'Other'},\n",
       "  {'value': 0.324,\n",
       "   'units': 'g',\n",
       "   'description': 'Tryptophan',\n",
       "   'group': 'Amino Acids'},\n",
       "  {'value': 0.896,\n",
       "   'units': 'g',\n",
       "   'description': 'Threonine',\n",
       "   'group': 'Amino Acids'},\n",
       "  {'value': 1.563,\n",
       "   'units': 'g',\n",
       "   'description': 'Isoleucine',\n",
       "   'group': 'Amino Acids'},\n",
       "  {'value': 2.412,\n",
       "   'units': 'g',\n",
       "   'description': 'Leucine',\n",
       "   'group': 'Amino Acids'},\n",
       "  {'value': 2.095,\n",
       "   'units': 'g',\n",
       "   'description': 'Lysine',\n",
       "   'group': 'Amino Acids'},\n",
       "  {'value': 0.659,\n",
       "   'units': 'g',\n",
       "   'description': 'Methionine',\n",
       "   'group': 'Amino Acids'},\n",
       "  {'value': 0.126,\n",
       "   'units': 'g',\n",
       "   'description': 'Cystine',\n",
       "   'group': 'Amino Acids'},\n",
       "  {'value': 1.326,\n",
       "   'units': 'g',\n",
       "   'description': 'Phenylalanine',\n",
       "   'group': 'Amino Acids'},\n",
       "  {'value': 1.216,\n",
       "   'units': 'g',\n",
       "   'description': 'Tyrosine',\n",
       "   'group': 'Amino Acids'},\n",
       "  {'value': 1.682,\n",
       "   'units': 'g',\n",
       "   'description': 'Valine',\n",
       "   'group': 'Amino Acids'},\n",
       "  {'value': 0.952,\n",
       "   'units': 'g',\n",
       "   'description': 'Arginine',\n",
       "   'group': 'Amino Acids'},\n",
       "  {'value': 0.884,\n",
       "   'units': 'g',\n",
       "   'description': 'Histidine',\n",
       "   'group': 'Amino Acids'},\n",
       "  {'value': 0.711,\n",
       "   'units': 'g',\n",
       "   'description': 'Alanine',\n",
       "   'group': 'Amino Acids'},\n",
       "  {'value': 1.618,\n",
       "   'units': 'g',\n",
       "   'description': 'Aspartic acid',\n",
       "   'group': 'Amino Acids'},\n",
       "  {'value': 6.16,\n",
       "   'units': 'g',\n",
       "   'description': 'Glutamic acid',\n",
       "   'group': 'Amino Acids'},\n",
       "  {'value': 0.439,\n",
       "   'units': 'g',\n",
       "   'description': 'Glycine',\n",
       "   'group': 'Amino Acids'},\n",
       "  {'value': 2.838,\n",
       "   'units': 'g',\n",
       "   'description': 'Proline',\n",
       "   'group': 'Amino Acids'},\n",
       "  {'value': 1.472,\n",
       "   'units': 'g',\n",
       "   'description': 'Serine',\n",
       "   'group': 'Amino Acids'},\n",
       "  {'value': 25.18,\n",
       "   'units': 'g',\n",
       "   'description': 'Protein',\n",
       "   'group': 'Composition'},\n",
       "  {'value': 29.2,\n",
       "   'units': 'g',\n",
       "   'description': 'Total lipid (fat)',\n",
       "   'group': 'Composition'},\n",
       "  {'value': 3.06,\n",
       "   'units': 'g',\n",
       "   'description': 'Carbohydrate, by difference',\n",
       "   'group': 'Composition'},\n",
       "  {'value': 3.28, 'units': 'g', 'description': 'Ash', 'group': 'Other'},\n",
       "  {'value': 376.0,\n",
       "   'units': 'kcal',\n",
       "   'description': 'Energy',\n",
       "   'group': 'Energy'},\n",
       "  {'value': 39.28,\n",
       "   'units': 'g',\n",
       "   'description': 'Water',\n",
       "   'group': 'Composition'},\n",
       "  {'value': 1573.0, 'units': 'kJ', 'description': 'Energy', 'group': 'Energy'},\n",
       "  {'value': 0.0,\n",
       "   'units': 'g',\n",
       "   'description': 'Fiber, total dietary',\n",
       "   'group': 'Composition'},\n",
       "  {'value': 673.0,\n",
       "   'units': 'mg',\n",
       "   'description': 'Calcium, Ca',\n",
       "   'group': 'Elements'},\n",
       "  {'value': 0.64,\n",
       "   'units': 'mg',\n",
       "   'description': 'Iron, Fe',\n",
       "   'group': 'Elements'},\n",
       "  {'value': 22.0,\n",
       "   'units': 'mg',\n",
       "   'description': 'Magnesium, Mg',\n",
       "   'group': 'Elements'},\n",
       "  {'value': 490.0,\n",
       "   'units': 'mg',\n",
       "   'description': 'Phosphorus, P',\n",
       "   'group': 'Elements'},\n",
       "  {'value': 93.0,\n",
       "   'units': 'mg',\n",
       "   'description': 'Potassium, K',\n",
       "   'group': 'Elements'},\n",
       "  {'value': 690.0,\n",
       "   'units': 'mg',\n",
       "   'description': 'Sodium, Na',\n",
       "   'group': 'Elements'},\n",
       "  {'value': 2.94,\n",
       "   'units': 'mg',\n",
       "   'description': 'Zinc, Zn',\n",
       "   'group': 'Elements'},\n",
       "  {'value': 0.024,\n",
       "   'units': 'mg',\n",
       "   'description': 'Copper, Cu',\n",
       "   'group': 'Elements'},\n",
       "  {'value': 0.021,\n",
       "   'units': 'mg',\n",
       "   'description': 'Manganese, Mn',\n",
       "   'group': 'Elements'},\n",
       "  {'value': 14.5,\n",
       "   'units': 'mcg',\n",
       "   'description': 'Selenium, Se',\n",
       "   'group': 'Elements'},\n",
       "  {'value': 1054.0,\n",
       "   'units': 'IU',\n",
       "   'description': 'Vitamin A, IU',\n",
       "   'group': 'Vitamins'},\n",
       "  {'value': 262.0,\n",
       "   'units': 'mcg',\n",
       "   'description': 'Retinol',\n",
       "   'group': 'Vitamins'},\n",
       "  {'value': 271.0,\n",
       "   'units': 'mcg_RAE',\n",
       "   'description': 'Vitamin A, RAE',\n",
       "   'group': 'Vitamins'},\n",
       "  {'value': 0.0,\n",
       "   'units': 'mg',\n",
       "   'description': 'Vitamin C, total ascorbic acid',\n",
       "   'group': 'Vitamins'},\n",
       "  {'value': 0.031,\n",
       "   'units': 'mg',\n",
       "   'description': 'Thiamin',\n",
       "   'group': 'Vitamins'},\n",
       "  {'value': 0.45,\n",
       "   'units': 'mg',\n",
       "   'description': 'Riboflavin',\n",
       "   'group': 'Vitamins'},\n",
       "  {'value': 0.18, 'units': 'mg', 'description': 'Niacin', 'group': 'Vitamins'},\n",
       "  {'value': 0.19,\n",
       "   'units': 'mg',\n",
       "   'description': 'Pantothenic acid',\n",
       "   'group': 'Vitamins'},\n",
       "  {'value': 0.074,\n",
       "   'units': 'mg',\n",
       "   'description': 'Vitamin B-6',\n",
       "   'group': 'Vitamins'},\n",
       "  {'value': 18.0,\n",
       "   'units': 'mcg',\n",
       "   'description': 'Folate, total',\n",
       "   'group': 'Vitamins'},\n",
       "  {'value': 0.27,\n",
       "   'units': 'mcg',\n",
       "   'description': 'Vitamin B-12',\n",
       "   'group': 'Vitamins'},\n",
       "  {'value': 0.0,\n",
       "   'units': 'mcg',\n",
       "   'description': 'Folic acid',\n",
       "   'group': 'Vitamins'},\n",
       "  {'value': 18.0,\n",
       "   'units': 'mcg',\n",
       "   'description': 'Folate, food',\n",
       "   'group': 'Vitamins'},\n",
       "  {'value': 18.0,\n",
       "   'units': 'mcg_DFE',\n",
       "   'description': 'Folate, DFE',\n",
       "   'group': 'Vitamins'},\n",
       "  {'value': 0.324,\n",
       "   'units': 'g',\n",
       "   'description': 'Tryptophan',\n",
       "   'group': 'Amino Acids'},\n",
       "  {'value': 0.896,\n",
       "   'units': 'g',\n",
       "   'description': 'Threonine',\n",
       "   'group': 'Amino Acids'},\n",
       "  {'value': 1.563,\n",
       "   'units': 'g',\n",
       "   'description': 'Isoleucine',\n",
       "   'group': 'Amino Acids'},\n",
       "  {'value': 2.412,\n",
       "   'units': 'g',\n",
       "   'description': 'Leucine',\n",
       "   'group': 'Amino Acids'},\n",
       "  {'value': 2.095,\n",
       "   'units': 'g',\n",
       "   'description': 'Lysine',\n",
       "   'group': 'Amino Acids'},\n",
       "  {'value': 0.659,\n",
       "   'units': 'g',\n",
       "   'description': 'Methionine',\n",
       "   'group': 'Amino Acids'},\n",
       "  {'value': 0.126,\n",
       "   'units': 'g',\n",
       "   'description': 'Cystine',\n",
       "   'group': 'Amino Acids'},\n",
       "  {'value': 1.326,\n",
       "   'units': 'g',\n",
       "   'description': 'Phenylalanine',\n",
       "   'group': 'Amino Acids'},\n",
       "  {'value': 1.216,\n",
       "   'units': 'g',\n",
       "   'description': 'Tyrosine',\n",
       "   'group': 'Amino Acids'},\n",
       "  {'value': 1.682,\n",
       "   'units': 'g',\n",
       "   'description': 'Valine',\n",
       "   'group': 'Amino Acids'},\n",
       "  {'value': 0.952,\n",
       "   'units': 'g',\n",
       "   'description': 'Arginine',\n",
       "   'group': 'Amino Acids'},\n",
       "  {'value': 0.884,\n",
       "   'units': 'g',\n",
       "   'description': 'Histidine',\n",
       "   'group': 'Amino Acids'},\n",
       "  {'value': 0.711,\n",
       "   'units': 'g',\n",
       "   'description': 'Alanine',\n",
       "   'group': 'Amino Acids'},\n",
       "  {'value': 1.618,\n",
       "   'units': 'g',\n",
       "   'description': 'Aspartic acid',\n",
       "   'group': 'Amino Acids'},\n",
       "  {'value': 6.16,\n",
       "   'units': 'g',\n",
       "   'description': 'Glutamic acid',\n",
       "   'group': 'Amino Acids'},\n",
       "  {'value': 0.439,\n",
       "   'units': 'g',\n",
       "   'description': 'Glycine',\n",
       "   'group': 'Amino Acids'},\n",
       "  {'value': 2.838,\n",
       "   'units': 'g',\n",
       "   'description': 'Proline',\n",
       "   'group': 'Amino Acids'},\n",
       "  {'value': 1.472,\n",
       "   'units': 'g',\n",
       "   'description': 'Serine',\n",
       "   'group': 'Amino Acids'},\n",
       "  {'value': 93.0,\n",
       "   'units': 'mg',\n",
       "   'description': 'Cholesterol',\n",
       "   'group': 'Other'},\n",
       "  {'value': 18.584,\n",
       "   'units': 'g',\n",
       "   'description': 'Fatty acids, total saturated',\n",
       "   'group': 'Other'},\n",
       "  {'value': 8.275,\n",
       "   'units': 'g',\n",
       "   'description': 'Fatty acids, total monounsaturated',\n",
       "   'group': 'Other'},\n",
       "  {'value': 0.83,\n",
       "   'units': 'g',\n",
       "   'description': 'Fatty acids, total polyunsaturated',\n",
       "   'group': 'Other'},\n",
       "  {'value': 25.18,\n",
       "   'units': 'g',\n",
       "   'description': 'Protein',\n",
       "   'group': 'Composition'},\n",
       "  {'value': 29.2,\n",
       "   'units': 'g',\n",
       "   'description': 'Total lipid (fat)',\n",
       "   'group': 'Composition'},\n",
       "  {'value': 3.06,\n",
       "   'units': 'g',\n",
       "   'description': 'Carbohydrate, by difference',\n",
       "   'group': 'Composition'},\n",
       "  {'value': 3.28, 'units': 'g', 'description': 'Ash', 'group': 'Other'},\n",
       "  {'value': 376.0,\n",
       "   'units': 'kcal',\n",
       "   'description': 'Energy',\n",
       "   'group': 'Energy'},\n",
       "  {'value': 39.28,\n",
       "   'units': 'g',\n",
       "   'description': 'Water',\n",
       "   'group': 'Composition'},\n",
       "  {'value': 1573.0, 'units': 'kJ', 'description': 'Energy', 'group': 'Energy'},\n",
       "  {'value': 0.0,\n",
       "   'units': 'g',\n",
       "   'description': 'Fiber, total dietary',\n",
       "   'group': 'Composition'},\n",
       "  {'value': 673.0,\n",
       "   'units': 'mg',\n",
       "   'description': 'Calcium, Ca',\n",
       "   'group': 'Elements'},\n",
       "  {'value': 0.64,\n",
       "   'units': 'mg',\n",
       "   'description': 'Iron, Fe',\n",
       "   'group': 'Elements'},\n",
       "  {'value': 22.0,\n",
       "   'units': 'mg',\n",
       "   'description': 'Magnesium, Mg',\n",
       "   'group': 'Elements'},\n",
       "  {'value': 490.0,\n",
       "   'units': 'mg',\n",
       "   'description': 'Phosphorus, P',\n",
       "   'group': 'Elements'},\n",
       "  {'value': 93.0,\n",
       "   'units': 'mg',\n",
       "   'description': 'Potassium, K',\n",
       "   'group': 'Elements'},\n",
       "  {'value': 690.0,\n",
       "   'units': 'mg',\n",
       "   'description': 'Sodium, Na',\n",
       "   'group': 'Elements'},\n",
       "  {'value': 2.94,\n",
       "   'units': 'mg',\n",
       "   'description': 'Zinc, Zn',\n",
       "   'group': 'Elements'},\n",
       "  {'value': 0.024,\n",
       "   'units': 'mg',\n",
       "   'description': 'Copper, Cu',\n",
       "   'group': 'Elements'},\n",
       "  {'value': 0.021,\n",
       "   'units': 'mg',\n",
       "   'description': 'Manganese, Mn',\n",
       "   'group': 'Elements'},\n",
       "  {'value': 14.5,\n",
       "   'units': 'mcg',\n",
       "   'description': 'Selenium, Se',\n",
       "   'group': 'Elements'},\n",
       "  {'value': 1054.0,\n",
       "   'units': 'IU',\n",
       "   'description': 'Vitamin A, IU',\n",
       "   'group': 'Vitamins'},\n",
       "  {'value': 262.0,\n",
       "   'units': 'mcg',\n",
       "   'description': 'Retinol',\n",
       "   'group': 'Vitamins'},\n",
       "  {'value': 271.0,\n",
       "   'units': 'mcg_RAE',\n",
       "   'description': 'Vitamin A, RAE',\n",
       "   'group': 'Vitamins'},\n",
       "  {'value': 0.0,\n",
       "   'units': 'mg',\n",
       "   'description': 'Vitamin C, total ascorbic acid',\n",
       "   'group': 'Vitamins'},\n",
       "  {'value': 0.031,\n",
       "   'units': 'mg',\n",
       "   'description': 'Thiamin',\n",
       "   'group': 'Vitamins'},\n",
       "  {'value': 0.45,\n",
       "   'units': 'mg',\n",
       "   'description': 'Riboflavin',\n",
       "   'group': 'Vitamins'},\n",
       "  {'value': 0.18, 'units': 'mg', 'description': 'Niacin', 'group': 'Vitamins'},\n",
       "  {'value': 0.19,\n",
       "   'units': 'mg',\n",
       "   'description': 'Pantothenic acid',\n",
       "   'group': 'Vitamins'},\n",
       "  {'value': 0.074,\n",
       "   'units': 'mg',\n",
       "   'description': 'Vitamin B-6',\n",
       "   'group': 'Vitamins'},\n",
       "  {'value': 18.0,\n",
       "   'units': 'mcg',\n",
       "   'description': 'Folate, total',\n",
       "   'group': 'Vitamins'},\n",
       "  {'value': 0.27,\n",
       "   'units': 'mcg',\n",
       "   'description': 'Vitamin B-12',\n",
       "   'group': 'Vitamins'},\n",
       "  {'value': 0.0,\n",
       "   'units': 'mcg',\n",
       "   'description': 'Folic acid',\n",
       "   'group': 'Vitamins'},\n",
       "  {'value': 18.0,\n",
       "   'units': 'mcg',\n",
       "   'description': 'Folate, food',\n",
       "   'group': 'Vitamins'},\n",
       "  {'value': 18.0,\n",
       "   'units': 'mcg_DFE',\n",
       "   'description': 'Folate, DFE',\n",
       "   'group': 'Vitamins'},\n",
       "  {'value': 0.324,\n",
       "   'units': 'g',\n",
       "   'description': 'Tryptophan',\n",
       "   'group': 'Amino Acids'},\n",
       "  {'value': 0.896,\n",
       "   'units': 'g',\n",
       "   'description': 'Threonine',\n",
       "   'group': 'Amino Acids'},\n",
       "  {'value': 1.563,\n",
       "   'units': 'g',\n",
       "   'description': 'Isoleucine',\n",
       "   'group': 'Amino Acids'},\n",
       "  {'value': 2.412,\n",
       "   'units': 'g',\n",
       "   'description': 'Leucine',\n",
       "   'group': 'Amino Acids'},\n",
       "  {'value': 2.095,\n",
       "   'units': 'g',\n",
       "   'description': 'Lysine',\n",
       "   'group': 'Amino Acids'},\n",
       "  {'value': 0.659,\n",
       "   'units': 'g',\n",
       "   'description': 'Methionine',\n",
       "   'group': 'Amino Acids'},\n",
       "  {'value': 0.126,\n",
       "   'units': 'g',\n",
       "   'description': 'Cystine',\n",
       "   'group': 'Amino Acids'},\n",
       "  {'value': 1.326,\n",
       "   'units': 'g',\n",
       "   'description': 'Phenylalanine',\n",
       "   'group': 'Amino Acids'},\n",
       "  {'value': 1.216,\n",
       "   'units': 'g',\n",
       "   'description': 'Tyrosine',\n",
       "   'group': 'Amino Acids'},\n",
       "  {'value': 1.682,\n",
       "   'units': 'g',\n",
       "   'description': 'Valine',\n",
       "   'group': 'Amino Acids'},\n",
       "  {'value': 0.952,\n",
       "   'units': 'g',\n",
       "   'description': 'Arginine',\n",
       "   'group': 'Amino Acids'},\n",
       "  {'value': 0.884,\n",
       "   'units': 'g',\n",
       "   'description': 'Histidine',\n",
       "   'group': 'Amino Acids'},\n",
       "  {'value': 0.711,\n",
       "   'units': 'g',\n",
       "   'description': 'Alanine',\n",
       "   'group': 'Amino Acids'},\n",
       "  {'value': 1.618,\n",
       "   'units': 'g',\n",
       "   'description': 'Aspartic acid',\n",
       "   'group': 'Amino Acids'},\n",
       "  {'value': 6.16,\n",
       "   'units': 'g',\n",
       "   'description': 'Glutamic acid',\n",
       "   'group': 'Amino Acids'},\n",
       "  {'value': 0.439,\n",
       "   'units': 'g',\n",
       "   'description': 'Glycine',\n",
       "   'group': 'Amino Acids'},\n",
       "  {'value': 2.838,\n",
       "   'units': 'g',\n",
       "   'description': 'Proline',\n",
       "   'group': 'Amino Acids'},\n",
       "  {'value': 1.472,\n",
       "   'units': 'g',\n",
       "   'description': 'Serine',\n",
       "   'group': 'Amino Acids'},\n",
       "  {'value': 93.0,\n",
       "   'units': 'mg',\n",
       "   'description': 'Cholesterol',\n",
       "   'group': 'Other'},\n",
       "  {'value': 18.584,\n",
       "   'units': 'g',\n",
       "   'description': 'Fatty acids, total saturated',\n",
       "   'group': 'Other'},\n",
       "  {'value': 8.275,\n",
       "   'units': 'g',\n",
       "   'description': 'Fatty acids, total monounsaturated',\n",
       "   'group': 'Other'},\n",
       "  {'value': 0.83,\n",
       "   'units': 'g',\n",
       "   'description': 'Fatty acids, total polyunsaturated',\n",
       "   'group': 'Other'}]}"
      ]
     },
     "execution_count": 163,
     "metadata": {},
     "output_type": "execute_result"
    }
   ],
   "source": [
    "db[0]  # this is a dictionary"
   ]
  },
  {
   "cell_type": "code",
   "execution_count": null,
   "metadata": {},
   "outputs": [],
   "source": []
  }
 ],
 "metadata": {
  "kernelspec": {
   "display_name": "2521_env",
   "language": "python",
   "name": "python3"
  },
  "language_info": {
   "codemirror_mode": {
    "name": "ipython",
    "version": 3
   },
   "file_extension": ".py",
   "mimetype": "text/x-python",
   "name": "python",
   "nbconvert_exporter": "python",
   "pygments_lexer": "ipython3",
   "version": "3.11.4"
  },
  "orig_nbformat": 4
 },
 "nbformat": 4,
 "nbformat_minor": 2
}
